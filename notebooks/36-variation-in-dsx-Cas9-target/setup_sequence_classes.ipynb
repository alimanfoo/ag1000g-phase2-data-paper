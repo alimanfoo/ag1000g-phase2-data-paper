{
 "cells": [
  {
   "cell_type": "code",
   "execution_count": 1,
   "metadata": {},
   "outputs": [],
   "source": [
    "#%run data_phase1_ar3_1.ipynb\n",
    "import petl as etl\n",
    "import pyfasta\n",
    "import numpy as np\n",
    "\n",
    "genome_fn = '../../phase2.AR1/genome/agamP4/Anopheles-gambiae-PEST_CHROMOSOMES_AgamP4.fa'\n",
    "genome = pyfasta.Fasta(genome_fn)"
   ]
  },
  {
   "cell_type": "code",
   "execution_count": 2,
   "metadata": {},
   "outputs": [
    {
     "data": {
      "text/html": [
       "<table class='petl'>\n",
       "<thead>\n",
       "<tr>\n",
       "<th>seqid</th>\n",
       "<th>type</th>\n",
       "<th>start</th>\n",
       "<th>stop</th>\n",
       "<th>length</th>\n",
       "<th>strand</th>\n",
       "<th>phase</th>\n",
       "<th>parent</th>\n",
       "<th>ID</th>\n",
       "<th>n_children</th>\n",
       "<th>transcript_length</th>\n",
       "<th>is_canonical</th>\n",
       "<th>is_first</th>\n",
       "<th>is_last</th>\n",
       "</tr>\n",
       "</thead>\n",
       "<tbody>\n",
       "<tr>\n",
       "<td>2L</td>\n",
       "<td>contig</td>\n",
       "<td style='text-align: right'>0</td>\n",
       "<td style='text-align: right'>49364325</td>\n",
       "<td style='text-align: right'>49364325</td>\n",
       "<td>.</td>\n",
       "<td>.</td>\n",
       "<td>None</td>\n",
       "<td>2L</td>\n",
       "<td style='text-align: right'>0</td>\n",
       "<td>None</td>\n",
       "<td>None</td>\n",
       "<td>None</td>\n",
       "<td>None</td>\n",
       "</tr>\n",
       "<tr>\n",
       "<td>2L</td>\n",
       "<td>gene</td>\n",
       "<td style='text-align: right'>157347</td>\n",
       "<td style='text-align: right'>186936</td>\n",
       "<td style='text-align: right'>29589</td>\n",
       "<td>-</td>\n",
       "<td>.</td>\n",
       "<td>None</td>\n",
       "<td>AGAP004677</td>\n",
       "<td style='text-align: right'>2</td>\n",
       "<td>None</td>\n",
       "<td>None</td>\n",
       "<td>None</td>\n",
       "<td>None</td>\n",
       "</tr>\n",
       "<tr>\n",
       "<td>2L</td>\n",
       "<td>mRNA</td>\n",
       "<td style='text-align: right'>157347</td>\n",
       "<td style='text-align: right'>186936</td>\n",
       "<td style='text-align: right'>29589</td>\n",
       "<td>-</td>\n",
       "<td>.</td>\n",
       "<td>AGAP004677</td>\n",
       "<td>AGAP004677-RB</td>\n",
       "<td style='text-align: right'>10</td>\n",
       "<td style='text-align: right'>1147</td>\n",
       "<td>False</td>\n",
       "<td>None</td>\n",
       "<td>None</td>\n",
       "</tr>\n",
       "<tr>\n",
       "<td>2L</td>\n",
       "<td>mRNA</td>\n",
       "<td style='text-align: right'>157347</td>\n",
       "<td style='text-align: right'>181305</td>\n",
       "<td style='text-align: right'>23958</td>\n",
       "<td>-</td>\n",
       "<td>.</td>\n",
       "<td>AGAP004677</td>\n",
       "<td>AGAP004677-RA</td>\n",
       "<td style='text-align: right'>10</td>\n",
       "<td style='text-align: right'>1467</td>\n",
       "<td>True</td>\n",
       "<td>None</td>\n",
       "<td>None</td>\n",
       "</tr>\n",
       "<tr>\n",
       "<td>2L</td>\n",
       "<td>exon</td>\n",
       "<td style='text-align: right'>157347</td>\n",
       "<td style='text-align: right'>157623</td>\n",
       "<td style='text-align: right'>276</td>\n",
       "<td>-</td>\n",
       "<td>.</td>\n",
       "<td>AGAP004677-RA</td>\n",
       "<td>AGAP004677-RB-E4A</td>\n",
       "<td style='text-align: right'>0</td>\n",
       "<td>None</td>\n",
       "<td>True</td>\n",
       "<td>False</td>\n",
       "<td>True</td>\n",
       "</tr>\n",
       "<tr>\n",
       "<td>2L</td>\n",
       "<td>three_prime_UTR</td>\n",
       "<td style='text-align: right'>157347</td>\n",
       "<td style='text-align: right'>157495</td>\n",
       "<td style='text-align: right'>148</td>\n",
       "<td>-</td>\n",
       "<td>.</td>\n",
       "<td>AGAP004677-RA</td>\n",
       "<td>None</td>\n",
       "<td style='text-align: right'>0</td>\n",
       "<td>None</td>\n",
       "<td>True</td>\n",
       "<td>None</td>\n",
       "<td>None</td>\n",
       "</tr>\n",
       "<tr>\n",
       "<td>2L</td>\n",
       "<td>exon</td>\n",
       "<td style='text-align: right'>157347</td>\n",
       "<td style='text-align: right'>157623</td>\n",
       "<td style='text-align: right'>276</td>\n",
       "<td>-</td>\n",
       "<td>.</td>\n",
       "<td>AGAP004677-RB</td>\n",
       "<td>AGAP004677-RB-E4B</td>\n",
       "<td style='text-align: right'>0</td>\n",
       "<td>None</td>\n",
       "<td>False</td>\n",
       "<td>False</td>\n",
       "<td>True</td>\n",
       "</tr>\n",
       "<tr>\n",
       "<td>2L</td>\n",
       "<td>three_prime_UTR</td>\n",
       "<td style='text-align: right'>157347</td>\n",
       "<td style='text-align: right'>157495</td>\n",
       "<td style='text-align: right'>148</td>\n",
       "<td>-</td>\n",
       "<td>.</td>\n",
       "<td>AGAP004677-RB</td>\n",
       "<td>None</td>\n",
       "<td style='text-align: right'>0</td>\n",
       "<td>None</td>\n",
       "<td>False</td>\n",
       "<td>None</td>\n",
       "<td>None</td>\n",
       "</tr>\n",
       "<tr>\n",
       "<td>2L</td>\n",
       "<td>CDS</td>\n",
       "<td style='text-align: right'>157495</td>\n",
       "<td style='text-align: right'>157623</td>\n",
       "<td style='text-align: right'>128</td>\n",
       "<td>-</td>\n",
       "<td>2</td>\n",
       "<td>AGAP004677-RA</td>\n",
       "<td>None</td>\n",
       "<td style='text-align: right'>0</td>\n",
       "<td>None</td>\n",
       "<td>True</td>\n",
       "<td>False</td>\n",
       "<td>True</td>\n",
       "</tr>\n",
       "<tr>\n",
       "<td>2L</td>\n",
       "<td>CDS</td>\n",
       "<td style='text-align: right'>157495</td>\n",
       "<td style='text-align: right'>157623</td>\n",
       "<td style='text-align: right'>128</td>\n",
       "<td>-</td>\n",
       "<td>2</td>\n",
       "<td>AGAP004677-RB</td>\n",
       "<td>None</td>\n",
       "<td style='text-align: right'>0</td>\n",
       "<td>None</td>\n",
       "<td>False</td>\n",
       "<td>False</td>\n",
       "<td>True</td>\n",
       "</tr>\n",
       "</tbody>\n",
       "</table>\n",
       "<p><strong>...</strong></p>"
      ]
     },
     "metadata": {},
     "output_type": "display_data"
    }
   ],
   "source": [
    "tbl_features = etl.frompickle('tbl_features.pickle')\n",
    "tbl_features.display(10)"
   ]
  },
  {
   "cell_type": "code",
   "execution_count": 3,
   "metadata": {},
   "outputs": [],
   "source": [
    "CLS_UPSTREAM = 1\n",
    "CLS_DOWNSTREAM = 2\n",
    "CLS_5UTR = 3\n",
    "CLS_3UTR = 4\n",
    "CLS_CDS_FIRST = 5\n",
    "CLS_CDS_MID = 6\n",
    "CLS_CDS_LAST = 7\n",
    "CLS_INTRON_FIRST = 8\n",
    "CLS_INTRON_MID = 9\n",
    "CLS_INTRON_LAST = 10\n",
    "\n",
    "feature_cls_names = [\n",
    "    'Unknown',\n",
    "    'Upstream',\n",
    "    'Downstream',\n",
    "    \"5' UTR\",\n",
    "    \"3' UTR\",\n",
    "    \"CDS (first)\",\n",
    "    \"CDS (mid)\",\n",
    "    \"CDS (last)\",\n",
    "    \"Intron (first)\",\n",
    "    \"Intron (mid)\",\n",
    "    \"Intron (last)\",\n",
    "]"
   ]
  },
  {
   "cell_type": "code",
   "execution_count": 4,
   "metadata": {},
   "outputs": [],
   "source": [
    "seq_cls = {k: np.zeros(len(genome[k]), dtype='u1') for k in genome.keys()}\n",
    "seq_relpos_start = {k: np.zeros(len(genome[k]), dtype='u4') for k in genome.keys()}\n",
    "seq_relpos_stop = {k: np.zeros(len(genome[k]), dtype='u4') for k in genome.keys()}\n",
    "seq_flen = {k: np.zeros(len(genome[k]), dtype='u4') for k in genome.keys()}"
   ]
  },
  {
   "cell_type": "code",
   "execution_count": 5,
   "metadata": {},
   "outputs": [
    {
     "data": {
      "text/plain": [
       "{'2R': array([0, 0, 0, ..., 0, 0, 0], dtype=uint8),\n",
       " '3R': array([0, 0, 0, ..., 0, 0, 0], dtype=uint8),\n",
       " '2L': array([0, 0, 0, ..., 0, 0, 0], dtype=uint8),\n",
       " 'UNKN': array([0, 0, 0, ..., 0, 0, 0], dtype=uint8),\n",
       " '3L': array([0, 0, 0, ..., 0, 0, 0], dtype=uint8),\n",
       " 'X': array([0, 0, 0, ..., 0, 0, 0], dtype=uint8),\n",
       " 'Y_unplaced': array([0, 0, 0, ..., 0, 0, 0], dtype=uint8),\n",
       " 'Mt': array([0, 0, 0, ..., 0, 0, 0], dtype=uint8)}"
      ]
     },
     "execution_count": 5,
     "metadata": {},
     "output_type": "execute_result"
    }
   ],
   "source": [
    "seq_cls"
   ]
  },
  {
   "cell_type": "code",
   "execution_count": 6,
   "metadata": {},
   "outputs": [],
   "source": [
    "# build the upstream and downstream classes\n",
    "############################################\n",
    "\n",
    "def build_upstream_downstream():\n",
    "    prv_gene = None\n",
    "    for gene in tbl_features.eq('type', 'gene').records():\n",
    "        seqid = gene.seqid\n",
    "        if seqid in genome and prv_gene is not None and (gene.start > prv_gene.stop) and gene.seqid == prv_gene.seqid:\n",
    "\n",
    "            # midpoint between previous and current genes\n",
    "            m = (prv_gene.stop + gene.start) // 2\n",
    "\n",
    "            # deal with previous gene\n",
    "            if prv_gene.strand == '+':\n",
    "                prv_cls = CLS_DOWNSTREAM\n",
    "                seq_relpos_start[seqid][prv_gene.stop:m] = np.arange(m - prv_gene.stop)\n",
    "                seq_relpos_stop[seqid][prv_gene.stop:m] = np.arange(m - prv_gene.stop)[::-1]\n",
    "            else:\n",
    "                prv_cls = CLS_UPSTREAM\n",
    "                seq_relpos_start[seqid][prv_gene.stop:m] = np.arange(m - prv_gene.stop)[::-1]\n",
    "                seq_relpos_stop[seqid][prv_gene.stop:m] = np.arange(m - prv_gene.stop)\n",
    "            seq_cls[seqid][prv_gene.stop:m] = prv_cls\n",
    "            seq_flen[seqid][prv_gene.stop:m] = m - prv_gene.stop\n",
    "\n",
    "            # deal with current gene\n",
    "            if gene.strand == '+':\n",
    "                cls = CLS_UPSTREAM\n",
    "                seq_relpos_start[seqid][m:gene.start] = np.arange(gene.start - m)\n",
    "                seq_relpos_stop[seqid][m:gene.start] = np.arange(gene.start - m)[::-1]\n",
    "            else:\n",
    "                cls = CLS_DOWNSTREAM\n",
    "                seq_relpos_start[seqid][m:gene.start] = np.arange(gene.start - m)[::-1]\n",
    "                seq_relpos_stop[seqid][m:gene.start] = np.arange(gene.start - m)  \n",
    "            seq_cls[seqid][m:gene.start] = cls\n",
    "            seq_flen[seqid][m:gene.start] = gene.start - m\n",
    "\n",
    "        prv_gene = gene\n",
    "\n",
    "build_upstream_downstream()"
   ]
  },
  {
   "cell_type": "code",
   "execution_count": 7,
   "metadata": {},
   "outputs": [
    {
     "name": "stdout",
     "output_type": "stream",
     "text": [
      "Unknown 18225524\n",
      "Upstream 17128777\n",
      "Downstream 14010024\n"
     ]
    }
   ],
   "source": [
    "x = np.bincount(seq_cls['2L'])\n",
    "for i, n in enumerate(feature_cls_names):\n",
    "    if i < x.shape[0]:\n",
    "        print(n, x[i])"
   ]
  },
  {
   "cell_type": "code",
   "execution_count": 8,
   "metadata": {},
   "outputs": [],
   "source": [
    "# build the UTR classes\n",
    "########################\n",
    "\n",
    "def build_utr():\n",
    "    for f in tbl_features.records():\n",
    "        seqid = f.seqid\n",
    "        if seqid in genome:\n",
    "            cls = None\n",
    "            if f['type'] == 'five_prime_UTR':\n",
    "                cls = CLS_5UTR\n",
    "            elif f['type'] == 'three_prime_UTR':\n",
    "                cls = CLS_3UTR\n",
    "\n",
    "            if cls:\n",
    "                seq_cls[seqid][f.start:f.stop] = cls\n",
    "                if f.strand == '+':\n",
    "                    seq_relpos_start[seqid][f.start:f.stop] = np.arange(f.stop - f.start)\n",
    "                    seq_relpos_stop[seqid][f.start:f.stop] = np.arange(f.stop - f.start)[::-1]\n",
    "                else:\n",
    "                    seq_relpos_start[seqid][f.start:f.stop] = np.arange(f.stop - f.start)[::-1]\n",
    "                    seq_relpos_stop[seqid][f.start:f.stop] = np.arange(f.stop - f.start)\n",
    "                seq_flen[seqid][f.start:f.stop] = f.stop - f.start\n",
    "            \n",
    "build_utr()"
   ]
  },
  {
   "cell_type": "code",
   "execution_count": 9,
   "metadata": {},
   "outputs": [
    {
     "name": "stdout",
     "output_type": "stream",
     "text": [
      "Unknown 17491210\n",
      "Upstream 17114953\n",
      "Downstream 13996841\n",
      "5' UTR 339898\n",
      "3' UTR 421423\n"
     ]
    }
   ],
   "source": [
    "x = np.bincount(seq_cls['2L'])\n",
    "for i, n in enumerate(feature_cls_names):\n",
    "    if i < x.shape[0]:\n",
    "        print(n, x[i])"
   ]
  },
  {
   "cell_type": "code",
   "execution_count": 10,
   "metadata": {},
   "outputs": [],
   "source": [
    "# build the CDS classes\n",
    "#########################\n",
    "\n",
    "def build_cds():\n",
    "    for f in tbl_features.eq('type', 'CDS').records():\n",
    "        seqid = f.seqid\n",
    "        if seqid in genome:\n",
    "            cls = None\n",
    "            if f.is_first and not f.is_last:\n",
    "                cls = CLS_CDS_FIRST\n",
    "            elif not f.is_first and f.is_last:\n",
    "                cls = CLS_CDS_LAST\n",
    "            elif not f.is_first and not f.is_last:\n",
    "                cls = CLS_CDS_MID\n",
    "\n",
    "            if cls:\n",
    "                seq_cls[seqid][f.start:f.stop] = cls\n",
    "                if f.strand == '+':\n",
    "                    seq_relpos_start[seqid][f.start:f.stop] = np.arange(f.stop - f.start)\n",
    "                    seq_relpos_stop[seqid][f.start:f.stop] = np.arange(f.stop - f.start)[::-1]\n",
    "                else:\n",
    "                    seq_relpos_start[seqid][f.start:f.stop] = np.arange(f.stop - f.start)[::-1]\n",
    "                    seq_relpos_stop[seqid][f.start:f.stop] = np.arange(f.stop - f.start)\n",
    "                seq_flen[seqid][f.start:f.stop] = f.stop - f.start\n",
    "                \n",
    "build_cds()"
   ]
  },
  {
   "cell_type": "code",
   "execution_count": 11,
   "metadata": {},
   "outputs": [
    {
     "name": "stdout",
     "output_type": "stream",
     "text": [
      "Unknown 13350513\n",
      "Upstream 17034596\n",
      "Downstream 13897774\n",
      "5' UTR 328933\n",
      "3' UTR 411711\n",
      "CDS (first) 738146\n",
      "CDS (mid) 2398508\n",
      "CDS (last) 1204144\n"
     ]
    }
   ],
   "source": [
    "x = np.bincount(seq_cls['2L'])\n",
    "for i, n in enumerate(feature_cls_names):\n",
    "    if i < x.shape[0]:\n",
    "        print(n, x[i])"
   ]
  },
  {
   "cell_type": "code",
   "execution_count": 12,
   "metadata": {},
   "outputs": [],
   "source": [
    "# build the intron classes\n",
    "###########################\n",
    "\n",
    "def build_intron():\n",
    "    for f in tbl_features.eq('type', 'intron').records():\n",
    "        seqid = f.seqid\n",
    "        if seqid in genome:\n",
    "            cls = None\n",
    "            if f.is_first and not f.is_last:\n",
    "                cls = CLS_INTRON_FIRST\n",
    "            elif not f.is_first and f.is_last:\n",
    "                cls = CLS_INTRON_LAST\n",
    "            elif not f.is_first and not f.is_last:\n",
    "                cls = CLS_INTRON_MID\n",
    "\n",
    "            if cls:\n",
    "                seq_cls[seqid][f.start:f.stop] = cls\n",
    "                if f.strand == '+':\n",
    "                    seq_relpos_start[seqid][f.start:f.stop] = np.arange(f.stop - f.start)\n",
    "                    seq_relpos_stop[seqid][f.start:f.stop] = np.arange(f.stop - f.start)[::-1]\n",
    "                else:\n",
    "                    seq_relpos_start[seqid][f.start:f.stop] = np.arange(f.stop - f.start)[::-1]\n",
    "                    seq_relpos_stop[seqid][f.start:f.stop] = np.arange(f.stop - f.start)\n",
    "                seq_flen[seqid][f.start:f.stop] = f.stop - f.start\n",
    "\n",
    "build_intron()"
   ]
  },
  {
   "cell_type": "code",
   "execution_count": 13,
   "metadata": {},
   "outputs": [
    {
     "name": "stdout",
     "output_type": "stream",
     "text": [
      "Unknown 7598307\n",
      "Upstream 16624416\n",
      "Downstream 13564793\n",
      "5' UTR 304615\n",
      "3' UTR 398948\n",
      "CDS (first) 707474\n",
      "CDS (mid) 2342073\n",
      "CDS (last) 1155577\n",
      "Intron (first) 2215183\n",
      "Intron (mid) 3851366\n",
      "Intron (last) 601573\n"
     ]
    }
   ],
   "source": [
    "x = np.bincount(seq_cls['2L'])\n",
    "for i, n in enumerate(feature_cls_names):\n",
    "    if i < x.shape[0]:\n",
    "        print(n, x[i])"
   ]
  },
  {
   "cell_type": "code",
   "execution_count": 14,
   "metadata": {},
   "outputs": [],
   "source": [
    "np.savez_compressed('seq_cls.npz', **seq_cls)"
   ]
  },
  {
   "cell_type": "code",
   "execution_count": 15,
   "metadata": {},
   "outputs": [],
   "source": [
    "np.savez_compressed('seq_relpos_start.npz', **seq_relpos_start)"
   ]
  },
  {
   "cell_type": "code",
   "execution_count": 16,
   "metadata": {},
   "outputs": [],
   "source": [
    "np.savez_compressed('seq_relpos_stop.npz', **seq_relpos_stop)"
   ]
  },
  {
   "cell_type": "code",
   "execution_count": 17,
   "metadata": {},
   "outputs": [],
   "source": [
    "np.savez_compressed('seq_flen.npz', **seq_flen)"
   ]
  },
  {
   "cell_type": "code",
   "execution_count": null,
   "metadata": {},
   "outputs": [],
   "source": []
  }
 ],
 "metadata": {
  "kernelspec": {
   "display_name": "Python 3",
   "language": "python",
   "name": "python3"
  },
  "language_info": {
   "codemirror_mode": {
    "name": "ipython",
    "version": 3
   },
   "file_extension": ".py",
   "mimetype": "text/x-python",
   "name": "python",
   "nbconvert_exporter": "python",
   "pygments_lexer": "ipython3",
   "version": "3.6.8"
  }
 },
 "nbformat": 4,
 "nbformat_minor": 1
}
