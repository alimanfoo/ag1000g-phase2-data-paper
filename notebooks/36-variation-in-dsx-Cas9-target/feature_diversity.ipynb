{
 "cells": [
  {
   "cell_type": "markdown",
   "metadata": {},
   "source": [
    "# Follow-up intron diversity"
   ]
  },
  {
   "cell_type": "markdown",
   "metadata": {},
   "source": [
    "## Setup"
   ]
  },
  {
   "cell_type": "code",
   "execution_count": 1,
   "metadata": {},
   "outputs": [],
   "source": [
    "\n",
    "#QUESTION: DO WE ACTUALLY WANT TO USE THE WHOLE CALLSET OR THE PASSED CALLSET? THE METHOD INHERENTLY REPORTS\n",
    "#DIVERSITY FOR EVERY ACCESSIBLE POSITION, SO BY USING ONLY THE PASS CALLSETS, WE ARE STILL MAKING A STATEMENT \n",
    "#ABOUT FILTER-FAILING POSITIONS (STATING THAT THERE IS NO DIVERSITY THERE). IT SEEMS TO ME THAT IT THEREFORE \n",
    "#MAKES MORE SENSE TO USE ALL SNPS, BUT ALISTAIR'S ORIGINAL NOTEBOOK USES AN OBJECT CALLED callset_pass, SO I \n",
    "#ASSUMED THAT IT WAS USING THE PASS SNPS ONLY. \n",
    "\n",
    "#ALSO, INTRONS ARE CURRENTLY DEFINED AS BEING REGIONS BETWEEN CHUNKS OF CDS, RATHER THAN BETWEEN CHUNKS OF\n",
    "#EXONS. THIS MAKES A DIFFERENCE FOR DSX, BECAUSE SOME INTRONS BETWEEN CHUNKS OF UTR AREN'T BEING COUNTED AS\n",
    "#INTRONS. ARE WE HAPPY WITH THIS?\n",
    "\n",
    "# ALSO ALSO, EXONS ARE CURRENTLY DEFINED AS -RA CDS, SO ALTERNATIVE TRANSCRIPTS AREN'T BEING COUNTED AS EXONS.\n",
    "\n",
    "import sys\n",
    "import petl as etl\n",
    "import petlx.bio\n",
    "import numpy as np\n",
    "import functools\n",
    "import allel\n",
    "import pandas as pd\n",
    "sys.path.insert(0, '../../agam-report-base/src/python')\n",
    "from util import *\n",
    "from ag1k import phase2_ar1\n",
    "phase2_ar1.init(\"../../phase2.AR1\")\n",
    "genome = phase2_ar1.genome_agamp4\n",
    "accessibility = phase2_ar1.accessibility\n",
    "allele_counts = phase2_ar1.allele_counts\n",
    "callset = phase2_ar1.callset\n",
    "callset_pass = phase2_ar1.callset_pass"
   ]
  },
  {
   "cell_type": "code",
   "execution_count": 2,
   "metadata": {},
   "outputs": [],
   "source": [
    "import matplotlib as mpl\n",
    "import matplotlib.pyplot as plt\n",
    "from matplotlib.colors import ListedColormap\n",
    "from matplotlib.gridspec import GridSpec\n",
    "import seaborn as sns\n",
    "sns.set_context('paper')\n",
    "sns.set_style('ticks')\n",
    "# use seaborn defaults\n",
    "rcParams = plt.rcParams\n",
    "rcParams['savefig.jpeg_quality'] = 100\n",
    "%matplotlib inline\n",
    "%config InlineBackend.figure_formats = {'retina', 'png'}"
   ]
  },
  {
   "cell_type": "code",
   "execution_count": 3,
   "metadata": {},
   "outputs": [],
   "source": [
    "# Having a guess at what Alistair's \"get_features\" function does\n",
    "def get_features(chrom):\n",
    "    return get_geneset_features(phase2_ar1.geneset_agamp44_fn, chrom)"
   ]
  },
  {
   "cell_type": "code",
   "execution_count": 4,
   "metadata": {},
   "outputs": [],
   "source": [
    "CLS_UPSTREAM = 1\n",
    "CLS_5UTR = 2\n",
    "CLS_EXON_FIRST = 3\n",
    "CLS_INTRON_FIRST = 4\n",
    "CLS_EXON_MID = 5\n",
    "CLS_INTRON_LAST = 6\n",
    "CLS_EXON_LAST = 7\n",
    "CLS_3UTR = 8\n",
    "CLS_DOWNSTREAM = 9\n",
    "CLS_INTRON_MID = 10\n",
    "\n",
    "\n",
    "# Made an addition to Alistair's code to also return a \"feature code\" for each intronic or exonic position\n",
    "# to record which exon or intron they belong to (ie: all positions from the same exon will have the same\n",
    "# feature code))\n",
    "def compute_features(chrom):\n",
    "    log('compute features', chrom)\n",
    "\n",
    "    # extract features\n",
    "    ###################\n",
    "    \n",
    "    tbl_features = (\n",
    "        get_features(chrom)\n",
    "        .convert('start', lambda v: v-1)\n",
    "        .rename('end', 'stop')\n",
    "        .unpackdict('attributes', ['Parent', 'ID'])\n",
    "        .rename('Parent', 'parent')\n",
    "        .addfield('length', lambda rec: rec.stop-rec.start, index=5)\n",
    "        .cache()\n",
    "    )\n",
    "    \n",
    "    # obtain genes\n",
    "    ###############\n",
    "    \n",
    "    tbl_genes = tbl_features.eq('type', 'gene')    \n",
    "\n",
    "    # obtain CDSs\n",
    "    ##############\n",
    "    \n",
    "    def child_first(prv, cur, nxt):\n",
    "        return (\n",
    "            (cur.strand == '+' and (prv is None or prv.parent != cur.parent))\n",
    "            or (cur.strand == '-') and (nxt is None or cur.parent != nxt.parent)\n",
    "        )\n",
    "\n",
    "    def child_last(prv, cur, nxt):\n",
    "        return (\n",
    "            (cur.strand == '-' and (prv is None or prv.parent != cur.parent))\n",
    "            or (cur.strand == '+') and (nxt is None or cur.parent != nxt.parent)\n",
    "        )\n",
    "\n",
    "    tbl_cdss = (\n",
    "        tbl_features\n",
    "        .eq('type', 'CDS')\n",
    "        .select('parent', lambda v: v.endswith('RA'))\n",
    "        .addfieldusingcontext('first', child_first)\n",
    "        .addfieldusingcontext('last', child_last)\n",
    "    )    \n",
    "\n",
    "    # obtain introns\n",
    "    #################\n",
    "    \n",
    "    def cds2intron(parent, cdss):\n",
    "        cdss = list(cdss)\n",
    "        seqid = cdss[0].seqid\n",
    "        strand = cdss[0].strand\n",
    "        type = 'intron'\n",
    "        for i in range(1, len(cdss)):\n",
    "            start = cdss[i-1].stop\n",
    "            stop = cdss[i].start\n",
    "            yield (seqid, type, start, stop, stop-start, strand, parent)\n",
    "\n",
    "    tbl_introns = (\n",
    "        tbl_cdss\n",
    "        .rowgroupmap(key='parent', mapper=cds2intron, header=['seqid', 'type', 'start', 'stop', 'length', 'strand', 'parent'])\n",
    "        .addfieldusingcontext('first', child_first)\n",
    "        .addfieldusingcontext('last', child_last)\n",
    "    )\n",
    "    \n",
    "    # setup outputs\n",
    "    ################\n",
    "    \n",
    "    seq = np.asarray(genome[chrom])\n",
    "    seq_cls = np.zeros(seq.size, dtype='u1')\n",
    "    seq_relpos = np.zeros(seq.size, dtype='u4')\n",
    "    seq_relpos_end = np.zeros(seq.size, dtype='u4')\n",
    "    seq_flen = np.zeros(seq.size, dtype='u4')\n",
    "    # These final values will specifically be used for comparing mean diversity with that found in the\n",
    "    # dsx gene\n",
    "    seq_intron_group = np.zeros(seq.size, dtype='u4')\n",
    "    seq_exon_group = np.zeros(seq.size, dtype='u4')\n",
    "\n",
    "    # build the upstream and downstream classes\n",
    "    ############################################\n",
    "    \n",
    "    prv_gene = None\n",
    "    for gene in tbl_genes.records():\n",
    "\n",
    "        if prv_gene is not None and (gene.start - prv_gene.stop) > 1000:\n",
    "\n",
    "            # midpoint between previous and current genes\n",
    "            m = (prv_gene.stop + gene.start) // 2\n",
    "\n",
    "            # deal with previous gene\n",
    "            if prv_gene.strand == '+':\n",
    "                prv_cls = CLS_DOWNSTREAM\n",
    "            else:\n",
    "                prv_cls = CLS_UPSTREAM\n",
    "            seq_cls[prv_gene.stop:m] = prv_cls\n",
    "            seq_relpos[prv_gene.stop:m] = np.arange(m - prv_gene.stop)\n",
    "            seq_relpos_end[prv_gene.stop:m] = np.arange(m - prv_gene.stop)[::-1]\n",
    "            seq_flen[prv_gene.stop:m] = m - prv_gene.stop\n",
    "            \n",
    "            # deal with current gene\n",
    "            if gene.strand == '+':\n",
    "                cls = CLS_UPSTREAM\n",
    "            else:\n",
    "                cls = CLS_DOWNSTREAM\n",
    "            seq_cls[m:gene.start] = cls\n",
    "            seq_relpos[m:gene.start] = np.arange(gene.start - m)[::-1]\n",
    "            seq_relpos_end[m:gene.start] = np.arange(gene.start - m)\n",
    "            seq_flen[m:gene.start] = gene.start - m\n",
    "\n",
    "        prv_gene = gene\n",
    "\n",
    "    # build the UTR classes\n",
    "    ########################\n",
    "    \n",
    "    for f in tbl_features.records():\n",
    "\n",
    "        cls = None\n",
    "        if f['type'] == 'five_prime_UTR':\n",
    "            cls = CLS_5UTR\n",
    "        elif f['type'] == 'three_prime_UTR':\n",
    "            cls = CLS_3UTR\n",
    "\n",
    "        if cls:\n",
    "            seq_cls[f.start:f.stop] = cls\n",
    "            if f.strand == '+':\n",
    "                seq_relpos[f.start:f.stop] = np.arange(f.stop - f.start)\n",
    "                seq_relpos_end[f.start:f.stop] = np.arange(f.stop - f.start)[::-1]\n",
    "            else:\n",
    "                seq_relpos[f.start:f.stop] = np.arange(f.stop - f.start)[::-1]\n",
    "                seq_relpos_end[f.start:f.stop] = np.arange(f.stop - f.start)\n",
    "            seq_flen[f.start:f.stop] = f.stop - f.start\n",
    "\n",
    "\n",
    "    # build the exon classes\n",
    "    #########################\n",
    "    \n",
    "    exon_counter_value = 100000    \n",
    "    for f in tbl_cdss.records():\n",
    "        \n",
    "        cls = None\n",
    "        if f.first and not f.last:\n",
    "            cls = CLS_EXON_FIRST\n",
    "        elif not f.first and f.last:\n",
    "            cls = CLS_EXON_LAST\n",
    "        elif not f.first and not f.last:\n",
    "            cls = CLS_EXON_MID\n",
    "\n",
    "        if cls:\n",
    "            exon_counter_value += 1\n",
    "            seq_exon_group[f.start:f.stop] = exon_counter_value\n",
    "            seq_cls[f.start:f.stop] = cls\n",
    "            if f.strand == '+':\n",
    "                seq_relpos[f.start:f.stop] = np.arange(f.stop - f.start)\n",
    "                seq_relpos_end[f.start:f.stop] = np.arange(f.stop - f.start)[::-1]\n",
    "            else:\n",
    "                seq_relpos[f.start:f.stop] = np.arange(f.stop - f.start)[::-1]\n",
    "                seq_relpos_end[f.start:f.stop] = np.arange(f.stop - f.start)\n",
    "            seq_flen[f.start:f.stop] = f.stop - f.start\n",
    "\n",
    "\n",
    "    # build the intron classes\n",
    "    ###########################\n",
    "    \n",
    "    intron_counter_value = 0\n",
    "    for f in tbl_introns.records():\n",
    "\n",
    "        cls = None\n",
    "        if f.first and not f.last:\n",
    "            cls = CLS_INTRON_FIRST\n",
    "        elif not f.first and f.last:\n",
    "            cls = CLS_INTRON_LAST\n",
    "        elif not f.first and not f.last:\n",
    "            cls = CLS_INTRON_MID\n",
    "\n",
    "        if cls:\n",
    "            intron_counter_value += 1\n",
    "            seq_intron_group[f.start:f.stop] = intron_counter_value\n",
    "            seq_cls[f.start:f.stop] = cls\n",
    "            if f.strand == '+':\n",
    "                seq_relpos[f.start:f.stop] = np.arange(f.stop - f.start)\n",
    "                seq_relpos_end[f.start:f.stop] = np.arange(f.stop - f.start)[::-1]\n",
    "            else:\n",
    "                seq_relpos[f.start:f.stop] = np.arange(f.stop - f.start)[::-1]\n",
    "                seq_relpos_end[f.start:f.stop] = np.arange(f.stop - f.start)\n",
    "            seq_flen[f.start:f.stop] = f.stop - f.start\n",
    "\n",
    "    return seq_cls, seq_relpos, seq_relpos_end, seq_flen, seq_exon_group, seq_intron_group\n",
    "\n",
    "\n",
    "@functools.lru_cache(maxsize=None)\n",
    "def compute_feature_diversity(chrom, pop='all', filter_acc = True, return_groups = False):\n",
    "    log('compute feature diversity', chrom, pop)\n",
    "    \n",
    "    seq_cls, seq_relpos, seq_relpos_end, seq_flen, seq_exon_group, seq_intron_group = compute_features(chrom)\n",
    "    \n",
    "    # compute mean pairwise difference\n",
    "    ###################################\n",
    "    \n",
    "    seq_mpd = np.zeros(seq_cls.size, dtype='f8')\n",
    "    filter_pass = phase2_ar1.callset[chrom]['variants/FILTER_PASS']\n",
    "    ac = allel.AlleleCountsArray(allele_counts[chrom][pop])[filter_pass,:]\n",
    "    mpd = allel.mean_pairwise_difference(ac)\n",
    "    pos = callset_pass[chrom]['variants/POS'][:]\n",
    "    seq_mpd[pos-1] = mpd\n",
    "    \n",
    "    # compute watterson's theta\n",
    "    ############################\n",
    "    \n",
    "    seq_wt = np.zeros(seq_cls.size, dtype='f8')\n",
    "    is_seg = ac.is_segregating().astype('f8')\n",
    "    n = ac.sum(axis=1).max()\n",
    "    wt = is_seg / np.sum(1 / np.arange(1, n))\n",
    "    seq_wt[pos-1] = wt\n",
    "    \n",
    "    # filter for accessibility\n",
    "    ###########################\n",
    "    \n",
    "    if filter_acc:\n",
    "        is_accessible = accessibility[chrom]['is_accessible'][:]\n",
    "        seq_cls = seq_cls[is_accessible]\n",
    "        seq_relpos = seq_relpos[is_accessible]\n",
    "        seq_relpos_end = seq_relpos_end[is_accessible]\n",
    "        seq_flen = seq_flen[is_accessible]\n",
    "        seq_mpd = seq_mpd[is_accessible]\n",
    "        seq_wt = seq_wt[is_accessible]\n",
    "        seq_intron_group = seq_intron_group[is_accessible]\n",
    "        seq_exon_group = seq_exon_group[is_accessible]\n",
    "\n",
    "    # return outputs\n",
    "    if return_groups:\n",
    "        return seq_cls, seq_relpos, seq_relpos_end, seq_flen, seq_mpd, seq_wt, seq_exon_group, seq_intron_group\n",
    "    else:\n",
    "        return seq_cls, seq_relpos, seq_relpos_end, seq_flen, seq_mpd, seq_wt"
   ]
  },
  {
   "cell_type": "markdown",
   "metadata": {},
   "source": [
    "## Analysis"
   ]
  },
  {
   "cell_type": "code",
   "execution_count": 5,
   "metadata": {},
   "outputs": [],
   "source": [
    "def plot_feature_diversity(chrom, cls, x_max, y_max=0.04, title=None, min_flen=None):\n",
    "    \n",
    "    seq_cls, seq_relpos, seq_relpos_end, seq_flen, seq_mpd, seq_wt = compute_feature_diversity(chrom)\n",
    "\n",
    "    # compute overall mean\n",
    "    m = np.mean(seq_mpd[seq_cls == cls])\n",
    "    \n",
    "    # obtain variables\n",
    "    flt = (seq_cls == cls) & (seq_relpos < x_max)\n",
    "    if min_flen:\n",
    "        flt = flt & (seq_flen > min_flen)\n",
    "    dist = seq_relpos[flt]\n",
    "    values = seq_mpd[flt]\n",
    "\n",
    "    # plot\n",
    "    fig, ax = plt.subplots(figsize=(8, 3))\n",
    "    ax.axhline(m, color='k', linestyle='--')\n",
    "    sns.regplot(dist, values, x_estimator=np.mean, fit_reg=False, ax=ax, scatter_kws=dict(s=6))\n",
    "    ax.set_xlim(left=-1, right=x_max)\n",
    "    ax.set_ylim(bottom=0, top=y_max)\n",
    "    ax.set_xlabel('Physical distance from feature start ($bp$)', fontsize=11)\n",
    "    ax.set_ylabel(r'$\\pi$ ($bp^{-1}$)', fontsize=11)\n",
    "    if title:\n",
    "        ax.set_title(title, fontsize=12, fontweight='bold')\n",
    "    plt.show()\n"
   ]
  },
  {
   "cell_type": "code",
   "execution_count": 6,
   "metadata": {},
   "outputs": [],
   "source": [
    "def plot_feature_diversity_end(chrom, cls, x_max, y_max=0.04, title=None, min_flen=None):\n",
    "    \n",
    "    seq_cls, seq_relpos, seq_relpos_end, seq_flen, seq_mpd, seq_wt = compute_feature_diversity(chrom)\n",
    "\n",
    "    # compute overall mean\n",
    "    m = np.mean(seq_mpd[seq_cls == cls])\n",
    "    \n",
    "    # obtain variables\n",
    "    flt = (seq_cls == cls) & (seq_relpos_end < x_max)\n",
    "    if min_flen:\n",
    "        flt = flt & (seq_flen > min_flen)\n",
    "    dist = seq_relpos_end[flt]\n",
    "    values = seq_mpd[flt]\n",
    "\n",
    "    # plot\n",
    "    fig, ax = plt.subplots(figsize=(8, 3))\n",
    "    ax.axhline(m, color='k', linestyle='--')\n",
    "    sns.regplot(dist, values, x_estimator=np.mean, fit_reg=False, ax=ax, scatter_kws=dict(s=6))\n",
    "    ax.set_xlim(left=-1, right=x_max)\n",
    "    ax.set_ylim(bottom=0, top=y_max)\n",
    "    ax.set_xlabel('Physical distance from feature end ($bp$)', fontsize=11)\n",
    "    ax.set_ylabel(r'$\\pi$ ($bp^{-1}$)', fontsize=11)\n",
    "    ax.invert_xaxis()\n",
    "    if title:\n",
    "        ax.set_title(title, fontsize=12, fontweight='bold')\n",
    "    plt.show()\n"
   ]
  },
  {
   "cell_type": "code",
   "execution_count": 7,
   "metadata": {},
   "outputs": [],
   "source": [
    "def plot_all_feature_diversity(chrom, x_max=200, y_max=0.04, min_flen=None):\n",
    "    plot_feature_diversity(chrom, CLS_INTRON_FIRST, x_max=x_max, y_max=y_max, min_flen=min_flen, title=\"First intron, %s\" % chrom)\n",
    "    plot_feature_diversity(chrom, CLS_INTRON_MID, x_max=x_max, y_max=y_max, min_flen=min_flen, title=\"Mid intron, %s\" % chrom)\n",
    "    plot_feature_diversity(chrom, CLS_INTRON_LAST, x_max=x_max, y_max=y_max, min_flen=min_flen, title=\"Last intron, %s\" % chrom)\n",
    "#    plot_feature_diversity(chrom, CLS_EXON_FIRST, x_max=x_max, y_max=y_max, min_flen=min_flen, title=\"First CDS, %s\" % chrom)\n",
    "#    plot_feature_diversity(chrom, CLS_EXON_MID, x_max=x_max, y_max=y_max, min_flen=min_flen, title=\"Mid CDS, %s\" % chrom)\n",
    "#    plot_feature_diversity(chrom, CLS_EXON_LAST, x_max=x_max, y_max=y_max, min_flen=min_flen, title=\"Last CDS, %s\" % chrom)\n",
    "#    plot_feature_diversity(chrom, CLS_3UTR, x_max=x_max, y_max=y_max, min_flen=min_flen, title=\"3' UTR, %s\" % chrom)\n",
    "#    plot_feature_diversity(chrom, CLS_5UTR, x_max=x_max, y_max=y_max, min_flen=min_flen, title=\"5' UTR, %s\" % chrom)\n",
    "#    plot_feature_diversity(chrom, CLS_UPSTREAM, x_max=x_max, y_max=y_max, min_flen=min_flen, title=\"Upstream, %s\" % chrom)\n",
    "#    plot_feature_diversity(chrom, CLS_DOWNSTREAM, x_max=x_max, y_max=y_max, min_flen=min_flen, title=\"Downstream, %s\" % chrom)\n"
   ]
  },
  {
   "cell_type": "code",
   "execution_count": 8,
   "metadata": {},
   "outputs": [],
   "source": [
    "def plot_all_feature_diversity_end(chrom, x_max=200, y_max=0.04, min_flen=None):\n",
    "    plot_feature_diversity_end(chrom, CLS_INTRON_FIRST, x_max=x_max, y_max=y_max, min_flen=min_flen, title=\"First intron, %s\" % chrom)\n",
    "    plot_feature_diversity_end(chrom, CLS_INTRON_MID, x_max=x_max, y_max=y_max, min_flen=min_flen, title=\"Mid intron, %s\" % chrom)\n",
    "    plot_feature_diversity_end(chrom, CLS_INTRON_LAST, x_max=x_max, y_max=y_max, min_flen=min_flen, title=\"Last intron, %s\" % chrom)\n",
    "#    plot_feature_diversity_end(chrom, CLS_EXON_FIRST, x_max=x_max, y_max=y_max, min_flen=min_flen, title=\"First CDS, %s\" % chrom)\n",
    "#    plot_feature_diversity_end(chrom, CLS_EXON_MID, x_max=x_max, y_max=y_max, min_flen=min_flen, title=\"Mid CDS, %s\" % chrom)\n",
    "#    plot_feature_diversity_end(chrom, CLS_EXON_LAST, x_max=x_max, y_max=y_max, min_flen=min_flen, title=\"Last CDS, %s\" % chrom)\n",
    "#    plot_feature_diversity_end(chrom, CLS_3UTR, x_max=x_max, y_max=y_max, min_flen=min_flen, title=\"3' UTR, %s\" % chrom)\n",
    "#    plot_feature_diversity_end(chrom, CLS_5UTR, x_max=x_max, y_max=y_max, min_flen=min_flen, title=\"5' UTR, %s\" % chrom)\n"
   ]
  },
  {
   "cell_type": "markdown",
   "metadata": {},
   "source": [
    "### Distance from start"
   ]
  },
  {
   "cell_type": "code",
   "execution_count": 9,
   "metadata": {},
   "outputs": [],
   "source": [
    "# Commenting out all of the descriptive plots that Alistair made as they take a long time. But\n",
    "# leaving the code in case we want to have another look."
   ]
  },
  {
   "cell_type": "code",
   "execution_count": 10,
   "metadata": {
    "scrolled": false
   },
   "outputs": [],
   "source": [
    "#plot_all_feature_diversity('3R')"
   ]
  },
  {
   "cell_type": "code",
   "execution_count": 11,
   "metadata": {},
   "outputs": [],
   "source": [
    "#plot_all_feature_diversity('3L')"
   ]
  },
  {
   "cell_type": "code",
   "execution_count": 12,
   "metadata": {},
   "outputs": [],
   "source": [
    "#plot_all_feature_diversity('2R')"
   ]
  },
  {
   "cell_type": "code",
   "execution_count": 13,
   "metadata": {},
   "outputs": [],
   "source": [
    "#plot_all_feature_diversity('2L')"
   ]
  },
  {
   "cell_type": "code",
   "execution_count": 14,
   "metadata": {},
   "outputs": [],
   "source": [
    "#plot_all_feature_diversity('X')"
   ]
  },
  {
   "cell_type": "markdown",
   "metadata": {},
   "source": [
    "### Distance from end"
   ]
  },
  {
   "cell_type": "code",
   "execution_count": 15,
   "metadata": {},
   "outputs": [],
   "source": [
    "#plot_all_feature_diversity_end('2R')"
   ]
  },
  {
   "cell_type": "code",
   "execution_count": 16,
   "metadata": {},
   "outputs": [],
   "source": [
    "#plot_all_feature_diversity_end('X')"
   ]
  },
  {
   "cell_type": "markdown",
   "metadata": {},
   "source": [
    "### Feature length"
   ]
  },
  {
   "cell_type": "code",
   "execution_count": 17,
   "metadata": {},
   "outputs": [],
   "source": [
    "def plot_feature_diversity_length(chrom, cls, x_min, x_max, x_bin_width, y_max=0.04, title=None):\n",
    "    \n",
    "    seq_cls, seq_relpos, seq_relpos_end, seq_flen, seq_mpd, seq_wt = compute_feature_diversity(chrom)\n",
    "\n",
    "    # compute overall mean\n",
    "    m = np.mean(seq_mpd[seq_cls == cls])\n",
    "    \n",
    "    # obtain variables\n",
    "    flt = (seq_cls == cls) & (seq_flen < x_max) & (seq_flen > x_min)\n",
    "    dist = seq_flen[flt]\n",
    "    values = seq_mpd[flt]\n",
    "\n",
    "    # plot\n",
    "    fig = plt.figure(figsize=(8, 3))\n",
    "    ax = fig.add_subplot(111, facecolor='none')\n",
    "    sns.despine(ax=ax, offset=5)\n",
    "    ax.axhline(m, color='k', linestyle='--')\n",
    "    sns.regplot(dist, values, x_estimator=np.mean, x_bins=np.arange(x_min, x_max, x_bin_width) + (x_bin_width//2),\n",
    "                fit_reg=False, ax=ax, scatter_kws=dict(s=15, color='k'))\n",
    "    ax.set_xlim(left=-1, right=x_max)\n",
    "    ax.set_ylim(bottom=0, top=y_max)\n",
    "    ax.set_xlabel('Feature length ($bp$)', fontsize=11)\n",
    "    ax.set_ylabel(r'$\\pi$ ($bp^{-1}$)', fontsize=11)\n",
    "    if title:\n",
    "        ax.set_title(title, fontsize=12, fontweight='bold')\n",
    "    ax.set_zorder(2)\n",
    "        \n",
    "    ax = ax.twinx()\n",
    "    sns.despine(ax=ax, top=True, left=True, bottom=True, right=False, offset=5)\n",
    "    ax.hist(dist, bins=np.arange(x_min, x_max, x_bin_width), zorder=-20)\n",
    "    ax.set_ylabel('Frequency', fontsize=11)\n",
    "    ax.yaxis.set_label_position('right')\n",
    "    ax.set_xlim(left=-1, right=x_max)\n",
    "    ax.set_zorder(1)\n",
    "    plt.show()\n"
   ]
  },
  {
   "cell_type": "code",
   "execution_count": 18,
   "metadata": {},
   "outputs": [],
   "source": [
    "def plot_all_feature_diversity_length(chrom, x_min=1, x_max=1000, x_bin_width=20, y_max=0.04):\n",
    "    plot_feature_diversity_length(chrom, CLS_INTRON_FIRST, x_min=x_min, x_max=x_max, x_bin_width=x_bin_width, y_max=y_max, \n",
    "                                  title=\"First intron, %s\" % chrom)\n",
    "    plot_feature_diversity_length(chrom, CLS_INTRON_MID, x_min=x_min, x_max=x_max, x_bin_width=x_bin_width, y_max=y_max, \n",
    "                                  title=\"Mid intron, %s\" % chrom)\n",
    "    plot_feature_diversity_length(chrom, CLS_INTRON_LAST, x_min=x_min, x_max=x_max, x_bin_width=x_bin_width, y_max=y_max, \n",
    "                                  title=\"Last intron, %s\" % chrom)\n",
    "#    plot_feature_diversity_length(chrom, CLS_EXON_FIRST, x_min=x_min, x_max=x_max, x_bin_width=x_bin_width, y_max=y_max, \n",
    "#                                  title=\"First CDS, %s\" % chrom)\n",
    "#    plot_feature_diversity_length(chrom, CLS_EXON_MID, x_min=x_min, x_max=x_max, x_bin_width=x_bin_width, y_max=y_max, \n",
    "#                                  title=\"Mid CDS, %s\" % chrom)\n",
    "#    plot_feature_diversity_length(chrom, CLS_EXON_LAST, x_min=x_min, x_max=x_max, x_bin_width=x_bin_width, y_max=y_max, \n",
    "#                                  title=\"Last CDS, %s\" % chrom)\n",
    "#    plot_feature_diversity_length(chrom, CLS_3UTR, x_min=x_min, x_max=x_max, x_bin_width=x_bin_width, y_max=y_max, \n",
    "#                                  title=\"3' UTR, %s\" % chrom)\n",
    "#    plot_feature_diversity_length(chrom, CLS_5UTR, x_min=x_min, x_max=x_max, x_bin_width=x_bin_width, y_max=y_max, \n",
    "#                                  title=\"5' UTR, %s\" % chrom)\n"
   ]
  },
  {
   "cell_type": "code",
   "execution_count": 19,
   "metadata": {
    "scrolled": false
   },
   "outputs": [],
   "source": [
    "#plot_all_feature_diversity_length('3R')"
   ]
  },
  {
   "cell_type": "code",
   "execution_count": 20,
   "metadata": {
    "scrolled": false
   },
   "outputs": [],
   "source": [
    "#plot_all_feature_diversity_length('X')"
   ]
  },
  {
   "cell_type": "code",
   "execution_count": 21,
   "metadata": {},
   "outputs": [],
   "source": [
    "#plot_all_feature_diversity_length('3L')"
   ]
  },
  {
   "cell_type": "code",
   "execution_count": 22,
   "metadata": {},
   "outputs": [],
   "source": [
    "#plot_all_feature_diversity_length('2R')"
   ]
  },
  {
   "cell_type": "code",
   "execution_count": 23,
   "metadata": {},
   "outputs": [],
   "source": [
    "#plot_all_feature_diversity_length('2L')"
   ]
  },
  {
   "cell_type": "markdown",
   "metadata": {},
   "source": [
    "### Distance from start/end (min feature length)"
   ]
  },
  {
   "cell_type": "code",
   "execution_count": 24,
   "metadata": {
    "scrolled": false
   },
   "outputs": [],
   "source": [
    "#plot_all_feature_diversity('2R', min_flen=200)"
   ]
  },
  {
   "cell_type": "code",
   "execution_count": 25,
   "metadata": {
    "scrolled": false
   },
   "outputs": [],
   "source": [
    "#plot_all_feature_diversity_end('2R', min_flen=200)"
   ]
  },
  {
   "cell_type": "code",
   "execution_count": 26,
   "metadata": {},
   "outputs": [],
   "source": [
    "#plot_all_feature_diversity('X', min_flen=200)"
   ]
  },
  {
   "cell_type": "code",
   "execution_count": 27,
   "metadata": {},
   "outputs": [],
   "source": [
    "#plot_all_feature_diversity_end('X', min_flen=200)"
   ]
  },
  {
   "cell_type": "markdown",
   "metadata": {},
   "source": [
    "## Now my bit"
   ]
  },
  {
   "cell_type": "code",
   "execution_count": 28,
   "metadata": {},
   "outputs": [
    {
     "name": "stdout",
     "output_type": "stream",
     "text": [
      "compute feature diversity 2R all\n",
      "compute features 2R\n"
     ]
    },
    {
     "data": {
      "text/plain": [
       "(39534863,)"
      ]
     },
     "execution_count": 28,
     "metadata": {},
     "output_type": "execute_result"
    }
   ],
   "source": [
    "# Calculate the features for all accessible bases\n",
    "chrom = '2R'\n",
    "seq_cls, seq_relpos, seq_relpos_end, seq_flen, seq_mpd, seq_wt, seq_exon_group, seq_intron_group = compute_feature_diversity(chrom, return_groups = True)\n",
    "seq_cls.shape\n",
    "\n"
   ]
  },
  {
   "cell_type": "code",
   "execution_count": 29,
   "metadata": {},
   "outputs": [
    {
     "name": "stdout",
     "output_type": "stream",
     "text": [
      "compute feature diversity 2R all\n",
      "compute features 2R\n"
     ]
    },
    {
     "data": {
      "text/plain": [
       "(61545105,)"
      ]
     },
     "execution_count": 29,
     "metadata": {},
     "output_type": "execute_result"
    }
   ],
   "source": [
    "# Calculate the features without filtering for accessibility\n",
    "seq_cls_nofilter, seq_relpos_nofilter, seq_relpos_end_nofilter, seq_flen_nofilter, seq_mpd_nofilter, seq_wt_nofilter, seq_exon_group_nofilter, seq_intron_group_nofilter = compute_feature_diversity(chrom, filter_acc = False, return_groups = True)\n",
    "seq_cls_nofilter.shape"
   ]
  },
  {
   "cell_type": "code",
   "execution_count": 30,
   "metadata": {},
   "outputs": [],
   "source": [
    "# Start and end positions of the dsx Cas9 target region\n",
    "startpos = 48714638\n",
    "endpos = 48714659"
   ]
  },
  {
   "cell_type": "code",
   "execution_count": 31,
   "metadata": {},
   "outputs": [
    {
     "name": "stdout",
     "output_type": "stream",
     "text": [
      "[7 7 7 7 7 7 7 7 7 7 7 6 6 6 6 6 6 6 6 6 6]\n",
      "[81 82 83 84 85 86 87 88 89 90 91  0  1  2  3  4  5  6  7  8  9]\n",
      "[  0   1   2   3   4   5   6   7   8   9  10  11  12  13  14  15  16  17\n",
      "  18  19  20  21  22  23  24  25  26  27  28  29  30  31  32  33  34  35\n",
      "  36  37  38  39  40  41  42  43  44  45  46  47  48  49  50  51  52  53\n",
      "  54  55  56  57  58  59  60  61  62  63  64  65  66  67  68  69  70  71\n",
      "  72  73  74  75  76  77  78  79  80  81  82  83  84  85  86  87  88  89\n",
      "  90  91  92  93  94  95  96  97  98  99 100 101 102 103 104 105 106 107\n",
      " 108 109 110 111 112 113 114 115 116 117 118 119 120 121 122 123 124 125\n",
      " 126 127 128 129 130 131 132 133 134 135 136 137 138 139 140 141 142 143\n",
      " 144 145 146 147 148 149 150 151 152 153 154 155 156 157 158 159 160 161\n",
      " 162 163 164 165 166 167 168 169 170 171 172 173 174 175 176 177 178 179\n",
      " 180 181 182 183 184 185 186 187 188 189 190 191 192 193 194 195 196 197\n",
      " 198 199]\n"
     ]
    },
    {
     "data": {
      "text/plain": [
       "array([0.        , 0.        , 0.        , 0.        , 0.        ,\n",
       "       0.        , 0.        , 0.        , 0.        , 0.        ,\n",
       "       0.        , 0.        , 0.        , 0.        , 0.        ,\n",
       "       0.        , 0.        , 0.        , 0.        , 0.        ,\n",
       "       0.        , 0.        , 0.        , 0.        , 0.        ,\n",
       "       0.        , 0.        , 0.        , 0.        , 0.        ,\n",
       "       0.        , 0.        , 0.        , 0.        , 0.        ,\n",
       "       0.        , 0.        , 0.        , 0.        , 0.        ,\n",
       "       0.00087566, 0.        , 0.        , 0.00611349, 0.        ,\n",
       "       0.        , 0.00087566, 0.        , 0.        , 0.00175055,\n",
       "       0.00785329, 0.00611349, 0.00087566, 0.        , 0.        ,\n",
       "       0.        , 0.        , 0.        , 0.        , 0.        ,\n",
       "       0.        , 0.        , 0.        , 0.        , 0.        ,\n",
       "       0.00785329, 0.        , 0.        , 0.        , 0.        ,\n",
       "       0.        , 0.        , 0.        , 0.        , 0.        ,\n",
       "       0.        , 0.        , 0.        , 0.        , 0.        ,\n",
       "       0.        , 0.        , 0.        , 0.        , 0.        ,\n",
       "       0.        , 0.        , 0.        , 0.        , 0.        ,\n",
       "       0.        , 0.        , 0.        , 0.        , 0.        ,\n",
       "       0.        , 0.        , 0.        , 0.        , 0.        ,\n",
       "       0.        , 0.52747253, 0.00349802, 0.        , 0.        ,\n",
       "       0.        , 0.02764053, 0.        , 0.        , 0.        ,\n",
       "       0.        , 0.        , 0.        , 0.        , 0.        ,\n",
       "       0.        , 0.00087566, 0.        , 0.        , 0.00087566,\n",
       "       0.00698377, 0.        , 0.        , 0.        , 0.        ,\n",
       "       0.        , 0.00087566, 0.        , 0.        , 0.        ,\n",
       "       0.17839464, 0.50229635, 0.        , 0.        , 0.        ,\n",
       "       0.23598777, 0.        , 0.37318128, 0.        , 0.        ,\n",
       "       0.        , 0.03696054, 0.        , 0.        , 0.        ,\n",
       "       0.        , 0.        , 0.        , 0.        , 0.        ,\n",
       "       0.        , 0.00785329, 0.        , 0.        , 0.        ,\n",
       "       0.        , 0.        , 0.        , 0.        , 0.        ,\n",
       "       0.        , 0.        , 0.        , 0.        , 0.        ,\n",
       "       0.        , 0.        , 0.00175055, 0.        , 0.        ,\n",
       "       0.        , 0.00087566, 0.        , 0.00175055, 0.        ,\n",
       "       0.        , 0.        , 0.        , 0.        , 0.        ,\n",
       "       0.        , 0.00087566, 0.00175093, 0.        , 0.00087566,\n",
       "       0.        , 0.        , 0.        , 0.        , 0.02769231,\n",
       "       0.        , 0.        , 0.        , 0.        , 0.        ,\n",
       "       0.        , 0.00175055, 0.06026536, 0.        , 0.        ])"
      ]
     },
     "execution_count": 31,
     "metadata": {},
     "output_type": "execute_result"
    }
   ],
   "source": [
    "#Let's see what the data look like in the dsx target region\n",
    "print(seq_cls_nofilter[range(startpos-1, endpos-1)])\n",
    "print(seq_relpos_end_nofilter[range(startpos-1, endpos-1)])\n",
    "\n",
    "# But what we really want is the diversity of the first 200bp of the intron\n",
    "dsx_target_intron = range(endpos-11, endpos + 189)\n",
    "print(seq_relpos_end_nofilter[dsx_target_intron])\n",
    "dsx_acc = accessibility[chrom]['is_accessible'][dsx_target_intron]\n",
    "dsx_mpd = seq_mpd_nofilter[dsx_target_intron]\n",
    "dsx_mpd"
   ]
  },
  {
   "cell_type": "code",
   "execution_count": 32,
   "metadata": {},
   "outputs": [
    {
     "name": "stderr",
     "output_type": "stream",
     "text": [
      "/home/eric/Manuscripts/ag1000g-phase2-data-paper/binder/deps/conda/envs/ag1000g-phase2-data-paper/lib/python3.6/site-packages/scipy/stats/stats.py:1713: FutureWarning: Using a non-tuple sequence for multidimensional indexing is deprecated; use `arr[tuple(seq)]` instead of `arr[seq]`. In the future this will be interpreted as an array index, `arr[np.array(seq)]`, which will result either in an error or a different result.\n",
      "  return np.add.reduce(sorted[indexer] * weights, axis=axis) / sumval\n"
     ]
    },
    {
     "data": {
      "image/png": "[encoded data removed]",
      "text/plain": [
       "<Figure size 576x216 with 1 Axes>"
      ]
     },
     "metadata": {
      "image/png": {
       "height": 214,
       "width": 528
      },
      "needs_background": "light"
     },
     "output_type": "display_data"
    }
   ],
   "source": [
    "def plot_dsx_against_intron_diversity_end(dsx_data, dsx_acc, title = None):\n",
    "    \n",
    "    cls = CLS_INTRON_LAST\n",
    "    x_max = 200\n",
    "    y_min = -0.005\n",
    "    y_max = 0.04\n",
    "    min_flen = 200\n",
    "\n",
    "    # compute overall mean\n",
    "    m = np.mean(seq_mpd[seq_cls == cls])\n",
    "    \n",
    "    # obtain variables\n",
    "    flt = (seq_cls == cls) & (seq_relpos_end < x_max)\n",
    "    if min_flen:\n",
    "        flt = flt & (seq_flen > min_flen)\n",
    "    dist = seq_relpos_end[flt]\n",
    "    values = seq_mpd[flt]\n",
    "\n",
    "    # plot\n",
    "    fig, ax = plt.subplots(figsize=(8, 3))\n",
    "    ax.axhline(m, color='k', linestyle='--')\n",
    "    sns.regplot(dist, values, x_estimator=np.mean, fit_reg=False, ax=ax, scatter_kws=dict(s=6))\n",
    "    # since there is only one section of inaccessible bases in dsx, we can vary the line colour thusly\n",
    "    ax.plot(range(200), dsx_data, lw=3)\n",
    "    ax.plot(np.array(range(200))[np.invert(dsx_acc)], dsx_data[np.invert(dsx_acc)], lw=3, c = 'red')   \n",
    "    ax.set_xlim(left=-1, right=x_max)\n",
    "    ax.set_ylim(bottom=y_min, top=y_max)\n",
    "    ax.set_xlabel('Physical distance from feature end ($bp$)', fontsize=11)\n",
    "    ax.set_ylabel(r'$\\pi$ ($bp^{-1}$)', fontsize=11)\n",
    "    #ax.invert_xaxis()\n",
    "    if title:\n",
    "        ax.set_title(title, fontsize=12, fontweight='bold')\n",
    "    plt.show()\n",
    "\n",
    "# The blue bars are mean +- 95% conf calculated across 2R. The line shows the observed values for\n",
    "# the dsx focal intron (organge = accessible, red = inaccessible, bearing in mind that inacessible\n",
    "# SNPs were not counted, so mpd is always 0 here).\n",
    "plot_dsx_against_intron_diversity_end(dsx_mpd, dsx_acc)"
   ]
  },
  {
   "cell_type": "code",
   "execution_count": 33,
   "metadata": {},
   "outputs": [],
   "source": [
    "# Get the distribution of values from introns at least 200bp long, but take only the last 100bp of those introns\n",
    "flt = ((seq_cls == CLS_INTRON_LAST) | (seq_cls == CLS_INTRON_MID) | (seq_cls == CLS_INTRON_FIRST)) & (seq_flen > 200) & (seq_relpos_end < 100)\n",
    "# If we want to look at only the \"last\" intron, use this instead\n",
    "#flt = (seq_cls == CLS_INTRON_LAST) & (seq_flen > 200) & (seq_relpos_end < 100)\n",
    "values = seq_mpd[flt]\n",
    "\n",
    "# We use the intron_group_values to separate the mpd values by the intron to which they belong\n",
    "seq_intron_group_values = seq_intron_group[flt]\n",
    "seq_relpos_end_values = seq_relpos_end[flt]\n",
    "values_grouped = pd.Series(values).groupby(seq_intron_group_values)"
   ]
  },
  {
   "cell_type": "code",
   "execution_count": 34,
   "metadata": {},
   "outputs": [
    {
     "name": "stdout",
     "output_type": "stream",
     "text": [
      "1\n"
     ]
    }
   ],
   "source": [
    "# Get the mean mpd values for every intron from which we have at least 20 accessible bases among those \n",
    "# last 100 bp. This only uses accessible bases as inaccessible bases were removed when seq_mpd was\n",
    "# calculated.\n",
    "intron_group_sizefilter = values_grouped.size() >= 20\n",
    "intron_group_mpd = values_grouped.mean()[intron_group_sizefilter]\n",
    "# Now calculate the mean mpd of the last 100 bp dsx intron, removing inaccessible positions. \n",
    "dsx_mean_mpd = np.mean(dsx_mpd[:100][dsx_acc[:100]])\n",
    "# As expected, one of the grouped means is exactly equal to the dsx mean (because dsx is one \n",
    "# of the groups):\n",
    "print(np.sum(intron_group_mpd == dsx_mean_mpd))\n",
    "# So we remove that value from the group means\n",
    "intron_group_mpd = intron_group_mpd[np.invert(intron_group_mpd == dsx_mean_mpd)]\n"
   ]
  },
  {
   "cell_type": "code",
   "execution_count": 35,
   "metadata": {},
   "outputs": [
    {
     "data": {
      "text/plain": [
       "0.011695906432748537"
      ]
     },
     "execution_count": 35,
     "metadata": {},
     "output_type": "execute_result"
    }
   ],
   "source": [
    "# What proportion of the distribution is at least as small as the dsx intron?\n",
    "np.sum(intron_group_mpd <= np.mean(dsx_mean_mpd)) / len(intron_group_mpd)"
   ]
  },
  {
   "cell_type": "code",
   "execution_count": 36,
   "metadata": {},
   "outputs": [
    {
     "data": {
      "image/png": "[encoded data removed]",
      "text/plain": [
       "<Figure size 1224x216 with 1 Axes>"
      ]
     },
     "metadata": {
      "image/png": {
       "height": 197,
       "width": 984
      },
      "needs_background": "light"
     },
     "output_type": "display_data"
    }
   ],
   "source": [
    "# About 1% of values are at least as small as what we observe in the dsx intron.\n",
    "# Where does that value plot on a histgram?\n",
    "fig, ax = plt.subplots(figsize=(17, 3))\n",
    "ax.hist(intron_group_mpd, bins = 200)\n",
    "ax.axvline(dsx_mean_mpd, color='red', lw = 2)\n",
    "plt.show()"
   ]
  },
  {
   "cell_type": "code",
   "execution_count": 37,
   "metadata": {},
   "outputs": [
    {
     "data": {
      "text/plain": [
       "MannwhitneyuResult(statistic=32.0, pvalue=0.04548679258478106)"
      ]
     },
     "execution_count": 37,
     "metadata": {},
     "output_type": "execute_result"
    }
   ],
   "source": [
    "# So while dsx in nearly in the first percentile of the distribution, I wouldn't call it an outlier. \n",
    "# Doing a test of statistical significance doesn't really makes sense, I think. I feel that the \n",
    "# question \"is this intron significantly different from the other introns\" would only make sense\n",
    "# if this intron was an outlier, which it doesn't really appear to be from the distribution above.\n",
    "# Still, just for completeness, let's see what happens when we do a Mann-Whitney U test.\n",
    "from scipy.stats import mannwhitneyu\n",
    "mannwhitneyu([dsx_mean_mpd], intron_group_mpd)\n",
    "# It's borderline significant"
   ]
  },
  {
   "cell_type": "code",
   "execution_count": 38,
   "metadata": {},
   "outputs": [],
   "source": [
    "# I have also tried running this using only the \"last\" introns for comparisons, and the results\n",
    "# are pretty much the same "
   ]
  },
  {
   "cell_type": "code",
   "execution_count": 39,
   "metadata": {},
   "outputs": [],
   "source": [
    "# OK, now we want to do this across the whole gene. How do we do this? We can't just plot diversity\n",
    "# along the whole gene because what would we compare it with?\n"
   ]
  },
  {
   "cell_type": "code",
   "execution_count": 40,
   "metadata": {},
   "outputs": [],
   "source": [
    "# Re-calculate some of the feature tables calculated inside the compute_features function, but this\n",
    "# time make them globally visible.\n",
    "\n",
    "tbl_features = (\n",
    "    get_features(chrom)\n",
    "    .convert('start', lambda v: v-1)\n",
    "    .rename('end', 'stop')\n",
    "    .unpackdict('attributes', ['Parent', 'ID'])\n",
    "    .rename('Parent', 'parent')\n",
    "    .addfield('length', lambda rec: rec.stop-rec.start, index=5)\n",
    "    .cache()\n",
    ")\n",
    "tbl_genes = tbl_features.eq('type', 'gene')    \n",
    "\n",
    "# obtain CDSs\n",
    "##############\n",
    "\n",
    "def child_first(prv, cur, nxt):\n",
    "    return (\n",
    "        (cur.strand == '+' and (prv is None or prv.parent != cur.parent))\n",
    "        or (cur.strand == '-') and (nxt is None or cur.parent != nxt.parent)\n",
    "    )\n",
    "\n",
    "def child_last(prv, cur, nxt):\n",
    "    return (\n",
    "        (cur.strand == '-' and (prv is None or prv.parent != cur.parent))\n",
    "        or (cur.strand == '+') and (nxt is None or cur.parent != nxt.parent)\n",
    "    )\n",
    "\n",
    "tbl_cdss = (\n",
    "    tbl_features\n",
    "    .eq('type', 'CDS')\n",
    "    .select('parent', lambda v: v.endswith('RA'))\n",
    "    .addfieldusingcontext('first', child_first)\n",
    "    .addfieldusingcontext('last', child_last)\n",
    ")    \n",
    "\n",
    "# obtain introns\n",
    "#################\n",
    "\n",
    "def cds2intron(parent, cdss):\n",
    "    cdss = list(cdss)\n",
    "    seqid = cdss[0].seqid\n",
    "    strand = cdss[0].strand\n",
    "    type = 'intron'\n",
    "    for i in range(1, len(cdss)):\n",
    "        start = cdss[i-1].stop\n",
    "        stop = cdss[i].start\n",
    "        yield (seqid, type, start, stop, stop-start, strand, parent)\n",
    "\n",
    "tbl_introns = (\n",
    "    tbl_cdss\n",
    "    .rowgroupmap(key='parent', mapper=cds2intron, header=['seqid', 'type', 'start', 'stop', 'length', 'strand', 'parent'])\n",
    "    .addfieldusingcontext('first', child_first)\n",
    "    .addfieldusingcontext('last', child_last)\n",
    ")"
   ]
  },
  {
   "cell_type": "code",
   "execution_count": 41,
   "metadata": {},
   "outputs": [
    {
     "data": {
      "text/html": [
       "<div>\n",
       "<style scoped>\n",
       "    .dataframe tbody tr th:only-of-type {\n",
       "        vertical-align: middle;\n",
       "    }\n",
       "\n",
       "    .dataframe tbody tr th {\n",
       "        vertical-align: top;\n",
       "    }\n",
       "\n",
       "    .dataframe thead th {\n",
       "        text-align: right;\n",
       "    }\n",
       "</style>\n",
       "<table border=\"1\" class=\"dataframe\">\n",
       "  <thead>\n",
       "    <tr style=\"text-align: right;\">\n",
       "      <th></th>\n",
       "      <th>0</th>\n",
       "      <th>1</th>\n",
       "      <th>2</th>\n",
       "      <th>3</th>\n",
       "      <th>4</th>\n",
       "      <th>5</th>\n",
       "      <th>6</th>\n",
       "      <th>7</th>\n",
       "      <th>8</th>\n",
       "    </tr>\n",
       "  </thead>\n",
       "  <tbody>\n",
       "    <tr>\n",
       "      <th>0</th>\n",
       "      <td>seqid</td>\n",
       "      <td>type</td>\n",
       "      <td>start</td>\n",
       "      <td>stop</td>\n",
       "      <td>length</td>\n",
       "      <td>strand</td>\n",
       "      <td>parent</td>\n",
       "      <td>first</td>\n",
       "      <td>last</td>\n",
       "    </tr>\n",
       "    <tr>\n",
       "      <th>1</th>\n",
       "      <td>2R</td>\n",
       "      <td>intron</td>\n",
       "      <td>48714648</td>\n",
       "      <td>48715160</td>\n",
       "      <td>512</td>\n",
       "      <td>-</td>\n",
       "      <td>AGAP004050-RA</td>\n",
       "      <td>False</td>\n",
       "      <td>True</td>\n",
       "    </tr>\n",
       "    <tr>\n",
       "      <th>2</th>\n",
       "      <td>2R</td>\n",
       "      <td>intron</td>\n",
       "      <td>48715295</td>\n",
       "      <td>48747692</td>\n",
       "      <td>32397</td>\n",
       "      <td>-</td>\n",
       "      <td>AGAP004050-RA</td>\n",
       "      <td>False</td>\n",
       "      <td>False</td>\n",
       "    </tr>\n",
       "    <tr>\n",
       "      <th>3</th>\n",
       "      <td>2R</td>\n",
       "      <td>intron</td>\n",
       "      <td>48747737</td>\n",
       "      <td>48784184</td>\n",
       "      <td>36447</td>\n",
       "      <td>-</td>\n",
       "      <td>AGAP004050-RA</td>\n",
       "      <td>True</td>\n",
       "      <td>False</td>\n",
       "    </tr>\n",
       "  </tbody>\n",
       "</table>\n",
       "</div>"
      ],
      "text/plain": [
       "       0       1         2         3       4       5              6      7  \\\n",
       "0  seqid    type     start      stop  length  strand         parent  first   \n",
       "1     2R  intron  48714648  48715160     512       -  AGAP004050-RA  False   \n",
       "2     2R  intron  48715295  48747692   32397       -  AGAP004050-RA  False   \n",
       "3     2R  intron  48747737  48784184   36447       -  AGAP004050-RA   True   \n",
       "\n",
       "       8  \n",
       "0   last  \n",
       "1   True  \n",
       "2  False  \n",
       "3  False  "
      ]
     },
     "execution_count": 41,
     "metadata": {},
     "output_type": "execute_result"
    }
   ],
   "source": [
    "pd.DataFrame(np.array(etl.search(tbl_introns, 'AGAP004050')))"
   ]
  },
  {
   "cell_type": "code",
   "execution_count": 42,
   "metadata": {},
   "outputs": [
    {
     "data": {
      "text/html": [
       "<div>\n",
       "<style scoped>\n",
       "    .dataframe tbody tr th:only-of-type {\n",
       "        vertical-align: middle;\n",
       "    }\n",
       "\n",
       "    .dataframe tbody tr th {\n",
       "        vertical-align: top;\n",
       "    }\n",
       "\n",
       "    .dataframe thead th {\n",
       "        text-align: right;\n",
       "    }\n",
       "</style>\n",
       "<table border=\"1\" class=\"dataframe\">\n",
       "  <thead>\n",
       "    <tr style=\"text-align: right;\">\n",
       "      <th></th>\n",
       "      <th>0</th>\n",
       "      <th>1</th>\n",
       "      <th>2</th>\n",
       "      <th>3</th>\n",
       "      <th>4</th>\n",
       "      <th>5</th>\n",
       "      <th>6</th>\n",
       "      <th>7</th>\n",
       "      <th>8</th>\n",
       "      <th>9</th>\n",
       "      <th>10</th>\n",
       "    </tr>\n",
       "  </thead>\n",
       "  <tbody>\n",
       "    <tr>\n",
       "      <th>0</th>\n",
       "      <td>seqid</td>\n",
       "      <td>source</td>\n",
       "      <td>type</td>\n",
       "      <td>start</td>\n",
       "      <td>stop</td>\n",
       "      <td>length</td>\n",
       "      <td>score</td>\n",
       "      <td>strand</td>\n",
       "      <td>phase</td>\n",
       "      <td>parent</td>\n",
       "      <td>ID</td>\n",
       "    </tr>\n",
       "    <tr>\n",
       "      <th>1</th>\n",
       "      <td>2R</td>\n",
       "      <td>VectorBase</td>\n",
       "      <td>CDS</td>\n",
       "      <td>48711598</td>\n",
       "      <td>48712794</td>\n",
       "      <td>1196</td>\n",
       "      <td>.</td>\n",
       "      <td>-</td>\n",
       "      <td>2</td>\n",
       "      <td>AGAP004050-RB</td>\n",
       "      <td>AGAP004050-PB</td>\n",
       "    </tr>\n",
       "    <tr>\n",
       "      <th>2</th>\n",
       "      <td>2R</td>\n",
       "      <td>VectorBase</td>\n",
       "      <td>CDS</td>\n",
       "      <td>48714556</td>\n",
       "      <td>48714648</td>\n",
       "      <td>92</td>\n",
       "      <td>.</td>\n",
       "      <td>-</td>\n",
       "      <td>2</td>\n",
       "      <td>AGAP004050-RA</td>\n",
       "      <td>AGAP004050-PA</td>\n",
       "    </tr>\n",
       "    <tr>\n",
       "      <th>3</th>\n",
       "      <td>2R</td>\n",
       "      <td>VectorBase</td>\n",
       "      <td>CDS</td>\n",
       "      <td>48715160</td>\n",
       "      <td>48715295</td>\n",
       "      <td>135</td>\n",
       "      <td>.</td>\n",
       "      <td>-</td>\n",
       "      <td>2</td>\n",
       "      <td>AGAP004050-RA</td>\n",
       "      <td>AGAP004050-PA</td>\n",
       "    </tr>\n",
       "    <tr>\n",
       "      <th>4</th>\n",
       "      <td>2R</td>\n",
       "      <td>VectorBase</td>\n",
       "      <td>CDS</td>\n",
       "      <td>48715160</td>\n",
       "      <td>48715295</td>\n",
       "      <td>135</td>\n",
       "      <td>.</td>\n",
       "      <td>-</td>\n",
       "      <td>2</td>\n",
       "      <td>AGAP004050-RB</td>\n",
       "      <td>AGAP004050-PB</td>\n",
       "    </tr>\n",
       "    <tr>\n",
       "      <th>5</th>\n",
       "      <td>2R</td>\n",
       "      <td>VectorBase</td>\n",
       "      <td>CDS</td>\n",
       "      <td>48747692</td>\n",
       "      <td>48747737</td>\n",
       "      <td>45</td>\n",
       "      <td>.</td>\n",
       "      <td>-</td>\n",
       "      <td>2</td>\n",
       "      <td>AGAP004050-RA</td>\n",
       "      <td>AGAP004050-PA</td>\n",
       "    </tr>\n",
       "    <tr>\n",
       "      <th>6</th>\n",
       "      <td>2R</td>\n",
       "      <td>VectorBase</td>\n",
       "      <td>CDS</td>\n",
       "      <td>48747692</td>\n",
       "      <td>48747737</td>\n",
       "      <td>45</td>\n",
       "      <td>.</td>\n",
       "      <td>-</td>\n",
       "      <td>2</td>\n",
       "      <td>AGAP004050-RB</td>\n",
       "      <td>AGAP004050-PB</td>\n",
       "    </tr>\n",
       "    <tr>\n",
       "      <th>7</th>\n",
       "      <td>2R</td>\n",
       "      <td>VectorBase</td>\n",
       "      <td>CDS</td>\n",
       "      <td>48784184</td>\n",
       "      <td>48784710</td>\n",
       "      <td>526</td>\n",
       "      <td>.</td>\n",
       "      <td>-</td>\n",
       "      <td>0</td>\n",
       "      <td>AGAP004050-RA</td>\n",
       "      <td>AGAP004050-PA</td>\n",
       "    </tr>\n",
       "    <tr>\n",
       "      <th>8</th>\n",
       "      <td>2R</td>\n",
       "      <td>VectorBase</td>\n",
       "      <td>CDS</td>\n",
       "      <td>48784184</td>\n",
       "      <td>48784710</td>\n",
       "      <td>526</td>\n",
       "      <td>.</td>\n",
       "      <td>-</td>\n",
       "      <td>0</td>\n",
       "      <td>AGAP004050-RB</td>\n",
       "      <td>AGAP004050-PB</td>\n",
       "    </tr>\n",
       "  </tbody>\n",
       "</table>\n",
       "</div>"
      ],
      "text/plain": [
       "      0           1     2         3         4       5      6       7      8   \\\n",
       "0  seqid      source  type     start      stop  length  score  strand  phase   \n",
       "1     2R  VectorBase   CDS  48711598  48712794    1196      .       -      2   \n",
       "2     2R  VectorBase   CDS  48714556  48714648      92      .       -      2   \n",
       "3     2R  VectorBase   CDS  48715160  48715295     135      .       -      2   \n",
       "4     2R  VectorBase   CDS  48715160  48715295     135      .       -      2   \n",
       "5     2R  VectorBase   CDS  48747692  48747737      45      .       -      2   \n",
       "6     2R  VectorBase   CDS  48747692  48747737      45      .       -      2   \n",
       "7     2R  VectorBase   CDS  48784184  48784710     526      .       -      0   \n",
       "8     2R  VectorBase   CDS  48784184  48784710     526      .       -      0   \n",
       "\n",
       "              9              10  \n",
       "0         parent             ID  \n",
       "1  AGAP004050-RB  AGAP004050-PB  \n",
       "2  AGAP004050-RA  AGAP004050-PA  \n",
       "3  AGAP004050-RA  AGAP004050-PA  \n",
       "4  AGAP004050-RB  AGAP004050-PB  \n",
       "5  AGAP004050-RA  AGAP004050-PA  \n",
       "6  AGAP004050-RB  AGAP004050-PB  \n",
       "7  AGAP004050-RA  AGAP004050-PA  \n",
       "8  AGAP004050-RB  AGAP004050-PB  "
      ]
     },
     "execution_count": 42,
     "metadata": {},
     "output_type": "execute_result"
    }
   ],
   "source": [
    "pd.DataFrame(np.array(etl.search(tbl_features, 'AGAP004050').eq('type', 'CDS')))"
   ]
  },
  {
   "cell_type": "code",
   "execution_count": 43,
   "metadata": {},
   "outputs": [],
   "source": [
    "# Some all of the introns are long, but some of the exons are short (45 or 135 bp)\n",
    "\n",
    "# The start and end of the dsx gene are at 48703663 and 48788460 (although panoptes says it goes \n",
    "# to 48792262)"
   ]
  },
  {
   "cell_type": "code",
   "execution_count": 44,
   "metadata": {},
   "outputs": [
    {
     "data": {
      "image/png": "[encoded data removed]",
      "text/plain": [
       "<Figure size 576x216 with 1 Axes>"
      ]
     },
     "metadata": {
      "image/png": {
       "height": 197,
       "width": 498
      },
      "needs_background": "light"
     },
     "output_type": "display_data"
    }
   ],
   "source": [
    "# OK, first off, how does mean mpd correlate with intron length?\n",
    "# Get the positions of interest \n",
    "intron_positions = (seq_cls == CLS_INTRON_LAST) | (seq_cls == CLS_INTRON_MID) | (seq_cls == CLS_INTRON_FIRST)\n",
    "# If we want to look at only the \"last\" intron, use this instead\n",
    "#flt = seq_cls == CLS_INTRON_LAST\n",
    "intron_values = seq_mpd[intron_positions]\n",
    "\n",
    "# We separate the mpd values by the intron to which they belong\n",
    "seq_intron_group_values_2 = seq_intron_group[intron_positions]\n",
    "intron_values_grouped = pd.Series(intron_values).groupby(seq_intron_group_values_2)\n",
    "\n",
    "intron_group_sizes = intron_values_grouped.size()\n",
    "intron_group_mpd_2 = intron_values_grouped.mean()\n",
    "\n",
    "fig, ax = plt.subplots(figsize=(8, 3))\n",
    "sns.regplot(intron_group_sizes, intron_group_mpd_2, ax=ax, scatter_kws=dict(s=6))\n",
    "plt.show()"
   ]
  },
  {
   "cell_type": "code",
   "execution_count": 45,
   "metadata": {},
   "outputs": [
    {
     "data": {
      "text/plain": [
       "<matplotlib.axes._subplots.AxesSubplot at 0x7f3a6330e518>"
      ]
     },
     "execution_count": 45,
     "metadata": {},
     "output_type": "execute_result"
    },
    {
     "data": {
      "image/png": "[encoded data removed]",
      "text/plain": [
       "<Figure size 432x288 with 1 Axes>"
      ]
     },
     "metadata": {
      "image/png": {
       "height": 284,
       "width": 395
      },
      "needs_background": "light"
     },
     "output_type": "display_data"
    }
   ],
   "source": [
    "# Let's make some bins for a clearer plot\n",
    "intron_size_bins = ((intron_group_sizes > 20).astype(int) +\n",
    "    (intron_group_sizes > 50).astype(int) +\n",
    "    (intron_group_sizes > 100).astype(int) +\n",
    "    (intron_group_sizes > 200).astype(int) +\n",
    "    (intron_group_sizes > 500).astype(int) +\n",
    "    (intron_group_sizes > 1000).astype(int) +\n",
    "    (intron_group_sizes > 10000).astype(int))\n",
    "intron_mpd_by_size = intron_group_mpd_2.groupby(intron_size_bins)\n",
    "\n",
    "pd.DataFrame({'size': intron_size_bins, 'mpd': intron_group_mpd_2}).boxplot(column = 'mpd', by = 'size')"
   ]
  },
  {
   "cell_type": "code",
   "execution_count": 46,
   "metadata": {},
   "outputs": [
    {
     "data": {
      "image/png": "[encoded data removed]",
      "text/plain": [
       "<Figure size 576x216 with 1 Axes>"
      ]
     },
     "metadata": {
      "image/png": {
       "height": 197,
       "width": 502
      },
      "needs_background": "light"
     },
     "output_type": "display_data"
    }
   ],
   "source": [
    "# Or we recreate Alistair's plot\n",
    "intron_positions_1000 = ((seq_cls == CLS_INTRON_LAST) | (seq_cls == CLS_INTRON_MID) | (seq_cls == CLS_INTRON_FIRST)) & (seq_flen < 1000)\n",
    "intron_values_1000 = seq_mpd[intron_positions_1000]\n",
    "intron_sizes_1000 = seq_flen[intron_positions_1000]\n",
    "fig, ax = plt.subplots(figsize=(8, 3))\n",
    "sns.regplot(intron_sizes_1000, intron_values_1000, x_bins = 50, fit_reg = False, ax=ax, scatter_kws=dict(s=6))\n",
    "plt.show()\n",
    "\n"
   ]
  },
  {
   "cell_type": "code",
   "execution_count": 47,
   "metadata": {},
   "outputs": [],
   "source": [
    "# For introns, we are probably happy with taking a size cut-off of 300, since the smallest intron in dsx\n",
    "# is 500bp. Let's look at the distribution of mean mpd for all introns of this size and see where the \n",
    "# three dsx introns fit in\n",
    "# First, get the mean mpd in each of the three introns of dsx\n",
    "dsx_intron_start_pos = etl.columns(etl.search(tbl_introns, 'AGAP004050'))['start']\n",
    "dsx_intron_end_pos = etl.columns(etl.search(tbl_introns, 'AGAP004050'))['stop']"
   ]
  },
  {
   "cell_type": "code",
   "execution_count": 48,
   "metadata": {},
   "outputs": [
    {
     "data": {
      "text/plain": [
       "[0.013858225287477318, 0.009612671289504686, 0.009655191480884001]"
      ]
     },
     "execution_count": 48,
     "metadata": {},
     "output_type": "execute_result"
    }
   ],
   "source": [
    "# Get the accessibility and mpd for each intron as a list\n",
    "dsx_intron_ranges = [range(dsx_intron_start_pos[i], dsx_intron_end_pos[i]) for i in range(len(dsx_intron_start_pos))]\n",
    "dsx_intron_acc = [accessibility[chrom]['is_accessible'][dsx_intron_ranges[i]] for i in range(len(dsx_intron_ranges))]\n",
    "dsx_intron_mpd = [seq_mpd_nofilter[dsx_intron_ranges[i]] for i in range(len(dsx_intron_ranges))]\n",
    "# Now get the mean of accessible mpds\n",
    "dsx_intron_mean_mpd = [np.mean(dsx_intron_mpd[i][dsx_intron_acc[i]]) for i in range(len(dsx_intron_ranges))]\n",
    "dsx_intron_mean_mpd"
   ]
  },
  {
   "cell_type": "code",
   "execution_count": 49,
   "metadata": {},
   "outputs": [
    {
     "data": {
      "image/png": "[encoded data removed]",
      "text/plain": [
       "<Figure size 1224x216 with 1 Axes>"
      ]
     },
     "metadata": {
      "image/png": {
       "height": 197,
       "width": 984
      },
      "needs_background": "light"
     },
     "output_type": "display_data"
    }
   ],
   "source": [
    "# Now plot the histogram of all mean mpds and show where the 3 dsx introns lie\n",
    "intron_positions_300min = ((seq_cls == CLS_INTRON_LAST) | (seq_cls == CLS_INTRON_MID) | (seq_cls == CLS_INTRON_FIRST)) & (seq_flen > 300)\n",
    "intron_values_300min = seq_mpd[intron_positions_300min]\n",
    "seq_intron_group_values_300min = seq_intron_group[intron_positions_300min]\n",
    "intron_values_grouped_300min = pd.Series(intron_values_300min).groupby(seq_intron_group_values_300min)\n",
    "intron_group_sizefilter_300min = intron_values_grouped_300min.size() >= 20\n",
    "intron_group_mpd_300min = intron_values_grouped_300min.mean()[intron_group_sizefilter_300min]\n",
    "fig, ax = plt.subplots(figsize=(17, 3))\n",
    "ax.hist(intron_group_mpd_300min, bins = 300)\n",
    "ax.axvline(dsx_intron_mean_mpd[0], color='red', lw = 2)\n",
    "ax.axvline(dsx_intron_mean_mpd[1], color='green', lw = 2)\n",
    "ax.axvline(dsx_intron_mean_mpd[2], color='orange', lw = 2)\n",
    "plt.show()\n"
   ]
  },
  {
   "cell_type": "code",
   "execution_count": 50,
   "metadata": {},
   "outputs": [
    {
     "name": "stdout",
     "output_type": "stream",
     "text": [
      "1\n",
      "0\n",
      "1\n"
     ]
    }
   ],
   "source": [
    "# Let's confirm that each of those introns is indeed present in the distribution\n",
    "print(np.sum(np.round(intron_group_mpd_300min, 10) == np.round(dsx_intron_mean_mpd[0], 10)))\n",
    "print(np.sum(np.round(intron_group_mpd_300min, 10) == np.round(dsx_intron_mean_mpd[1], 10)))\n",
    "print(np.sum(np.round(intron_group_mpd_300min, 10) == np.round(dsx_intron_mean_mpd[2], 10)))"
   ]
  },
  {
   "cell_type": "code",
   "execution_count": 51,
   "metadata": {},
   "outputs": [
    {
     "name": "stdout",
     "output_type": "stream",
     "text": [
      "0.009612671289504686\n",
      "0.009578572730486882\n"
     ]
    }
   ],
   "source": [
    "# The calculated value for the second intron is not found in our distribution of all introns. I happen\n",
    "# to know that the group number for this intron in the distribution is 8247. We can see that the values\n",
    "# are not the same. \n",
    "print(dsx_intron_mean_mpd[1])\n",
    "print(np.mean(intron_values_grouped_300min.get_group(8247)))\n",
    "# The reason for this is that this intron contains an entire gene on the other strand. Given the way that\n",
    "# introns and CDS regions are determined, the CDS of the other gene still gets coded as intronic region \n",
    "# 8247 (which we may want to deal with at some point). However, the intronic regions of the other strand\n",
    "# overwrite the intronic region of dsx, and thus are given a new group number. This is what gets used to \n",
    "# calculate the value in the distribution. On the other hand, our targeted calculation of the dsx intron\n",
    "# just uses the positions between the start and end points of the intron, so those regions that are also \n",
    "# introns in the other gene also get counted. The difference in value is not huge, so let's leave it for \n",
    "# now and maybe we'll come back to it later. "
   ]
  },
  {
   "cell_type": "code",
   "execution_count": 52,
   "metadata": {},
   "outputs": [
    {
     "data": {
      "image/png": "[encoded data removed]",
      "text/plain": [
       "<Figure size 576x216 with 1 Axes>"
      ]
     },
     "metadata": {
      "image/png": {
       "height": 197,
       "width": 490
      },
      "needs_background": "light"
     },
     "output_type": "display_data"
    },
    {
     "data": {
      "image/png": "[encoded data removed]",
      "text/plain": [
       "<Figure size 432x288 with 1 Axes>"
      ]
     },
     "metadata": {
      "image/png": {
       "height": 284,
       "width": 390
      },
      "needs_background": "light"
     },
     "output_type": "display_data"
    },
    {
     "data": {
      "image/png": "[encoded data removed]",
      "text/plain": [
       "<Figure size 576x216 with 1 Axes>"
      ]
     },
     "metadata": {
      "image/png": {
       "height": 197,
       "width": 496
      },
      "needs_background": "light"
     },
     "output_type": "display_data"
    }
   ],
   "source": [
    "# Now let's do the same for exons\n",
    "exon_positions = (seq_cls == CLS_EXON_LAST) | (seq_cls == CLS_EXON_MID) | (seq_cls == CLS_EXON_FIRST)\n",
    "exon_values = seq_mpd[exon_positions]\n",
    "\n",
    "# We separate the mpd values by the intron to which they belong\n",
    "seq_exon_group_values = seq_exon_group[exon_positions]\n",
    "exon_values_grouped = pd.Series(exon_values).groupby(seq_exon_group_values)\n",
    "\n",
    "exon_group_sizes = exon_values_grouped.size()\n",
    "exon_group_mpd = exon_values_grouped.mean()\n",
    "\n",
    "fig, ax = plt.subplots(figsize=(8, 3))\n",
    "sns.regplot(exon_group_sizes, exon_group_mpd, ax=ax, scatter_kws=dict(s=6))\n",
    "plt.show()\n",
    "\n",
    "exon_size_bins = ((exon_group_sizes > 20).astype(int) +\n",
    "    (exon_group_sizes > 50).astype(int) +\n",
    "    (exon_group_sizes > 100).astype(int) +\n",
    "    (exon_group_sizes > 200).astype(int) +\n",
    "    (exon_group_sizes > 500).astype(int) +\n",
    "    (exon_group_sizes > 1000).astype(int) +\n",
    "    (exon_group_sizes > 10000).astype(int))\n",
    "exon_mpd_by_size = exon_group_mpd.groupby(exon_size_bins)\n",
    "\n",
    "pd.DataFrame({'size': exon_size_bins, 'mpd': exon_group_mpd}).boxplot(column = 'mpd', by = 'size')\n",
    "\n",
    "exon_positions_2000 = ((seq_cls == CLS_EXON_LAST) | (seq_cls == CLS_EXON_MID) | (seq_cls == CLS_EXON_FIRST)) & (seq_flen < 2000)\n",
    "exon_values_2000 = seq_mpd[exon_positions_2000]\n",
    "exon_sizes_2000 = seq_flen[exon_positions_2000]\n",
    "fig, ax = plt.subplots(figsize=(8, 3))\n",
    "sns.regplot(exon_sizes_2000, exon_values_2000, x_bins = 50, fit_reg = False, ax=ax, scatter_kws=dict(s=6))\n",
    "plt.show()"
   ]
  },
  {
   "cell_type": "code",
   "execution_count": 53,
   "metadata": {},
   "outputs": [
    {
     "data": {
      "text/html": [
       "<div>\n",
       "<style scoped>\n",
       "    .dataframe tbody tr th:only-of-type {\n",
       "        vertical-align: middle;\n",
       "    }\n",
       "\n",
       "    .dataframe tbody tr th {\n",
       "        vertical-align: top;\n",
       "    }\n",
       "\n",
       "    .dataframe thead th {\n",
       "        text-align: right;\n",
       "    }\n",
       "</style>\n",
       "<table border=\"1\" class=\"dataframe\">\n",
       "  <thead>\n",
       "    <tr style=\"text-align: right;\">\n",
       "      <th></th>\n",
       "      <th>0</th>\n",
       "      <th>1</th>\n",
       "      <th>2</th>\n",
       "      <th>3</th>\n",
       "      <th>4</th>\n",
       "      <th>5</th>\n",
       "      <th>6</th>\n",
       "      <th>7</th>\n",
       "      <th>8</th>\n",
       "      <th>9</th>\n",
       "      <th>10</th>\n",
       "      <th>11</th>\n",
       "      <th>12</th>\n",
       "    </tr>\n",
       "  </thead>\n",
       "  <tbody>\n",
       "    <tr>\n",
       "      <th>0</th>\n",
       "      <td>seqid</td>\n",
       "      <td>source</td>\n",
       "      <td>type</td>\n",
       "      <td>start</td>\n",
       "      <td>stop</td>\n",
       "      <td>length</td>\n",
       "      <td>score</td>\n",
       "      <td>strand</td>\n",
       "      <td>phase</td>\n",
       "      <td>parent</td>\n",
       "      <td>ID</td>\n",
       "      <td>first</td>\n",
       "      <td>last</td>\n",
       "    </tr>\n",
       "    <tr>\n",
       "      <th>1</th>\n",
       "      <td>2R</td>\n",
       "      <td>VectorBase</td>\n",
       "      <td>CDS</td>\n",
       "      <td>48714556</td>\n",
       "      <td>48714648</td>\n",
       "      <td>92</td>\n",
       "      <td>.</td>\n",
       "      <td>-</td>\n",
       "      <td>2</td>\n",
       "      <td>AGAP004050-RA</td>\n",
       "      <td>AGAP004050-PA</td>\n",
       "      <td>False</td>\n",
       "      <td>True</td>\n",
       "    </tr>\n",
       "    <tr>\n",
       "      <th>2</th>\n",
       "      <td>2R</td>\n",
       "      <td>VectorBase</td>\n",
       "      <td>CDS</td>\n",
       "      <td>48715160</td>\n",
       "      <td>48715295</td>\n",
       "      <td>135</td>\n",
       "      <td>.</td>\n",
       "      <td>-</td>\n",
       "      <td>2</td>\n",
       "      <td>AGAP004050-RA</td>\n",
       "      <td>AGAP004050-PA</td>\n",
       "      <td>True</td>\n",
       "      <td>False</td>\n",
       "    </tr>\n",
       "    <tr>\n",
       "      <th>3</th>\n",
       "      <td>2R</td>\n",
       "      <td>VectorBase</td>\n",
       "      <td>CDS</td>\n",
       "      <td>48747692</td>\n",
       "      <td>48747737</td>\n",
       "      <td>45</td>\n",
       "      <td>.</td>\n",
       "      <td>-</td>\n",
       "      <td>2</td>\n",
       "      <td>AGAP004050-RA</td>\n",
       "      <td>AGAP004050-PA</td>\n",
       "      <td>False</td>\n",
       "      <td>True</td>\n",
       "    </tr>\n",
       "    <tr>\n",
       "      <th>4</th>\n",
       "      <td>2R</td>\n",
       "      <td>VectorBase</td>\n",
       "      <td>CDS</td>\n",
       "      <td>48784184</td>\n",
       "      <td>48784710</td>\n",
       "      <td>526</td>\n",
       "      <td>.</td>\n",
       "      <td>-</td>\n",
       "      <td>0</td>\n",
       "      <td>AGAP004050-RA</td>\n",
       "      <td>AGAP004050-PA</td>\n",
       "      <td>True</td>\n",
       "      <td>False</td>\n",
       "    </tr>\n",
       "  </tbody>\n",
       "</table>\n",
       "</div>"
      ],
      "text/plain": [
       "      0           1     2         3         4       5      6       7      8   \\\n",
       "0  seqid      source  type     start      stop  length  score  strand  phase   \n",
       "1     2R  VectorBase   CDS  48714556  48714648      92      .       -      2   \n",
       "2     2R  VectorBase   CDS  48715160  48715295     135      .       -      2   \n",
       "3     2R  VectorBase   CDS  48747692  48747737      45      .       -      2   \n",
       "4     2R  VectorBase   CDS  48784184  48784710     526      .       -      0   \n",
       "\n",
       "              9              10     11     12  \n",
       "0         parent             ID  first   last  \n",
       "1  AGAP004050-RA  AGAP004050-PA  False   True  \n",
       "2  AGAP004050-RA  AGAP004050-PA   True  False  \n",
       "3  AGAP004050-RA  AGAP004050-PA  False   True  \n",
       "4  AGAP004050-RA  AGAP004050-PA   True  False  "
      ]
     },
     "execution_count": 53,
     "metadata": {},
     "output_type": "execute_result"
    }
   ],
   "source": [
    "# What is the size distribution of dsx exons? The exon detection method currently only keeps the \n",
    "# -RA transcripts\n",
    "pd.DataFrame(np.array(etl.search(tbl_cdss, 'AGAP004050')))"
   ]
  },
  {
   "cell_type": "code",
   "execution_count": 54,
   "metadata": {},
   "outputs": [
    {
     "data": {
      "image/png": "[encoded data removed]",
      "text/plain": [
       "<Figure size 576x216 with 1 Axes>"
      ]
     },
     "metadata": {
      "image/png": {
       "height": 197,
       "width": 502
      },
      "needs_background": "light"
     },
     "output_type": "display_data"
    }
   ],
   "source": [
    "# These are quite small exons, which is problematic for comparing them to the expectation, since\n",
    "# the expectation in this size range is very dependent on exon size. Let's look again at the \n",
    "# relationship with size, but zooming in to the size range of interest\n",
    "exon_positions_600 = ((seq_cls == CLS_EXON_LAST) | (seq_cls == CLS_EXON_MID) | (seq_cls == CLS_EXON_FIRST)) & (seq_flen < 600)\n",
    "exon_values_600 = seq_mpd[exon_positions_600]\n",
    "exon_sizes_600 = seq_flen[exon_positions_600]\n",
    "fig, ax = plt.subplots(figsize=(8, 3))\n",
    "sns.regplot(exon_sizes_600, exon_values_600, x_bins = 50, fit_reg = False, ax=ax, scatter_kws=dict(s=6))\n",
    "plt.show()"
   ]
  },
  {
   "cell_type": "code",
   "execution_count": 55,
   "metadata": {},
   "outputs": [
    {
     "data": {
      "text/plain": [
       "[0.000547779499996648,\n",
       " 0.0006874134851962288,\n",
       " 0.0014395171226329417,\n",
       " 0.0024150697808568333]"
      ]
     },
     "execution_count": 55,
     "metadata": {},
     "output_type": "execute_result"
    }
   ],
   "source": [
    "# Get the mean mpd in each of the four exons of dsx\n",
    "dsx_exon_start_pos = etl.columns(etl.search(tbl_cdss, 'AGAP004050'))['start']\n",
    "dsx_exon_end_pos = etl.columns(etl.search(tbl_cdss, 'AGAP004050'))['stop']\n",
    "# Get the accessibility and mpd for each exon as a list\n",
    "dsx_exon_ranges = [range(dsx_exon_start_pos[i], dsx_exon_end_pos[i]) for i in range(len(dsx_exon_start_pos))]\n",
    "dsx_exon_acc = [accessibility[chrom]['is_accessible'][dsx_exon_ranges[i]] for i in range(len(dsx_exon_ranges))]\n",
    "dsx_exon_mpd = [seq_mpd_nofilter[dsx_exon_ranges[i]] for i in range(len(dsx_exon_ranges))]\n",
    "# Now get the mean of accessible mpds\n",
    "dsx_exon_mean_mpd = [np.mean(dsx_exon_mpd[i][dsx_exon_acc[i]]) for i in range(len(dsx_exon_ranges))]\n",
    "dsx_exon_mean_mpd"
   ]
  },
  {
   "cell_type": "code",
   "execution_count": 56,
   "metadata": {},
   "outputs": [
    {
     "data": {
      "image/png": "[encoded data removed]",
      "text/plain": [
       "<Figure size 1224x216 with 1 Axes>"
      ]
     },
     "metadata": {
      "image/png": {
       "height": 197,
       "width": 990
      },
      "needs_background": "light"
     },
     "output_type": "display_data"
    }
   ],
   "source": [
    "# Let's use exons smaller than 100 for the two smallest exons\n",
    "exon_positions_100max = ((seq_cls == CLS_EXON_LAST) | (seq_cls == CLS_EXON_MID) | (seq_cls == CLS_EXON_FIRST)) & (seq_flen < 100)\n",
    "exon_values_100max = seq_mpd[exon_positions_100max]\n",
    "seq_exon_group_values_100max = seq_exon_group[exon_positions_100max]\n",
    "exon_values_grouped_100max = pd.Series(exon_values_100max).groupby(seq_exon_group_values_100max)\n",
    "exon_group_sizefilter_100max = exon_values_grouped_100max.size() >= 20\n",
    "exon_group_mpd_100max = exon_values_grouped_100max.mean()[exon_group_sizefilter_100max]\n",
    "fig, ax = plt.subplots(figsize=(17, 3))\n",
    "ax.hist(exon_group_mpd_100max, bins = 300)\n",
    "ax.axvline(dsx_exon_mean_mpd[0], color='red', lw = 2)\n",
    "ax.axvline(dsx_exon_mean_mpd[2], color='orange', lw = 2)\n",
    "plt.show()\n",
    "\n"
   ]
  },
  {
   "cell_type": "code",
   "execution_count": 57,
   "metadata": {},
   "outputs": [
    {
     "name": "stdout",
     "output_type": "stream",
     "text": [
      "0.11955366631243358\n",
      "0.24601487778958556\n"
     ]
    }
   ],
   "source": [
    "# What proportion of the distribution is at least as small as each of those exons?\n",
    "print(np.sum(exon_group_mpd_100max <= np.mean(dsx_exon_mean_mpd[0])) / len(exon_group_mpd_100max))\n",
    "print(np.sum(exon_group_mpd_100max <= np.mean(dsx_exon_mean_mpd[2])) / len(exon_group_mpd_100max))\n",
    "# It's 12% and 25%"
   ]
  },
  {
   "cell_type": "code",
   "execution_count": 58,
   "metadata": {},
   "outputs": [
    {
     "data": {
      "image/png": "[encoded data removed]",
      "text/plain": [
       "<Figure size 1224x216 with 1 Axes>"
      ]
     },
     "metadata": {
      "image/png": {
       "height": 197,
       "width": 984
      },
      "needs_background": "light"
     },
     "output_type": "display_data"
    }
   ],
   "source": [
    "# For the 135bp-long exon, we use the 100-200 size range\n",
    "# Let's use exons smaller than 100 for the two smallest exons\n",
    "exon_positions_100_200 = ((seq_cls == CLS_EXON_LAST) | (seq_cls == CLS_EXON_MID) | (seq_cls == CLS_EXON_FIRST)) & (seq_flen > 100) & (seq_flen < 200)\n",
    "exon_values_100_200 = seq_mpd[exon_positions_100_200]\n",
    "seq_exon_group_values_100_200 = seq_exon_group[exon_positions_100_200]\n",
    "exon_values_grouped_100_200 = pd.Series(exon_values_100_200).groupby(seq_exon_group_values_100_200)\n",
    "exon_group_sizefilter_100_200 = exon_values_grouped_100_200.size() >= 20\n",
    "exon_group_mpd_100_200 = exon_values_grouped_100_200.mean()[exon_group_sizefilter_100_200]\n",
    "fig, ax = plt.subplots(figsize=(17, 3))\n",
    "ax.hist(exon_group_mpd_100_200, bins = 300)\n",
    "ax.axvline(dsx_exon_mean_mpd[1], color='green', lw = 2)\n",
    "plt.show()\n"
   ]
  },
  {
   "cell_type": "code",
   "execution_count": 59,
   "metadata": {},
   "outputs": [
    {
     "data": {
      "text/plain": [
       "0.05838135805562516"
      ]
     },
     "execution_count": 59,
     "metadata": {},
     "output_type": "execute_result"
    }
   ],
   "source": [
    "# What proportion of the distribution is at least as small as the red vertical bar?\n",
    "np.sum(exon_group_mpd_100_200 <= np.mean(dsx_exon_mean_mpd[1])) / len(exon_group_mpd_100_200)\n",
    "# It's 6%"
   ]
  },
  {
   "cell_type": "code",
   "execution_count": 60,
   "metadata": {},
   "outputs": [
    {
     "data": {
      "image/png": "[encoded data removed]",
      "text/plain": [
       "<Figure size 1224x216 with 1 Axes>"
      ]
     },
     "metadata": {
      "image/png": {
       "height": 197,
       "width": 984
      },
      "needs_background": "light"
     },
     "output_type": "display_data"
    }
   ],
   "source": [
    "# For the longest exon, we use the 500 - 600 distribution\n",
    "exon_positions_500_600 = ((seq_cls == CLS_EXON_LAST) | (seq_cls == CLS_EXON_MID) | (seq_cls == CLS_EXON_FIRST)) & (seq_flen > 500) & (seq_flen < 600)\n",
    "exon_values_500_600 = seq_mpd[exon_positions_500_600]\n",
    "seq_exon_group_values_500_600 = seq_exon_group[exon_positions_500_600]\n",
    "exon_values_grouped_500_600 = pd.Series(exon_values_500_600).groupby(seq_exon_group_values_500_600)\n",
    "exon_group_sizefilter_500_600 = exon_values_grouped_500_600.size() >= 20\n",
    "exon_group_mpd_500_600 = exon_values_grouped_500_600.mean()[exon_group_sizefilter_500_600]\n",
    "fig, ax = plt.subplots(figsize=(17, 3))\n",
    "ax.hist(exon_group_mpd_500_600, bins = 300)\n",
    "ax.axvline(dsx_exon_mean_mpd[3], color='purple', lw = 2)\n",
    "plt.show()"
   ]
  },
  {
   "cell_type": "code",
   "execution_count": 61,
   "metadata": {},
   "outputs": [
    {
     "data": {
      "text/plain": [
       "0.047337278106508875"
      ]
     },
     "execution_count": 61,
     "metadata": {},
     "output_type": "execute_result"
    }
   ],
   "source": [
    "# What proportion of the distribution is at least as small as the exon?\n",
    "np.sum(exon_group_mpd_500_600 <= np.mean(dsx_exon_mean_mpd[3])) / len(exon_group_mpd_500_600)\n",
    "# It's 5%"
   ]
  },
  {
   "cell_type": "code",
   "execution_count": null,
   "metadata": {},
   "outputs": [],
   "source": []
  }
 ],
 "metadata": {
  "kernelspec": {
   "display_name": "Python 3",
   "language": "python",
   "name": "python3"
  },
  "language_info": {
   "codemirror_mode": {
    "name": "ipython",
    "version": 3
   },
   "file_extension": ".py",
   "mimetype": "text/x-python",
   "name": "python",
   "nbconvert_exporter": "python",
   "pygments_lexer": "ipython3",
   "version": "3.6.8"
  }
 },
 "nbformat": 4,
 "nbformat_minor": 1
}
