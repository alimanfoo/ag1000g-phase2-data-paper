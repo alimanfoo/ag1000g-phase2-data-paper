{
 "cells": [
  {
   "cell_type": "markdown",
   "metadata": {},
   "source": [
    "# Follow-up intron diversity"
   ]
  },
  {
   "cell_type": "markdown",
   "metadata": {},
   "source": [
    "## Setup"
   ]
  },
  {
   "cell_type": "code",
   "execution_count": 1,
   "metadata": {},
   "outputs": [],
   "source": [
    "#%run data_phase1_ar3_1.ipynb\n",
    "\n",
    "import petl as etl\n",
    "import petlx.bio\n",
    "import numpy as np\n",
    "import functools\n",
    "from logging import log"
   ]
  },
  {
   "cell_type": "code",
   "execution_count": 2,
   "metadata": {},
   "outputs": [],
   "source": [
    "CLS_UPSTREAM = 1\n",
    "CLS_5UTR = 2\n",
    "CLS_EXON_FIRST = 3\n",
    "CLS_INTRON_FIRST = 4\n",
    "CLS_EXON_MID = 5\n",
    "CLS_INTRON_LAST = 6\n",
    "CLS_EXON_LAST = 7\n",
    "CLS_3UTR = 8\n",
    "CLS_DOWNSTREAM = 9\n",
    "CLS_INTRON_MID = 10\n",
    "\n",
    "\n",
    "def compute_features(chrom):\n",
    "    log('compute features', chrom)\n",
    "\n",
    "    # extract features\n",
    "    ###################\n",
    "    \n",
    "    tbl_features = (\n",
    "        get_features(chrom)\n",
    "        .convert('start', lambda v: v-1)\n",
    "        .rename('end', 'stop')\n",
    "        .unpackdict('attributes', ['Parent', 'ID'])\n",
    "        .rename('Parent', 'parent')\n",
    "        .addfield('length', lambda rec: rec.stop-rec.start, index=5)\n",
    "        .cache()\n",
    "    )\n",
    "    \n",
    "    # obtain genes\n",
    "    ###############\n",
    "    \n",
    "    tbl_genes = tbl_features.eq('type', 'gene')    \n",
    "\n",
    "    # obtain CDSs\n",
    "    ##############\n",
    "    \n",
    "    def child_first(prv, cur, nxt):\n",
    "        return (\n",
    "            (cur.strand == '+' and (prv is None or prv.parent != cur.parent))\n",
    "            or (cur.strand == '-') and (nxt is None or cur.parent != nxt.parent)\n",
    "        )\n",
    "\n",
    "    def child_last(prv, cur, nxt):\n",
    "        return (\n",
    "            (cur.strand == '-' and (prv is None or prv.parent != cur.parent))\n",
    "            or (cur.strand == '+') and (nxt is None or cur.parent != nxt.parent)\n",
    "        )\n",
    "\n",
    "    tbl_cdss = (\n",
    "        tbl_features\n",
    "        .eq('type', 'CDS')\n",
    "        .select('parent', lambda v: v.endswith('RA'))\n",
    "        .addfieldusingcontext('first', child_first)\n",
    "        .addfieldusingcontext('last', child_last)\n",
    "    )    \n",
    "\n",
    "    # obtain introns\n",
    "    #################\n",
    "    \n",
    "    def cds2intron(parent, cdss):\n",
    "        cdss = list(cdss)\n",
    "        seqid = cdss[0].seqid\n",
    "        strand = cdss[0].strand\n",
    "        type = 'intron'\n",
    "        for i in range(1, len(cdss)):\n",
    "            start = cdss[i-1].stop\n",
    "            stop = cdss[i].start\n",
    "            yield (seqid, type, start, stop, stop-start, strand, parent)\n",
    "\n",
    "    tbl_introns = (\n",
    "        tbl_cdss\n",
    "        .rowgroupmap(key='parent', mapper=cds2intron, header=['seqid', 'type', 'start', 'stop', 'length', 'strand', 'parent'])\n",
    "        .addfieldusingcontext('first', child_first)\n",
    "        .addfieldusingcontext('last', child_last)\n",
    "    )\n",
    "    \n",
    "    # setup outputs\n",
    "    ################\n",
    "    \n",
    "    seq = np.asarray(genome[chrom])\n",
    "    seq_cls = np.zeros(seq.size, dtype='u1')\n",
    "    seq_relpos = np.zeros(seq.size, dtype='u4')\n",
    "    seq_relpos_end = np.zeros(seq.size, dtype='u4')\n",
    "    seq_flen = np.zeros(seq.size, dtype='u4')\n",
    "\n",
    "    # build the upstream and downstream classes\n",
    "    ############################################\n",
    "    \n",
    "    prv_gene = None\n",
    "    for gene in tbl_genes.records():\n",
    "\n",
    "        if prv_gene is not None and (gene.start - prv_gene.stop) > 1000:\n",
    "\n",
    "            # midpoint between previous and current genes\n",
    "            m = (prv_gene.stop + gene.start) // 2\n",
    "\n",
    "            # deal with previous gene\n",
    "            if prv_gene.strand == '+':\n",
    "                prv_cls = CLS_DOWNSTREAM\n",
    "            else:\n",
    "                prv_cls = CLS_UPSTREAM\n",
    "            seq_cls[prv_gene.stop:m] = prv_cls\n",
    "            seq_relpos[prv_gene.stop:m] = np.arange(m - prv_gene.stop)\n",
    "            seq_relpos_end[prv_gene.stop:m] = np.arange(m - prv_gene.stop)[::-1]\n",
    "            seq_flen[prv_gene.stop:m] = m - prv_gene.stop\n",
    "            \n",
    "            # deal with current gene\n",
    "            if gene.strand == '+':\n",
    "                cls = CLS_UPSTREAM\n",
    "            else:\n",
    "                cls = CLS_DOWNSTREAM\n",
    "            seq_cls[m:gene.start] = cls\n",
    "            seq_relpos[m:gene.start] = np.arange(gene.start - m)[::-1]\n",
    "            seq_relpos_end[m:gene.start] = np.arange(gene.start - m)\n",
    "            seq_flen[m:gene.start] = gene.start - m\n",
    "\n",
    "        prv_gene = gene\n",
    "\n",
    "    # build the UTR classes\n",
    "    ########################\n",
    "    \n",
    "    for f in tbl_features.records():\n",
    "\n",
    "        cls = None\n",
    "        if f['type'] == 'five_prime_UTR':\n",
    "            cls = CLS_5UTR\n",
    "        elif f['type'] == 'three_prime_UTR':\n",
    "            cls = CLS_3UTR\n",
    "\n",
    "        if cls:\n",
    "            seq_cls[f.start:f.stop] = cls\n",
    "            if f.strand == '+':\n",
    "                seq_relpos[f.start:f.stop] = np.arange(f.stop - f.start)\n",
    "                seq_relpos_end[f.start:f.stop] = np.arange(f.stop - f.start)[::-1]\n",
    "            else:\n",
    "                seq_relpos[f.start:f.stop] = np.arange(f.stop - f.start)[::-1]\n",
    "                seq_relpos_end[f.start:f.stop] = np.arange(f.stop - f.start)\n",
    "            seq_flen[f.start:f.stop] = f.stop - f.start\n",
    "\n",
    "\n",
    "    # build the exon classes\n",
    "    #########################\n",
    "    \n",
    "    for f in tbl_cdss.records():\n",
    "\n",
    "        cls = None\n",
    "        if f.first and not f.last:\n",
    "            cls = CLS_EXON_FIRST\n",
    "        elif not f.first and f.last:\n",
    "            cls = CLS_EXON_LAST\n",
    "        elif not f.first and not f.last:\n",
    "            cls = CLS_EXON_MID\n",
    "\n",
    "        if cls:\n",
    "            seq_cls[f.start:f.stop] = cls\n",
    "            if f.strand == '+':\n",
    "                seq_relpos[f.start:f.stop] = np.arange(f.stop - f.start)\n",
    "                seq_relpos_end[f.start:f.stop] = np.arange(f.stop - f.start)[::-1]\n",
    "            else:\n",
    "                seq_relpos[f.start:f.stop] = np.arange(f.stop - f.start)[::-1]\n",
    "                seq_relpos_end[f.start:f.stop] = np.arange(f.stop - f.start)\n",
    "            seq_flen[f.start:f.stop] = f.stop - f.start\n",
    "\n",
    "\n",
    "    # build the intron classes\n",
    "    ###########################\n",
    "    \n",
    "    for f in tbl_introns.records():\n",
    "\n",
    "        cls = None\n",
    "        if f.first and not f.last:\n",
    "            cls = CLS_INTRON_FIRST\n",
    "        elif not f.first and f.last:\n",
    "            cls = CLS_INTRON_LAST\n",
    "        elif not f.first and not f.last:\n",
    "            cls = CLS_INTRON_MID\n",
    "\n",
    "        if cls:\n",
    "            seq_cls[f.start:f.stop] = cls\n",
    "            if f.strand == '+':\n",
    "                seq_relpos[f.start:f.stop] = np.arange(f.stop - f.start)\n",
    "                seq_relpos_end[f.start:f.stop] = np.arange(f.stop - f.start)[::-1]\n",
    "            else:\n",
    "                seq_relpos[f.start:f.stop] = np.arange(f.stop - f.start)[::-1]\n",
    "                seq_relpos_end[f.start:f.stop] = np.arange(f.stop - f.start)\n",
    "            seq_flen[f.start:f.stop] = f.stop - f.start\n",
    "\n",
    "    return seq_cls, seq_relpos, seq_relpos_end, seq_flen\n",
    "\n",
    "\n",
    "@functools.lru_cache(maxsize=None)\n",
    "def compute_feature_diversity(chrom, pop='all'):\n",
    "    log('compute feature diversity', chrom, pop)\n",
    "    \n",
    "    seq_cls, seq_relpos, seq_relpos_end, seq_flen = compute_features(chrom)\n",
    "    \n",
    "    # compute mean pairwise difference\n",
    "    ###################################\n",
    "    \n",
    "    seq_mpd = np.zeros(seq_cls.size, dtype='f8')\n",
    "    ac = allel.AlleleCountsArray(allele_counts[chrom][pop])\n",
    "    mpd = allel.stats.mean_pairwise_difference(ac)\n",
    "    pos = callset_pass[chrom]['variants/POS'][:]\n",
    "    seq_mpd[pos-1] = mpd\n",
    "    \n",
    "    # compute watterson's theta\n",
    "    ############################\n",
    "    \n",
    "    seq_wt = np.zeros(seq_cls.size, dtype='f8')\n",
    "    is_seg = ac.is_segregating().astype('f8')\n",
    "    n = ac.sum(axis=1).max()\n",
    "    wt = is_seg / np.sum(1 / np.arange(1, n))\n",
    "    seq_wt[pos-1] = wt\n",
    "    \n",
    "    # filter for accessibility\n",
    "    ###########################\n",
    "    \n",
    "    is_accessible = accessibility[chrom]['is_accessible'][:]\n",
    "    seq_cls = seq_cls[is_accessible]\n",
    "    seq_relpos = seq_relpos[is_accessible]\n",
    "    seq_relpos_end = seq_relpos_end[is_accessible]\n",
    "    seq_flen = seq_flen[is_accessible]\n",
    "    seq_mpd = seq_mpd[is_accessible]\n",
    "    seq_wt = seq_wt[is_accessible]\n",
    "\n",
    "    # return outputs\n",
    "    return seq_cls, seq_relpos, seq_relpos_end, seq_flen, seq_mpd, seq_wt\n"
   ]
  },
  {
   "cell_type": "markdown",
   "metadata": {},
   "source": [
    "## Analysis"
   ]
  },
  {
   "cell_type": "code",
   "execution_count": 3,
   "metadata": {},
   "outputs": [],
   "source": [
    "def plot_feature_diversity(chrom, cls, x_max, y_max=0.04, title=None, min_flen=None):\n",
    "    \n",
    "    seq_cls, seq_relpos, seq_relpos_end, seq_flen, seq_mpd, seq_wt = compute_feature_diversity(chrom)\n",
    "\n",
    "    # compute overall mean\n",
    "    m = np.mean(seq_mpd[seq_cls == cls])\n",
    "    \n",
    "    # obtain variables\n",
    "    flt = (seq_cls == cls) & (seq_relpos < x_max)\n",
    "    if min_flen:\n",
    "        flt = flt & (seq_flen > min_flen)\n",
    "    dist = seq_relpos[flt]\n",
    "    values = seq_mpd[flt]\n",
    "\n",
    "    # plot\n",
    "    fig, ax = subplots(figsize=(8, 3))\n",
    "    ax.axhline(m, color='k', linestyle='--')\n",
    "    sns.regplot(dist, values, x_estimator=np.mean, fit_reg=False, ax=ax, scatter_kws=dict(s=6))\n",
    "    ax.set_xlim(left=-1, right=x_max)\n",
    "    ax.set_ylim(bottom=0, top=y_max)\n",
    "    ax.set_xlabel('Physical distance from feature start ($bp$)', fontsize=11)\n",
    "    ax.set_ylabel(r'$\\pi$ ($bp^{-1}$)', fontsize=11)\n",
    "    if title:\n",
    "        ax.set_title(title, fontsize=12, fontweight='bold')\n",
    "    plt.show()\n"
   ]
  },
  {
   "cell_type": "code",
   "execution_count": 4,
   "metadata": {},
   "outputs": [],
   "source": [
    "def plot_feature_diversity_end(chrom, cls, x_max, y_max=0.04, title=None, min_flen=None):\n",
    "    \n",
    "    seq_cls, seq_relpos, seq_relpos_end, seq_flen, seq_mpd, seq_wt = compute_feature_diversity(chrom)\n",
    "\n",
    "    # compute overall mean\n",
    "    m = np.mean(seq_mpd[seq_cls == cls])\n",
    "    \n",
    "    # obtain variables\n",
    "    flt = (seq_cls == cls) & (seq_relpos_end < x_max)\n",
    "    if min_flen:\n",
    "        flt = flt & (seq_flen > min_flen)\n",
    "    dist = seq_relpos_end[flt]\n",
    "    values = seq_mpd[flt]\n",
    "\n",
    "    # plot\n",
    "    fig, ax = subplots(figsize=(8, 3))\n",
    "    ax.axhline(m, color='k', linestyle='--')\n",
    "    sns.regplot(dist, values, x_estimator=np.mean, fit_reg=False, ax=ax, scatter_kws=dict(s=6))\n",
    "    ax.set_xlim(left=-1, right=x_max)\n",
    "    ax.set_ylim(bottom=0, top=y_max)\n",
    "    ax.set_xlabel('Physical distance from feature end ($bp$)', fontsize=11)\n",
    "    ax.set_ylabel(r'$\\pi$ ($bp^{-1}$)', fontsize=11)\n",
    "    ax.invert_xaxis()\n",
    "    if title:\n",
    "        ax.set_title(title, fontsize=12, fontweight='bold')\n",
    "    plt.show()\n"
   ]
  },
  {
   "cell_type": "code",
   "execution_count": 5,
   "metadata": {},
   "outputs": [],
   "source": [
    "def plot_all_feature_diversity(chrom, x_max=200, y_max=0.04, min_flen=None):\n",
    "    plot_feature_diversity(chrom, CLS_INTRON_FIRST, x_max=x_max, y_max=y_max, min_flen=min_flen, title=\"First intron, %s\" % chrom)\n",
    "    plot_feature_diversity(chrom, CLS_INTRON_MID, x_max=x_max, y_max=y_max, min_flen=min_flen, title=\"Mid intron, %s\" % chrom)\n",
    "    plot_feature_diversity(chrom, CLS_INTRON_LAST, x_max=x_max, y_max=y_max, min_flen=min_flen, title=\"Last intron, %s\" % chrom)\n",
    "    plot_feature_diversity(chrom, CLS_EXON_FIRST, x_max=x_max, y_max=y_max, min_flen=min_flen, title=\"First CDS, %s\" % chrom)\n",
    "    plot_feature_diversity(chrom, CLS_EXON_MID, x_max=x_max, y_max=y_max, min_flen=min_flen, title=\"Mid CDS, %s\" % chrom)\n",
    "    plot_feature_diversity(chrom, CLS_EXON_LAST, x_max=x_max, y_max=y_max, min_flen=min_flen, title=\"Last CDS, %s\" % chrom)\n",
    "    plot_feature_diversity(chrom, CLS_3UTR, x_max=x_max, y_max=y_max, min_flen=min_flen, title=\"3' UTR, %s\" % chrom)\n",
    "    plot_feature_diversity(chrom, CLS_5UTR, x_max=x_max, y_max=y_max, min_flen=min_flen, title=\"5' UTR, %s\" % chrom)\n",
    "    plot_feature_diversity(chrom, CLS_UPSTREAM, x_max=x_max, y_max=y_max, min_flen=min_flen, title=\"Upstream, %s\" % chrom)\n",
    "    plot_feature_diversity(chrom, CLS_DOWNSTREAM, x_max=x_max, y_max=y_max, min_flen=min_flen, title=\"Downstream, %s\" % chrom)\n"
   ]
  },
  {
   "cell_type": "code",
   "execution_count": 6,
   "metadata": {},
   "outputs": [],
   "source": [
    "def plot_all_feature_diversity_end(chrom, x_max=200, y_max=0.04, min_flen=None):\n",
    "    plot_feature_diversity_end(chrom, CLS_INTRON_FIRST, x_max=x_max, y_max=y_max, min_flen=min_flen, title=\"First intron, %s\" % chrom)\n",
    "    plot_feature_diversity_end(chrom, CLS_INTRON_MID, x_max=x_max, y_max=y_max, min_flen=min_flen, title=\"Mid intron, %s\" % chrom)\n",
    "    plot_feature_diversity_end(chrom, CLS_INTRON_LAST, x_max=x_max, y_max=y_max, min_flen=min_flen, title=\"Last intron, %s\" % chrom)\n",
    "    plot_feature_diversity_end(chrom, CLS_EXON_FIRST, x_max=x_max, y_max=y_max, min_flen=min_flen, title=\"First CDS, %s\" % chrom)\n",
    "    plot_feature_diversity_end(chrom, CLS_EXON_MID, x_max=x_max, y_max=y_max, min_flen=min_flen, title=\"Mid CDS, %s\" % chrom)\n",
    "    plot_feature_diversity_end(chrom, CLS_EXON_LAST, x_max=x_max, y_max=y_max, min_flen=min_flen, title=\"Last CDS, %s\" % chrom)\n",
    "    plot_feature_diversity_end(chrom, CLS_3UTR, x_max=x_max, y_max=y_max, min_flen=min_flen, title=\"3' UTR, %s\" % chrom)\n",
    "    plot_feature_diversity_end(chrom, CLS_5UTR, x_max=x_max, y_max=y_max, min_flen=min_flen, title=\"5' UTR, %s\" % chrom)\n"
   ]
  },
  {
   "cell_type": "markdown",
   "metadata": {},
   "source": [
    "### Distance from start"
   ]
  },
  {
   "cell_type": "code",
   "execution_count": 7,
   "metadata": {
    "scrolled": false
   },
   "outputs": [
    {
     "ename": "TypeError",
     "evalue": "level must be an integer",
     "output_type": "error",
     "traceback": [
      "\u001b[0;31m---------------------------------------------------------------------------\u001b[0m",
      "\u001b[0;31mTypeError\u001b[0m                                 Traceback (most recent call last)",
      "\u001b[0;32m<ipython-input-7-e05641a4ccc1>\u001b[0m in \u001b[0;36m<module>\u001b[0;34m\u001b[0m\n\u001b[0;32m----> 1\u001b[0;31m \u001b[0mplot_all_feature_diversity\u001b[0m\u001b[0;34m(\u001b[0m\u001b[0;34m'3R'\u001b[0m\u001b[0;34m)\u001b[0m\u001b[0;34m\u001b[0m\u001b[0;34m\u001b[0m\u001b[0m\n\u001b[0m",
      "\u001b[0;32m<ipython-input-5-7a98dbb52942>\u001b[0m in \u001b[0;36mplot_all_feature_diversity\u001b[0;34m(chrom, x_max, y_max, min_flen)\u001b[0m\n\u001b[1;32m      1\u001b[0m \u001b[0;32mdef\u001b[0m \u001b[0mplot_all_feature_diversity\u001b[0m\u001b[0;34m(\u001b[0m\u001b[0mchrom\u001b[0m\u001b[0;34m,\u001b[0m \u001b[0mx_max\u001b[0m\u001b[0;34m=\u001b[0m\u001b[0;36m200\u001b[0m\u001b[0;34m,\u001b[0m \u001b[0my_max\u001b[0m\u001b[0;34m=\u001b[0m\u001b[0;36m0.04\u001b[0m\u001b[0;34m,\u001b[0m \u001b[0mmin_flen\u001b[0m\u001b[0;34m=\u001b[0m\u001b[0;32mNone\u001b[0m\u001b[0;34m)\u001b[0m\u001b[0;34m:\u001b[0m\u001b[0;34m\u001b[0m\u001b[0;34m\u001b[0m\u001b[0m\n\u001b[0;32m----> 2\u001b[0;31m     \u001b[0mplot_feature_diversity\u001b[0m\u001b[0;34m(\u001b[0m\u001b[0mchrom\u001b[0m\u001b[0;34m,\u001b[0m \u001b[0mCLS_INTRON_FIRST\u001b[0m\u001b[0;34m,\u001b[0m \u001b[0mx_max\u001b[0m\u001b[0;34m=\u001b[0m\u001b[0mx_max\u001b[0m\u001b[0;34m,\u001b[0m \u001b[0my_max\u001b[0m\u001b[0;34m=\u001b[0m\u001b[0my_max\u001b[0m\u001b[0;34m,\u001b[0m \u001b[0mmin_flen\u001b[0m\u001b[0;34m=\u001b[0m\u001b[0mmin_flen\u001b[0m\u001b[0;34m,\u001b[0m \u001b[0mtitle\u001b[0m\u001b[0;34m=\u001b[0m\u001b[0;34m\"First intron, %s\"\u001b[0m \u001b[0;34m%\u001b[0m \u001b[0mchrom\u001b[0m\u001b[0;34m)\u001b[0m\u001b[0;34m\u001b[0m\u001b[0;34m\u001b[0m\u001b[0m\n\u001b[0m\u001b[1;32m      3\u001b[0m     \u001b[0mplot_feature_diversity\u001b[0m\u001b[0;34m(\u001b[0m\u001b[0mchrom\u001b[0m\u001b[0;34m,\u001b[0m \u001b[0mCLS_INTRON_MID\u001b[0m\u001b[0;34m,\u001b[0m \u001b[0mx_max\u001b[0m\u001b[0;34m=\u001b[0m\u001b[0mx_max\u001b[0m\u001b[0;34m,\u001b[0m \u001b[0my_max\u001b[0m\u001b[0;34m=\u001b[0m\u001b[0my_max\u001b[0m\u001b[0;34m,\u001b[0m \u001b[0mmin_flen\u001b[0m\u001b[0;34m=\u001b[0m\u001b[0mmin_flen\u001b[0m\u001b[0;34m,\u001b[0m \u001b[0mtitle\u001b[0m\u001b[0;34m=\u001b[0m\u001b[0;34m\"Mid intron, %s\"\u001b[0m \u001b[0;34m%\u001b[0m \u001b[0mchrom\u001b[0m\u001b[0;34m)\u001b[0m\u001b[0;34m\u001b[0m\u001b[0;34m\u001b[0m\u001b[0m\n\u001b[1;32m      4\u001b[0m     \u001b[0mplot_feature_diversity\u001b[0m\u001b[0;34m(\u001b[0m\u001b[0mchrom\u001b[0m\u001b[0;34m,\u001b[0m \u001b[0mCLS_INTRON_LAST\u001b[0m\u001b[0;34m,\u001b[0m \u001b[0mx_max\u001b[0m\u001b[0;34m=\u001b[0m\u001b[0mx_max\u001b[0m\u001b[0;34m,\u001b[0m \u001b[0my_max\u001b[0m\u001b[0;34m=\u001b[0m\u001b[0my_max\u001b[0m\u001b[0;34m,\u001b[0m \u001b[0mmin_flen\u001b[0m\u001b[0;34m=\u001b[0m\u001b[0mmin_flen\u001b[0m\u001b[0;34m,\u001b[0m \u001b[0mtitle\u001b[0m\u001b[0;34m=\u001b[0m\u001b[0;34m\"Last intron, %s\"\u001b[0m \u001b[0;34m%\u001b[0m \u001b[0mchrom\u001b[0m\u001b[0;34m)\u001b[0m\u001b[0;34m\u001b[0m\u001b[0;34m\u001b[0m\u001b[0m\n\u001b[1;32m      5\u001b[0m     \u001b[0mplot_feature_diversity\u001b[0m\u001b[0;34m(\u001b[0m\u001b[0mchrom\u001b[0m\u001b[0;34m,\u001b[0m \u001b[0mCLS_EXON_FIRST\u001b[0m\u001b[0;34m,\u001b[0m \u001b[0mx_max\u001b[0m\u001b[0;34m=\u001b[0m\u001b[0mx_max\u001b[0m\u001b[0;34m,\u001b[0m \u001b[0my_max\u001b[0m\u001b[0;34m=\u001b[0m\u001b[0my_max\u001b[0m\u001b[0;34m,\u001b[0m \u001b[0mmin_flen\u001b[0m\u001b[0;34m=\u001b[0m\u001b[0mmin_flen\u001b[0m\u001b[0;34m,\u001b[0m \u001b[0mtitle\u001b[0m\u001b[0;34m=\u001b[0m\u001b[0;34m\"First CDS, %s\"\u001b[0m \u001b[0;34m%\u001b[0m \u001b[0mchrom\u001b[0m\u001b[0;34m)\u001b[0m\u001b[0;34m\u001b[0m\u001b[0;34m\u001b[0m\u001b[0m\n",
      "\u001b[0;32m<ipython-input-3-e7606d42202a>\u001b[0m in \u001b[0;36mplot_feature_diversity\u001b[0;34m(chrom, cls, x_max, y_max, title, min_flen)\u001b[0m\n\u001b[1;32m      1\u001b[0m \u001b[0;32mdef\u001b[0m \u001b[0mplot_feature_diversity\u001b[0m\u001b[0;34m(\u001b[0m\u001b[0mchrom\u001b[0m\u001b[0;34m,\u001b[0m \u001b[0mcls\u001b[0m\u001b[0;34m,\u001b[0m \u001b[0mx_max\u001b[0m\u001b[0;34m,\u001b[0m \u001b[0my_max\u001b[0m\u001b[0;34m=\u001b[0m\u001b[0;36m0.04\u001b[0m\u001b[0;34m,\u001b[0m \u001b[0mtitle\u001b[0m\u001b[0;34m=\u001b[0m\u001b[0;32mNone\u001b[0m\u001b[0;34m,\u001b[0m \u001b[0mmin_flen\u001b[0m\u001b[0;34m=\u001b[0m\u001b[0;32mNone\u001b[0m\u001b[0;34m)\u001b[0m\u001b[0;34m:\u001b[0m\u001b[0;34m\u001b[0m\u001b[0;34m\u001b[0m\u001b[0m\n\u001b[1;32m      2\u001b[0m \u001b[0;34m\u001b[0m\u001b[0m\n\u001b[0;32m----> 3\u001b[0;31m     \u001b[0mseq_cls\u001b[0m\u001b[0;34m,\u001b[0m \u001b[0mseq_relpos\u001b[0m\u001b[0;34m,\u001b[0m \u001b[0mseq_relpos_end\u001b[0m\u001b[0;34m,\u001b[0m \u001b[0mseq_flen\u001b[0m\u001b[0;34m,\u001b[0m \u001b[0mseq_mpd\u001b[0m\u001b[0;34m,\u001b[0m \u001b[0mseq_wt\u001b[0m \u001b[0;34m=\u001b[0m \u001b[0mcompute_feature_diversity\u001b[0m\u001b[0;34m(\u001b[0m\u001b[0mchrom\u001b[0m\u001b[0;34m)\u001b[0m\u001b[0;34m\u001b[0m\u001b[0;34m\u001b[0m\u001b[0m\n\u001b[0m\u001b[1;32m      4\u001b[0m \u001b[0;34m\u001b[0m\u001b[0m\n\u001b[1;32m      5\u001b[0m     \u001b[0;31m# compute overall mean\u001b[0m\u001b[0;34m\u001b[0m\u001b[0;34m\u001b[0m\u001b[0;34m\u001b[0m\u001b[0m\n",
      "\u001b[0;32m<ipython-input-2-c015859da83d>\u001b[0m in \u001b[0;36mcompute_feature_diversity\u001b[0;34m(chrom, pop)\u001b[0m\n\u001b[1;32m    191\u001b[0m \u001b[0;34m@\u001b[0m\u001b[0mfunctools\u001b[0m\u001b[0;34m.\u001b[0m\u001b[0mlru_cache\u001b[0m\u001b[0;34m(\u001b[0m\u001b[0mmaxsize\u001b[0m\u001b[0;34m=\u001b[0m\u001b[0;32mNone\u001b[0m\u001b[0;34m)\u001b[0m\u001b[0;34m\u001b[0m\u001b[0;34m\u001b[0m\u001b[0m\n\u001b[1;32m    192\u001b[0m \u001b[0;32mdef\u001b[0m \u001b[0mcompute_feature_diversity\u001b[0m\u001b[0;34m(\u001b[0m\u001b[0mchrom\u001b[0m\u001b[0;34m,\u001b[0m \u001b[0mpop\u001b[0m\u001b[0;34m=\u001b[0m\u001b[0;34m'all'\u001b[0m\u001b[0;34m)\u001b[0m\u001b[0;34m:\u001b[0m\u001b[0;34m\u001b[0m\u001b[0;34m\u001b[0m\u001b[0m\n\u001b[0;32m--> 193\u001b[0;31m     \u001b[0mlog\u001b[0m\u001b[0;34m(\u001b[0m\u001b[0;34m'compute feature diversity'\u001b[0m\u001b[0;34m,\u001b[0m \u001b[0mchrom\u001b[0m\u001b[0;34m,\u001b[0m \u001b[0mpop\u001b[0m\u001b[0;34m)\u001b[0m\u001b[0;34m\u001b[0m\u001b[0;34m\u001b[0m\u001b[0m\n\u001b[0m\u001b[1;32m    194\u001b[0m \u001b[0;34m\u001b[0m\u001b[0m\n\u001b[1;32m    195\u001b[0m     \u001b[0mseq_cls\u001b[0m\u001b[0;34m,\u001b[0m \u001b[0mseq_relpos\u001b[0m\u001b[0;34m,\u001b[0m \u001b[0mseq_relpos_end\u001b[0m\u001b[0;34m,\u001b[0m \u001b[0mseq_flen\u001b[0m \u001b[0;34m=\u001b[0m \u001b[0mcompute_features\u001b[0m\u001b[0;34m(\u001b[0m\u001b[0mchrom\u001b[0m\u001b[0;34m)\u001b[0m\u001b[0;34m\u001b[0m\u001b[0;34m\u001b[0m\u001b[0m\n",
      "\u001b[0;32m~/Manuscripts/ag1000g-phase2-data-paper/binder/deps/conda/envs/ag1000g-phase2-data-paper/lib/python3.6/logging/__init__.py\u001b[0m in \u001b[0;36mlog\u001b[0;34m(level, msg, *args, **kwargs)\u001b[0m\n\u001b[1;32m   1920\u001b[0m     \u001b[0;32mif\u001b[0m \u001b[0mlen\u001b[0m\u001b[0;34m(\u001b[0m\u001b[0mroot\u001b[0m\u001b[0;34m.\u001b[0m\u001b[0mhandlers\u001b[0m\u001b[0;34m)\u001b[0m \u001b[0;34m==\u001b[0m \u001b[0;36m0\u001b[0m\u001b[0;34m:\u001b[0m\u001b[0;34m\u001b[0m\u001b[0;34m\u001b[0m\u001b[0m\n\u001b[1;32m   1921\u001b[0m         \u001b[0mbasicConfig\u001b[0m\u001b[0;34m(\u001b[0m\u001b[0;34m)\u001b[0m\u001b[0;34m\u001b[0m\u001b[0;34m\u001b[0m\u001b[0m\n\u001b[0;32m-> 1922\u001b[0;31m     \u001b[0mroot\u001b[0m\u001b[0;34m.\u001b[0m\u001b[0mlog\u001b[0m\u001b[0;34m(\u001b[0m\u001b[0mlevel\u001b[0m\u001b[0;34m,\u001b[0m \u001b[0mmsg\u001b[0m\u001b[0;34m,\u001b[0m \u001b[0;34m*\u001b[0m\u001b[0margs\u001b[0m\u001b[0;34m,\u001b[0m \u001b[0;34m**\u001b[0m\u001b[0mkwargs\u001b[0m\u001b[0;34m)\u001b[0m\u001b[0;34m\u001b[0m\u001b[0;34m\u001b[0m\u001b[0m\n\u001b[0m\u001b[1;32m   1923\u001b[0m \u001b[0;34m\u001b[0m\u001b[0m\n\u001b[1;32m   1924\u001b[0m \u001b[0;32mdef\u001b[0m \u001b[0mdisable\u001b[0m\u001b[0;34m(\u001b[0m\u001b[0mlevel\u001b[0m\u001b[0;34m)\u001b[0m\u001b[0;34m:\u001b[0m\u001b[0;34m\u001b[0m\u001b[0;34m\u001b[0m\u001b[0m\n",
      "\u001b[0;32m~/Manuscripts/ag1000g-phase2-data-paper/binder/deps/conda/envs/ag1000g-phase2-data-paper/lib/python3.6/logging/__init__.py\u001b[0m in \u001b[0;36mlog\u001b[0;34m(self, level, msg, *args, **kwargs)\u001b[0m\n\u001b[1;32m   1368\u001b[0m         \u001b[0;32mif\u001b[0m \u001b[0;32mnot\u001b[0m \u001b[0misinstance\u001b[0m\u001b[0;34m(\u001b[0m\u001b[0mlevel\u001b[0m\u001b[0;34m,\u001b[0m \u001b[0mint\u001b[0m\u001b[0;34m)\u001b[0m\u001b[0;34m:\u001b[0m\u001b[0;34m\u001b[0m\u001b[0;34m\u001b[0m\u001b[0m\n\u001b[1;32m   1369\u001b[0m             \u001b[0;32mif\u001b[0m \u001b[0mraiseExceptions\u001b[0m\u001b[0;34m:\u001b[0m\u001b[0;34m\u001b[0m\u001b[0;34m\u001b[0m\u001b[0m\n\u001b[0;32m-> 1370\u001b[0;31m                 \u001b[0;32mraise\u001b[0m \u001b[0mTypeError\u001b[0m\u001b[0;34m(\u001b[0m\u001b[0;34m\"level must be an integer\"\u001b[0m\u001b[0;34m)\u001b[0m\u001b[0;34m\u001b[0m\u001b[0;34m\u001b[0m\u001b[0m\n\u001b[0m\u001b[1;32m   1371\u001b[0m             \u001b[0;32melse\u001b[0m\u001b[0;34m:\u001b[0m\u001b[0;34m\u001b[0m\u001b[0;34m\u001b[0m\u001b[0m\n\u001b[1;32m   1372\u001b[0m                 \u001b[0;32mreturn\u001b[0m\u001b[0;34m\u001b[0m\u001b[0;34m\u001b[0m\u001b[0m\n",
      "\u001b[0;31mTypeError\u001b[0m: level must be an integer"
     ]
    }
   ],
   "source": [
    "plot_all_feature_diversity('3R')"
   ]
  },
  {
   "cell_type": "code",
   "execution_count": null,
   "metadata": {},
   "outputs": [],
   "source": [
    "plot_all_feature_diversity('3L')"
   ]
  },
  {
   "cell_type": "code",
   "execution_count": null,
   "metadata": {},
   "outputs": [],
   "source": [
    "plot_all_feature_diversity('2R')"
   ]
  },
  {
   "cell_type": "code",
   "execution_count": null,
   "metadata": {},
   "outputs": [],
   "source": [
    "plot_all_feature_diversity('2L')"
   ]
  },
  {
   "cell_type": "code",
   "execution_count": null,
   "metadata": {},
   "outputs": [],
   "source": [
    "plot_all_feature_diversity('X')"
   ]
  },
  {
   "cell_type": "markdown",
   "metadata": {},
   "source": [
    "### Distance from end"
   ]
  },
  {
   "cell_type": "code",
   "execution_count": null,
   "metadata": {},
   "outputs": [],
   "source": [
    "plot_all_feature_diversity_end('3R')"
   ]
  },
  {
   "cell_type": "code",
   "execution_count": null,
   "metadata": {},
   "outputs": [],
   "source": [
    "plot_all_feature_diversity_end('X')"
   ]
  },
  {
   "cell_type": "markdown",
   "metadata": {},
   "source": [
    "### Feature length"
   ]
  },
  {
   "cell_type": "code",
   "execution_count": null,
   "metadata": {},
   "outputs": [],
   "source": [
    "def plot_feature_diversity_length(chrom, cls, x_min, x_max, x_bin_width, y_max=0.04, title=None):\n",
    "    \n",
    "    seq_cls, seq_relpos, seq_relpos_end, seq_flen, seq_mpd, seq_wt = compute_feature_diversity(chrom)\n",
    "\n",
    "    # compute overall mean\n",
    "    m = np.mean(seq_mpd[seq_cls == cls])\n",
    "    \n",
    "    # obtain variables\n",
    "    flt = (seq_cls == cls) & (seq_flen < x_max) & (seq_flen > x_min)\n",
    "    dist = seq_flen[flt]\n",
    "    values = seq_mpd[flt]\n",
    "\n",
    "    # plot\n",
    "    fig = plt.figure(figsize=(8, 3))\n",
    "    ax = fig.add_subplot(111, axisbg='none')\n",
    "    sns.despine(ax=ax, offset=5)\n",
    "    ax.axhline(m, color='k', linestyle='--')\n",
    "    sns.regplot(dist, values, x_estimator=np.mean, x_bins=np.arange(x_min, x_max, x_bin_width) + (x_bin_width//2),\n",
    "                fit_reg=False, ax=ax, scatter_kws=dict(s=15, color='k'))\n",
    "    ax.set_xlim(left=-1, right=x_max)\n",
    "    ax.set_ylim(bottom=0, top=y_max)\n",
    "    ax.set_xlabel('Feature length ($bp$)', fontsize=11)\n",
    "    ax.set_ylabel(r'$\\pi$ ($bp^{-1}$)', fontsize=11)\n",
    "    if title:\n",
    "        ax.set_title(title, fontsize=12, fontweight='bold')\n",
    "    ax.set_zorder(2)\n",
    "        \n",
    "    ax = ax.twinx()\n",
    "    sns.despine(ax=ax, top=True, left=True, bottom=True, right=False, offset=5)\n",
    "    ax.hist(dist, bins=np.arange(x_min, x_max, x_bin_width), zorder=-20)\n",
    "    ax.set_ylabel('Frequency', fontsize=11)\n",
    "    ax.yaxis.set_label_position('right')\n",
    "    ax.set_xlim(left=-1, right=x_max)\n",
    "    ax.set_zorder(1)\n",
    "    plt.show()\n"
   ]
  },
  {
   "cell_type": "code",
   "execution_count": null,
   "metadata": {},
   "outputs": [],
   "source": [
    "def plot_all_feature_diversity_length(chrom, x_min=1, x_max=1000, x_bin_width=20, y_max=0.04):\n",
    "    plot_feature_diversity_length(chrom, CLS_INTRON_FIRST, x_min=x_min, x_max=x_max, x_bin_width=x_bin_width, y_max=y_max, \n",
    "                                  title=\"First intron, %s\" % chrom)\n",
    "    plot_feature_diversity_length(chrom, CLS_INTRON_MID, x_min=x_min, x_max=x_max, x_bin_width=x_bin_width, y_max=y_max, \n",
    "                                  title=\"Mid intron, %s\" % chrom)\n",
    "    plot_feature_diversity_length(chrom, CLS_INTRON_LAST, x_min=x_min, x_max=x_max, x_bin_width=x_bin_width, y_max=y_max, \n",
    "                                  title=\"Last intron, %s\" % chrom)\n",
    "    plot_feature_diversity_length(chrom, CLS_EXON_FIRST, x_min=x_min, x_max=x_max, x_bin_width=x_bin_width, y_max=y_max, \n",
    "                                  title=\"First CDS, %s\" % chrom)\n",
    "    plot_feature_diversity_length(chrom, CLS_EXON_MID, x_min=x_min, x_max=x_max, x_bin_width=x_bin_width, y_max=y_max, \n",
    "                                  title=\"Mid CDS, %s\" % chrom)\n",
    "    plot_feature_diversity_length(chrom, CLS_EXON_LAST, x_min=x_min, x_max=x_max, x_bin_width=x_bin_width, y_max=y_max, \n",
    "                                  title=\"Last CDS, %s\" % chrom)\n",
    "    plot_feature_diversity_length(chrom, CLS_3UTR, x_min=x_min, x_max=x_max, x_bin_width=x_bin_width, y_max=y_max, \n",
    "                                  title=\"3' UTR, %s\" % chrom)\n",
    "    plot_feature_diversity_length(chrom, CLS_5UTR, x_min=x_min, x_max=x_max, x_bin_width=x_bin_width, y_max=y_max, \n",
    "                                  title=\"5' UTR, %s\" % chrom)\n"
   ]
  },
  {
   "cell_type": "code",
   "execution_count": null,
   "metadata": {
    "scrolled": false
   },
   "outputs": [],
   "source": [
    "plot_all_feature_diversity_length('3R')"
   ]
  },
  {
   "cell_type": "code",
   "execution_count": null,
   "metadata": {
    "scrolled": false
   },
   "outputs": [],
   "source": [
    "plot_all_feature_diversity_length('X')"
   ]
  },
  {
   "cell_type": "code",
   "execution_count": null,
   "metadata": {},
   "outputs": [],
   "source": [
    "plot_all_feature_diversity_length('3L')"
   ]
  },
  {
   "cell_type": "code",
   "execution_count": null,
   "metadata": {},
   "outputs": [],
   "source": [
    "plot_all_feature_diversity_length('2R')"
   ]
  },
  {
   "cell_type": "code",
   "execution_count": null,
   "metadata": {},
   "outputs": [],
   "source": [
    "plot_all_feature_diversity_length('2L')"
   ]
  },
  {
   "cell_type": "markdown",
   "metadata": {},
   "source": [
    "### Distance from start/end (min feature length)"
   ]
  },
  {
   "cell_type": "code",
   "execution_count": null,
   "metadata": {
    "scrolled": false
   },
   "outputs": [],
   "source": [
    "plot_all_feature_diversity('3R', min_flen=200)"
   ]
  },
  {
   "cell_type": "code",
   "execution_count": null,
   "metadata": {
    "scrolled": false
   },
   "outputs": [],
   "source": [
    "plot_all_feature_diversity_end('3R', min_flen=200)"
   ]
  },
  {
   "cell_type": "code",
   "execution_count": null,
   "metadata": {},
   "outputs": [],
   "source": [
    "plot_all_feature_diversity('X', min_flen=200)"
   ]
  },
  {
   "cell_type": "code",
   "execution_count": null,
   "metadata": {},
   "outputs": [],
   "source": [
    "plot_all_feature_diversity_end('X', min_flen=200)"
   ]
  },
  {
   "cell_type": "markdown",
   "metadata": {},
   "source": [
    "## Sandbox"
   ]
  },
  {
   "cell_type": "code",
   "execution_count": null,
   "metadata": {},
   "outputs": [],
   "source": []
  }
 ],
 "metadata": {
  "kernelspec": {
   "display_name": "Python 3",
   "language": "python",
   "name": "python3"
  },
  "language_info": {
   "codemirror_mode": {
    "name": "ipython",
    "version": 3
   },
   "file_extension": ".py",
   "mimetype": "text/x-python",
   "name": "python",
   "nbconvert_exporter": "python",
   "pygments_lexer": "ipython3",
   "version": "3.6.8"
  }
 },
 "nbformat": 4,
 "nbformat_minor": 1
}
