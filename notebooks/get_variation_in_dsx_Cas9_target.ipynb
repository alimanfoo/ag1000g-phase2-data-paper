{
 "cells": [
  {
   "cell_type": "code",
   "execution_count": null,
   "metadata": {},
   "outputs": [],
   "source": []
  },
  {
   "cell_type": "code",
   "execution_count": 2,
   "metadata": {},
   "outputs": [
    {
     "data": {
      "text/html": [
       "<style type=\"text/css\">\n",
       ".container {\n",
       "    width: 100%;\n",
       "}\n",
       "</style>"
      ],
      "text/plain": [
       "<IPython.core.display.HTML object>"
      ]
     },
     "metadata": {},
     "output_type": "display_data"
    }
   ],
   "source": [
    "%run setup.ipynb\n"
   ]
  },
  {
   "cell_type": "code",
   "execution_count": 19,
   "metadata": {},
   "outputs": [
    {
     "data": {
      "text/plain": [
       "<module 'zarr' from '/home/eric/Manuscripts/ag1000g-phase2-data-paper/deps/conda/envs/ag1000g-phase2-data-paper/lib/python3.6/site-packages/zarr/__init__.py'>"
      ]
     },
     "execution_count": 19,
     "metadata": {},
     "output_type": "execute_result"
    }
   ],
   "source": [
    "acc = phase2_ar1.accessibility\n",
    "meta = phase2_ar1.df_samples\n",
    "bob = phase2_ar1.zarr\n",
    "bob"
   ]
  },
  {
   "cell_type": "code",
   "execution_count": 1,
   "metadata": {},
   "outputs": [],
   "source": [
    "# Load packages\n",
    "import h5py\n",
    "import allel\n",
    "import numpy as np\n",
    "import pandas as pd\n",
    "\n",
    "# Set phase2 path\n",
    "phase2_path = '/home/elucas/Liverpool/phase2.AR1/'\n",
    "\n",
    "\n"
   ]
  },
  {
   "cell_type": "code",
   "execution_count": 2,
   "metadata": {},
   "outputs": [],
   "source": [
    "# Accessibility\n",
    "acc_fn = phase2_path + 'accessibility/accessibility.h5'\n",
    "acc = h5py.File(acc_fn)['2R']['is_accessible']\n",
    "\n",
    "# Sample meta data\n",
    "meta_fn = phase2_path + 'samples/samples.meta.txt'\n",
    "meta = pd.read_csv(meta_fn, sep = '\\t')\n",
    "\n",
    "# Variation\n",
    "variant_fn = phase2_path + 'variation/main/hdf5/pass/ag1000g.phase2.ar1.pass.h5'\n",
    "variant_data = h5py.File(variant_fn)['2R']\n",
    "\n",
    "# Sample names\n",
    "sample_names = [x.decode('utf-8') for x in variant_data['samples'].value]\n",
    "\n",
    "# Start and end positions of the dsx target region\n",
    "startpos = 48714638\n",
    "endpos = 48714659"
   ]
  },
  {
   "cell_type": "code",
   "execution_count": 3,
   "metadata": {},
   "outputs": [
    {
     "name": "stdout",
     "output_type": "stream",
     "text": [
      "(1, 1142, 2)\n"
     ]
    },
    {
     "data": {
      "text/html": [
       "<div>\n",
       "<style scoped>\n",
       "    .dataframe tbody tr th:only-of-type {\n",
       "        vertical-align: middle;\n",
       "    }\n",
       "\n",
       "    .dataframe tbody tr th {\n",
       "        vertical-align: top;\n",
       "    }\n",
       "\n",
       "    .dataframe thead th {\n",
       "        text-align: right;\n",
       "    }\n",
       "</style>\n",
       "<table border=\"1\" class=\"dataframe\">\n",
       "  <thead>\n",
       "    <tr style=\"text-align: right;\">\n",
       "      <th></th>\n",
       "      <th>Counts</th>\n",
       "      <th>Freq</th>\n",
       "    </tr>\n",
       "    <tr>\n",
       "      <th>population</th>\n",
       "      <th></th>\n",
       "      <th></th>\n",
       "    </tr>\n",
       "  </thead>\n",
       "  <tbody>\n",
       "    <tr>\n",
       "      <th>AOcol</th>\n",
       "      <td>42</td>\n",
       "      <td>0.269231</td>\n",
       "    </tr>\n",
       "    <tr>\n",
       "      <th>BFcol</th>\n",
       "      <td>0</td>\n",
       "      <td>0.000000</td>\n",
       "    </tr>\n",
       "    <tr>\n",
       "      <th>BFgam</th>\n",
       "      <td>0</td>\n",
       "      <td>0.000000</td>\n",
       "    </tr>\n",
       "    <tr>\n",
       "      <th>CIcol</th>\n",
       "      <td>0</td>\n",
       "      <td>0.000000</td>\n",
       "    </tr>\n",
       "    <tr>\n",
       "      <th>CMgam</th>\n",
       "      <td>8</td>\n",
       "      <td>0.013468</td>\n",
       "    </tr>\n",
       "    <tr>\n",
       "      <th>FRgam</th>\n",
       "      <td>0</td>\n",
       "      <td>0.000000</td>\n",
       "    </tr>\n",
       "    <tr>\n",
       "      <th>GAgam</th>\n",
       "      <td>8</td>\n",
       "      <td>0.057971</td>\n",
       "    </tr>\n",
       "    <tr>\n",
       "      <th>GHcol</th>\n",
       "      <td>0</td>\n",
       "      <td>0.000000</td>\n",
       "    </tr>\n",
       "    <tr>\n",
       "      <th>GHgam</th>\n",
       "      <td>0</td>\n",
       "      <td>0.000000</td>\n",
       "    </tr>\n",
       "    <tr>\n",
       "      <th>GM</th>\n",
       "      <td>0</td>\n",
       "      <td>0.000000</td>\n",
       "    </tr>\n",
       "    <tr>\n",
       "      <th>GNcol</th>\n",
       "      <td>0</td>\n",
       "      <td>0.000000</td>\n",
       "    </tr>\n",
       "    <tr>\n",
       "      <th>GNgam</th>\n",
       "      <td>0</td>\n",
       "      <td>0.000000</td>\n",
       "    </tr>\n",
       "    <tr>\n",
       "      <th>GQgam</th>\n",
       "      <td>0</td>\n",
       "      <td>0.000000</td>\n",
       "    </tr>\n",
       "    <tr>\n",
       "      <th>GW</th>\n",
       "      <td>0</td>\n",
       "      <td>0.000000</td>\n",
       "    </tr>\n",
       "    <tr>\n",
       "      <th>KE</th>\n",
       "      <td>0</td>\n",
       "      <td>0.000000</td>\n",
       "    </tr>\n",
       "    <tr>\n",
       "      <th>UGgam</th>\n",
       "      <td>0</td>\n",
       "      <td>0.000000</td>\n",
       "    </tr>\n",
       "    <tr>\n",
       "      <th>Total</th>\n",
       "      <td>58</td>\n",
       "      <td>0.025394</td>\n",
       "    </tr>\n",
       "  </tbody>\n",
       "</table>\n",
       "</div>"
      ],
      "text/plain": [
       "            Counts      Freq\n",
       "population                  \n",
       "AOcol           42  0.269231\n",
       "BFcol            0  0.000000\n",
       "BFgam            0  0.000000\n",
       "CIcol            0  0.000000\n",
       "CMgam            8  0.013468\n",
       "FRgam            0  0.000000\n",
       "GAgam            8  0.057971\n",
       "GHcol            0  0.000000\n",
       "GHgam            0  0.000000\n",
       "GM               0  0.000000\n",
       "GNcol            0  0.000000\n",
       "GNgam            0  0.000000\n",
       "GQgam            0  0.000000\n",
       "GW               0  0.000000\n",
       "KE               0  0.000000\n",
       "UGgam            0  0.000000\n",
       "Total           58  0.025394"
      ]
     },
     "execution_count": 3,
     "metadata": {},
     "output_type": "execute_result"
    }
   ],
   "source": [
    "genotypes = variant_data['calldata']['genotype']\n",
    "pos = allel.SortedIndex(variant_data['variants']['POS'])\n",
    "loc = pos.locate_range(startpos, endpos)\n",
    "dsx_genotypes = genotypes[loc, :, :]\n",
    "# There is only one SNP in this region:\n",
    "print(dsx_genotypes.shape)\n",
    "# Collapse the two alleles into an allele count per sample, and make this a pandas series\n",
    "dsx_allele_counts = pd.DataFrame(dsx_genotypes[0,:,:]).apply(sum, axis = 1)\n",
    "# Count the number of alleles per population\n",
    "dsx_allele_counts_bypop = dsx_allele_counts.groupby(meta.population).apply(sum)\n",
    "dsx_allele_counts_bypop['Total'] = np.sum(dsx_allele_counts_bypop)\n",
    "# Get the total number of haplotypes per population\n",
    "num_hap_bypop = dsx_allele_counts.groupby(meta.population).count() * 2\n",
    "num_hap_bypop['Total'] = np.sum(num_hap_bypop)\n",
    "# Get the frequency of the mutant allele by population\n",
    "dsx_allele_freq_bypop = pd.DataFrame({'Counts' : dsx_allele_counts_bypop, 'Freq' : dsx_allele_counts_bypop / num_hap_bypop})\n",
    "dsx_allele_freq_bypop"
   ]
  }
 ],
 "metadata": {
  "kernelspec": {
   "display_name": "Python [conda env:ag1000g-phase2-data-paper]",
   "language": "python",
   "name": "conda-env-ag1000g-phase2-data-paper-py"
  },
  "language_info": {
   "codemirror_mode": {
    "name": "ipython",
    "version": 3
   },
   "file_extension": ".py",
   "mimetype": "text/x-python",
   "name": "python",
   "nbconvert_exporter": "python",
   "pygments_lexer": "ipython3",
   "version": "3.6.5"
  }
 },
 "nbformat": 4,
 "nbformat_minor": 2
}
