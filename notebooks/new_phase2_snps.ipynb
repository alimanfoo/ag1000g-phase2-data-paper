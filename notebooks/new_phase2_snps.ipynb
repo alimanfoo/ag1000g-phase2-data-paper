{
 "cells": [
  {
   "cell_type": "code",
   "execution_count": 1,
   "metadata": {},
   "outputs": [
    {
     "data": {
      "text/html": [
       "<style type=\"text/css\">\n",
       ".container {\n",
       "    width: 100%;\n",
       "}\n",
       "</style>\n"
      ],
      "text/plain": [
       "<IPython.core.display.HTML object>"
      ]
     },
     "metadata": {},
     "output_type": "display_data"
    }
   ],
   "source": [
    "%run setup.ipynb"
   ]
  },
  {
   "cell_type": "code",
   "execution_count": 2,
   "metadata": {},
   "outputs": [],
   "source": [
    "callset_pass_p1_fn = os.path.join('/home/chris/kwiat/vector/ag1000g/release/phase1.AR3/variation/main/zarr/ag1000g.phase1.ar3.pass')\n",
    "callset_pass_p1 = zarr.open_group(callset_pass_p1_fn, mode='r')\n",
    "callset_pass_p2_fn = os.path.join('../phase2.AR1', 'variation', 'main', 'zarr', 'pass','ag1000g.phase2.ar1.pass')\n",
    "callset_pass_p2 = zarr.open_group(callset_pass_p2_fn, mode='r')"
   ]
  },
  {
   "cell_type": "code",
   "execution_count": 3,
   "metadata": {},
   "outputs": [
    {
     "name": "stdout",
     "output_type": "stream",
     "text": [
      "52525957 57837885 6579907 1267979\n"
     ]
    }
   ],
   "source": [
    "p1tot = 0\n",
    "p2tot = 0\n",
    "p2_new = 0\n",
    "p2_lost = 0\n",
    "\n",
    "for c in '2L', '2R', '3L', '3R', 'X':\n",
    "    pos1 = callset_pass_p1[c]['variants']['POS'][:]\n",
    "    pos2 = callset_pass_p2[c]['variants']['POS'][:]\n",
    "    p1tot += len(pos1)\n",
    "    p2tot += len(pos2)\n",
    "    p2_new += len(set(pos2).difference(set(pos1)))\n",
    "    p2_lost += len(set(pos1).difference(set(pos2)))\n",
    "\n",
    "                \n",
    "print(p1tot, p2tot, p2_new, p2_lost)"
   ]
  },
  {
   "cell_type": "code",
   "execution_count": 4,
   "metadata": {},
   "outputs": [
    {
     "data": {
      "text/plain": [
       "5311928"
      ]
     },
     "execution_count": 4,
     "metadata": {},
     "output_type": "execute_result"
    }
   ],
   "source": [
    "p2tot-p1tot"
   ]
  },
  {
   "cell_type": "code",
   "execution_count": 6,
   "metadata": {},
   "outputs": [
    {
     "data": {
      "text/plain": [
       "11.376465443022338"
      ]
     },
     "execution_count": 6,
     "metadata": {},
     "output_type": "execute_result"
    }
   ],
   "source": [
    "p2_new/p2tot*100"
   ]
  },
  {
   "cell_type": "code",
   "execution_count": null,
   "metadata": {},
   "outputs": [],
   "source": []
  }
 ],
 "metadata": {
  "kernelspec": {
   "display_name": "Python 3",
   "language": "python",
   "name": "python3"
  },
  "language_info": {
   "codemirror_mode": {
    "name": "ipython",
    "version": 3
   },
   "file_extension": ".py",
   "mimetype": "text/x-python",
   "name": "python",
   "nbconvert_exporter": "python",
   "pygments_lexer": "ipython3",
   "version": "3.6.8"
  }
 },
 "nbformat": 4,
 "nbformat_minor": 2
}
