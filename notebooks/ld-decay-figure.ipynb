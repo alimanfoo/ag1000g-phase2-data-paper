{
 "cells": [
  {
   "cell_type": "code",
   "execution_count": 1,
   "metadata": {},
   "outputs": [
    {
     "data": {
      "text/html": [
       "<style type=\"text/css\">\n",
       ".container {\n",
       "    width: 100%;\n",
       "}\n",
       "</style>\n"
      ],
      "text/plain": [
       "<IPython.core.display.HTML object>"
      ]
     },
     "metadata": {},
     "output_type": "display_data"
    }
   ],
   "source": [
    "%run setup.ipynb\n",
    "from matplotlib import gridspec"
   ]
  },
  {
   "cell_type": "code",
   "execution_count": 2,
   "metadata": {},
   "outputs": [],
   "source": [
    "# regions\n",
    "region_3L_free = '3L-free', '3L', 15000000, 41000000\n",
    "region_3R_free = '3R-free', '3R', 1, 37000000"
   ]
  },
  {
   "cell_type": "code",
   "execution_count": 3,
   "metadata": {},
   "outputs": [
    {
     "ename": "AttributeError",
     "evalue": "module 'ag1k.phase2_ar1' has no attribute 'allele_counts'",
     "output_type": "error",
     "traceback": [
      "\u001b[0;31m---------------------------------------------------------------------------\u001b[0m",
      "\u001b[0;31mAttributeError\u001b[0m                            Traceback (most recent call last)",
      "\u001b[0;32m<ipython-input-3-999dd9004a4a>\u001b[0m in \u001b[0;36m<module>\u001b[0;34m\u001b[0m\n\u001b[1;32m      3\u001b[0m \u001b[0mcallset_pass\u001b[0m \u001b[0;34m=\u001b[0m \u001b[0mphase2_ar1\u001b[0m\u001b[0;34m.\u001b[0m\u001b[0mcallset_pass\u001b[0m\u001b[0;34m\u001b[0m\u001b[0;34m\u001b[0m\u001b[0m\n\u001b[1;32m      4\u001b[0m \u001b[0mcallset\u001b[0m \u001b[0;34m=\u001b[0m \u001b[0mphase2_ar1\u001b[0m\u001b[0;34m.\u001b[0m\u001b[0mcallset\u001b[0m\u001b[0;34m\u001b[0m\u001b[0;34m\u001b[0m\u001b[0m\n\u001b[0;32m----> 5\u001b[0;31m \u001b[0mallele_counts\u001b[0m \u001b[0;34m=\u001b[0m \u001b[0mphase2_ar1\u001b[0m\u001b[0;34m.\u001b[0m\u001b[0mallele_counts\u001b[0m\u001b[0;34m\u001b[0m\u001b[0;34m\u001b[0m\u001b[0m\n\u001b[0m\u001b[1;32m      6\u001b[0m \u001b[0mpop_colours\u001b[0m \u001b[0;34m=\u001b[0m \u001b[0mphase2_ar1\u001b[0m\u001b[0;34m.\u001b[0m\u001b[0mpop_colors\u001b[0m\u001b[0;34m\u001b[0m\u001b[0;34m\u001b[0m\u001b[0m\n\u001b[1;32m      7\u001b[0m \u001b[0mdf_samples\u001b[0m \u001b[0;34m=\u001b[0m \u001b[0mphase2_ar1\u001b[0m\u001b[0;34m.\u001b[0m\u001b[0mdf_samples\u001b[0m\u001b[0;34m\u001b[0m\u001b[0;34m\u001b[0m\u001b[0m\n",
      "\u001b[0;31mAttributeError\u001b[0m: module 'ag1k.phase2_ar1' has no attribute 'allele_counts'"
     ]
    }
   ],
   "source": [
    "# setup\n",
    "populations = phase2_ar1.pop_ids\n",
    "callset_pass = phase2_ar1.callset_pass\n",
    "callset = phase2_ar1.callset\n",
    "allele_counts = phase2_ar1.allele_counts\n",
    "pop_colours = phase2_ar1.pop_colors\n",
    "df_samples = phase2_ar1.df_samples"
   ]
  },
  {
   "cell_type": "code",
   "execution_count": null,
   "metadata": {},
   "outputs": [],
   "source": [
    "%load_ext cython"
   ]
  },
  {
   "cell_type": "code",
   "execution_count": null,
   "metadata": {},
   "outputs": [],
   "source": [
    "%%cython\n",
    "import numpy as np\n",
    "cimport numpy as np\n",
    "\n",
    "def pdiff_int32(np.int32_t[:] x):\n",
    "    cdef:\n",
    "        np.int32_t[:] d\n",
    "        Py_ssize_t i, j, k, n, n_pairs\n",
    "    n = x.shape[0]\n",
    "    n_pairs = (n * (n - 1)) // 2\n",
    "    d = np.empty(n_pairs, dtype='i4')\n",
    "    k = 0\n",
    "    for i in range(n):\n",
    "        for j in range(i+1, n):\n",
    "            d[k] = x[j] - x[i]\n",
    "            k += 1\n",
    "    return np.asarray(d)"
   ]
  },
  {
   "cell_type": "code",
   "execution_count": null,
   "metadata": {},
   "outputs": [],
   "source": [
    "def collect_ld_distance(pos, gn, n_rep, window_size, window_step=1, permute=False):\n",
    "    assert pos.shape[0] == gn.shape[0]\n",
    "    dist = None\n",
    "    r2 = None\n",
    "    # calculate expected number of data points\n",
    "    expectedlen = ((window_size * (window_size - 1)) // 2) * n_rep\n",
    "    for i in range(n_rep):\n",
    "        # pick a random index\n",
    "        start_index = np.random.randint(0, pos.shape[0]-window_size)\n",
    "        stop_index = start_index + window_size\n",
    "        posr = np.array(pos[start_index:stop_index:window_step], dtype=\"int32\")\n",
    "#         log(i, start_index, pos[start_index], pos[stop_index])\n",
    "        #gnr = np.array(gn[start_index:stop_index:window_step], dtype=\"int8\")\n",
    "        gnr = gn[start_index:stop_index:window_step]\n",
    "        if permute:\n",
    "            for i in range(window_size//window_step):\n",
    "                gnr[i] = np.roll(gnr[i], i)\n",
    "        x = pdiff_int32(posr)\n",
    "        y = allel.rogers_huff_r(gnr)**2\n",
    "        if dist is None:\n",
    "            dist = bcolz.carray(x, expectedlen=expectedlen)\n",
    "            r2 = bcolz.carray(y, expectedlen=expectedlen)\n",
    "        else:\n",
    "            dist.append(x)\n",
    "            r2.append(y)\n",
    "    return dist[:], r2[:]"
   ]
  },
  {
   "cell_type": "code",
   "execution_count": null,
   "metadata": {},
   "outputs": [],
   "source": [
    "def load_genotypes(chrom):\n",
    "    genotype = allel.GenotypeChunkedArray(callset_pass[chrom]['calldata']['genotype'])\n",
    "    pos = allel.SortedIndex(callset_pass[chrom]['variants']['POS'][:])\n",
    "    return pos, genotype"
   ]
  },
  {
   "cell_type": "code",
   "execution_count": null,
   "metadata": {},
   "outputs": [],
   "source": [
    "#@functools.lru_cache(maxsize=None)\n",
    "def snp_ascertainment(chrom, start, stop, pop, min_maf):\n",
    "\n",
    "    # load genotypes\n",
    "    pos, genotype = load_genotypes(chrom)\n",
    "    \n",
    "    # SNP ascertainment\n",
    "    ac = allel.AlleleCountsArray(allele_counts[chrom][pop][:])\n",
    "    \n",
    "    #compress ac to pass\n",
    "    pass_boo = callset[chrom]['variants']['FILTER_PASS'][:]\n",
    "    ac = ac.compress(pass_boo, axis=0)\n",
    "    \n",
    "    af = ac.to_frequencies()\n",
    "    loc_asc = (ac.max_allele() == 1) & (af[:, :2].min(axis=1) > min_maf)\n",
    "    loc_region = np.zeros(pos.size, dtype='b1')\n",
    "    loc_region[pos.locate_range(start, stop)] = True\n",
    "    loc_asc &= loc_region\n",
    "    logger.debug('SNP ascertainment', chrom, start, stop, pop, nnz(loc_asc))\n",
    "    \n",
    "    # extract genotypes for population\n",
    "    pop_idx = df_samples.population == pop\n",
    "    \n",
    "    gt = genotype.subset(sel0=loc_asc, sel1=pop_idx)\n",
    "    gn = gt.to_n_alt()\n",
    "    \n",
    "    return pos[loc_asc], gn"
   ]
  },
  {
   "cell_type": "code",
   "execution_count": null,
   "metadata": {},
   "outputs": [],
   "source": [
    "def ld_dist(region, pop, min_maf, n_rep, window_size, window_step, permute):\n",
    "    logger.debug('window_size', region, window_size)\n",
    "    _, chrom, start, stop = region\n",
    "    \n",
    "    # get genotypes\n",
    "    pos, gn = snp_ascertainment(chrom, start, stop, pop, min_maf)\n",
    "    \n",
    "    # collect LD\n",
    "    dist, r2 = collect_ld_distance(\n",
    "        pos, gn, n_rep=n_rep, \n",
    "        window_size=window_size, window_step=window_step,\n",
    "        permute=permute)\n",
    "    \n",
    "    return dist, r2"
   ]
  },
  {
   "cell_type": "code",
   "execution_count": null,
   "metadata": {},
   "outputs": [],
   "source": [
    "def plot_ld_decay(dist, r2, xmax=2000, xbin=5, baseline=None, title=None, ylim=(0, 1.01)):\n",
    "\n",
    "    s, e, _ = scipy.stats.binned_statistic(\n",
    "        dist, r2, statistic=np.mean, bins=np.arange(0, xmax, xbin))\n",
    "    \n",
    "    fig, ax = subplots()\n",
    "    ax.plot(dist, r2, marker=',', linestyle=' ', color='k', alpha=.05)\n",
    "    x = (e[:-1] + e[1:]) / 2\n",
    "    y = s\n",
    "    ax.plot(x, y, marker=' ', linestyle='-', color='r', lw=2)\n",
    "    ax.set_xlim(0, xmax)\n",
    "    ax.set_xlabel('distance')\n",
    "    ax.set_ylim(*ylim)\n",
    "    ax.set_ylabel('r**2')\n",
    "    if title:\n",
    "        ax.set_title(title)\n",
    "    if baseline:\n",
    "        ax.axhline(baseline, lw=2, color='lightblue')\n",
    "        \n",
    "    fig, ax = subplots(figsize=(10, 2))\n",
    "    ax.hist(dist, bins=np.arange(0, xmax*2, xbin), lw=0)\n",
    "    ax.set_xlabel('distance')\n",
    "    if title:\n",
    "        ax.set_title(title)\n",
    "    \n",
    "    fig, ax = subplots()\n",
    "    ax.hist(r2, bins=np.linspace(0, 1, 50))\n",
    "    ax.set_xlabel('r**2')\n",
    "    c = np.nanmean(r2)\n",
    "    ax.text(.9, .9, 'mean: %.04f' % c, transform=ax.transAxes, ha='right')\n",
    "    if title:\n",
    "        ax.set_title(title)\n",
    "        \n"
   ]
  },
  {
   "cell_type": "code",
   "execution_count": null,
   "metadata": {},
   "outputs": [],
   "source": [
    "def compute_ld_dist_multi(pop, region, window_sizes, window_steps, n_reps, min_maf):\n",
    "\n",
    "    # accumulate data\n",
    "    dist = None\n",
    "    r2 = None\n",
    "    for window_size, window_step, n_rep in zip(window_sizes, window_steps, n_reps):\n",
    "        dist_r, r2_r = ld_dist(region, pop, min_maf=min_maf, window_size=window_size,\n",
    "                               window_step=window_step, n_rep=n_rep, permute=False)\n",
    "        if dist is None:\n",
    "            dist = dist_r\n",
    "            r2 = r2_r\n",
    "        else:\n",
    "            # combine\n",
    "            dist = np.concatenate([dist, dist_r])\n",
    "            r2 = np.concatenate([r2, r2_r])\n",
    "            \n",
    "    return dist, r2"
   ]
  },
  {
   "cell_type": "code",
   "execution_count": null,
   "metadata": {},
   "outputs": [],
   "source": [
    "def compute_ld_dist_multi_binned_log(\n",
    "    pop, region, window_sizes, window_steps, n_reps, min_maf, xmax, nbin):\n",
    "    \n",
    "    # get data\n",
    "    dist, r2 = compute_ld_dist_multi(\n",
    "        pop, region, window_sizes, window_steps, n_reps, min_maf)\n",
    "    \n",
    "    # apply binning\n",
    "    bins = np.logspace(1, np.log10(xmax), nbin)\n",
    "    s, e, _ = scipy.stats.binned_statistic(dist, r2, statistic=np.nanmean, bins=bins)\n",
    "    x = (e[:-1] + e[1:]) / 2\n",
    "    \n",
    "    # adjust for sampling effects\n",
    "    n = df_samples.query('population == @pop').shape[0]\n",
    "    y = s - (1/n)\n",
    "\n",
    "    return x, y"
   ]
  },
  {
   "cell_type": "code",
   "execution_count": null,
   "metadata": {},
   "outputs": [],
   "source": [
    "def plot_ld_decay_lr(region, ax=None, legend=True, lw=2, path=None):\n",
    "    \n",
    "    window_sizes = (\n",
    "        100, 200, 400, 800, 1600, 3200, 6400, 12800, 25600, 51200, 102400, 204800)\n",
    "    \n",
    "    window_steps = tuple(x // 100 for x in window_sizes)\n",
    "    \n",
    "    n_reps = (4000, 4000, 4000, 4000, 1000, 1000, 1000, 500, 500, 500, 500, 500, 500)\n",
    "    \n",
    "    min_maf = .1\n",
    "    \n",
    "    xmax = 14000000\n",
    "    \n",
    "    nbin = 400\n",
    "    \n",
    "    if ax is None:\n",
    "        fig, ax = plt.subplots()\n",
    "    \n",
    "    dd = {}\n",
    "    \n",
    "    for pop in populations:\n",
    "        logger.info(\"Processing LD for {0!r}\".format(phase2_ar1.pop_labels[pop]))\n",
    "        x, y = compute_ld_dist_multi_binned_log(\n",
    "            pop=pop, region=region, window_sizes=window_sizes, \n",
    "            window_steps=window_steps, n_reps=n_reps, min_maf=min_maf,\n",
    "            xmax=xmax, nbin=nbin)\n",
    "        \n",
    "        dd[pop] = x, y\n",
    "        ax.plot(x, y, marker=' ', linestyle='-', color=pop_colours[pop], lw=lw, label=pop)\n",
    "        \n",
    "        \n",
    "    ax.set_xscale('log')\n",
    "    ax.set_xlim(20, xmax)\n",
    "    ax.set_ylim(-0.01, .6)\n",
    "    if legend:\n",
    "        ax.legend(loc='upper left', bbox_to_anchor=(1, 1))\n",
    "    ax.set_xlabel('physical distance (bp)')\n",
    "    ax.set_ylabel('mean $r^2$')\n",
    "    \n",
    "    if path is not None:\n",
    "        fig.savefig(path, bbox_inches=\"tight\", dpi=300)\n",
    "    \n",
    "    return dd"
   ]
  },
  {
   "cell_type": "code",
   "execution_count": null,
   "metadata": {},
   "outputs": [],
   "source": [
    "import logging\n",
    "\n",
    "LOGFORMAT = '%(asctime)s : %(levelname)s : %(message)s'\n",
    "\n",
    "logging.basicConfig(\n",
    "    format=LOGFORMAT, \n",
    "    level=logging.INFO, \n",
    "    datefmt=\"%Y-%m-%d %H:%M:%S\")\n",
    "\n",
    "logger = logging.getLogger()"
   ]
  },
  {
   "cell_type": "code",
   "execution_count": null,
   "metadata": {
    "scrolled": false
   },
   "outputs": [],
   "source": [
    "x = plot_ld_decay_lr(region_3R_free, path=\"../artwork/ld_decay.jpeg\")"
   ]
  }
 ],
 "metadata": {
  "anaconda-cloud": {},
  "kernelspec": {
   "display_name": "Python 3",
   "language": "python",
   "name": "python3"
  },
  "language_info": {
   "codemirror_mode": {
    "name": "ipython",
    "version": 3
   },
   "file_extension": ".py",
   "mimetype": "text/x-python",
   "name": "python",
   "nbconvert_exporter": "python",
   "pygments_lexer": "ipython3",
   "version": "3.6.8"
  }
 },
 "nbformat": 4,
 "nbformat_minor": 1
}
