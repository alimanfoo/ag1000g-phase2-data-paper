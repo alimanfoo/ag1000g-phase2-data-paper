{
 "cells": [
  {
   "cell_type": "markdown",
   "metadata": {},
   "source": [
    "# Setup for ag1000g phase 2 paper"
   ]
  },
  {
   "cell_type": "code",
   "execution_count": 1,
   "metadata": {},
   "outputs": [
    {
     "data": {
      "text/html": [
       "<style type=\"text/css\">\n",
       ".container {\n",
       "    width: 100%;\n",
       "}\n",
       "</style>\n"
      ],
      "text/plain": [
       "<IPython.core.display.HTML object>"
      ]
     },
     "metadata": {},
     "output_type": "display_data"
    }
   ],
   "source": [
    "%%HTML\n",
    "<style type=\"text/css\">\n",
    ".container {\n",
    "    width: 100%;\n",
    "}\n",
    "</style>"
   ]
  },
  {
   "cell_type": "code",
   "execution_count": 2,
   "metadata": {},
   "outputs": [],
   "source": [
    "# python standard library\n",
    "import sys\n",
    "import os\n",
    "import operator\n",
    "import itertools\n",
    "import collections\n",
    "import functools\n",
    "import glob\n",
    "import csv\n",
    "import datetime\n",
    "import bisect\n",
    "import sqlite3\n",
    "import subprocess\n",
    "import random\n",
    "import gc\n",
    "import shutil\n",
    "import shelve\n",
    "import contextlib\n",
    "import tempfile\n",
    "import math\n",
    "import warnings"
   ]
  },
  {
   "cell_type": "code",
   "execution_count": 3,
   "metadata": {},
   "outputs": [],
   "source": [
    "# plotting setup\n",
    "import matplotlib as mpl\n",
    "import matplotlib.pyplot as plt\n",
    "from matplotlib.colors import ListedColormap\n",
    "from matplotlib.gridspec import GridSpec\n",
    "import seaborn as sns\n",
    "sns.set_context('paper')\n",
    "sns.set_style('ticks')\n",
    "# use seaborn defaults\n",
    "rcParams = plt.rcParams\n",
    "rcParams['savefig.jpeg_quality'] = 100"
   ]
  },
  {
   "cell_type": "code",
   "execution_count": 4,
   "metadata": {},
   "outputs": [],
   "source": [
    "%matplotlib inline\n",
    "%config InlineBackend.figure_formats = {'retina', 'png'}"
   ]
  },
  {
   "cell_type": "code",
   "execution_count": 5,
   "metadata": {},
   "outputs": [],
   "source": [
    "# general purpose third party packages\n",
    "import numpy as np\n",
    "nnz = np.count_nonzero\n",
    "import scipy\n",
    "import scipy.stats\n",
    "import scipy.spatial.distance\n",
    "import numexpr\n",
    "import h5py\n",
    "import tables\n",
    "import bcolz\n",
    "import dask\n",
    "import dask.array as da\n",
    "import pandas as pd\n",
    "import IPython\n",
    "from IPython.display import clear_output, display, HTML\n",
    "import sklearn\n",
    "import sklearn.decomposition\n",
    "import sklearn.manifold\n",
    "import petl as etl\n",
    "etl.config.display_index_header = True\n",
    "import humanize\n",
    "from humanize import naturalsize, intcomma, intword\n",
    "import zarr\n",
    "from scipy.stats import entropy\n",
    "import lmfit"
   ]
  },
  {
   "cell_type": "code",
   "execution_count": 6,
   "metadata": {},
   "outputs": [],
   "source": [
    "import allel"
   ]
  },
  {
   "cell_type": "code",
   "execution_count": 7,
   "metadata": {},
   "outputs": [],
   "source": [
    "sys.path.insert(0, '../agam-report-base/src/python')\n",
    "from util import *"
   ]
  },
  {
   "cell_type": "code",
   "execution_count": 8,
   "metadata": {},
   "outputs": [],
   "source": [
    "from ag1k import phase2_ar1"
   ]
  },
  {
   "cell_type": "code",
   "execution_count": 9,
   "metadata": {},
   "outputs": [],
   "source": [
    "# This is a symlink in your root directory\n",
    "# eg: ln -s /kwiat/vector/ag1000g/release/phase2.AR1 .\n",
    "phase2_ar1.init(\"../phase2.AR1\")"
   ]
  },
  {
   "cell_type": "code",
   "execution_count": 11,
   "metadata": {},
   "outputs": [
    {
     "data": {
      "text/html": [
       "<link rel=\"stylesheet\" href=\"//cdnjs.cloudflare.com/ajax/libs/jstree/3.3.3/themes/default/style.min.css\"/><div id=\"4fd1eec4-904c-4505-9fe3-bef013a0efdd\" class=\"zarr-tree\"><ul><li data-jstree='{\"type\": \"Group\"}' class='jstree-open'><span>/</span><ul><li data-jstree='{\"type\": \"Group\"}' class=''><span>2L</span><ul><li data-jstree='{\"type\": \"Group\"}' class=''><span>calldata</span><ul><li data-jstree='{\"type\": \"Array\"}' class=''><span>genotype (8906423, 1142, 2) int8</span></li></ul></li><li data-jstree='{\"type\": \"Group\"}' class=''><span>variants</span><ul><li data-jstree='{\"type\": \"Array\"}' class=''><span>ALT (8906423, 3) |S1</span></li><li data-jstree='{\"type\": \"Array\"}' class=''><span>CHROM (8906423,) |S12</span></li><li data-jstree='{\"type\": \"Array\"}' class=''><span>POS (8906423,) int32</span></li><li data-jstree='{\"type\": \"Array\"}' class=''><span>REF (8906423,) |S1</span></li></ul></li></ul></li><li data-jstree='{\"type\": \"Group\"}' class=''><span>2R</span><ul><li data-jstree='{\"type\": \"Group\"}' class=''><span>calldata</span><ul><li data-jstree='{\"type\": \"Array\"}' class=''><span>genotype (12047846, 1142, 2) int8</span></li></ul></li><li data-jstree='{\"type\": \"Group\"}' class=''><span>variants</span><ul><li data-jstree='{\"type\": \"Array\"}' class=''><span>ALT (12047846, 3) |S1</span></li><li data-jstree='{\"type\": \"Array\"}' class=''><span>CHROM (12047846,) |S12</span></li><li data-jstree='{\"type\": \"Array\"}' class=''><span>POS (12047846,) int32</span></li><li data-jstree='{\"type\": \"Array\"}' class=''><span>REF (12047846,) |S1</span></li></ul></li></ul></li><li data-jstree='{\"type\": \"Group\"}' class=''><span>3L</span><ul><li data-jstree='{\"type\": \"Group\"}' class=''><span>calldata</span><ul><li data-jstree='{\"type\": \"Array\"}' class=''><span>genotype (7897666, 1142, 2) int8</span></li></ul></li><li data-jstree='{\"type\": \"Group\"}' class=''><span>variants</span><ul><li data-jstree='{\"type\": \"Array\"}' class=''><span>ALT (7897666, 3) |S1</span></li><li data-jstree='{\"type\": \"Array\"}' class=''><span>CHROM (7897666,) |S12</span></li><li data-jstree='{\"type\": \"Array\"}' class=''><span>POS (7897666,) int32</span></li><li data-jstree='{\"type\": \"Array\"}' class=''><span>REF (7897666,) |S1</span></li></ul></li></ul></li><li data-jstree='{\"type\": \"Group\"}' class=''><span>3R</span><ul><li data-jstree='{\"type\": \"Group\"}' class=''><span>calldata</span><ul><li data-jstree='{\"type\": \"Array\"}' class=''><span>AD (10752701, 1142, 4) uint16</span></li><li data-jstree='{\"type\": \"Array\"}' class=''><span>DP (10752701, 1142) uint16</span></li><li data-jstree='{\"type\": \"Array\"}' class=''><span>GQ (10752701, 1142) uint8</span></li><li data-jstree='{\"type\": \"Array\"}' class=''><span>MQ0 (10752701, 1142) uint16</span></li><li data-jstree='{\"type\": \"Array\"}' class=''><span>genotype (10752701, 1142, 2) int8</span></li></ul></li><li data-jstree='{\"type\": \"Group\"}' class=''><span>variants</span><ul><li data-jstree='{\"type\": \"Array\"}' class=''><span>ALT (10752701, 3) |S1</span></li><li data-jstree='{\"type\": \"Array\"}' class=''><span>CHROM (10752701,) |S12</span></li><li data-jstree='{\"type\": \"Array\"}' class=''><span>POS (10752701,) int32</span></li><li data-jstree='{\"type\": \"Array\"}' class=''><span>REF (10752701,) |S1</span></li></ul></li></ul></li><li data-jstree='{\"type\": \"Group\"}' class=''><span>X</span><ul><li data-jstree='{\"type\": \"Group\"}' class=''><span>calldata</span><ul><li data-jstree='{\"type\": \"Array\"}' class=''><span>genotype (4472265, 1142, 2) int8</span></li></ul></li><li data-jstree='{\"type\": \"Group\"}' class=''><span>variants</span><ul><li data-jstree='{\"type\": \"Array\"}' class=''><span>ALT (4472265, 3) |S1</span></li><li data-jstree='{\"type\": \"Array\"}' class=''><span>CHROM (4472265,) |S12</span></li><li data-jstree='{\"type\": \"Array\"}' class=''><span>POS (4472265,) int32</span></li><li data-jstree='{\"type\": \"Array\"}' class=''><span>REF (4472265,) |S1</span></li></ul></li></ul></li><li data-jstree='{\"type\": \"Array\"}' class=''><span>samples (1142,) |S8</span></li></ul></li></ul></div>\n",
       "<script>\n",
       "    if (!require.defined('jquery')) {\n",
       "        require.config({\n",
       "            paths: {\n",
       "                jquery: '//cdnjs.cloudflare.com/ajax/libs/jquery/1.12.1/jquery.min'\n",
       "            },\n",
       "        });\n",
       "    }\n",
       "    if (!require.defined('jstree')) {\n",
       "        require.config({\n",
       "            paths: {\n",
       "                jstree: '//cdnjs.cloudflare.com/ajax/libs/jstree/3.3.3/jstree.min'\n",
       "            },\n",
       "        });\n",
       "    }\n",
       "    require(['jstree'], function() {\n",
       "        $('#4fd1eec4-904c-4505-9fe3-bef013a0efdd').jstree({\n",
       "            types: {\n",
       "                Group: {\n",
       "                    icon: \"fa fa-folder\"\n",
       "                },\n",
       "                Array: {\n",
       "                    icon: \"fa fa-table\"\n",
       "                }\n",
       "            },\n",
       "            plugins: [\"types\"]\n",
       "        });\n",
       "    });\n",
       "</script>\n"
      ],
      "text/plain": [
       "/\n",
       " ├── 2L\n",
       " │   ├── calldata\n",
       " │   │   └── genotype (8906423, 1142, 2) int8\n",
       " │   └── variants\n",
       " │       ├── ALT (8906423, 3) |S1\n",
       " │       ├── CHROM (8906423,) |S12\n",
       " │       ├── POS (8906423,) int32\n",
       " │       └── REF (8906423,) |S1\n",
       " ├── 2R\n",
       " │   ├── calldata\n",
       " │   │   └── genotype (12047846, 1142, 2) int8\n",
       " │   └── variants\n",
       " │       ├── ALT (12047846, 3) |S1\n",
       " │       ├── CHROM (12047846,) |S12\n",
       " │       ├── POS (12047846,) int32\n",
       " │       └── REF (12047846,) |S1\n",
       " ├── 3L\n",
       " │   ├── calldata\n",
       " │   │   └── genotype (7897666, 1142, 2) int8\n",
       " │   └── variants\n",
       " │       ├── ALT (7897666, 3) |S1\n",
       " │       ├── CHROM (7897666,) |S12\n",
       " │       ├── POS (7897666,) int32\n",
       " │       └── REF (7897666,) |S1\n",
       " ├── 3R\n",
       " │   ├── calldata\n",
       " │   │   ├── AD (10752701, 1142, 4) uint16\n",
       " │   │   ├── DP (10752701, 1142) uint16\n",
       " │   │   ├── GQ (10752701, 1142) uint8\n",
       " │   │   ├── MQ0 (10752701, 1142) uint16\n",
       " │   │   └── genotype (10752701, 1142, 2) int8\n",
       " │   └── variants\n",
       " │       ├── ALT (10752701, 3) |S1\n",
       " │       ├── CHROM (10752701,) |S12\n",
       " │       ├── POS (10752701,) int32\n",
       " │       └── REF (10752701,) |S1\n",
       " ├── X\n",
       " │   ├── calldata\n",
       " │   │   └── genotype (4472265, 1142, 2) int8\n",
       " │   └── variants\n",
       " │       ├── ALT (4472265, 3) |S1\n",
       " │       ├── CHROM (4472265,) |S12\n",
       " │       ├── POS (4472265,) int32\n",
       " │       └── REF (4472265,) |S1\n",
       " └── samples (1142,) |S8"
      ]
     },
     "execution_count": 11,
     "metadata": {},
     "output_type": "execute_result"
    }
   ],
   "source": [
    "# phase2_ar1.callset_pass_biallelic.tree()"
   ]
  },
  {
   "cell_type": "code",
   "execution_count": null,
   "metadata": {},
   "outputs": [],
   "source": []
  }
 ],
 "metadata": {
  "kernelspec": {
   "display_name": "Python 3",
   "language": "python",
   "name": "python3"
  },
  "language_info": {
   "codemirror_mode": {
    "name": "ipython",
    "version": 3
   },
   "file_extension": ".py",
   "mimetype": "text/x-python",
   "name": "python",
   "nbconvert_exporter": "python",
   "pygments_lexer": "ipython3",
   "version": "3.6.8"
  }
 },
 "nbformat": 4,
 "nbformat_minor": 2
}
