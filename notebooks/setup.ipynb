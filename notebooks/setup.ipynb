{
 "cells": [
  {
   "cell_type": "markdown",
   "metadata": {},
   "source": [
    "# Setup for ag1000g phase 2 paper"
   ]
  },
  {
   "cell_type": "code",
   "execution_count": 1,
   "metadata": {},
   "outputs": [
    {
     "data": {
      "text/html": [
       "<style type=\"text/css\">\n",
       ".container {\n",
       "    width: 100%;\n",
       "}\n",
       "</style>\n"
      ],
      "text/plain": [
       "<IPython.core.display.HTML object>"
      ]
     },
     "metadata": {},
     "output_type": "display_data"
    }
   ],
   "source": [
    "%%HTML\n",
    "<style type=\"text/css\">\n",
    ".container {\n",
    "    width: 100%;\n",
    "}\n",
    "</style>"
   ]
  },
  {
   "cell_type": "code",
   "execution_count": 2,
   "metadata": {},
   "outputs": [],
   "source": [
    "# python standard library\n",
    "import sys\n",
    "import os\n",
    "import operator\n",
    "import itertools\n",
    "import collections\n",
    "import functools\n",
    "import glob\n",
    "import csv\n",
    "import datetime\n",
    "import bisect\n",
    "import sqlite3\n",
    "import subprocess\n",
    "import random\n",
    "import gc\n",
    "import shutil\n",
    "import shelve\n",
    "import contextlib\n",
    "import tempfile\n",
    "import math\n",
    "import warnings"
   ]
  },
  {
   "cell_type": "code",
   "execution_count": 3,
   "metadata": {},
   "outputs": [],
   "source": [
    "# plotting setup\n",
    "import matplotlib as mpl\n",
    "import matplotlib.pyplot as plt\n",
    "from matplotlib.colors import ListedColormap\n",
    "from matplotlib.gridspec import GridSpec\n",
    "import seaborn as sns\n",
    "sns.set_context('paper')\n",
    "sns.set_style('ticks')\n",
    "# use seaborn defaults\n",
    "rcParams = plt.rcParams\n",
    "rcParams['savefig.jpeg_quality'] = 100"
   ]
  },
  {
   "cell_type": "code",
   "execution_count": 4,
   "metadata": {},
   "outputs": [],
   "source": [
    "%matplotlib inline\n",
    "%config InlineBackend.figure_formats = {'retina', 'png'}"
   ]
  },
  {
   "cell_type": "code",
   "execution_count": 5,
   "metadata": {},
   "outputs": [],
   "source": [
    "# general purpose third party packages\n",
    "import numpy as np\n",
    "nnz = np.count_nonzero\n",
    "import scipy\n",
    "import scipy.stats\n",
    "import scipy.spatial.distance\n",
    "import numexpr\n",
    "import h5py\n",
    "import tables\n",
    "import bcolz\n",
    "import dask\n",
    "import dask.array as da\n",
    "import pandas as pd\n",
    "import IPython\n",
    "from IPython.display import clear_output, display, HTML\n",
    "import sklearn\n",
    "import sklearn.decomposition\n",
    "import sklearn.manifold\n",
    "import petl as etl\n",
    "etl.config.display_index_header = True\n",
    "import humanize\n",
    "from humanize import naturalsize, intcomma, intword\n",
    "import zarr\n",
    "from scipy.stats import entropy\n",
    "import lmfit"
   ]
  },
  {
   "cell_type": "code",
   "execution_count": 6,
   "metadata": {},
   "outputs": [],
   "source": [
    "import allel"
   ]
  },
  {
   "cell_type": "code",
   "execution_count": 7,
   "metadata": {},
   "outputs": [],
   "source": [
    "sys.path.insert(0, '../agam-report-base/src/python')\n",
    "from util import *"
   ]
  },
  {
   "cell_type": "code",
   "execution_count": 8,
   "metadata": {},
   "outputs": [],
   "source": [
    "from ag1k import phase2_ar1"
   ]
  },
  {
   "cell_type": "code",
   "execution_count": 9,
   "metadata": {},
   "outputs": [],
   "source": [
    "# This is a symlink in your root directory\n",
    "# eg: ln -s /kwiat/vector/ag1000g/release/phase2.AR1 .\n",
    "phase2_ar1.init(\"../phase2.AR1\")"
   ]
  }
 ],
 "metadata": {
  "kernelspec": {
   "display_name": "Python 3",
   "language": "python",
   "name": "python3"
  },
  "language_info": {
   "codemirror_mode": {
    "name": "ipython",
    "version": 3
   },
   "file_extension": ".py",
   "mimetype": "text/x-python",
   "name": "python",
   "nbconvert_exporter": "python",
   "pygments_lexer": "ipython3",
   "version": "3.6.8"
  }
 },
 "nbformat": 4,
 "nbformat_minor": 2
}
