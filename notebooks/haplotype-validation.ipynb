{
 "cells": [
  {
   "cell_type": "markdown",
   "metadata": {},
   "source": [
    "## Haplotype validation\n",
    "\n",
    "Haplotype validation based on parent/progeny and synthetic X as a gold standard.\n",
    "\n",
    "Recent updates:\n",
    "- Read in raw phased data and draw bar plots from those."
   ]
  },
  {
   "cell_type": "code",
   "execution_count": 1,
   "metadata": {},
   "outputs": [
    {
     "data": {
      "text/html": [
       "<style type=\"text/css\">\n",
       ".container {\n",
       "    width: 100%;\n",
       "}\n",
       "</style>\n"
      ],
      "text/plain": [
       "<IPython.core.display.HTML object>"
      ]
     },
     "metadata": {},
     "output_type": "display_data"
    }
   ],
   "source": [
    "%run setup.ipynb "
   ]
  },
  {
   "cell_type": "code",
   "execution_count": 2,
   "metadata": {},
   "outputs": [],
   "source": [
    "rcParams['text.usetex'] = False"
   ]
  },
  {
   "cell_type": "code",
   "execution_count": 3,
   "metadata": {},
   "outputs": [],
   "source": [
    "from pathlib import Path\n",
    "from matplotlib.ticker import FuncFormatter"
   ]
  },
  {
   "cell_type": "code",
   "execution_count": 4,
   "metadata": {},
   "outputs": [],
   "source": [
    "def fposition(x, pos):\n",
    "    'The two args are the value and tick position'\n",
    "    return '%2d' % (x*1e-6)"
   ]
  },
  {
   "cell_type": "code",
   "execution_count": 5,
   "metadata": {},
   "outputs": [],
   "source": [
    "autosomes = \"2R\", \"2L\", \"3R\", \"3L\""
   ]
  },
  {
   "cell_type": "code",
   "execution_count": 6,
   "metadata": {},
   "outputs": [
    {
     "data": {
      "text/html": [
       "<div>\n",
       "<style scoped>\n",
       "    .dataframe tbody tr th:only-of-type {\n",
       "        vertical-align: middle;\n",
       "    }\n",
       "\n",
       "    .dataframe tbody tr th {\n",
       "        vertical-align: top;\n",
       "    }\n",
       "\n",
       "    .dataframe thead th {\n",
       "        text-align: right;\n",
       "    }\n",
       "</style>\n",
       "<table border=\"1\" class=\"dataframe\">\n",
       "  <thead>\n",
       "    <tr style=\"text-align: right;\">\n",
       "      <th></th>\n",
       "      <th>cross</th>\n",
       "      <th>role</th>\n",
       "      <th>n_reads</th>\n",
       "      <th>median_cov</th>\n",
       "      <th>mean_cov</th>\n",
       "      <th>sex</th>\n",
       "      <th>colony_id</th>\n",
       "    </tr>\n",
       "    <tr>\n",
       "      <th>ox_code</th>\n",
       "      <th></th>\n",
       "      <th></th>\n",
       "      <th></th>\n",
       "      <th></th>\n",
       "      <th></th>\n",
       "      <th></th>\n",
       "      <th></th>\n",
       "    </tr>\n",
       "  </thead>\n",
       "  <tbody>\n",
       "    <tr>\n",
       "      <th>AD0142-C</th>\n",
       "      <td>18-5</td>\n",
       "      <td>parent</td>\n",
       "      <td>60486753</td>\n",
       "      <td>26</td>\n",
       "      <td>25.824447</td>\n",
       "      <td>F</td>\n",
       "      <td>Ghana</td>\n",
       "    </tr>\n",
       "    <tr>\n",
       "      <th>AD0143-C</th>\n",
       "      <td>18-5</td>\n",
       "      <td>parent</td>\n",
       "      <td>58509103</td>\n",
       "      <td>19</td>\n",
       "      <td>18.800118</td>\n",
       "      <td>M</td>\n",
       "      <td>Kisumu/G3</td>\n",
       "    </tr>\n",
       "    <tr>\n",
       "      <th>AD0146-C</th>\n",
       "      <td>18-5</td>\n",
       "      <td>progeny</td>\n",
       "      <td>101612499</td>\n",
       "      <td>44</td>\n",
       "      <td>43.494594</td>\n",
       "      <td>NaN</td>\n",
       "      <td>NaN</td>\n",
       "    </tr>\n",
       "    <tr>\n",
       "      <th>AD0147-C</th>\n",
       "      <td>18-5</td>\n",
       "      <td>progeny</td>\n",
       "      <td>50710020</td>\n",
       "      <td>16</td>\n",
       "      <td>16.284487</td>\n",
       "      <td>NaN</td>\n",
       "      <td>NaN</td>\n",
       "    </tr>\n",
       "    <tr>\n",
       "      <th>AD0148-C</th>\n",
       "      <td>18-5</td>\n",
       "      <td>progeny</td>\n",
       "      <td>59023991</td>\n",
       "      <td>19</td>\n",
       "      <td>18.978021</td>\n",
       "      <td>NaN</td>\n",
       "      <td>NaN</td>\n",
       "    </tr>\n",
       "  </tbody>\n",
       "</table>\n",
       "</div>"
      ],
      "text/plain": [
       "         cross     role    n_reads  median_cov   mean_cov  sex  colony_id\n",
       "ox_code                                                                  \n",
       "AD0142-C  18-5   parent   60486753          26  25.824447    F      Ghana\n",
       "AD0143-C  18-5   parent   58509103          19  18.800118    M  Kisumu/G3\n",
       "AD0146-C  18-5  progeny  101612499          44  43.494594  NaN        NaN\n",
       "AD0147-C  18-5  progeny   50710020          16  16.284487  NaN        NaN\n",
       "AD0148-C  18-5  progeny   59023991          19  18.978021  NaN        NaN"
      ]
     },
     "execution_count": 6,
     "metadata": {},
     "output_type": "execute_result"
    }
   ],
   "source": [
    "meta_fn = Path(phase2_ar1.samples_dir) / \"cross.samples.meta.txt\"\n",
    "meta_info = pandas.read_csv(meta_fn, sep=\"\\t\", index_col=0).set_index(\"ox_code\")\n",
    "meta_info.head()"
   ]
  },
  {
   "cell_type": "code",
   "execution_count": 7,
   "metadata": {},
   "outputs": [
    {
     "data": {
      "text/plain": [
       "cross  role   \n",
       "18-5   parent      2\n",
       "       progeny    20\n",
       "29-2   parent      2\n",
       "       progeny    20\n",
       "36-9   parent      2\n",
       "       progeny    20\n",
       "37-3   parent      2\n",
       "       progeny    20\n",
       "42-4   parent      2\n",
       "       progeny    14\n",
       "45-1   parent      2\n",
       "       progeny    20\n",
       "46-9   parent      2\n",
       "       progeny    20\n",
       "47-6   parent      2\n",
       "       progeny    20\n",
       "73-2   parent      2\n",
       "       progeny    19\n",
       "78-2   parent      2\n",
       "       progeny    19\n",
       "80-2   parent      2\n",
       "       progeny    20\n",
       "dtype: int64"
      ]
     },
     "execution_count": 7,
     "metadata": {},
     "output_type": "execute_result"
    }
   ],
   "source": [
    "meta_info.groupby([\"cross\", \"role\"]).size()"
   ]
  },
  {
   "cell_type": "code",
   "execution_count": 8,
   "metadata": {},
   "outputs": [],
   "source": [
    "# mem = memory.Memory(cachedir=\"/tmp\")"
   ]
  },
  {
   "cell_type": "code",
   "execution_count": 9,
   "metadata": {},
   "outputs": [],
   "source": [
    "# ihnfstem = os.path.join(\"/data/coluzzi/ag1000g/data/phase1/release/AR3.1\",\n",
    "#                         \"haplotypes/crosses/hdf5\",\n",
    "#                         \"{chrom}_{cross}_{parent}_inheritance\")"
   ]
  },
  {
   "cell_type": "code",
   "execution_count": 10,
   "metadata": {},
   "outputs": [],
   "source": [
    "callset_dir = Path(phase2_ar1.haplotypes_dir) / \"crosses/zarr2\"\n",
    "callset_path = callset_dir / \"ag1000g.crosses.phase2.ar1.haplotypes.zip\""
   ]
  },
  {
   "cell_type": "code",
   "execution_count": 11,
   "metadata": {},
   "outputs": [],
   "source": [
    "stor = zarr.ZipStore(callset_path, mode=\"r\")\n",
    "callset = zarr.Group(stor)"
   ]
  },
  {
   "cell_type": "markdown",
   "metadata": {},
   "source": [
    "## Phase 1 overload"
   ]
  },
  {
   "cell_type": "code",
   "execution_count": 15,
   "metadata": {},
   "outputs": [],
   "source": [
    "# path = Path(\"/kwiat/./vector/ag1000g/analysis/20170508-phase2-AR1-gt-crosses/phase2.AR1-parents-progeny/output\")\n",
    "\n",
    "# zz[\"phased_genotypes\"]\n",
    "\n",
    "# zb[\"phased_genotypes\"]\n",
    "\n",
    "# positions[\"3L\"]"
   ]
  },
  {
   "cell_type": "code",
   "execution_count": 16,
   "metadata": {},
   "outputs": [],
   "source": [
    "# # meta_fn = Path(phase1_ar31.samples_dir) / \"cross.samples.meta.txt\"\n",
    "# meta_info = pandas.read_csv(\n",
    "#     \"/kwiat/vector/ag1000g/release/phase1.AR3.1/samples/cross.samples.meta.txt\", \n",
    "#     sep=\"\\t\", index_col=0)\n",
    "\n",
    "\n",
    "\n",
    "# hapstem = os.path.join(\n",
    "#     \"/kwiat/vector/ag1000g/release/phase1.AR3/haplotypes/crosses/hdf5\",\n",
    "#     \"ag1000g.crosses.phase1.ar3.haplotypes.{chrom}.h5\")\n",
    "\n",
    "# hapstem\n",
    "\n",
    "# callset = {c: h5py.File(hapstem.format(chrom=c), mode=\"r\")[c] for c in autosomes}\n",
    "\n",
    "# h5py.File(hapstem.format(chrom=\"3L\"))[\"3L\"]"
   ]
  },
  {
   "cell_type": "code",
   "execution_count": 14,
   "metadata": {},
   "outputs": [],
   "source": [
    "xgp = meta_info.groupby(\"cross\")"
   ]
  },
  {
   "cell_type": "code",
   "execution_count": 15,
   "metadata": {},
   "outputs": [],
   "source": [
    "def plot_transmission(painting, ax=None, title=None, palette_name='colorblind'):\n",
    "\n",
    "    palette = sns.color_palette(palette_name)\n",
    "\n",
    "    # set figure height depending on number of haplotypes\n",
    "\n",
    "    # map painting codes onto colours\n",
    "    cmap = mpl.colors.ListedColormap([\n",
    "        'white',      # 0 = undetermined\n",
    "        palette[0],  # 1 = allele inherited from first parental haplotype\n",
    "        palette[2],  # 2 = allele inherited from second parental haplotype\n",
    "        'lightgrey',     # 3 = reference allele, also carried by both parental haplotypes\n",
    "        'lightgrey',     # 4 = non-reference allele, also carried by both parental haplotypes\n",
    "        'black',     # 5 = non-parental allele (i.e., Mendelian error)\n",
    "        palette[5],  # 6 = either or both parental alleles missing\n",
    "        'white',     # 7 = missing allele\n",
    "    ])\n",
    "\n",
    "    # plot painting\n",
    "    ax.pcolormesh(painting.T, cmap=cmap, vmin=0, vmax=7)\n",
    "\n",
    "    # tidy up axes\n",
    "    ax.set_yticks(np.arange(painting.shape[1]) + .5)\n",
    "    ax.set_yticklabels([])\n",
    "    ax.set_xticklabels([])\n",
    "#     ax.set_ylabel('Progeny haplotypes')\n",
    "#     ax.set_xlabel('Variants')\n",
    "    if title:\n",
    "        ax.set_title(title)"
   ]
  },
  {
   "cell_type": "code",
   "execution_count": 16,
   "metadata": {},
   "outputs": [],
   "source": [
    "xid = \"29-2\""
   ]
  },
  {
   "cell_type": "code",
   "execution_count": 17,
   "metadata": {},
   "outputs": [],
   "source": [
    "genome = phase2_ar1.genome_agamp3"
   ]
  },
  {
   "cell_type": "code",
   "execution_count": 18,
   "metadata": {},
   "outputs": [],
   "source": [
    "path = Path(\n",
    "    \"/kwiat/vector/ag1000g/analysis\",\n",
    "    \"20170508-phase2-AR1-gt-crosses/phase2.AR1-parents-progeny\", \"output\")"
   ]
  },
  {
   "cell_type": "code",
   "execution_count": null,
   "metadata": {},
   "outputs": [],
   "source": [
    "path"
   ]
  },
  {
   "cell_type": "code",
   "execution_count": 20,
   "metadata": {},
   "outputs": [],
   "source": [
    "gs = GridSpec(\n",
    "        3, len(autosomes), \n",
    "        height_ratios=(1, 1, 0.3),\n",
    "        width_ratios=[len(genome[k]) for k in autosomes], \n",
    "        wspace=0.1, hspace=0.1)"
   ]
  },
  {
   "cell_type": "code",
   "execution_count": 21,
   "metadata": {},
   "outputs": [],
   "source": [
    "np.savez_compressed(\"/tmp/npf.npz\", x=np.random.random(1000))"
   ]
  },
  {
   "cell_type": "code",
   "execution_count": 24,
   "metadata": {},
   "outputs": [
    {
     "data": {
      "text/plain": [
       "PosixPath('/tmp/2R/47-6/Maternal.npz')"
      ]
     },
     "execution_count": 24,
     "metadata": {},
     "output_type": "execute_result"
    }
   ],
   "source": [
    "cache_fn"
   ]
  },
  {
   "cell_type": "code",
   "execution_count": 26,
   "metadata": {
    "scrolled": false
   },
   "outputs": [
    {
     "data": {
      "text/plain": [
       "<Figure size 864x360 with 0 Axes>"
      ]
     },
     "metadata": {},
     "output_type": "display_data"
    },
    {
     "data": {
      "text/plain": [
       "<Figure size 864x360 with 0 Axes>"
      ]
     },
     "metadata": {},
     "output_type": "display_data"
    },
    {
     "data": {
      "text/plain": [
       "<Figure size 864x360 with 0 Axes>"
      ]
     },
     "metadata": {},
     "output_type": "display_data"
    },
    {
     "data": {
      "text/plain": [
       "<Figure size 864x360 with 0 Axes>"
      ]
     },
     "metadata": {},
     "output_type": "display_data"
    },
    {
     "data": {
      "text/plain": [
       "<Figure size 864x360 with 0 Axes>"
      ]
     },
     "metadata": {},
     "output_type": "display_data"
    },
    {
     "data": {
      "text/plain": [
       "<Figure size 864x360 with 0 Axes>"
      ]
     },
     "metadata": {},
     "output_type": "display_data"
    },
    {
     "data": {
      "text/plain": [
       "<Figure size 864x360 with 0 Axes>"
      ]
     },
     "metadata": {},
     "output_type": "display_data"
    },
    {
     "data": {
      "text/plain": [
       "<Figure size 864x360 with 0 Axes>"
      ]
     },
     "metadata": {},
     "output_type": "display_data"
    },
    {
     "data": {
      "text/plain": [
       "<Figure size 864x360 with 0 Axes>"
      ]
     },
     "metadata": {},
     "output_type": "display_data"
    }
   ],
   "source": [
    "for xid in meta_info.cross.unique():\n",
    "    \n",
    "    fig = plt.figure(figsize=(12, 5))\n",
    "    plotfn =  Path(\"../artwork\", \"haplotype-validation\",\n",
    "                   \"allele_transmission_{xid}.png\".format(xid=xid))\n",
    "    \n",
    "    if plotfn.is_file():\n",
    "        continue\n",
    "\n",
    "    for i, chrom in enumerate(autosomes):\n",
    "    #for i, chrom in enumerate([\"3L\"]):\n",
    "\n",
    "        zarrfn = path / chrom / (xid + \".zarr2\")\n",
    "        zz = zarr.open_group(zarrfn.as_posix(), mode=\"r\")\n",
    "        phased_genotypes = allel.GenotypeChunkedArray(zz[\"phased_genotypes\"])\n",
    "        pos = allel.SortedIndex(zz[\"POS\"])\n",
    "\n",
    "        het_loci = allel.GenotypeArray(phased_genotypes).is_het().any(axis=1)\n",
    "        phased_genotypes = phased_genotypes.compress(het_loci, axis=0)\n",
    "\n",
    "        haplotypes_progeny = allel.GenotypeArray(phased_genotypes[:, 2:, :])\n",
    "        pos = pos.compress(het_loci)\n",
    "\n",
    "        for ix, parent_label in enumerate([\"Maternal\", \"Paternal\"]):\n",
    "\n",
    "            ax = fig.add_subplot(gs[ix, i])\n",
    "\n",
    "            cache_fn = Path(\"/tmp\", \"-\".join([chrom, xid, parent_label + \".npz\"]))\n",
    "\n",
    "            if cache_fn.is_file():\n",
    "                painting = np.load(cache_fn)[\"painting\"]\n",
    "            \n",
    "            else:\n",
    "                # pull out mother's genotypes from the first column\n",
    "                genotypes_parent = phased_genotypes[:, ix]\n",
    "\n",
    "                # convert to haplotype array\n",
    "                haplotypes_parent = genotypes_parent.to_haplotypes()\n",
    "\n",
    "                # pull out maternal haplotypes from the progeny\n",
    "                haplotypes_progeny_given_parent = haplotypes_progeny[:, :, ix]\n",
    "\n",
    "                painting = allel.paint_transmission(\n",
    "                    haplotypes_parent, haplotypes_progeny_given_parent)\n",
    "                \n",
    "                np.savez_compressed(cache_fn, painting=painting)\n",
    "\n",
    "            \n",
    "            # skip every 5 rows.\n",
    "            plot_transmission(painting[::2], ax=ax)\n",
    "            ax.tick_params(direction='out', length=1, width=1)\n",
    "\n",
    "            if i == 0:\n",
    "                ax.set_ylabel(parent_label)\n",
    "\n",
    "        ax = fig.add_subplot(gs[2, i])\n",
    "        allel.plot_variant_locator(pos, ax=ax)\n",
    "        _ = ax.set_xticks(np.arange(0, len(genome[chrom]), 1e7))\n",
    "        ax.xaxis.set_ticks_position(\"bottom\")\n",
    "        formatter = FuncFormatter(fposition)\n",
    "        ax.xaxis.set_major_formatter(formatter)\n",
    "        ax.set_xlabel(chrom)\n",
    "\n",
    "    _ = fig.text(0.5, 0.03, 'Genomic position (Mbp)', ha='center', va='top')\n",
    "    _ = fig.suptitle(\"Haplotype transmission for {xid}\".format(xid=xid))\n",
    "\n",
    "    fig.savefig(\n",
    "        plotfn,\n",
    "        dpi=300,\n",
    "        bbox_inches='tight')\n",
    "    \n",
    "    plt.close()"
   ]
  },
  {
   "cell_type": "markdown",
   "metadata": {
    "collapsed": true
   },
   "source": [
    "## Panel B"
   ]
  },
  {
   "cell_type": "code",
   "execution_count": 30,
   "metadata": {},
   "outputs": [],
   "source": []
  },
  {
   "cell_type": "code",
   "execution_count": 31,
   "metadata": {},
   "outputs": [],
   "source": [
    "from intervaltree import IntervalTree\n",
    "import pyfasta"
   ]
  },
  {
   "cell_type": "code",
   "execution_count": 34,
   "metadata": {},
   "outputs": [],
   "source": [
    "import re\n",
    "def find_reference_gaps(genome_fa, gap_size=300):\n",
    "\n",
    "    # fix on a gapsize of 1kb, as ld breaks down over this distance and\n",
    "    # do chunks of 10k at a time. look for consecutive Ns.\n",
    "    size = 10000\n",
    "    gaps = list()\n",
    "    \n",
    "    match = \"N{{{n}}}?\".format(n=gap_size)\n",
    "    \n",
    "    for i in range(0, len(genome_fa), size - (2 * gap_size)):\n",
    "        text = genome_fa[i:i+size]\n",
    "\n",
    "        for m in re.finditer(match, text, flags=re.IGNORECASE):\n",
    "            gaps.append((i + m.start(), i + m.end()))\n",
    "\n",
    "    tree = IntervalTree.from_tuples(gaps)\n",
    "    tree.merge_overlaps()\n",
    "\n",
    "    return np.array([[iv.begin, iv.end] for iv in sorted(tree)])"
   ]
  },
  {
   "cell_type": "code",
   "execution_count": 52,
   "metadata": {
    "collapsed": true
   },
   "outputs": [],
   "source": [
    "# load data from data release"
   ]
  },
  {
   "cell_type": "code",
   "execution_count": 83,
   "metadata": {},
   "outputs": [],
   "source": [
    "eval_path = Path(\n",
    "    \"/kwiat/vector/ag1000g/analysis/20170316-phase2-haplotypes\")"
   ]
  },
  {
   "cell_type": "code",
   "execution_count": 88,
   "metadata": {},
   "outputs": [],
   "source": [
    "frame_d = {\n",
    "    chrom: eval_path / \"eval_autosomal_phasing/output/{chrom}_table_switch_errors.txt\".format(chrom=chrom)\n",
    "    for chrom in autosomes}\n",
    "\n",
    "frame_d[\"X\"] = eval_path / \"eval_x_phasing/output/X_table_switch_errors.txt\""
   ]
  },
  {
   "cell_type": "code",
   "execution_count": 91,
   "metadata": {},
   "outputs": [
    {
     "name": "stdout",
     "output_type": "stream",
     "text": [
      "2R /kwiat/vector/ag1000g/analysis/20170316-phase2-haplotypes/eval_autosomal_phasing/output/2R_table_switch_errors.txt True\n",
      "2L /kwiat/vector/ag1000g/analysis/20170316-phase2-haplotypes/eval_autosomal_phasing/output/2L_table_switch_errors.txt True\n",
      "3R /kwiat/vector/ag1000g/analysis/20170316-phase2-haplotypes/eval_autosomal_phasing/output/3R_table_switch_errors.txt True\n",
      "3L /kwiat/vector/ag1000g/analysis/20170316-phase2-haplotypes/eval_autosomal_phasing/output/3L_table_switch_errors.txt True\n",
      "X /kwiat/vector/ag1000g/analysis/20170316-phase2-haplotypes/eval_x_phasing/output/X_table_switch_errors.txt True\n"
     ]
    }
   ],
   "source": [
    "for k, v in frame_d.items():\n",
    "    print(k, v.absolute(), v.is_file())   "
   ]
  },
  {
   "cell_type": "code",
   "execution_count": 92,
   "metadata": {},
   "outputs": [],
   "source": [
    "def draw_msd_across_genome(genome_pos, marker_dist, mean_switch_dist, number_markers, chrom, ax):\n",
    "\n",
    "    mean_switch_dist[number_markers < 50] = np.NaN\n",
    "        \n",
    "    ax.plot(genome_pos, 2 * marker_dist, 'k-', linewidth=1.0)\n",
    "    ax.plot(genome_pos, mean_switch_dist, 'r-',  linewidth=1.0)\n",
    "\n",
    "    ax.grid(True)\n",
    "    \n",
    "    ax.set_yscale(\"log\")\n",
    "    ax.set_ylim((100, 2000000))\n",
    "    ax.set_xlim((0, len(genome[chrom])))\n",
    "    \n",
    "    _ = ax.set_xticks(np.arange(0, len(genome[chrom]), 1e7))\n",
    "\n",
    "    return ax"
   ]
  },
  {
   "cell_type": "code",
   "execution_count": 93,
   "metadata": {},
   "outputs": [],
   "source": [
    "def draw_switch_err_rate(genome_pos, rate, number_markers, chrom, ax):\n",
    "\n",
    "    rate[number_markers < 50] = np.NaN   \n",
    "    ax.plot(genome_pos, 1 - rate, 'r-', linewidth=1.0)\n",
    "\n",
    "    ax.grid(True)\n",
    "    ax.set_ylim((0.82, 1.0))\n",
    "    ax.set_xlim((0, len(genome[chrom])))\n",
    "    \n",
    "    _ = ax.set_xticks(np.arange(0, len(genome[chrom]), 1e7))\n",
    "    formatter = FuncFormatter(fposition)\n",
    "    ax.xaxis.set_major_formatter(formatter)\n",
    "\n",
    "    return ax"
   ]
  },
  {
   "cell_type": "code",
   "execution_count": 96,
   "metadata": {},
   "outputs": [
    {
     "data": {
      "text/plain": [
       "('2R', '2L', '3R', '3L', 'X')"
      ]
     },
     "execution_count": 96,
     "metadata": {},
     "output_type": "execute_result"
    }
   ],
   "source": []
  },
  {
   "cell_type": "code",
   "execution_count": 97,
   "metadata": {},
   "outputs": [
    {
     "data": {
      "image/png": "[encoded data removed]",
      "text/plain": [
       "<Figure size 864x216 with 10 Axes>"
      ]
     },
     "metadata": {
      "image/png": {
       "height": 231,
       "width": 743
      },
      "needs_background": "light"
     },
     "output_type": "display_data"
    }
   ],
   "source": [
    "contigs = chromosomes[:5]\n",
    "\n",
    "\n",
    "gs = GridSpec(\n",
    "    2, len(contigs), \n",
    "    width_ratios=[len(genome[k]) for k in contigs], \n",
    "    wspace=0.2)\n",
    "\n",
    "fig = plt.figure(figsize=(12, 3))\n",
    "\n",
    "for i, chrom in enumerate(contigs):\n",
    "\n",
    "    df = pandas.read_csv(frame_d[chrom], sep=\"\\t\")\n",
    "\n",
    "    ax1 = fig.add_subplot(gs[0, i])\n",
    "    ax2 = fig.add_subplot(gs[1, i])\n",
    "    sns.despine(ax=ax1, offset=5)\n",
    "    sns.despine(ax=ax2, offset=5)\n",
    "\n",
    "    pos = 0.5 * np.array(df.start + df.stop)\n",
    "    mean_marker_d = np.array(df.mean_marker_dist)\n",
    "    mean_switch_d = np.array(df.mean_switch_dist)\n",
    "\n",
    "    n_markers = np.array(df.n_markers)\n",
    "    err_rate = np.array(df.err_rate)\n",
    "\n",
    "    draw_msd_across_genome(pos, mean_marker_d, mean_switch_d, n_markers, chrom, ax1)\n",
    "    draw_switch_err_rate(pos, err_rate, n_markers, chrom, ax2)\n",
    "\n",
    "    if i == 0:\n",
    "        ax1.set_ylabel(\"Mean switch\\ndistance (bp)\")\n",
    "        ax2.set_ylabel(\"1 - \\n(switch error rate)\")\n",
    "    else:\n",
    "        ax1.yaxis.set_tick_params(which=\"both\", width=0)\n",
    "        ax2.yaxis.set_tick_params(which=\"both\", width=0)\n",
    "\n",
    "        ax1.set_yticklabels([])\n",
    "        ax2.set_yticklabels([])\n",
    "\n",
    "    ax1.xaxis.set_tick_params(which=\"both\", width=0)\n",
    "    ax1.set_xticklabels([])\n",
    "    ax1.set_title(chrom, fontsize=10)\n",
    "\n",
    "fig.text(0.5, -0.04, 'Genomic position (Mbp)', ha='center', va='center', fontsize=10)\n",
    "fig.savefig(\"../artwork/hapvalidation.jpeg\", \n",
    "            jpeg_quality=100, dpi=900, \n",
    "            bbox_inches='tight')"
   ]
  },
  {
   "cell_type": "markdown",
   "metadata": {
    "collapsed": true
   },
   "source": [
    "## Finally compute the per chromosome means presented in the paper"
   ]
  },
  {
   "cell_type": "code",
   "execution_count": 99,
   "metadata": {},
   "outputs": [
    {
     "data": {
      "text/html": [
       "<div>\n",
       "<style scoped>\n",
       "    .dataframe tbody tr th:only-of-type {\n",
       "        vertical-align: middle;\n",
       "    }\n",
       "\n",
       "    .dataframe tbody tr th {\n",
       "        vertical-align: top;\n",
       "    }\n",
       "\n",
       "    .dataframe thead th {\n",
       "        text-align: right;\n",
       "    }\n",
       "</style>\n",
       "<table border=\"1\" class=\"dataframe\">\n",
       "  <thead>\n",
       "    <tr style=\"text-align: right;\">\n",
       "      <th></th>\n",
       "      <th></th>\n",
       "      <th>start</th>\n",
       "      <th>stop</th>\n",
       "      <th>n_markers</th>\n",
       "      <th>n_errors</th>\n",
       "      <th>err_rate</th>\n",
       "      <th>distance</th>\n",
       "      <th>mean_marker_dist</th>\n",
       "      <th>mean_switch_dist</th>\n",
       "    </tr>\n",
       "  </thead>\n",
       "  <tbody>\n",
       "    <tr>\n",
       "      <th rowspan=\"30\" valign=\"top\">2L</th>\n",
       "      <th>0</th>\n",
       "      <td>1</td>\n",
       "      <td>500000</td>\n",
       "      <td>1157</td>\n",
       "      <td>25</td>\n",
       "      <td>0.021151</td>\n",
       "      <td>1549441.0</td>\n",
       "      <td>1339.188418</td>\n",
       "      <td>63316.828418</td>\n",
       "    </tr>\n",
       "    <tr>\n",
       "      <th>1</th>\n",
       "      <td>250001</td>\n",
       "      <td>750000</td>\n",
       "      <td>2082</td>\n",
       "      <td>69</td>\n",
       "      <td>0.032078</td>\n",
       "      <td>3154251.0</td>\n",
       "      <td>1515.010086</td>\n",
       "      <td>47228.792695</td>\n",
       "    </tr>\n",
       "    <tr>\n",
       "      <th>2</th>\n",
       "      <td>500001</td>\n",
       "      <td>1000000</td>\n",
       "      <td>2520</td>\n",
       "      <td>93</td>\n",
       "      <td>0.035591</td>\n",
       "      <td>3789328.0</td>\n",
       "      <td>1503.701587</td>\n",
       "      <td>42249.163953</td>\n",
       "    </tr>\n",
       "    <tr>\n",
       "      <th>3</th>\n",
       "      <td>750001</td>\n",
       "      <td>1250000</td>\n",
       "      <td>2030</td>\n",
       "      <td>59</td>\n",
       "      <td>0.028243</td>\n",
       "      <td>2656884.0</td>\n",
       "      <td>1308.809852</td>\n",
       "      <td>46340.742056</td>\n",
       "    </tr>\n",
       "    <tr>\n",
       "      <th>4</th>\n",
       "      <td>1000001</td>\n",
       "      <td>1500000</td>\n",
       "      <td>2347</td>\n",
       "      <td>61</td>\n",
       "      <td>0.025332</td>\n",
       "      <td>2773485.0</td>\n",
       "      <td>1181.714955</td>\n",
       "      <td>46648.682168</td>\n",
       "    </tr>\n",
       "    <tr>\n",
       "      <th>5</th>\n",
       "      <td>1250001</td>\n",
       "      <td>1750000</td>\n",
       "      <td>4266</td>\n",
       "      <td>133</td>\n",
       "      <td>0.030234</td>\n",
       "      <td>3972135.0</td>\n",
       "      <td>931.114627</td>\n",
       "      <td>30796.791319</td>\n",
       "    </tr>\n",
       "    <tr>\n",
       "      <th>6</th>\n",
       "      <td>1500001</td>\n",
       "      <td>2000000</td>\n",
       "      <td>3960</td>\n",
       "      <td>111</td>\n",
       "      <td>0.027266</td>\n",
       "      <td>4579941.0</td>\n",
       "      <td>1156.550758</td>\n",
       "      <td>42417.280487</td>\n",
       "    </tr>\n",
       "    <tr>\n",
       "      <th>7</th>\n",
       "      <td>1750001</td>\n",
       "      <td>2250000</td>\n",
       "      <td>2888</td>\n",
       "      <td>41</td>\n",
       "      <td>0.013998</td>\n",
       "      <td>3584587.0</td>\n",
       "      <td>1241.200485</td>\n",
       "      <td>88670.151704</td>\n",
       "    </tr>\n",
       "    <tr>\n",
       "      <th>8</th>\n",
       "      <td>2000001</td>\n",
       "      <td>2500000</td>\n",
       "      <td>3961</td>\n",
       "      <td>33</td>\n",
       "      <td>0.008262</td>\n",
       "      <td>3951049.0</td>\n",
       "      <td>997.487756</td>\n",
       "      <td>120726.245331</td>\n",
       "    </tr>\n",
       "    <tr>\n",
       "      <th>9</th>\n",
       "      <td>2250001</td>\n",
       "      <td>2750000</td>\n",
       "      <td>7042</td>\n",
       "      <td>71</td>\n",
       "      <td>0.009982</td>\n",
       "      <td>5452600.0</td>\n",
       "      <td>774.297075</td>\n",
       "      <td>77571.480173</td>\n",
       "    </tr>\n",
       "    <tr>\n",
       "      <th>10</th>\n",
       "      <td>2500001</td>\n",
       "      <td>3000000</td>\n",
       "      <td>9626</td>\n",
       "      <td>118</td>\n",
       "      <td>0.012110</td>\n",
       "      <td>5719661.0</td>\n",
       "      <td>594.188760</td>\n",
       "      <td>49065.892149</td>\n",
       "    </tr>\n",
       "    <tr>\n",
       "      <th>11</th>\n",
       "      <td>2750001</td>\n",
       "      <td>3250000</td>\n",
       "      <td>15535</td>\n",
       "      <td>140</td>\n",
       "      <td>0.008931</td>\n",
       "      <td>5873356.0</td>\n",
       "      <td>378.072481</td>\n",
       "      <td>42330.615339</td>\n",
       "    </tr>\n",
       "    <tr>\n",
       "      <th>12</th>\n",
       "      <td>3000001</td>\n",
       "      <td>3500000</td>\n",
       "      <td>26379</td>\n",
       "      <td>280</td>\n",
       "      <td>0.010503</td>\n",
       "      <td>6898264.0</td>\n",
       "      <td>261.505895</td>\n",
       "      <td>24898.163038</td>\n",
       "    </tr>\n",
       "    <tr>\n",
       "      <th>13</th>\n",
       "      <td>3250001</td>\n",
       "      <td>3750000</td>\n",
       "      <td>33187</td>\n",
       "      <td>361</td>\n",
       "      <td>0.010761</td>\n",
       "      <td>7355272.0</td>\n",
       "      <td>221.631121</td>\n",
       "      <td>20596.345802</td>\n",
       "    </tr>\n",
       "    <tr>\n",
       "      <th>14</th>\n",
       "      <td>3500001</td>\n",
       "      <td>4000000</td>\n",
       "      <td>33438</td>\n",
       "      <td>312</td>\n",
       "      <td>0.009244</td>\n",
       "      <td>7595263.0</td>\n",
       "      <td>227.144656</td>\n",
       "      <td>24570.936322</td>\n",
       "    </tr>\n",
       "    <tr>\n",
       "      <th>15</th>\n",
       "      <td>3750001</td>\n",
       "      <td>4250000</td>\n",
       "      <td>27198</td>\n",
       "      <td>222</td>\n",
       "      <td>0.008096</td>\n",
       "      <td>6810227.0</td>\n",
       "      <td>250.394404</td>\n",
       "      <td>30927.092602</td>\n",
       "    </tr>\n",
       "    <tr>\n",
       "      <th>16</th>\n",
       "      <td>4000001</td>\n",
       "      <td>4500000</td>\n",
       "      <td>34208</td>\n",
       "      <td>223</td>\n",
       "      <td>0.006477</td>\n",
       "      <td>7988105.0</td>\n",
       "      <td>233.515698</td>\n",
       "      <td>36054.614353</td>\n",
       "    </tr>\n",
       "    <tr>\n",
       "      <th>17</th>\n",
       "      <td>4250001</td>\n",
       "      <td>4750000</td>\n",
       "      <td>39997</td>\n",
       "      <td>272</td>\n",
       "      <td>0.006755</td>\n",
       "      <td>9527215.0</td>\n",
       "      <td>238.198240</td>\n",
       "      <td>35264.723975</td>\n",
       "    </tr>\n",
       "    <tr>\n",
       "      <th>18</th>\n",
       "      <td>4500001</td>\n",
       "      <td>5000000</td>\n",
       "      <td>37992</td>\n",
       "      <td>233</td>\n",
       "      <td>0.006095</td>\n",
       "      <td>8948333.0</td>\n",
       "      <td>235.532033</td>\n",
       "      <td>38640.394694</td>\n",
       "    </tr>\n",
       "    <tr>\n",
       "      <th>19</th>\n",
       "      <td>4750001</td>\n",
       "      <td>5250000</td>\n",
       "      <td>24034</td>\n",
       "      <td>126</td>\n",
       "      <td>0.005215</td>\n",
       "      <td>5823686.0</td>\n",
       "      <td>242.310310</td>\n",
       "      <td>46462.040469</td>\n",
       "    </tr>\n",
       "    <tr>\n",
       "      <th>20</th>\n",
       "      <td>5000001</td>\n",
       "      <td>5500000</td>\n",
       "      <td>3914</td>\n",
       "      <td>26</td>\n",
       "      <td>0.006599</td>\n",
       "      <td>1462596.0</td>\n",
       "      <td>373.683189</td>\n",
       "      <td>56627.375496</td>\n",
       "    </tr>\n",
       "    <tr>\n",
       "      <th>21</th>\n",
       "      <td>5250001</td>\n",
       "      <td>5750000</td>\n",
       "      <td>17559</td>\n",
       "      <td>63</td>\n",
       "      <td>0.003575</td>\n",
       "      <td>5112723.0</td>\n",
       "      <td>291.173928</td>\n",
       "      <td>81445.507261</td>\n",
       "    </tr>\n",
       "    <tr>\n",
       "      <th>22</th>\n",
       "      <td>5500001</td>\n",
       "      <td>6000000</td>\n",
       "      <td>36886</td>\n",
       "      <td>166</td>\n",
       "      <td>0.004480</td>\n",
       "      <td>9417689.0</td>\n",
       "      <td>255.318793</td>\n",
       "      <td>56988.385058</td>\n",
       "    </tr>\n",
       "    <tr>\n",
       "      <th>23</th>\n",
       "      <td>5750001</td>\n",
       "      <td>6250000</td>\n",
       "      <td>43120</td>\n",
       "      <td>277</td>\n",
       "      <td>0.006383</td>\n",
       "      <td>9716935.0</td>\n",
       "      <td>225.346359</td>\n",
       "      <td>35304.534085</td>\n",
       "    </tr>\n",
       "    <tr>\n",
       "      <th>24</th>\n",
       "      <td>6000001</td>\n",
       "      <td>6500000</td>\n",
       "      <td>39031</td>\n",
       "      <td>271</td>\n",
       "      <td>0.006895</td>\n",
       "      <td>9506020.0</td>\n",
       "      <td>243.550511</td>\n",
       "      <td>35321.115087</td>\n",
       "    </tr>\n",
       "    <tr>\n",
       "      <th>25</th>\n",
       "      <td>6250001</td>\n",
       "      <td>6750000</td>\n",
       "      <td>39810</td>\n",
       "      <td>315</td>\n",
       "      <td>0.007850</td>\n",
       "      <td>9729249.0</td>\n",
       "      <td>244.392087</td>\n",
       "      <td>31130.896849</td>\n",
       "    </tr>\n",
       "    <tr>\n",
       "      <th>26</th>\n",
       "      <td>6500001</td>\n",
       "      <td>7000000</td>\n",
       "      <td>54658</td>\n",
       "      <td>359</td>\n",
       "      <td>0.006525</td>\n",
       "      <td>10271175.0</td>\n",
       "      <td>187.917139</td>\n",
       "      <td>28798.432460</td>\n",
       "    </tr>\n",
       "    <tr>\n",
       "      <th>27</th>\n",
       "      <td>6750001</td>\n",
       "      <td>7250000</td>\n",
       "      <td>51052</td>\n",
       "      <td>290</td>\n",
       "      <td>0.005648</td>\n",
       "      <td>9975137.0</td>\n",
       "      <td>195.391699</td>\n",
       "      <td>34592.415837</td>\n",
       "    </tr>\n",
       "    <tr>\n",
       "      <th>28</th>\n",
       "      <td>7000001</td>\n",
       "      <td>7500000</td>\n",
       "      <td>31688</td>\n",
       "      <td>212</td>\n",
       "      <td>0.006646</td>\n",
       "      <td>8958343.0</td>\n",
       "      <td>282.704588</td>\n",
       "      <td>42539.039494</td>\n",
       "    </tr>\n",
       "    <tr>\n",
       "      <th>29</th>\n",
       "      <td>7250001</td>\n",
       "      <td>7750000</td>\n",
       "      <td>35095</td>\n",
       "      <td>265</td>\n",
       "      <td>0.007494</td>\n",
       "      <td>8718618.0</td>\n",
       "      <td>248.429064</td>\n",
       "      <td>33148.874347</td>\n",
       "    </tr>\n",
       "    <tr>\n",
       "      <th>...</th>\n",
       "      <th>...</th>\n",
       "      <td>...</td>\n",
       "      <td>...</td>\n",
       "      <td>...</td>\n",
       "      <td>...</td>\n",
       "      <td>...</td>\n",
       "      <td>...</td>\n",
       "      <td>...</td>\n",
       "      <td>...</td>\n",
       "    </tr>\n",
       "    <tr>\n",
       "      <th rowspan=\"30\" valign=\"top\">3R</th>\n",
       "      <th>182</th>\n",
       "      <td>45500001</td>\n",
       "      <td>46000000</td>\n",
       "      <td>28405</td>\n",
       "      <td>242</td>\n",
       "      <td>0.008448</td>\n",
       "      <td>6396744.0</td>\n",
       "      <td>225.197817</td>\n",
       "      <td>26658.024264</td>\n",
       "    </tr>\n",
       "    <tr>\n",
       "      <th>183</th>\n",
       "      <td>45750001</td>\n",
       "      <td>46250000</td>\n",
       "      <td>20928</td>\n",
       "      <td>218</td>\n",
       "      <td>0.010309</td>\n",
       "      <td>6216249.0</td>\n",
       "      <td>297.030247</td>\n",
       "      <td>28811.933916</td>\n",
       "    </tr>\n",
       "    <tr>\n",
       "      <th>184</th>\n",
       "      <td>46000001</td>\n",
       "      <td>46500000</td>\n",
       "      <td>23055</td>\n",
       "      <td>284</td>\n",
       "      <td>0.012168</td>\n",
       "      <td>7041287.0</td>\n",
       "      <td>305.412579</td>\n",
       "      <td>25098.676663</td>\n",
       "    </tr>\n",
       "    <tr>\n",
       "      <th>185</th>\n",
       "      <td>46250001</td>\n",
       "      <td>46750000</td>\n",
       "      <td>25961</td>\n",
       "      <td>249</td>\n",
       "      <td>0.009500</td>\n",
       "      <td>7051735.0</td>\n",
       "      <td>271.628019</td>\n",
       "      <td>28591.848902</td>\n",
       "    </tr>\n",
       "    <tr>\n",
       "      <th>186</th>\n",
       "      <td>46500001</td>\n",
       "      <td>47000000</td>\n",
       "      <td>23776</td>\n",
       "      <td>171</td>\n",
       "      <td>0.007141</td>\n",
       "      <td>6455056.0</td>\n",
       "      <td>271.494616</td>\n",
       "      <td>38020.360113</td>\n",
       "    </tr>\n",
       "    <tr>\n",
       "      <th>187</th>\n",
       "      <td>46750001</td>\n",
       "      <td>47250000</td>\n",
       "      <td>27364</td>\n",
       "      <td>180</td>\n",
       "      <td>0.006535</td>\n",
       "      <td>6430680.0</td>\n",
       "      <td>235.005116</td>\n",
       "      <td>35961.005116</td>\n",
       "    </tr>\n",
       "    <tr>\n",
       "      <th>188</th>\n",
       "      <td>47000001</td>\n",
       "      <td>47500000</td>\n",
       "      <td>33242</td>\n",
       "      <td>295</td>\n",
       "      <td>0.008796</td>\n",
       "      <td>6767026.0</td>\n",
       "      <td>203.568558</td>\n",
       "      <td>23142.639744</td>\n",
       "    </tr>\n",
       "    <tr>\n",
       "      <th>189</th>\n",
       "      <td>47250001</td>\n",
       "      <td>47750000</td>\n",
       "      <td>29136</td>\n",
       "      <td>279</td>\n",
       "      <td>0.009485</td>\n",
       "      <td>6149916.0</td>\n",
       "      <td>211.076194</td>\n",
       "      <td>22253.785872</td>\n",
       "    </tr>\n",
       "    <tr>\n",
       "      <th>190</th>\n",
       "      <td>47500001</td>\n",
       "      <td>48000000</td>\n",
       "      <td>24165</td>\n",
       "      <td>199</td>\n",
       "      <td>0.008168</td>\n",
       "      <td>5224890.0</td>\n",
       "      <td>216.217256</td>\n",
       "      <td>26471.945900</td>\n",
       "    </tr>\n",
       "    <tr>\n",
       "      <th>191</th>\n",
       "      <td>47750001</td>\n",
       "      <td>48250000</td>\n",
       "      <td>22188</td>\n",
       "      <td>200</td>\n",
       "      <td>0.008933</td>\n",
       "      <td>5738780.0</td>\n",
       "      <td>258.643411</td>\n",
       "      <td>28952.543411</td>\n",
       "    </tr>\n",
       "    <tr>\n",
       "      <th>192</th>\n",
       "      <td>48000001</td>\n",
       "      <td>48500000</td>\n",
       "      <td>25366</td>\n",
       "      <td>242</td>\n",
       "      <td>0.009450</td>\n",
       "      <td>6075467.0</td>\n",
       "      <td>239.512221</td>\n",
       "      <td>25344.747758</td>\n",
       "    </tr>\n",
       "    <tr>\n",
       "      <th>193</th>\n",
       "      <td>48250001</td>\n",
       "      <td>48750000</td>\n",
       "      <td>23137</td>\n",
       "      <td>218</td>\n",
       "      <td>0.009334</td>\n",
       "      <td>6217542.0</td>\n",
       "      <td>268.727233</td>\n",
       "      <td>28789.562096</td>\n",
       "    </tr>\n",
       "    <tr>\n",
       "      <th>194</th>\n",
       "      <td>48500001</td>\n",
       "      <td>49000000</td>\n",
       "      <td>19543</td>\n",
       "      <td>178</td>\n",
       "      <td>0.009026</td>\n",
       "      <td>6175628.0</td>\n",
       "      <td>316.002047</td>\n",
       "      <td>35010.541373</td>\n",
       "    </tr>\n",
       "    <tr>\n",
       "      <th>195</th>\n",
       "      <td>48750001</td>\n",
       "      <td>49250000</td>\n",
       "      <td>19485</td>\n",
       "      <td>161</td>\n",
       "      <td>0.008195</td>\n",
       "      <td>5383365.0</td>\n",
       "      <td>276.282525</td>\n",
       "      <td>33713.332214</td>\n",
       "    </tr>\n",
       "    <tr>\n",
       "      <th>196</th>\n",
       "      <td>49000001</td>\n",
       "      <td>49500000</td>\n",
       "      <td>19571</td>\n",
       "      <td>133</td>\n",
       "      <td>0.006750</td>\n",
       "      <td>5878806.0</td>\n",
       "      <td>300.383527</td>\n",
       "      <td>44501.932399</td>\n",
       "    </tr>\n",
       "    <tr>\n",
       "      <th>197</th>\n",
       "      <td>49250001</td>\n",
       "      <td>49750000</td>\n",
       "      <td>23491</td>\n",
       "      <td>180</td>\n",
       "      <td>0.007604</td>\n",
       "      <td>7056023.0</td>\n",
       "      <td>300.371334</td>\n",
       "      <td>39500.499111</td>\n",
       "    </tr>\n",
       "    <tr>\n",
       "      <th>198</th>\n",
       "      <td>49500001</td>\n",
       "      <td>50000000</td>\n",
       "      <td>30015</td>\n",
       "      <td>286</td>\n",
       "      <td>0.009439</td>\n",
       "      <td>7266417.0</td>\n",
       "      <td>242.092854</td>\n",
       "      <td>25649.145301</td>\n",
       "    </tr>\n",
       "    <tr>\n",
       "      <th>199</th>\n",
       "      <td>49750001</td>\n",
       "      <td>50250000</td>\n",
       "      <td>41770</td>\n",
       "      <td>335</td>\n",
       "      <td>0.007956</td>\n",
       "      <td>8507742.0</td>\n",
       "      <td>203.680680</td>\n",
       "      <td>25599.925456</td>\n",
       "    </tr>\n",
       "    <tr>\n",
       "      <th>200</th>\n",
       "      <td>50000001</td>\n",
       "      <td>50500000</td>\n",
       "      <td>43103</td>\n",
       "      <td>287</td>\n",
       "      <td>0.006614</td>\n",
       "      <td>8806145.0</td>\n",
       "      <td>204.304689</td>\n",
       "      <td>30887.736745</td>\n",
       "    </tr>\n",
       "    <tr>\n",
       "      <th>201</th>\n",
       "      <td>50250001</td>\n",
       "      <td>50750000</td>\n",
       "      <td>37711</td>\n",
       "      <td>290</td>\n",
       "      <td>0.007631</td>\n",
       "      <td>8177543.0</td>\n",
       "      <td>216.847684</td>\n",
       "      <td>28415.271822</td>\n",
       "    </tr>\n",
       "    <tr>\n",
       "      <th>202</th>\n",
       "      <td>50500001</td>\n",
       "      <td>51000000</td>\n",
       "      <td>35581</td>\n",
       "      <td>260</td>\n",
       "      <td>0.007254</td>\n",
       "      <td>8233353.0</td>\n",
       "      <td>231.397459</td>\n",
       "      <td>31898.139767</td>\n",
       "    </tr>\n",
       "    <tr>\n",
       "      <th>203</th>\n",
       "      <td>50750001</td>\n",
       "      <td>51250000</td>\n",
       "      <td>32056</td>\n",
       "      <td>172</td>\n",
       "      <td>0.005337</td>\n",
       "      <td>8313180.0</td>\n",
       "      <td>259.333042</td>\n",
       "      <td>48591.774903</td>\n",
       "    </tr>\n",
       "    <tr>\n",
       "      <th>204</th>\n",
       "      <td>51000001</td>\n",
       "      <td>51500000</td>\n",
       "      <td>29661</td>\n",
       "      <td>193</td>\n",
       "      <td>0.006465</td>\n",
       "      <td>8248186.0</td>\n",
       "      <td>278.081858</td>\n",
       "      <td>43014.796884</td>\n",
       "    </tr>\n",
       "    <tr>\n",
       "      <th>205</th>\n",
       "      <td>51250001</td>\n",
       "      <td>51750000</td>\n",
       "      <td>32043</td>\n",
       "      <td>212</td>\n",
       "      <td>0.006573</td>\n",
       "      <td>8431436.0</td>\n",
       "      <td>263.128796</td>\n",
       "      <td>40034.053324</td>\n",
       "    </tr>\n",
       "    <tr>\n",
       "      <th>206</th>\n",
       "      <td>51500001</td>\n",
       "      <td>52000000</td>\n",
       "      <td>27521</td>\n",
       "      <td>190</td>\n",
       "      <td>0.006856</td>\n",
       "      <td>8272482.0</td>\n",
       "      <td>300.587987</td>\n",
       "      <td>43839.966935</td>\n",
       "    </tr>\n",
       "    <tr>\n",
       "      <th>207</th>\n",
       "      <td>51750001</td>\n",
       "      <td>52250000</td>\n",
       "      <td>15493</td>\n",
       "      <td>174</td>\n",
       "      <td>0.011106</td>\n",
       "      <td>7391562.0</td>\n",
       "      <td>477.090428</td>\n",
       "      <td>42957.331807</td>\n",
       "    </tr>\n",
       "    <tr>\n",
       "      <th>208</th>\n",
       "      <td>52000001</td>\n",
       "      <td>52500000</td>\n",
       "      <td>7943</td>\n",
       "      <td>101</td>\n",
       "      <td>0.012556</td>\n",
       "      <td>4957358.0</td>\n",
       "      <td>624.116581</td>\n",
       "      <td>49706.869056</td>\n",
       "    </tr>\n",
       "    <tr>\n",
       "      <th>209</th>\n",
       "      <td>52250001</td>\n",
       "      <td>52750000</td>\n",
       "      <td>3168</td>\n",
       "      <td>37</td>\n",
       "      <td>0.011544</td>\n",
       "      <td>2135705.0</td>\n",
       "      <td>674.149306</td>\n",
       "      <td>58395.906062</td>\n",
       "    </tr>\n",
       "    <tr>\n",
       "      <th>210</th>\n",
       "      <td>52500001</td>\n",
       "      <td>53000000</td>\n",
       "      <td>2252</td>\n",
       "      <td>38</td>\n",
       "      <td>0.016594</td>\n",
       "      <td>1948295.0</td>\n",
       "      <td>865.139876</td>\n",
       "      <td>52136.060928</td>\n",
       "    </tr>\n",
       "    <tr>\n",
       "      <th>211</th>\n",
       "      <td>52750001</td>\n",
       "      <td>53200684</td>\n",
       "      <td>2451</td>\n",
       "      <td>45</td>\n",
       "      <td>0.018029</td>\n",
       "      <td>2020445.0</td>\n",
       "      <td>824.334965</td>\n",
       "      <td>45723.112743</td>\n",
       "    </tr>\n",
       "  </tbody>\n",
       "</table>\n",
       "<p>822 rows × 8 columns</p>\n",
       "</div>"
      ],
      "text/plain": [
       "           start      stop  n_markers  n_errors  err_rate    distance  \\\n",
       "2L 0           1    500000       1157        25  0.021151   1549441.0   \n",
       "   1      250001    750000       2082        69  0.032078   3154251.0   \n",
       "   2      500001   1000000       2520        93  0.035591   3789328.0   \n",
       "   3      750001   1250000       2030        59  0.028243   2656884.0   \n",
       "   4     1000001   1500000       2347        61  0.025332   2773485.0   \n",
       "   5     1250001   1750000       4266       133  0.030234   3972135.0   \n",
       "   6     1500001   2000000       3960       111  0.027266   4579941.0   \n",
       "   7     1750001   2250000       2888        41  0.013998   3584587.0   \n",
       "   8     2000001   2500000       3961        33  0.008262   3951049.0   \n",
       "   9     2250001   2750000       7042        71  0.009982   5452600.0   \n",
       "   10    2500001   3000000       9626       118  0.012110   5719661.0   \n",
       "   11    2750001   3250000      15535       140  0.008931   5873356.0   \n",
       "   12    3000001   3500000      26379       280  0.010503   6898264.0   \n",
       "   13    3250001   3750000      33187       361  0.010761   7355272.0   \n",
       "   14    3500001   4000000      33438       312  0.009244   7595263.0   \n",
       "   15    3750001   4250000      27198       222  0.008096   6810227.0   \n",
       "   16    4000001   4500000      34208       223  0.006477   7988105.0   \n",
       "   17    4250001   4750000      39997       272  0.006755   9527215.0   \n",
       "   18    4500001   5000000      37992       233  0.006095   8948333.0   \n",
       "   19    4750001   5250000      24034       126  0.005215   5823686.0   \n",
       "   20    5000001   5500000       3914        26  0.006599   1462596.0   \n",
       "   21    5250001   5750000      17559        63  0.003575   5112723.0   \n",
       "   22    5500001   6000000      36886       166  0.004480   9417689.0   \n",
       "   23    5750001   6250000      43120       277  0.006383   9716935.0   \n",
       "   24    6000001   6500000      39031       271  0.006895   9506020.0   \n",
       "   25    6250001   6750000      39810       315  0.007850   9729249.0   \n",
       "   26    6500001   7000000      54658       359  0.006525  10271175.0   \n",
       "   27    6750001   7250000      51052       290  0.005648   9975137.0   \n",
       "   28    7000001   7500000      31688       212  0.006646   8958343.0   \n",
       "   29    7250001   7750000      35095       265  0.007494   8718618.0   \n",
       "...          ...       ...        ...       ...       ...         ...   \n",
       "3R 182  45500001  46000000      28405       242  0.008448   6396744.0   \n",
       "   183  45750001  46250000      20928       218  0.010309   6216249.0   \n",
       "   184  46000001  46500000      23055       284  0.012168   7041287.0   \n",
       "   185  46250001  46750000      25961       249  0.009500   7051735.0   \n",
       "   186  46500001  47000000      23776       171  0.007141   6455056.0   \n",
       "   187  46750001  47250000      27364       180  0.006535   6430680.0   \n",
       "   188  47000001  47500000      33242       295  0.008796   6767026.0   \n",
       "   189  47250001  47750000      29136       279  0.009485   6149916.0   \n",
       "   190  47500001  48000000      24165       199  0.008168   5224890.0   \n",
       "   191  47750001  48250000      22188       200  0.008933   5738780.0   \n",
       "   192  48000001  48500000      25366       242  0.009450   6075467.0   \n",
       "   193  48250001  48750000      23137       218  0.009334   6217542.0   \n",
       "   194  48500001  49000000      19543       178  0.009026   6175628.0   \n",
       "   195  48750001  49250000      19485       161  0.008195   5383365.0   \n",
       "   196  49000001  49500000      19571       133  0.006750   5878806.0   \n",
       "   197  49250001  49750000      23491       180  0.007604   7056023.0   \n",
       "   198  49500001  50000000      30015       286  0.009439   7266417.0   \n",
       "   199  49750001  50250000      41770       335  0.007956   8507742.0   \n",
       "   200  50000001  50500000      43103       287  0.006614   8806145.0   \n",
       "   201  50250001  50750000      37711       290  0.007631   8177543.0   \n",
       "   202  50500001  51000000      35581       260  0.007254   8233353.0   \n",
       "   203  50750001  51250000      32056       172  0.005337   8313180.0   \n",
       "   204  51000001  51500000      29661       193  0.006465   8248186.0   \n",
       "   205  51250001  51750000      32043       212  0.006573   8431436.0   \n",
       "   206  51500001  52000000      27521       190  0.006856   8272482.0   \n",
       "   207  51750001  52250000      15493       174  0.011106   7391562.0   \n",
       "   208  52000001  52500000       7943       101  0.012556   4957358.0   \n",
       "   209  52250001  52750000       3168        37  0.011544   2135705.0   \n",
       "   210  52500001  53000000       2252        38  0.016594   1948295.0   \n",
       "   211  52750001  53200684       2451        45  0.018029   2020445.0   \n",
       "\n",
       "        mean_marker_dist  mean_switch_dist  \n",
       "2L 0         1339.188418      63316.828418  \n",
       "   1         1515.010086      47228.792695  \n",
       "   2         1503.701587      42249.163953  \n",
       "   3         1308.809852      46340.742056  \n",
       "   4         1181.714955      46648.682168  \n",
       "   5          931.114627      30796.791319  \n",
       "   6         1156.550758      42417.280487  \n",
       "   7         1241.200485      88670.151704  \n",
       "   8          997.487756     120726.245331  \n",
       "   9          774.297075      77571.480173  \n",
       "   10         594.188760      49065.892149  \n",
       "   11         378.072481      42330.615339  \n",
       "   12         261.505895      24898.163038  \n",
       "   13         221.631121      20596.345802  \n",
       "   14         227.144656      24570.936322  \n",
       "   15         250.394404      30927.092602  \n",
       "   16         233.515698      36054.614353  \n",
       "   17         238.198240      35264.723975  \n",
       "   18         235.532033      38640.394694  \n",
       "   19         242.310310      46462.040469  \n",
       "   20         373.683189      56627.375496  \n",
       "   21         291.173928      81445.507261  \n",
       "   22         255.318793      56988.385058  \n",
       "   23         225.346359      35304.534085  \n",
       "   24         243.550511      35321.115087  \n",
       "   25         244.392087      31130.896849  \n",
       "   26         187.917139      28798.432460  \n",
       "   27         195.391699      34592.415837  \n",
       "   28         282.704588      42539.039494  \n",
       "   29         248.429064      33148.874347  \n",
       "...                  ...               ...  \n",
       "3R 182        225.197817      26658.024264  \n",
       "   183        297.030247      28811.933916  \n",
       "   184        305.412579      25098.676663  \n",
       "   185        271.628019      28591.848902  \n",
       "   186        271.494616      38020.360113  \n",
       "   187        235.005116      35961.005116  \n",
       "   188        203.568558      23142.639744  \n",
       "   189        211.076194      22253.785872  \n",
       "   190        216.217256      26471.945900  \n",
       "   191        258.643411      28952.543411  \n",
       "   192        239.512221      25344.747758  \n",
       "   193        268.727233      28789.562096  \n",
       "   194        316.002047      35010.541373  \n",
       "   195        276.282525      33713.332214  \n",
       "   196        300.383527      44501.932399  \n",
       "   197        300.371334      39500.499111  \n",
       "   198        242.092854      25649.145301  \n",
       "   199        203.680680      25599.925456  \n",
       "   200        204.304689      30887.736745  \n",
       "   201        216.847684      28415.271822  \n",
       "   202        231.397459      31898.139767  \n",
       "   203        259.333042      48591.774903  \n",
       "   204        278.081858      43014.796884  \n",
       "   205        263.128796      40034.053324  \n",
       "   206        300.587987      43839.966935  \n",
       "   207        477.090428      42957.331807  \n",
       "   208        624.116581      49706.869056  \n",
       "   209        674.149306      58395.906062  \n",
       "   210        865.139876      52136.060928  \n",
       "   211        824.334965      45723.112743  \n",
       "\n",
       "[822 rows x 8 columns]"
      ]
     },
     "execution_count": 99,
     "metadata": {},
     "output_type": "execute_result"
    }
   ],
   "source": [
    "qdf = pandas.concat({chrom: pandas.read_csv(\n",
    "            frame_d[chrom], sep=\"\\t\") for chrom in autosomes})\n",
    "\n",
    "qdf"
   ]
  },
  {
   "cell_type": "code",
   "execution_count": 100,
   "metadata": {},
   "outputs": [],
   "source": [
    "summed = qdf.sum()"
   ]
  },
  {
   "cell_type": "code",
   "execution_count": 101,
   "metadata": {},
   "outputs": [
    {
     "data": {
      "text/plain": [
       "12601.401955785586"
      ]
     },
     "execution_count": 101,
     "metadata": {},
     "output_type": "execute_result"
    }
   ],
   "source": [
    "# this is the autosomal mean switch distance\n",
    "mean_switch_dist = (summed.distance/summed.n_markers)/(summed.n_errors/summed.n_markers)\n",
    "mean_switch_dist"
   ]
  },
  {
   "cell_type": "code",
   "execution_count": 118,
   "metadata": {},
   "outputs": [
    {
     "data": {
      "text/plain": [
       "0.01238717812253723"
      ]
     },
     "execution_count": 118,
     "metadata": {},
     "output_type": "execute_result"
    }
   ],
   "source": [
    "(mean_switch_dist/1e6) * rrate"
   ]
  },
  {
   "cell_type": "code",
   "execution_count": 119,
   "metadata": {},
   "outputs": [],
   "source": [
    "rrate = 0.983"
   ]
  },
  {
   "cell_type": "code",
   "execution_count": 104,
   "metadata": {},
   "outputs": [],
   "source": [
    "def haldane(r):\n",
    "    return -np.log(1- (2 * r))/2"
   ]
  },
  {
   "cell_type": "code",
   "execution_count": 120,
   "metadata": {},
   "outputs": [
    {
     "data": {
      "text/plain": [
       "0.016092939247675835"
      ]
     },
     "execution_count": 120,
     "metadata": {},
     "output_type": "execute_result"
    }
   ],
   "source": [
    "summed.n_errors/summed.n_markers"
   ]
  },
  {
   "cell_type": "code",
   "execution_count": 121,
   "metadata": {},
   "outputs": [
    {
     "data": {
      "text/plain": [
       "0.016357616691691192"
      ]
     },
     "execution_count": 121,
     "metadata": {},
     "output_type": "execute_result"
    }
   ],
   "source": [
    "haldane(summed.n_errors/summed.n_markers)"
   ]
  },
  {
   "cell_type": "code",
   "execution_count": 107,
   "metadata": {},
   "outputs": [],
   "source": [
    "xdf = pandas.read_csv(frame_d[\"X\"], sep=\"\\t\")"
   ]
  },
  {
   "cell_type": "code",
   "execution_count": 111,
   "metadata": {},
   "outputs": [],
   "source": [
    "xsum = xdf.sum(0)"
   ]
  },
  {
   "cell_type": "code",
   "execution_count": 117,
   "metadata": {},
   "outputs": [
    {
     "data": {
      "text/plain": [
       "0    2790.707845\n",
       "dtype: float64"
      ]
     },
     "execution_count": 117,
     "metadata": {},
     "output_type": "execute_result"
    }
   ],
   "source": [
    "pd.DataFrame(xsum).T.eval(\"(distance/n_markers)/(n_errors/n_markers)\")"
   ]
  },
  {
   "cell_type": "code",
   "execution_count": 122,
   "metadata": {},
   "outputs": [
    {
     "data": {
      "text/plain": [
       "0.12404419483293137"
      ]
     },
     "execution_count": 122,
     "metadata": {},
     "output_type": "execute_result"
    }
   ],
   "source": [
    "haldane(xsum.n_errors/xsum.n_markers)"
   ]
  }
 ],
 "metadata": {
  "kernelspec": {
   "display_name": "Python 3",
   "language": "python",
   "name": "python3"
  },
  "language_info": {
   "codemirror_mode": {
    "name": "ipython",
    "version": 3
   },
   "file_extension": ".py",
   "mimetype": "text/x-python",
   "name": "python",
   "nbconvert_exporter": "python",
   "pygments_lexer": "ipython3",
   "version": "3.6.8"
  }
 },
 "nbformat": 4,
 "nbformat_minor": 1
}
