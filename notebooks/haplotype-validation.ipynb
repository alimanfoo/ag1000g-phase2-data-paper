{
 "cells": [
  {
   "cell_type": "markdown",
   "metadata": {},
   "source": [
    "## Haplotype validation\n",
    "\n",
    "Haplotype validation based on parent/progeny and synthetic X as a gold standard.\n",
    "\n",
    "Recent updates:\n",
    "- Read in raw phased data and draw bar plots from those."
   ]
  },
  {
   "cell_type": "code",
   "execution_count": 1,
   "metadata": {},
   "outputs": [
    {
     "data": {
      "text/html": [
       "<style type=\"text/css\">\n",
       ".container {\n",
       "    width: 100%;\n",
       "}\n",
       "</style>\n"
      ],
      "text/plain": [
       "<IPython.core.display.HTML object>"
      ]
     },
     "metadata": {},
     "output_type": "display_data"
    }
   ],
   "source": [
    "%run setup.ipynb "
   ]
  },
  {
   "cell_type": "code",
   "execution_count": 2,
   "metadata": {},
   "outputs": [],
   "source": [
    "rcParams['text.usetex'] = False"
   ]
  },
  {
   "cell_type": "code",
   "execution_count": 3,
   "metadata": {},
   "outputs": [],
   "source": [
    "from pathlib import Path\n",
    "from matplotlib.ticker import FuncFormatter"
   ]
  },
  {
   "cell_type": "code",
   "execution_count": 4,
   "metadata": {},
   "outputs": [],
   "source": [
    "def fposition(x, pos):\n",
    "    'The two args are the value and tick position'\n",
    "    return '%2d' % (x*1e-6)"
   ]
  },
  {
   "cell_type": "code",
   "execution_count": 5,
   "metadata": {},
   "outputs": [],
   "source": [
    "autosomes = \"2R\", \"2L\", \"3R\", \"3L\""
   ]
  },
  {
   "cell_type": "code",
   "execution_count": 6,
   "metadata": {},
   "outputs": [
    {
     "data": {
      "text/html": [
       "<div>\n",
       "<style scoped>\n",
       "    .dataframe tbody tr th:only-of-type {\n",
       "        vertical-align: middle;\n",
       "    }\n",
       "\n",
       "    .dataframe tbody tr th {\n",
       "        vertical-align: top;\n",
       "    }\n",
       "\n",
       "    .dataframe thead th {\n",
       "        text-align: right;\n",
       "    }\n",
       "</style>\n",
       "<table border=\"1\" class=\"dataframe\">\n",
       "  <thead>\n",
       "    <tr style=\"text-align: right;\">\n",
       "      <th></th>\n",
       "      <th>cross</th>\n",
       "      <th>role</th>\n",
       "      <th>n_reads</th>\n",
       "      <th>median_cov</th>\n",
       "      <th>mean_cov</th>\n",
       "      <th>sex</th>\n",
       "      <th>colony_id</th>\n",
       "    </tr>\n",
       "    <tr>\n",
       "      <th>ox_code</th>\n",
       "      <th></th>\n",
       "      <th></th>\n",
       "      <th></th>\n",
       "      <th></th>\n",
       "      <th></th>\n",
       "      <th></th>\n",
       "      <th></th>\n",
       "    </tr>\n",
       "  </thead>\n",
       "  <tbody>\n",
       "    <tr>\n",
       "      <th>AD0142-C</th>\n",
       "      <td>18-5</td>\n",
       "      <td>parent</td>\n",
       "      <td>60486753</td>\n",
       "      <td>26</td>\n",
       "      <td>25.824447</td>\n",
       "      <td>F</td>\n",
       "      <td>Ghana</td>\n",
       "    </tr>\n",
       "    <tr>\n",
       "      <th>AD0143-C</th>\n",
       "      <td>18-5</td>\n",
       "      <td>parent</td>\n",
       "      <td>58509103</td>\n",
       "      <td>19</td>\n",
       "      <td>18.800118</td>\n",
       "      <td>M</td>\n",
       "      <td>Kisumu/G3</td>\n",
       "    </tr>\n",
       "    <tr>\n",
       "      <th>AD0146-C</th>\n",
       "      <td>18-5</td>\n",
       "      <td>progeny</td>\n",
       "      <td>101612499</td>\n",
       "      <td>44</td>\n",
       "      <td>43.494594</td>\n",
       "      <td>NaN</td>\n",
       "      <td>NaN</td>\n",
       "    </tr>\n",
       "    <tr>\n",
       "      <th>AD0147-C</th>\n",
       "      <td>18-5</td>\n",
       "      <td>progeny</td>\n",
       "      <td>50710020</td>\n",
       "      <td>16</td>\n",
       "      <td>16.284487</td>\n",
       "      <td>NaN</td>\n",
       "      <td>NaN</td>\n",
       "    </tr>\n",
       "    <tr>\n",
       "      <th>AD0148-C</th>\n",
       "      <td>18-5</td>\n",
       "      <td>progeny</td>\n",
       "      <td>59023991</td>\n",
       "      <td>19</td>\n",
       "      <td>18.978021</td>\n",
       "      <td>NaN</td>\n",
       "      <td>NaN</td>\n",
       "    </tr>\n",
       "  </tbody>\n",
       "</table>\n",
       "</div>"
      ],
      "text/plain": [
       "         cross     role    n_reads  median_cov   mean_cov  sex  colony_id\n",
       "ox_code                                                                  \n",
       "AD0142-C  18-5   parent   60486753          26  25.824447    F      Ghana\n",
       "AD0143-C  18-5   parent   58509103          19  18.800118    M  Kisumu/G3\n",
       "AD0146-C  18-5  progeny  101612499          44  43.494594  NaN        NaN\n",
       "AD0147-C  18-5  progeny   50710020          16  16.284487  NaN        NaN\n",
       "AD0148-C  18-5  progeny   59023991          19  18.978021  NaN        NaN"
      ]
     },
     "execution_count": 6,
     "metadata": {},
     "output_type": "execute_result"
    }
   ],
   "source": [
    "meta_fn = Path(phase2_ar1.samples_dir) / \"cross.samples.meta.txt\"\n",
    "meta_info = pandas.read_csv(meta_fn, sep=\"\\t\", index_col=0).set_index(\"ox_code\")\n",
    "meta_info.head()"
   ]
  },
  {
   "cell_type": "code",
   "execution_count": 7,
   "metadata": {},
   "outputs": [
    {
     "data": {
      "text/plain": [
       "cross  role   \n",
       "18-5   parent      2\n",
       "       progeny    20\n",
       "29-2   parent      2\n",
       "       progeny    20\n",
       "36-9   parent      2\n",
       "       progeny    20\n",
       "37-3   parent      2\n",
       "       progeny    20\n",
       "42-4   parent      2\n",
       "       progeny    14\n",
       "45-1   parent      2\n",
       "       progeny    20\n",
       "46-9   parent      2\n",
       "       progeny    20\n",
       "47-6   parent      2\n",
       "       progeny    20\n",
       "73-2   parent      2\n",
       "       progeny    19\n",
       "78-2   parent      2\n",
       "       progeny    19\n",
       "80-2   parent      2\n",
       "       progeny    20\n",
       "dtype: int64"
      ]
     },
     "execution_count": 7,
     "metadata": {},
     "output_type": "execute_result"
    }
   ],
   "source": [
    "meta_info.groupby([\"cross\", \"role\"]).size()"
   ]
  },
  {
   "cell_type": "code",
   "execution_count": 8,
   "metadata": {},
   "outputs": [],
   "source": [
    "# mem = memory.Memory(cachedir=\"/tmp\")"
   ]
  },
  {
   "cell_type": "code",
   "execution_count": 9,
   "metadata": {},
   "outputs": [],
   "source": [
    "# ihnfstem = os.path.join(\"/data/coluzzi/ag1000g/data/phase1/release/AR3.1\",\n",
    "#                         \"haplotypes/crosses/hdf5\",\n",
    "#                         \"{chrom}_{cross}_{parent}_inheritance\")"
   ]
  },
  {
   "cell_type": "code",
   "execution_count": 10,
   "metadata": {},
   "outputs": [],
   "source": [
    "callset_dir = Path(phase2_ar1.haplotypes_dir) / \"crosses/zarr2\"\n",
    "callset_path = callset_dir / \"ag1000g.crosses.phase2.ar1.haplotypes.zip\""
   ]
  },
  {
   "cell_type": "code",
   "execution_count": 11,
   "metadata": {},
   "outputs": [],
   "source": [
    "callset_dir = Path(\"/kwiat/vector/ag1000g/analysis/20190410-phase2-phasing-par-pro/output\")"
   ]
  },
  {
   "cell_type": "code",
   "execution_count": 12,
   "metadata": {},
   "outputs": [],
   "source": [
    "# stor = zarr.ZipStore(callset_path, mode=\"r\")\n",
    "# callset = zarr.Group(stor)"
   ]
  },
  {
   "cell_type": "code",
   "execution_count": 13,
   "metadata": {},
   "outputs": [],
   "source": [
    "xgp = meta_info.groupby(\"cross\")"
   ]
  },
  {
   "cell_type": "code",
   "execution_count": 14,
   "metadata": {},
   "outputs": [],
   "source": [
    "def plot_transmission(painting, ax=None, title=None, palette_name='colorblind'):\n",
    "\n",
    "    palette = sns.color_palette(palette_name)\n",
    "\n",
    "    # set figure height depending on number of haplotypes\n",
    "\n",
    "    # map painting codes onto colours\n",
    "    cmap = mpl.colors.ListedColormap([\n",
    "        'white',      # 0 = undetermined\n",
    "        palette[0],  # 1 = allele inherited from first parental haplotype\n",
    "        palette[2],  # 2 = allele inherited from second parental haplotype\n",
    "        'lightgrey',     # 3 = reference allele, also carried by both parental haplotypes\n",
    "        'lightgrey',     # 4 = non-reference allele, also carried by both parental haplotypes\n",
    "        'black',     # 5 = non-parental allele (i.e., Mendelian error)\n",
    "        palette[5],  # 6 = either or both parental alleles missing\n",
    "        'white',     # 7 = missing allele\n",
    "    ])\n",
    "\n",
    "    # plot painting\n",
    "    ax.pcolormesh(painting.T, cmap=cmap, vmin=0, vmax=7)\n",
    "\n",
    "    # tidy up axes\n",
    "    ax.set_yticks(np.arange(painting.shape[1]) + .5)\n",
    "    ax.set_yticklabels([])\n",
    "    ax.set_xticklabels([])\n",
    "\n",
    "    if title:\n",
    "        ax.set_title(title)"
   ]
  },
  {
   "cell_type": "code",
   "execution_count": 15,
   "metadata": {},
   "outputs": [],
   "source": [
    "genome = phase2_ar1.genome_agamp3"
   ]
  },
  {
   "cell_type": "code",
   "execution_count": 16,
   "metadata": {},
   "outputs": [],
   "source": [
    "gs = GridSpec(\n",
    "        3, len(autosomes), \n",
    "        height_ratios=(1, 1, 0.3),\n",
    "        width_ratios=[len(genome[k]) for k in autosomes], \n",
    "        wspace=0.1, hspace=0.1)"
   ]
  },
  {
   "cell_type": "code",
   "execution_count": 17,
   "metadata": {},
   "outputs": [],
   "source": [
    "def get_phased_genotypes(mother, father, progeny, fhcallset):\n",
    "    \n",
    "    samples = list(fhcallset[\"samples\"].astype(\"<U8\"))\n",
    "    \n",
    "    assert len(mother) == len(father) == 1, \\\n",
    "        \"one mother and father must be specified\"\n",
    "    \n",
    "    # first get progeny:\n",
    "    proix = sorted([samples.index(s) for s in progeny])\n",
    "    \n",
    "    matix = [samples.index(s) for s in mother]\n",
    "    patix = [samples.index(s) for s in father]\n",
    "    \n",
    "    gn = allel.GenotypeChunkedArray(fhcallset[\"calldata/genotype\"])\n",
    "    g_prime = allel.GenotypeChunkedArray(\n",
    "        zarr.zeros((gn.shape[0], 2, 2), dtype=\"int8\"))\n",
    "    \n",
    "    progeny_g = gn.take(proix, axis=1)\n",
    "    g_prime[:, 0] = np.squeeze(gn.take(matix, axis=1))\n",
    "    g_prime[:, 1] = np.squeeze(gn.take(patix, axis=1))\n",
    "    g_prime.append(progeny_g, axis=1)\n",
    "    \n",
    "    return g_prime, allel.SortedIndex(fhcallset[\"variants/POS\"])"
   ]
  },
  {
   "cell_type": "code",
   "execution_count": 18,
   "metadata": {},
   "outputs": [],
   "source": [
    "def get_phased_genotypes(chrom, xid):\n",
    "    \n",
    "    callset_path = callset_dir / chrom / (xid + \".zarr2\")\n",
    "    \n",
    "    callset = zarr.open_group(callset_path.as_posix(), mode=\"r\")\n",
    "    \n",
    "    #callset = zarr.Group(stor)\n",
    "    \n",
    "    g = allel.GenotypeChunkedArray(callset[\"phased_genotypes\"])\n",
    "    p = allel.SortedIndex(callset[\"POS\"])\n",
    "    \n",
    "    return g, p    "
   ]
  },
  {
   "cell_type": "code",
   "execution_count": 19,
   "metadata": {},
   "outputs": [],
   "source": [
    "a, b = get_phased_genotypes(\"2L\", \"18-5\")"
   ]
  },
  {
   "cell_type": "code",
   "execution_count": 20,
   "metadata": {},
   "outputs": [],
   "source": [
    "met = meta_info.groupby([\"cross\"])\n",
    "\n",
    "#met = meta_info.query(\"cross == '18-5'\").groupby([\"cross\"])"
   ]
  },
  {
   "cell_type": "code",
   "execution_count": 21,
   "metadata": {},
   "outputs": [],
   "source": [
    "from matplotlib.pyplot import GridSpec"
   ]
  },
  {
   "cell_type": "code",
   "execution_count": 22,
   "metadata": {},
   "outputs": [],
   "source": [
    "gs = GridSpec(\n",
    "    4, len(autosomes), \n",
    "    height_ratios=[5, 1, 5, 1],\n",
    "    width_ratios=[len(genome[k]) for k in autosomes],\n",
    "    wspace=0.1, hspace=0.1)"
   ]
  },
  {
   "cell_type": "code",
   "execution_count": 23,
   "metadata": {},
   "outputs": [],
   "source": [
    "?allel.plot_variant_locator"
   ]
  },
  {
   "cell_type": "code",
   "execution_count": 24,
   "metadata": {
    "scrolled": false
   },
   "outputs": [],
   "source": [
    "for xid, ff in met:\n",
    "    \n",
    "    fig = plt.figure(figsize=(8, 4))\n",
    "\n",
    "    plotfn =  Path(\"../artwork\", \"haplotype-validation\",\n",
    "                   \"allele_transmission_{xid}.png\".format(xid=xid))\n",
    "    \n",
    "    if plotfn.is_file():\n",
    "        pass\n",
    "\n",
    "    for i, chrom in enumerate(autosomes):\n",
    "                \n",
    "        phased_genotypes, pos = get_phased_genotypes(chrom, xid)\n",
    "    \n",
    "        het_loci = allel.GenotypeArray(phased_genotypes).is_het().any(axis=1)\n",
    "        \n",
    "        phased_genotypes = phased_genotypes.compress(het_loci, axis=0)\n",
    "\n",
    "        haplotypes_progeny = allel.GenotypeArray(phased_genotypes[:, 2:, :])\n",
    "        pos = pos.compress(het_loci)\n",
    "\n",
    "        for ix, parent_label in enumerate([\"Maternal\", \"Paternal\"]):\n",
    "            ax = fig.add_subplot(gs[ix * 2, i])\n",
    "            \n",
    "\n",
    "            # pull out mother's genotypes from the first column\n",
    "            genotypes_parent = phased_genotypes[:, ix]\n",
    "\n",
    "            # convert to haplotype array\n",
    "            haplotypes_parent = genotypes_parent.to_haplotypes()\n",
    "\n",
    "            # pull out maternal haplotypes from the progeny\n",
    "            haplotypes_progeny_given_parent = haplotypes_progeny[:, :, ix]\n",
    "\n",
    "            painting = allel.paint_transmission(\n",
    "                haplotypes_parent, haplotypes_progeny_given_parent)\n",
    "\n",
    "            #np.savez_compressed(cache_fn, painting=painting)\n",
    "  \n",
    "            # het_only\n",
    "            hh = genotypes_parent.is_het().squeeze()\n",
    "        \n",
    "            painting = np.compress(hh, painting, axis=0)\n",
    "            plot_pos = pos.compress(hh, axis=0)\n",
    "            \n",
    "            # skip every 2 rows.\n",
    "            plot_transmission(painting, ax=ax)\n",
    "            ax.tick_params(direction='out', length=1, width=1)\n",
    "\n",
    "            if i == 0:\n",
    "                ax.set_ylabel(parent_label)\n",
    "\n",
    "            # make the locator plot...\n",
    "            ax2 = fig.add_subplot(gs[ix * 2 + 1, i])\n",
    "            allel.plot_variant_locator(plot_pos, ax=ax2, line_kwargs={\"lw\": 0.5})\n",
    "            _ = ax2.set_xticks(np.arange(0, len(genome[chrom]), 1e7))\n",
    "            ax2.xaxis.set_ticks_position(\"bottom\")\n",
    "            formatter = FuncFormatter(fposition)\n",
    "            ax2.xaxis.set_major_formatter(formatter)\n",
    "            ax2.set_xlabel(chrom)\n",
    "\n",
    "    _ = fig.text(0.5, 0.03, 'Genomic position (Mbp)', ha='center', va='top')\n",
    "    _ = fig.suptitle(\"Haplotype transmission for {xid}\".format(xid=xid))\n",
    "\n",
    "    fig.savefig(\n",
    "        plotfn,\n",
    "        dpi=250,\n",
    "        bbox_inches='tight')\n",
    "    \n",
    "    plt.close(\"all\")"
   ]
  },
  {
   "cell_type": "markdown",
   "metadata": {
    "collapsed": true
   },
   "source": [
    "## Panel B"
   ]
  },
  {
   "cell_type": "code",
   "execution_count": null,
   "metadata": {},
   "outputs": [],
   "source": [
    "from intervaltree import IntervalTree\n",
    "import pyfasta"
   ]
  },
  {
   "cell_type": "code",
   "execution_count": null,
   "metadata": {},
   "outputs": [],
   "source": [
    "import re\n",
    "def find_reference_gaps(genome_fa, gap_size=300):\n",
    "\n",
    "    # fix on a gapsize of 1kb, as ld breaks down over this distance and\n",
    "    # do chunks of 10k at a time. look for consecutive Ns.\n",
    "    size = 10000\n",
    "    gaps = list()\n",
    "    \n",
    "    match = \"N{{{n}}}?\".format(n=gap_size)\n",
    "    \n",
    "    for i in range(0, len(genome_fa), size - (2 * gap_size)):\n",
    "        text = genome_fa[i:i+size]\n",
    "\n",
    "        for m in re.finditer(match, text, flags=re.IGNORECASE):\n",
    "            gaps.append((i + m.start(), i + m.end()))\n",
    "\n",
    "    tree = IntervalTree.from_tuples(gaps)\n",
    "    tree.merge_overlaps()\n",
    "\n",
    "    return np.array([[iv.begin, iv.end] for iv in sorted(tree)])"
   ]
  },
  {
   "cell_type": "code",
   "execution_count": null,
   "metadata": {},
   "outputs": [],
   "source": [
    "# load data from data release"
   ]
  },
  {
   "cell_type": "code",
   "execution_count": null,
   "metadata": {},
   "outputs": [],
   "source": [
    "eval_path = Path(\n",
    "    \"/kwiat/vector/ag1000g/analysis/20170316-phase2-haplotypes\")"
   ]
  },
  {
   "cell_type": "code",
   "execution_count": null,
   "metadata": {},
   "outputs": [],
   "source": [
    "frame_d = {\n",
    "    chrom: eval_path / \"eval_autosomal_phasing/output/{chrom}_table_switch_errors.txt\".format(chrom=chrom)\n",
    "    for chrom in autosomes}\n",
    "\n",
    "frame_d[\"X\"] = eval_path / \"eval_x_phasing/output/X_table_switch_errors.txt\""
   ]
  },
  {
   "cell_type": "code",
   "execution_count": null,
   "metadata": {},
   "outputs": [],
   "source": [
    "for k, v in frame_d.items():\n",
    "    print(k, v.absolute(), v.is_file())   "
   ]
  },
  {
   "cell_type": "code",
   "execution_count": null,
   "metadata": {},
   "outputs": [],
   "source": [
    "def draw_msd_across_genome(genome_pos, marker_dist, mean_switch_dist, number_markers, chrom, ax):\n",
    "\n",
    "    mean_switch_dist[number_markers < 50] = np.NaN\n",
    "        \n",
    "    ax.plot(genome_pos, 2 * marker_dist, 'k-', linewidth=1.0)\n",
    "    ax.plot(genome_pos, mean_switch_dist, 'r-',  linewidth=1.0)\n",
    "\n",
    "    ax.grid(True)\n",
    "    \n",
    "    ax.set_yscale(\"log\")\n",
    "    ax.set_ylim((100, 2000000))\n",
    "    ax.set_xlim((0, len(genome[chrom])))\n",
    "    \n",
    "    _ = ax.set_xticks(np.arange(0, len(genome[chrom]), 1e7))\n",
    "\n",
    "    return ax"
   ]
  },
  {
   "cell_type": "code",
   "execution_count": null,
   "metadata": {},
   "outputs": [],
   "source": [
    "def draw_switch_err_rate(genome_pos, rate, number_markers, chrom, ax):\n",
    "\n",
    "    rate[number_markers < 50] = np.NaN   \n",
    "    ax.plot(genome_pos, 1 - rate, 'r-', linewidth=1.0)\n",
    "\n",
    "    ax.grid(True)\n",
    "    ax.set_ylim((0.82, 1.0))\n",
    "    ax.set_xlim((0, len(genome[chrom])))\n",
    "    \n",
    "    _ = ax.set_xticks(np.arange(0, len(genome[chrom]), 1e7))\n",
    "    formatter = FuncFormatter(fposition)\n",
    "    ax.xaxis.set_major_formatter(formatter)\n",
    "\n",
    "    return ax"
   ]
  },
  {
   "cell_type": "code",
   "execution_count": null,
   "metadata": {},
   "outputs": [],
   "source": []
  },
  {
   "cell_type": "code",
   "execution_count": null,
   "metadata": {},
   "outputs": [],
   "source": [
    "contigs = chromosomes[:5]\n",
    "\n",
    "\n",
    "gs = GridSpec(\n",
    "    2, len(contigs), \n",
    "    width_ratios=[len(genome[k]) for k in contigs], \n",
    "    wspace=0.2)\n",
    "\n",
    "fig = plt.figure(figsize=(12, 3))\n",
    "\n",
    "for i, chrom in enumerate(contigs):\n",
    "\n",
    "    df = pandas.read_csv(frame_d[chrom], sep=\"\\t\")\n",
    "\n",
    "    ax1 = fig.add_subplot(gs[0, i])\n",
    "    ax2 = fig.add_subplot(gs[1, i])\n",
    "    sns.despine(ax=ax1, offset=5)\n",
    "    sns.despine(ax=ax2, offset=5)\n",
    "\n",
    "    pos = 0.5 * np.array(df.start + df.stop)\n",
    "    mean_marker_d = np.array(df.mean_marker_dist)\n",
    "    mean_switch_d = np.array(df.mean_switch_dist)\n",
    "\n",
    "    n_markers = np.array(df.n_markers)\n",
    "    err_rate = np.array(df.err_rate)\n",
    "\n",
    "    draw_msd_across_genome(pos, mean_marker_d, mean_switch_d, n_markers, chrom, ax1)\n",
    "    draw_switch_err_rate(pos, err_rate, n_markers, chrom, ax2)\n",
    "\n",
    "    if i == 0:\n",
    "        ax1.set_ylabel(\"Mean switch\\ndistance (bp)\")\n",
    "        ax2.set_ylabel(\"1 - \\n(switch error rate)\")\n",
    "    else:\n",
    "        ax1.yaxis.set_tick_params(which=\"both\", width=0)\n",
    "        ax2.yaxis.set_tick_params(which=\"both\", width=0)\n",
    "\n",
    "        ax1.set_yticklabels([])\n",
    "        ax2.set_yticklabels([])\n",
    "\n",
    "    ax1.xaxis.set_tick_params(which=\"both\", width=0)\n",
    "    ax1.set_xticklabels([])\n",
    "    ax1.set_title(chrom, fontsize=10)\n",
    "\n",
    "fig.text(0.5, -0.04, 'Genomic position (Mbp)', ha='center', va='center', fontsize=10)\n",
    "\n",
    "fig.savefig(\"../artwork/haplotype-validation/switch_across_genome.png\", \n",
    "            dpi=300, bbox_inches='tight')"
   ]
  },
  {
   "cell_type": "markdown",
   "metadata": {
    "collapsed": true
   },
   "source": [
    "## Finally compute the per chromosome means presented in the paper"
   ]
  },
  {
   "cell_type": "code",
   "execution_count": null,
   "metadata": {},
   "outputs": [],
   "source": [
    "qdf = pandas.concat({chrom: pandas.read_csv(\n",
    "            frame_d[chrom], sep=\"\\t\") for chrom in autosomes})\n",
    "\n",
    "qdf"
   ]
  },
  {
   "cell_type": "code",
   "execution_count": null,
   "metadata": {},
   "outputs": [],
   "source": [
    "summed = qdf.sum()"
   ]
  },
  {
   "cell_type": "code",
   "execution_count": null,
   "metadata": {},
   "outputs": [],
   "source": [
    "# this is the autosomal mean switch distance\n",
    "mean_switch_dist = (summed.distance/summed.n_markers)/(summed.n_errors/summed.n_markers)\n",
    "mean_switch_dist"
   ]
  },
  {
   "cell_type": "code",
   "execution_count": null,
   "metadata": {},
   "outputs": [],
   "source": [
    "rrate = 0.983"
   ]
  },
  {
   "cell_type": "code",
   "execution_count": null,
   "metadata": {},
   "outputs": [],
   "source": [
    "(mean_switch_dist/1e6) * rrate"
   ]
  },
  {
   "cell_type": "code",
   "execution_count": null,
   "metadata": {},
   "outputs": [],
   "source": []
  },
  {
   "cell_type": "code",
   "execution_count": null,
   "metadata": {},
   "outputs": [],
   "source": [
    "def haldane(r):\n",
    "    return -np.log(1- (2 * r))/2"
   ]
  },
  {
   "cell_type": "code",
   "execution_count": null,
   "metadata": {},
   "outputs": [],
   "source": [
    "summed.n_errors/summed.n_markers"
   ]
  },
  {
   "cell_type": "code",
   "execution_count": null,
   "metadata": {},
   "outputs": [],
   "source": [
    "haldane(summed.n_errors/summed.n_markers)"
   ]
  },
  {
   "cell_type": "code",
   "execution_count": null,
   "metadata": {},
   "outputs": [],
   "source": [
    "xdf = pandas.read_csv(frame_d[\"X\"], sep=\"\\t\")"
   ]
  },
  {
   "cell_type": "code",
   "execution_count": null,
   "metadata": {},
   "outputs": [],
   "source": [
    "xsum = xdf.sum(0)"
   ]
  },
  {
   "cell_type": "code",
   "execution_count": null,
   "metadata": {},
   "outputs": [],
   "source": [
    "pd.DataFrame(xsum).T.eval(\"(distance/n_markers)/(n_errors/n_markers)\")"
   ]
  },
  {
   "cell_type": "code",
   "execution_count": null,
   "metadata": {},
   "outputs": [],
   "source": [
    "haldane(xsum.n_errors/xsum.n_markers)"
   ]
  }
 ],
 "metadata": {
  "kernelspec": {
   "display_name": "Python 3",
   "language": "python",
   "name": "python3"
  },
  "language_info": {
   "codemirror_mode": {
    "name": "ipython",
    "version": 3
   },
   "file_extension": ".py",
   "mimetype": "text/x-python",
   "name": "python",
   "nbconvert_exporter": "python",
   "pygments_lexer": "ipython3",
   "version": "3.6.8"
  }
 },
 "nbformat": 4,
 "nbformat_minor": 1
}
