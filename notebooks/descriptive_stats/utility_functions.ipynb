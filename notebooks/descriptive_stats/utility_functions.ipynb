{
 "cells": [
  {
   "cell_type": "code",
   "execution_count": 6,
   "metadata": {
    "collapsed": false
   },
   "outputs": [],
   "source": [
    "from __future__ import print_function, division, absolute_import\n",
    "import datetime"
   ]
  },
  {
   "cell_type": "code",
   "execution_count": 7,
   "metadata": {
    "collapsed": false
   },
   "outputs": [],
   "source": [
    "import sys\n",
    "\n",
    "\n",
    "def log(*msg):\n",
    "    print(str(datetime.datetime.now()) + ' :: ' + ' '.join(map(str, msg)),\n",
    "          file=sys.stderr)\n",
    "    sys.stderr.flush()"
   ]
  },
  {
   "cell_type": "code",
   "execution_count": 8,
   "metadata": {
    "collapsed": false
   },
   "outputs": [],
   "source": [
    "from IPython.display import display_html\n",
    "\n",
    "\n",
    "def pre(msg):\n",
    "    display_html('<pre style=\"line-height: 100%; font-size: .7em; display: inline-block; white-space: pre; background-color: #ff6; border: 0px solid #ddd; padding: 1px\">' + str(msg).replace('<', '&lt;') + '</pre>', raw=True)\n",
    "\n",
    "    \n",
    "def html(content):\n",
    "    display_html(content, raw=True)\n",
    "    "
   ]
  },
  {
   "cell_type": "code",
   "execution_count": 9,
   "metadata": {
    "collapsed": false
   },
   "outputs": [],
   "source": [
    "import numpy as np\n",
    "\n",
    "\n",
    "nnz = np.count_nonzero\n",
    "\n",
    "\n",
    "def ntitv(ref, alt):\n",
    "    a = np.char.add(ref.astype('S1'), alt.astype('S1'))\n",
    "    a = np.char.upper(a)\n",
    "    ti = np.count_nonzero((a == 'AG') | (a == 'GA') | (a == 'CT') | (a == 'TC'))\n",
    "    tv = a.size - ti\n",
    "    return ti, tv\n",
    "\n",
    "\n",
    "def site_nucl_diversity(af, an):\n",
    "    p = af\n",
    "    q = 1 - p\n",
    "    return (an/(an-1))*2*p*q\n",
    "\n",
    "\n",
    "def site_heterozygosity(af):\n",
    "    # assume af has frequencies for all alleles, where axis=1 is alleles axis\n",
    "    p_same_allele = np.power(af, 2)\n",
    "    p_hom = np.sum(p_same_allele, axis=1)\n",
    "    p_het = 1 - p_hom\n",
    "    return p_het\n"
   ]
  },
  {
   "cell_type": "code",
   "execution_count": 10,
   "metadata": {
    "collapsed": false
   },
   "outputs": [
    {
     "name": "stderr",
     "output_type": "stream",
     "text": [
      "2016-06-28 10:31:00.333752 :: AgamP4 reference genome not available\n"
     ]
    }
   ],
   "source": [
    "import os\n",
    "import pyfasta\n",
    "\n",
    "autosomes = '2R', '2L', '3R', '3L'\n",
    "chromosomes = autosomes + ('X',)\n",
    "\n",
    "agamp3_fasta_fn = '/data/anopheles/ag1000g/data/genome/AgamP3/Anopheles-gambiae-PEST_CHROMOSOMES_AgamP3.fa'\n",
    "if os.path.exists(agamp3_fasta_fn):\n",
    "    agamp3_genome = pyfasta.Fasta(agamp3_fasta_fn, key_fn=lambda key: key.split()[0])\n",
    "else:\n",
    "    log('AgamP3 reference genome not available')\n",
    "\n",
    "agamp3_gff_fn = '/data/anopheles/ag1000g/data/genome/AgamP3/Anopheles-gambiae-PEST_BASEFEATURES_AgamP3.7.gff3'\n",
    "agamp3_gff_sorted_fn = agamp3_gff_fn + '.sorted.gff.gz'\n",
    "\n",
    "agamp4_fasta_fn = '/data/anopheles/ag1000g/data/genome/AgamP4/Anopheles-gambiae-PEST_CHROMOSOMES_AgamP4.fa'\n",
    "if os.path.exists(agamp4_fasta_fn):\n",
    "    agamp4_genome = pyfasta.Fasta(agamp4_fasta_fn, key_fn=lambda key: key.split()[0])\n",
    "else:\n",
    "    log('AgamP4 reference genome not available')\n",
    "\n",
    "agamp42_gff_fn = '/data/coluzzi/ag1000g/data/phase1/release/AR3/geneset/Anopheles-gambiae-PEST_BASEFEATURES_AgamP4.2.gff3.gz'\n",
    "agamp42_gff_sorted_fn = '/data/coluzzi/ag1000g/data/phase1/release/AR3/geneset/Anopheles-gambiae-PEST_BASEFEATURES_AgamP4.2.sorted.gff3.gz'\n",
    "\n",
    "agamp3_repeats_gff_fn = '/data/anopheles/ag1000g/data/genome/AgamP3/Anopheles-gambiae-PEST_REPEATFEATURES_AgamP3.gff3.gz'"
   ]
  },
  {
   "cell_type": "code",
   "execution_count": 11,
   "metadata": {
    "collapsed": false
   },
   "outputs": [],
   "source": [
    "country_to_prefix = {\n",
    "    'Angola': 'AR',\n",
    "    'Burkina Faso': 'AB',\n",
    "    'Cameroon': 'AN',\n",
    "    \"Cote d'Ivoire\": 'AY',\n",
    "    'Equatorial Guinea': 'AQ',\n",
    "    'France': 'AP',\n",
    "    'Gabon': 'AS',\n",
    "    'Gambia, The': 'AG',\n",
    "    'Ghana': 'AA',\n",
    "    'Guinea': 'AV',\n",
    "    'Guinea-Bissau': 'AJ',\n",
    "    'Kenya': 'AK',\n",
    "    'Uganda': 'AC'\n",
    "}\n",
    "prefix_to_country = {v: k for (k, v) in country_to_prefix.items()}"
   ]
  },
  {
   "cell_type": "code",
   "execution_count": null,
   "metadata": {
    "collapsed": false
   },
   "outputs": [],
   "source": []
  },
  {
   "cell_type": "code",
   "execution_count": null,
   "metadata": {
    "collapsed": false
   },
   "outputs": [],
   "source": []
  }
 ],
 "metadata": {
  "kernelspec": {
   "display_name": "Python 3",
   "language": "python",
   "name": "python3"
  },
  "language_info": {
   "codemirror_mode": {
    "name": "ipython",
    "version": 3
   },
   "file_extension": ".py",
   "mimetype": "text/x-python",
   "name": "python",
   "nbconvert_exporter": "python",
   "pygments_lexer": "ipython3",
   "version": "3.5.0+"
  }
 },
 "nbformat": 4,
 "nbformat_minor": 0
}
