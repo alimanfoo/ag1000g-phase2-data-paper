{
 "cells": [
  {
   "cell_type": "code",
   "execution_count": 3,
   "metadata": {
    "collapsed": false
   },
   "outputs": [
    {
     "data": {
      "text/html": [
       "<style type=\"text/css\">\n",
       ".container {\n",
       "    width: 100%;\n",
       "}\n",
       "#maintoolbar {\n",
       "    display: none;\n",
       "}\n",
       "#header-container {\n",
       "    display: none;\n",
       "}\n",
       "#notebook {\n",
       "    padding-top: 0;\n",
       "}\n",
       "</style>"
      ],
      "text/plain": [
       "<IPython.core.display.HTML object>"
      ]
     },
     "metadata": {},
     "output_type": "display_data"
    },
    {
     "name": "stderr",
     "output_type": "stream",
     "text": [
      "2016-12-20 16:17:18.636976 :: AgamP4 reference genome not available\n"
     ]
    },
    {
     "data": {
      "text/html": [
       "<style type=\"text/css\">\n",
       ".container {\n",
       "    width: 96%;\n",
       "}\n",
       "#maintoolbar {\n",
       "    display: none;\n",
       "}\n",
       "#header-container {\n",
       "    display: none;\n",
       "}\n",
       "#notebook {\n",
       "    padding-top: 0;\n",
       "}\n",
       "</style>"
      ],
      "text/plain": [
       "<IPython.core.display.HTML object>"
      ]
     },
     "metadata": {},
     "output_type": "display_data"
    }
   ],
   "source": [
    "%run imports.ipynb\n",
    "%run utility_functions.ipynb\n",
    "%run setup.ipynb\n",
    "import matplotlib.patches as mpatches\n",
    "from matplotlib import gridspec"
   ]
  },
  {
   "cell_type": "markdown",
   "metadata": {},
   "source": [
    "# population diversity\n",
    "- add this to descriptive_stats notebook when finished\n",
    "- do pop div and look at windowed Fst (compared to phase 1 for pops that can be).\n",
    "- site frequency spectrum - compare for pops in both phases\n",
    "- remember to remove the rc from the release"
   ]
  },
  {
   "cell_type": "code",
   "execution_count": null,
   "metadata": {
    "collapsed": true
   },
   "outputs": [],
   "source": [
    "# do diversity of 3L\n",
    "# accessibility/PASS\n",
    "# then calc div"
   ]
  },
  {
   "cell_type": "code",
   "execution_count": null,
   "metadata": {
    "collapsed": true
   },
   "outputs": [],
   "source": [
    "#use PASS data, compress genotypes to 'free' region - do allele counts per population - calc div for the region"
   ]
  },
  {
   "cell_type": "code",
   "execution_count": 26,
   "metadata": {
    "collapsed": true
   },
   "outputs": [],
   "source": [
    "chrom = '3L'\n",
    "start = 1000000\n",
    "stop = 37000000"
   ]
  },
  {
   "cell_type": "code",
   "execution_count": 10,
   "metadata": {
    "collapsed": false
   },
   "outputs": [
    {
     "name": "stdout",
     "output_type": "stream",
     "text": [
      "[('GHS', 12), ('BFS', 92), ('GNM', 4), ('GHM', 55), ('CIM', 71), ('CMS', 297), ('BFM', 75), ('GMU', 65), ('GAS', 69), ('UGS', 112), ('AOM', 78), ('FRS', 24), ('GQS', 9), ('GNA', 1), ('GWA', 91), ('all', 1142), ('KES', 48), ('GNS', 39)]\n"
     ]
    }
   ],
   "source": [
    "#SUBPOPS\n",
    "samples_fn = '/data/coluzzi/ag1000g/data/phase2/release/AR1.rc1/samples/tbl_samples.txt'\n",
    "df_samples = pandas.read_csv(samples_fn, delimiter='\\t')\n",
    "tbl_samples = etl.fromtsv(samples_fn)\n",
    "samples = tbl_samples.values('ox_code').list()\n",
    "subpop_ids = sorted(tbl_samples.values('population').set())\n",
    "#easier to use pandas here to get index required for subpops dict\n",
    "subpops = {pid: list(df_samples[df_samples.population == pid].index) for pid in subpop_ids}\n",
    "\n",
    "subpops['all'] = list(range(len(samples)))\n",
    "print([(k, len(subpops[k])) for k in subpops])"
   ]
  },
  {
   "cell_type": "code",
   "execution_count": 27,
   "metadata": {
    "collapsed": false
   },
   "outputs": [
    {
     "data": {
      "text/plain": [
       "10640388"
      ]
     },
     "execution_count": 27,
     "metadata": {},
     "output_type": "execute_result"
    }
   ],
   "source": [
    "#GENOTYPES\n",
    "callset_pass_fn = '/data/coluzzi/ag1000g/data/phase2/release/AR1.rc1/variation/main/hdf5/pass/ag1000g.phase2.ar1.pass.h5'\n",
    "callset_pass = h5py.File(callset_pass_fn, mode='r')\n",
    "all_gen = allel.GenotypeChunkedArray(callset_pass[chrom]['calldata']['genotype'])\n",
    "len(all_gen)"
   ]
  },
  {
   "cell_type": "code",
   "execution_count": 28,
   "metadata": {
    "collapsed": false
   },
   "outputs": [
    {
     "data": {
      "text/plain": [
       "10640388"
      ]
     },
     "execution_count": 28,
     "metadata": {},
     "output_type": "execute_result"
    }
   ],
   "source": [
    "#POSITIONS\n",
    "all_pos = callset_pass[chrom]['variants']['POS'][:]\n",
    "len(all_pos)"
   ]
  },
  {
   "cell_type": "code",
   "execution_count": 37,
   "metadata": {
    "collapsed": false
   },
   "outputs": [],
   "source": [
    "#FREE REGION\n",
    "free_pos_b = (all_pos > start) & (all_pos < stop)\n",
    "free_gen = all_gen.compress(free_pos_b)"
   ]
  },
  {
   "cell_type": "code",
   "execution_count": 36,
   "metadata": {
    "collapsed": false
   },
   "outputs": [
    {
     "data": {
      "text/plain": [
       "8853861"
      ]
     },
     "execution_count": 36,
     "metadata": {},
     "output_type": "execute_result"
    }
   ],
   "source": [
    "ac = "
   ]
  },
  {
   "cell_type": "code",
   "execution_count": 4,
   "metadata": {
    "collapsed": true
   },
   "outputs": [],
   "source": [
    "allele_counts_fn = '/data/coluzzi/ag1000g/data/phase2/release/AR1.rc1/extras/allele_counts.h5'\n",
    "\n",
    "ac = h5py.File(allele_counts_fn, mode = 'r')\n",
    "\n",
    "ac['3L']"
   ]
  },
  {
   "cell_type": "code",
   "execution_count": null,
   "metadata": {
    "collapsed": true
   },
   "outputs": [],
   "source": []
  }
 ],
 "metadata": {
  "anaconda-cloud": {},
  "kernelspec": {
   "display_name": "Python [default]",
   "language": "python",
   "name": "python3"
  },
  "language_info": {
   "codemirror_mode": {
    "name": "ipython",
    "version": 3
   },
   "file_extension": ".py",
   "mimetype": "text/x-python",
   "name": "python",
   "nbconvert_exporter": "python",
   "pygments_lexer": "ipython3",
   "version": "3.5.2"
  }
 },
 "nbformat": 4,
 "nbformat_minor": 1
}
