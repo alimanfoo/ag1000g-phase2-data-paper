{
 "cells": [
  {
   "cell_type": "markdown",
   "metadata": {},
   "source": [
    "# Shared setup"
   ]
  },
  {
   "cell_type": "markdown",
   "metadata": {},
   "source": [
    "Data setup. Use in other notebooks, e.g.:\n",
    "\n",
    "    %run setup.ipynb"
   ]
  },
  {
   "cell_type": "code",
   "execution_count": 1,
   "metadata": {
    "collapsed": false
   },
   "outputs": [],
   "source": [
    "import os\n",
    "if 'DOCKER_IMAGE' in os.environ:\n",
    "    print('docker image:', os.environ['DOCKER_IMAGE'])"
   ]
  },
  {
   "cell_type": "code",
   "execution_count": 2,
   "metadata": {
    "collapsed": false
   },
   "outputs": [
    {
     "data": {
      "text/html": [
       "<style type=\"text/css\">\n",
       ".container {\n",
       "    width: 96%;\n",
       "}\n",
       "#maintoolbar {\n",
       "    display: none;\n",
       "}\n",
       "#header-container {\n",
       "    display: none;\n",
       "}\n",
       "#notebook {\n",
       "    padding-top: 0;\n",
       "}\n",
       "</style>"
      ],
      "text/plain": [
       "<IPython.core.display.HTML object>"
      ]
     },
     "metadata": {},
     "output_type": "display_data"
    }
   ],
   "source": [
    "%%HTML\n",
    "<style type=\"text/css\">\n",
    ".container {\n",
    "    width: 96%;\n",
    "}\n",
    "#maintoolbar {\n",
    "    display: none;\n",
    "}\n",
    "#header-container {\n",
    "    display: none;\n",
    "}\n",
    "#notebook {\n",
    "    padding-top: 0;\n",
    "}\n",
    "</style>"
   ]
  },
  {
   "cell_type": "markdown",
   "metadata": {},
   "source": [
    "## Imports"
   ]
  },
  {
   "cell_type": "code",
   "execution_count": 3,
   "metadata": {
    "collapsed": true
   },
   "outputs": [],
   "source": [
    "# python standard library\n",
    "import sys\n",
    "import os\n",
    "import operator\n",
    "import itertools\n",
    "import collections\n",
    "import functools\n",
    "import glob\n",
    "import csv\n",
    "import datetime\n",
    "import bisect\n",
    "import sqlite3\n",
    "import subprocess\n",
    "import random\n",
    "import gc\n",
    "import shutil\n",
    "import shelve\n",
    "import contextlib\n",
    "import tempfile\n",
    "import math"
   ]
  },
  {
   "cell_type": "code",
   "execution_count": 1,
   "metadata": {
    "collapsed": true
   },
   "outputs": [],
   "source": [
    "# general purpose third party packages\n",
    "\n",
    "import cython\n",
    "%reload_ext Cython\n",
    "\n",
    "import numpy as np\n",
    "nnz = np.count_nonzero\n",
    "import scipy\n",
    "import scipy.stats\n",
    "import scipy.spatial.distance\n",
    "import numexpr\n",
    "import h5py\n",
    "import tables\n",
    "import bcolz\n",
    "import dask\n",
    "import dask.array as da\n",
    "import pandas\n",
    "import IPython\n",
    "from IPython.display import clear_output, display, HTML\n",
    "import rpy2\n",
    "import rpy2.robjects as ro\n",
    "# %reload_ext rpy2.ipython\n",
    "import statsmodels\n",
    "import sklearn\n",
    "import sklearn.decomposition\n",
    "import sklearn.manifold\n",
    "import sh\n",
    "import sqlalchemy\n",
    "import pymysql\n",
    "import psycopg2\n",
    "import petl as etl\n",
    "etl.config.display_index_header = True\n",
    "import humanize\n",
    "from humanize import naturalsize, intcomma, intword\n",
    "import zarr"
   ]
  },
  {
   "cell_type": "code",
   "execution_count": 5,
   "metadata": {
    "collapsed": true
   },
   "outputs": [],
   "source": [
    "import warnings\n",
    "\n",
    "def showwarning(message, category, filename, lineno, line=None):\n",
    "    # ignore this one from matplotlib\n",
    "    if str(message).startswith('axes.color_cycle'):\n",
    "        return\n",
    "    warnings.formatwarning(message, category, filename, lineno, line=line)\n",
    "\n",
    "warnings.showwarning = showwarning"
   ]
  },
  {
   "cell_type": "code",
   "execution_count": 6,
   "metadata": {
    "collapsed": true
   },
   "outputs": [],
   "source": [
    "# plotting setup\n",
    "%matplotlib inline\n",
    "import matplotlib as mpl\n",
    "import matplotlib.pyplot as plt\n",
    "from matplotlib.colors import ListedColormap\n",
    "from matplotlib.gridspec import GridSpec\n",
    "import matplotlib_venn as venn\n",
    "import seaborn as sns\n",
    "sns.set_context('paper')\n",
    "sns.set_style('white')\n",
    "sns.set_style('ticks')\n",
    "rcParams = plt.rcParams\n",
    "rcParams['font.size'] = 8\n",
    "#rcParams['font.family'] = 'arial'\n",
    "rcParams['axes.labelsize'] = 8\n",
    "rcParams['xtick.labelsize'] = 8\n",
    "rcParams['ytick.labelsize'] = 8\n",
    "rcParams['legend.fontsize'] = 8\n",
    "rcParams['axes.linewidth'] = .5\n",
    "rcParams['lines.linewidth'] = .5\n",
    "rcParams['patch.linewidth'] = .5\n",
    "rcParams['ytick.direction'] = 'out'\n",
    "rcParams['xtick.direction'] = 'out'\n",
    "rcParams['savefig.jpeg_quality'] = 100\n",
    "rcParams['savefig.dpi'] = 120\n",
    "rcParams['lines.markeredgewidth'] = .5\n",
    "rcParams['figure.figsize'] = (4.85, 3)"
   ]
  },
  {
   "cell_type": "code",
   "execution_count": 7,
   "metadata": {
    "collapsed": true
   },
   "outputs": [],
   "source": [
    "# bio third party packages\n",
    "import Bio\n",
    "import pyfasta\n",
    "import pysam\n",
    "import pysamstats\n",
    "import petlx\n",
    "import petlx.bio\n",
    "import vcf\n",
    "import vcfnp\n",
    "import anhima\n",
    "import allel\n",
    "import ete3"
   ]
  },
  {
   "cell_type": "markdown",
   "metadata": {},
   "source": [
    "## General utilities"
   ]
  },
  {
   "cell_type": "code",
   "execution_count": 8,
   "metadata": {
    "collapsed": true
   },
   "outputs": [],
   "source": [
    "_slog_indent = -2\n",
    "\n",
    "def log(*msg):\n",
    "    s = ' '.join(map(str, msg))\n",
    "    print(s, file=sys.stdout)\n",
    "    sys.stdout.flush()\n",
    "\n",
    "\n",
    "@contextlib.contextmanager\n",
    "def timer(*msg):\n",
    "    before = datetime.datetime.now()\n",
    "    try:\n",
    "        yield\n",
    "    except:\n",
    "        after = datetime.datetime.now()\n",
    "        elapsed = (after - before).total_seconds()\n",
    "        done = 'errored after %s' % humanize.naturaldelta(elapsed)\n",
    "        if not msg:\n",
    "            msg = done\n",
    "        else:\n",
    "            msg = ', '.join(map(str, msg)) + ', ' + done\n",
    "        print(msg, file=sys.stderr)\n",
    "        sys.stderr.flush()   \n",
    "        raise\n",
    "    else:\n",
    "        after = datetime.datetime.now()\n",
    "        elapsed = (after - before).total_seconds()\n",
    "        done = 'done in %s' % humanize.naturaldelta(elapsed)\n",
    "        if not msg:\n",
    "            msg = done\n",
    "        else:\n",
    "            msg = ', '.join(map(str, msg)) + ', ' + done\n",
    "        print(msg, file=sys.stdout)\n",
    "        sys.stdout.flush()\n",
    "        \n",
    "        \n",
    "@contextlib.contextmanager\n",
    "def section(*title):\n",
    "    global _slog_indent\n",
    "    before = datetime.datetime.now()\n",
    "    _slog_indent += 2                  \n",
    "    prefix = (' ' * _slog_indent) + '[' + ', '.join(map(str, title)) + '] '\n",
    "    \n",
    "    def slog(*msg, file=sys.stdout):\n",
    "        print(prefix + ' '.join(map(str, msg)), file=file)\n",
    "        file.flush()\n",
    "    \n",
    "    slog('begin')\n",
    "                            \n",
    "    try:\n",
    "        yield slog\n",
    "    \n",
    "    except:\n",
    "        after = datetime.datetime.now()\n",
    "        elapsed = (after - before).total_seconds()\n",
    "        msg = 'errored after %s' % humanize.naturaldelta(elapsed)\n",
    "        slog(msg, file=sys.stderr)\n",
    "        _slog_indent -= 2                  \n",
    "        raise\n",
    "    \n",
    "    else:\n",
    "        after = datetime.datetime.now()\n",
    "        elapsed = (after - before).total_seconds()\n",
    "        msg = 'done in %s' % humanize.naturaldelta(elapsed)\n",
    "        slog(msg, file=sys.stdout)\n",
    "        _slog_indent -= 2                  \n",
    "    "
   ]
  },
  {
   "cell_type": "code",
   "execution_count": 9,
   "metadata": {
    "collapsed": true
   },
   "outputs": [],
   "source": [
    "def subplots(*args, despine=None, **kwargs):\n",
    "    fig, ax = plt.subplots(*args, **kwargs)\n",
    "    if despine is None:\n",
    "        despine = dict(offset=10, trim=False)\n",
    "    if hasattr(ax, '__len__'):\n",
    "        for a in ax:\n",
    "            sns.despine(ax=a, **despine)\n",
    "    else:\n",
    "        sns.despine(ax=ax, **despine)\n",
    "    return fig, ax\n"
   ]
  },
  {
   "cell_type": "code",
   "execution_count": 10,
   "metadata": {
    "collapsed": true
   },
   "outputs": [],
   "source": [
    "def str_ascii(b):\n",
    "    if isinstance(b, (tuple, list)):\n",
    "        return type(b)([str(i, 'ascii') for i in b])\n",
    "    elif isinstance(b, np.ndarray):\n",
    "        return np.array([str(i, 'ascii') for i in b.flatten()]).reshape(b.shape)\n",
    "    else:\n",
    "        return str(b, 'ascii')\n",
    "        "
   ]
  },
  {
   "cell_type": "code",
   "execution_count": 11,
   "metadata": {
    "collapsed": true
   },
   "outputs": [],
   "source": [
    "def _h5ls(h5o, currentdepth, maxdepth, maxitems, prefix):\n",
    "    if maxdepth is not None and currentdepth == maxdepth:\n",
    "        return\n",
    "    for i, k in enumerate(h5o.keys()):\n",
    "        path = prefix + '/' + k\n",
    "        if maxitems is not None and i == maxitems:\n",
    "            print(prefix + '/...')\n",
    "            break\n",
    "        v = h5o[k]\n",
    "        print(path + ' : ' + repr(v))\n",
    "        if hasattr(v, 'keys'):\n",
    "            _h5ls(v, currentdepth+1, maxdepth=maxdepth, maxitems=maxitems, prefix=path)\n",
    "\n",
    "def h5ls(h5o, maxdepth=None, maxitems=None):\n",
    "    _h5ls(h5o, 0, maxdepth=maxdepth, maxitems=maxitems, prefix='')\n",
    "    "
   ]
  },
  {
   "cell_type": "markdown",
   "metadata": {},
   "source": [
    "## Phase 1 AR3 data release"
   ]
  },
  {
   "cell_type": "code",
   "execution_count": 1,
   "metadata": {
    "collapsed": false
   },
   "outputs": [
    {
     "ename": "NameError",
     "evalue": "name 'functools' is not defined",
     "output_type": "error",
     "traceback": [
      "\u001b[0;31m---------------------------------------------------------------------------\u001b[0m",
      "\u001b[0;31mNameError\u001b[0m                                 Traceback (most recent call last)",
      "\u001b[0;32m<ipython-input-1-a5ccb4365b90>\u001b[0m in \u001b[0;36m<module>\u001b[0;34m()\u001b[0m\n\u001b[0;32m----> 1\u001b[0;31m \u001b[0;32mclass\u001b[0m \u001b[0mReleasePhase1AR3\u001b[0m\u001b[0;34m(\u001b[0m\u001b[0mobject\u001b[0m\u001b[0;34m)\u001b[0m\u001b[0;34m:\u001b[0m\u001b[0;34m\u001b[0m\u001b[0m\n\u001b[0m\u001b[1;32m      2\u001b[0m \u001b[0;34m\u001b[0m\u001b[0m\n\u001b[1;32m      3\u001b[0m     \u001b[0;32mdef\u001b[0m \u001b[0m__init__\u001b[0m\u001b[0;34m(\u001b[0m\u001b[0mself\u001b[0m\u001b[0;34m)\u001b[0m\u001b[0;34m:\u001b[0m\u001b[0;34m\u001b[0m\u001b[0m\n\u001b[1;32m      4\u001b[0m         \u001b[0mself\u001b[0m\u001b[0;34m.\u001b[0m\u001b[0mtitle\u001b[0m \u001b[0;34m=\u001b[0m \u001b[0;34m'Phase 1 AR3 release'\u001b[0m\u001b[0;34m\u001b[0m\u001b[0m\n\u001b[1;32m      5\u001b[0m         \u001b[0mself\u001b[0m\u001b[0;34m.\u001b[0m\u001b[0mrelease_dir\u001b[0m \u001b[0;34m=\u001b[0m \u001b[0;34m'/data/coluzzi/ag1000g/data/phase2/release/AR3.rc1'\u001b[0m\u001b[0;34m\u001b[0m\u001b[0m\n",
      "\u001b[0;32m<ipython-input-1-a5ccb4365b90>\u001b[0m in \u001b[0;36mReleasePhase1AR3\u001b[0;34m()\u001b[0m\n\u001b[1;32m    191\u001b[0m                     \u001b[0max\u001b[0m\u001b[0;34m.\u001b[0m\u001b[0mtext\u001b[0m\u001b[0;34m(\u001b[0m\u001b[0mx\u001b[0m\u001b[0;34m,\u001b[0m \u001b[0my\u001b[0m\u001b[0;34m,\u001b[0m \u001b[0mlabel\u001b[0m\u001b[0;34m,\u001b[0m \u001b[0mrotation\u001b[0m\u001b[0;34m=\u001b[0m\u001b[0mrotation\u001b[0m\u001b[0;34m,\u001b[0m \u001b[0mfontsize\u001b[0m\u001b[0;34m=\u001b[0m\u001b[0;36m6\u001b[0m\u001b[0;34m,\u001b[0m \u001b[0mha\u001b[0m\u001b[0;34m=\u001b[0m\u001b[0;34m'left'\u001b[0m\u001b[0;34m,\u001b[0m \u001b[0mva\u001b[0m\u001b[0;34m=\u001b[0m\u001b[0;34m'top'\u001b[0m\u001b[0;34m)\u001b[0m\u001b[0;34m\u001b[0m\u001b[0m\n\u001b[1;32m    192\u001b[0m \u001b[0;34m\u001b[0m\u001b[0m\n\u001b[0;32m--> 193\u001b[0;31m     \u001b[0;34m@\u001b[0m\u001b[0mfunctools\u001b[0m\u001b[0;34m.\u001b[0m\u001b[0mlru_cache\u001b[0m\u001b[0;34m(\u001b[0m\u001b[0mmaxsize\u001b[0m\u001b[0;34m=\u001b[0m\u001b[0;32mNone\u001b[0m\u001b[0;34m)\u001b[0m\u001b[0;34m\u001b[0m\u001b[0m\n\u001b[0m\u001b[1;32m    194\u001b[0m     \u001b[0;32mdef\u001b[0m \u001b[0mequally_accessible_windows\u001b[0m\u001b[0;34m(\u001b[0m\u001b[0mself\u001b[0m\u001b[0;34m,\u001b[0m \u001b[0mchrom\u001b[0m\u001b[0;34m,\u001b[0m \u001b[0msize\u001b[0m\u001b[0;34m)\u001b[0m\u001b[0;34m:\u001b[0m\u001b[0;34m\u001b[0m\u001b[0m\n\u001b[1;32m    195\u001b[0m         \u001b[0mis_accessible\u001b[0m \u001b[0;34m=\u001b[0m \u001b[0mself\u001b[0m\u001b[0;34m.\u001b[0m\u001b[0maccessibility\u001b[0m\u001b[0;34m[\u001b[0m\u001b[0mchrom\u001b[0m\u001b[0;34m]\u001b[0m\u001b[0;34m[\u001b[0m\u001b[0;34m'is_accessible'\u001b[0m\u001b[0;34m]\u001b[0m\u001b[0;34m[\u001b[0m\u001b[0;34m:\u001b[0m\u001b[0;34m]\u001b[0m\u001b[0;34m\u001b[0m\u001b[0m\n",
      "\u001b[0;31mNameError\u001b[0m: name 'functools' is not defined"
     ]
    }
   ],
   "source": [
    "class ReleasePhase1AR3(object):\n",
    "\n",
    "    def __init__(self):\n",
    "        self.title = 'Phase 1 AR3 release'\n",
    "        self.release_dir = '/data/coluzzi/ag1000g/data/phase2/release/AR1.rc1'\n",
    "        \n",
    "        # reference genome\n",
    "        self.genome_fn = os.path.join(self.release_dir, 'genome', 'agamP3', 'Anopheles-gambiae-PEST_CHROMOSOMES_AgamP3.fa')\n",
    "        self.genome = pyfasta.Fasta(self.genome_fn)\n",
    "        self.gff_fn = os.path.join(self.release_dir, 'geneset', 'Anopheles-gambiae-PEST_BASEFEATURES_AgamP4.2.sorted.gff3.gz')\n",
    "        self.gene_labels = {\n",
    "            'AGAP009195': 'GSTE1',\n",
    "            'AGAP009194': 'GSTE2',\n",
    "            'AGAP009197': 'GSTE3',\n",
    "            'AGAP009193': 'GSTE4',\n",
    "            'AGAP009192': 'GSTE5',\n",
    "            'AGAP009191': 'GSTE6',\n",
    "            'AGAP009196': 'GSTE7',\n",
    "            'AGAP009190': 'GSTU4',\n",
    "            'AGAP004707': 'VGSC',\n",
    "            'AGAP002862': 'CYP6AA1',\n",
    "            'AGAP013128': 'CYP6AA2',\n",
    "            'AGAP002863': 'COEAE6O',\n",
    "            'AGAP002865': 'CYP6P3',\n",
    "            'AGAP002866': 'CYP6P5',\n",
    "            'AGAP002867': 'CYP6P4',\n",
    "            'AGAP002868': 'CYP6P1',\n",
    "            'AGAP002869': 'CYP6P2',\n",
    "            'AGAP002870': 'CYP6AD1',\n",
    "            'AGAP002915': 'PCSK4/furin',\n",
    "            'AGAP002825': 'PP01',\n",
    "            'AGAP002824': 'GPRTAK1',\n",
    "            'AGAP006028': 'GABA',\n",
    "            'AGAP010815': 'TEP1'\n",
    "        }\n",
    "        self.autosomes = '2R', '2L', '3R', '3L'\n",
    "        self.chromosomes = self.autosomes + ('X',)\n",
    "        \n",
    "        # variant callsets\n",
    "\n",
    "        h5_callset_fn = os.path.join(self.release_dir, 'variation', 'main', 'hdf5', 'ag1000g.phase1.ar3.h5')\n",
    "        if os.path.exists(h5_callset_fn):\n",
    "            self.callset_fn = h5_callset_fn\n",
    "            self.callset = h5py.File(self.callset_fn, mode='r')\n",
    "\n",
    "        h5_callset_pass_fn = os.path.join(self.release_dir, 'variation', 'main', 'hdf5', 'ag1000g.phase1.ar3.pass.h5')\n",
    "        if os.path.exists(h5_callset_pass_fn):\n",
    "            self.callset_pass_fn = h5_callset_pass_fn\n",
    "            self.callset_pass = h5py.File(self.callset_pass_fn, mode='r')\n",
    "\n",
    "        # genome accessibility\n",
    "        self.accessibility_fn = os.path.join(self.release_dir, 'accessibility', 'accessibility.h5')\n",
    "        self.accessibility = h5py.File(self.accessibility_fn)\n",
    "        \n",
    "        # sample metadata\n",
    "        self.tbl_samples = (\n",
    "            etl\n",
    "            .fromtsv(os.path.join(self.release_dir, 'samples', 'samples.all.txt'))\n",
    "            .convert(('index', 'year', 'n_sequences', 'kt_2la', 'kt_2rb'), int)\n",
    "            .convert(('mean_coverage', 'latitude', 'longitude') + tuple(range(20, 36)), float)\n",
    "        )\n",
    "        self.lkp_samples = self.tbl_samples.recordlookupone('ox_code')\n",
    "        self.samples = self.tbl_samples.values('ox_code').list()\n",
    "        self.df_samples = self.tbl_samples.todataframe(index='index')\n",
    "        \n",
    "        # allele counts\n",
    "        self.extras_dir = os.path.join(self.release_dir, 'extras')\n",
    "        self.allele_counts_fn = os.path.join(self.extras_dir, 'allele_counts.h5')\n",
    "        self.allele_counts = h5py.File(self.allele_counts_fn, mode='r')\n",
    "        self.allele_counts_gq10_fn = os.path.join(self.extras_dir, 'allele_counts.gq10.h5')\n",
    "        self.allele_counts_gq10 = h5py.File(self.allele_counts_gq10_fn, mode='r')\n",
    "        self.outgroup_species = 'arab', 'meru', 'mela', 'quad', 'epir', 'chri'\n",
    "        self.outgroup_alleles_fn = os.path.join(self.extras_dir, 'outgroup_alleles.h5')\n",
    "        self.outgroup_alleles = h5py.File(self.outgroup_alleles_fn, mode='r')\n",
    "        self.outgroup_allele_counts_fn = os.path.join(self.extras_dir, 'outgroup_allele_counts.h5')\n",
    "        self.outgroup_allele_counts = h5py.File(self.outgroup_allele_counts_fn, mode='r')\n",
    "        \n",
    "        # genome regions\n",
    "        self.region_X_speciation = 'X-speciation', 'X', 15000000, 24000000 \n",
    "        self.region_X_free = 'X-free', 'X', 1, 14000000 \n",
    "        self.region_3L_free = '3L-free', '3L', 15000000, 41000000\n",
    "        self.region_3R_free = '3R-free', '3R', 1, 37000000 \n",
    "\n",
    "        # chromatin\n",
    "        data_chromatin = b\"\"\"CHX     chro    X       20009764        24393108\n",
    "        CH2R    chro    2R      58984778        61545105\n",
    "        CH2L    chro    2L      1       2431617\n",
    "        PEU2L   chro    2L      2487770 5042389\n",
    "        IH2L    chro    2L      5078962 5788875\n",
    "        IH3R    chro    3R      38988757        41860198\n",
    "        CH3R    chro    3R      52161877        53200684\n",
    "        CH3L    chro    3L      1       1815119\n",
    "        PEU3L   chro    3L      1896830 4235209\n",
    "        IH3L    chro    3L      4264713 5031692\n",
    "        \"\"\"\n",
    "        self.tbl_chromatin = (etl\n",
    "            .fromtext(etl.MemorySource(data_chromatin))\n",
    "            .split('lines', '\\s+', ['name', 'type', 'chrom', 'start', 'stop'])\n",
    "            .convert(('start', 'stop'), int)\n",
    "            .cutout('type')\n",
    "        )\n",
    "\n",
    "        # populations\n",
    "        self.populations = 'AOM', 'BFM', 'GWA', 'GNS', 'BFS', 'CMS', 'GAS', 'UGS', 'KES'\n",
    "        self.pop_labels = {\n",
    "            'AOM': 'AO $coluzzii$',\n",
    "            'BFM': 'BF $coluzzii$',\n",
    "            'GWA': 'GW',\n",
    "            'GNS': 'GN $gambiae$',\n",
    "            'BFS': 'BF $gambiae$',\n",
    "            'CMS': 'CM $gambiae$',\n",
    "            'UGS': 'UG $gambiae$',\n",
    "            'GAS': 'GA $gambiae$',\n",
    "            'KES': 'KE',\n",
    "            'colony': 'colony',\n",
    "        }\n",
    "        self.populations_gamb = 'BFS', 'GNS', 'CMS', 'UGS', 'GAS', 'KES'\n",
    "        self.populations_colu = 'BFM', 'AOM'\n",
    "        self.populations_hybr = 'GWA',\n",
    "        pop_colours = {\n",
    "            'AOM': sns.color_palette('YlOrBr', 5)[4],\n",
    "            'BFM': sns.color_palette('Reds', 3)[1],\n",
    "            'GWA': sns.color_palette('YlOrBr', 5)[1],\n",
    "            'GNS': sns.color_palette('Blues', 3)[0],\n",
    "            'BFS': sns.color_palette('Blues', 3)[1],\n",
    "            'CMS': sns.color_palette('Blues', 3)[2],\n",
    "            'UGS': sns.color_palette('Greens', 2)[0],\n",
    "            'GAS': sns.color_palette('Greens', 2)[1],\n",
    "            'KES': sns.color_palette('Greys', 5)[2],\n",
    "            'colony': sns.color_palette('Greys', 5)[-1]\n",
    "        }\n",
    "        for p in pop_colours:\n",
    "            h = '#%02x%02x%02x' % tuple(int(255*c) for c in pop_colours[p])\n",
    "            pop_colours[p] = h\n",
    "        self.pop_colours = pop_colours\n",
    "        \n",
    "    def get_features(self, chrom, start=None, stop=None):\n",
    "        if start and stop:\n",
    "            region = '%s:%s-%s' % (chrom, start, stop)\n",
    "        else:\n",
    "            region = chrom\n",
    "        return etl.fromgff3(self.gff_fn, region=region)\n",
    "\n",
    "    def plot_genes(self, chrom, start=1, stop=None, ax=None, height=.3, label=False, labels=None, \n",
    "                   label_unnamed=True, barh_kwargs=None):\n",
    "\n",
    "        if stop is None:\n",
    "            stop = len(self.genome[chrom])\n",
    "\n",
    "        if ax is None:\n",
    "            fig, ax = plt.subplots(figsize=(7, 1))\n",
    "            sns.despine(ax=ax, offset=5)\n",
    "\n",
    "        genes = self.get_features(chrom, start, stop).eq('type', 'gene').records()\n",
    "\n",
    "        fwd_ranges = [(g.start, (g.end - g.start)) for g in genes if g.strand == '+']\n",
    "        rev_ranges = [(g.start, (g.end - g.start)) for g in genes if g.strand == '-']\n",
    "        if barh_kwargs is None:\n",
    "            barh_kwargs = dict()\n",
    "        barh_kwargs.setdefault('color', 'k')\n",
    "        ax.broken_barh(fwd_ranges, (.5, height), **barh_kwargs)\n",
    "        ax.broken_barh(rev_ranges, (.5-height, height), **barh_kwargs)\n",
    "        ax.set_ylim(0, 1)\n",
    "        ax.axhline(.5, color='k', linestyle='-')\n",
    "        ax.set_xlim(start, stop)\n",
    "        ax.set_yticks([.5-(height/2), .5+(height/2)])\n",
    "        ax.set_yticklabels(['-', '+'])\n",
    "        ax.set_ylabel('genes', rotation=0, ha='right', va='center')\n",
    "\n",
    "        if label:\n",
    "            for gene in genes:\n",
    "                gid = gene.attributes['ID']\n",
    "                if labels and gid not in labels and not label_unnamed:\n",
    "                    continue\n",
    "                if labels and gid in labels:\n",
    "                    label = labels[gid]\n",
    "                else:\n",
    "                    label = gid\n",
    "                x = gene.start\n",
    "                if x < start: \n",
    "                    x = start\n",
    "                if x > stop: \n",
    "                    x = stop\n",
    "                if gene.strand == '+':\n",
    "                    rotation = 45\n",
    "                    y = .5 + height\n",
    "                    ax.text(x, y, label, rotation=rotation, fontsize=6, ha='left', va='bottom')\n",
    "                else:\n",
    "                    rotation = -45\n",
    "                    y = .5 - height\n",
    "                    ax.text(x, y, label, rotation=rotation, fontsize=6, ha='left', va='top')\n",
    "\n",
    "    @functools.lru_cache(maxsize=None)\n",
    "    def equally_accessible_windows(self, chrom, size):\n",
    "        is_accessible = self.accessibility[chrom]['is_accessible'][:]\n",
    "        pos_accessible = np.nonzero(is_accessible)[0] + 1\n",
    "        windows = allel.stats.moving_statistic(pos_accessible, lambda v: [v[0], v[-1]], size=size)\n",
    "        return windows\n",
    "\n",
    "    \n",
    "# singleton instance\n",
    "release_phase1_ar3 = ReleasePhase1AR3()"
   ]
  },
  {
   "cell_type": "markdown",
   "metadata": {},
   "source": [
    "## Phase 1 AR3.1 data release"
   ]
  },
  {
   "cell_type": "code",
   "execution_count": 13,
   "metadata": {
    "collapsed": false
   },
   "outputs": [],
   "source": [
    "# class ReleasePhase1AR31(object):\n",
    "\n",
    "#     def __init__(self):\n",
    "        \n",
    "#         self.release_dir = '/data/coluzzi/ag1000g/data/phase1/release/AR3.1'\n",
    "\n",
    "#         zarr_callset_fn = os.path.join(self.release_dir, 'variation', 'main', 'zarr2', 'ag1000g.phase1.ar3')\n",
    "#         if os.path.exists(zarr_callset_fn):\n",
    "#             self.callset_fn = zarr_callset_fn\n",
    "#             self.callset = zarr.open_group(self.callset_fn, mode='r')\n",
    "#         zarr_callset_pass_fn = os.path.join(self.release_dir, 'variation', 'main', 'zarr2', 'ag1000g.phase1.ar3.pass')\n",
    "#         if os.path.exists(zarr_callset_pass_fn):\n",
    "#             self.callset_pass_fn = zarr_callset_pass_fn\n",
    "#             self.callset_pass = zarr.open_group(self.callset_pass_fn, mode='r')\n",
    "        \n",
    "#         self.haplotypes_fn = os.path.join(self.release_dir, \n",
    "#                                           'haplotypes', 'main', 'zarr2', 'ag1000g.phase1.ar3.1.haplotypes')\n",
    "#         self.haplotypes = zarr.open_group(self.haplotypes_fn, mode='r')\n",
    "\n",
    "#         self.colony_samples = {\n",
    "#             'AD0231-C': 'Ghana',\n",
    "#             'AD0232-C': 'Kisumu',\n",
    "#             'AD0254-C': 'Ghana',\n",
    "#             'AD0255-C': 'Mali',\n",
    "#             'AD0305-C': 'Mali',\n",
    "#             'AD0306-C': 'Kisumu',\n",
    "#             'AD0347-C': 'Pimperena',\n",
    "#             'AD0348-C': 'Mali',\n",
    "#         }\n",
    "\n",
    "#         # TODO double check this\n",
    "#         self.colony_sample_sex = {\n",
    "#             'AD0231-C': 'F',\n",
    "#             'AD0232-C': 'M',\n",
    "#             'AD0254-C': 'F',\n",
    "#             'AD0255-C': 'M',\n",
    "#             'AD0305-C': 'F',\n",
    "#             'AD0306-C': 'M',\n",
    "#             'AD0347-C': 'F',\n",
    "#             'AD0348-C': 'M',    \n",
    "#         }\n",
    "\n",
    "#         self.phased_samples = [str(s, 'ascii') for s in self.haplotypes['3R']['samples'][:]]\n",
    "#         self.haplotype_labels = list(itertools.chain(*[[s + 'a', s + 'b'] for s in self.phased_samples]))\n",
    "\n",
    "#         self.tbl_haplotypes = (\n",
    "#             etl\n",
    "#             .empty()\n",
    "#             .addcolumn('label', self.haplotype_labels)\n",
    "#             .addrownumbers(start=0)\n",
    "#             .rename('row', 'index')\n",
    "#             .addfield('ox_code', lambda row: row.label[:-1])\n",
    "#             .hashleftjoin(release_phase1_ar3.tbl_samples.cutout('index'), key='ox_code')\n",
    "#             .convert('population', \n",
    "#                      lambda v, row: 'colony' if row.ox_code in self.colony_samples else v, \n",
    "#                      pass_row=True)\n",
    "#             .convert('region', \n",
    "#                      lambda v, row: colony_samples[row.ox_code] if row.ox_code in self.colony_samples else v, \n",
    "#                      pass_row=True)\n",
    "#             .convert('sex', \n",
    "#                      lambda v, row: row.sex if row.ox_code not in self.colony_samples else self.colony_sample_sex[row.ox_code], \n",
    "#                      pass_row=True)\n",
    "#             .convert('m_s', lambda v, row: (row.m_s if row.m_s is not None \n",
    "#                                             else 'M' if row.population == 'colony' and row.region == 'Mali'\n",
    "#                                             else 'S' if row.population == 'colony' and row.region == 'Pimperena'\n",
    "#                                             else '?'), pass_row=True)  \n",
    "#             .addfield('label_aug', lambda row: '%s [%s, %s, %s, %s]' % (row.label, row.country, row.region, row.m_s, row.sex))\n",
    "#             .cut('index', 'label', 'ox_code', 'population', 'label_aug', 'country', 'region', 'sex', 'm_s', 'kt_2la', 'kt_2rb')\n",
    "#         )\n",
    "        \n",
    "#         self.lkp_haplotypes = self.tbl_haplotypes.recordlookupone('label')\n",
    "\n",
    "#         self.n_haplotypes = self.tbl_haplotypes.nrows()\n",
    "#         self.n_haplotype_pairs = (self.n_haplotypes * (self.n_haplotypes - 1)) // 2\n",
    "\n",
    "#         self.df_haplotypes = self.tbl_haplotypes.todataframe(index='index')\n",
    "\n",
    "#     @functools.lru_cache(maxsize=None)\n",
    "#     def load_haplotypes(chrom, start, stop):\n",
    "#         \"\"\"Load haplotypes into memory (uncompressed) for a given genome region.\"\"\"\n",
    "\n",
    "#         pos = allel.SortedIndex(self.haplotypes[chrom]['variants']['POS'][:])\n",
    "#         loc = pos.locate_range(start, stop)\n",
    "\n",
    "#         g = allel.GenotypeArray(self.haplotypes[chrom]['calldata']['genotype'][loc])\n",
    "\n",
    "#         return g.to_haplotypes()\n",
    "\n",
    "    \n",
    "# # singleton instance\n",
    "# release_phase1_ar3_1 = ReleasePhase1AR31()"
   ]
  },
  {
   "cell_type": "markdown",
   "metadata": {},
   "source": [
    "## Other utilities"
   ]
  },
  {
   "cell_type": "code",
   "execution_count": 14,
   "metadata": {
    "collapsed": true
   },
   "outputs": [],
   "source": [
    "def fig_linear_genome(plotf, genome, chromosomes=None, fig=None, \n",
    "                      bottom=0, height=1, width_factor=1.08, chrom_pad=0.035, \n",
    "                      clip_patch_kwargs=None, **kwargs):\n",
    "    if chromosomes is None:\n",
    "        chromosomes = ['2R', '2L', '3R', '3L', 'X']\n",
    "    genome_size = sum(len(genome[chrom]) for chrom in chromosomes)\n",
    "\n",
    "    from matplotlib.path import Path\n",
    "\n",
    "    if fig is None:\n",
    "        fig = plt.figure(figsize=(8, 1))\n",
    "\n",
    "    left = 0\n",
    "\n",
    "    if clip_patch_kwargs is None:\n",
    "        clip_patch_kwargs = dict()\n",
    "    clip_patch_kwargs.setdefault('edgecolor', 'k')\n",
    "    clip_patch_kwargs.setdefault('facecolor', 'none')\n",
    "    clip_patch_kwargs.setdefault('lw', 1)\n",
    "\n",
    "    axs = dict()\n",
    "    for chrom in chromosomes:\n",
    "\n",
    "        # calculate width needed for this chrom\n",
    "        width = len(genome[chrom]) / (genome_size * width_factor)\n",
    "\n",
    "        # create axes\n",
    "        ax = fig.add_axes([left, bottom, width, height])\n",
    "        ax.set_axis_bgcolor((1, 1, 1, 0));\n",
    "        axs[chrom] = ax\n",
    "\n",
    "        # construct clip path\n",
    "        if chrom in {'2R', '3R'}:\n",
    "            verts = [(0.01, 0.02), (0.9, 0.02), (1.01, 0.3), (1.01, 0.7), (0.9, .98), (0.01, .98), (0.01, 0.02)]\n",
    "            codes = [Path.MOVETO, Path.LINETO, Path.LINETO, Path.LINETO, Path.LINETO, Path.LINETO, Path.CLOSEPOLY]\n",
    "        elif chrom == \"X\":\n",
    "            verts = [(0.01, 0.02), (0.9, 0.02), (0.99, 0.3), (0.99, 0.7), (0.9, .98), (0.01, .98), (0.01, 0.02)]\n",
    "            codes = [Path.MOVETO, Path.LINETO, Path.LINETO, Path.LINETO, Path.LINETO, Path.LINETO, Path.CLOSEPOLY]\n",
    "        else:\n",
    "            verts = [(0.1, 0.02), (.99, 0.02), (.99, .98), (.1, .98), (-0.01, .7), (-0.01, .3), (0.1, 0.02)]\n",
    "            codes = [Path.MOVETO, Path.LINETO, Path.LINETO, Path.LINETO, Path.LINETO, Path.LINETO, Path.CLOSEPOLY]\n",
    "        path = Path(verts, codes)\n",
    "        clip_patch = mpl.patches.PathPatch(path, transform=ax.transAxes, **clip_patch_kwargs)\n",
    "\n",
    "        # do the plotting\n",
    "        plotf(chrom=chrom, ax=ax, clip_patch=clip_patch, **kwargs)\n",
    "\n",
    "        # increment left coordinate\n",
    "        left += len(genome[chrom]) / (genome_size * width_factor)\n",
    "        if chrom in {'2L', '3L'}:\n",
    "            left += chrom_pad\n",
    "\n",
    "    return axs\n",
    "\n",
    "\n",
    "class GenomeFigure(object):\n",
    "    \n",
    "    def __init__(self, genome, *args, **kwargs):\n",
    "        self.chromosomes = kwargs.pop('chromosomes', ['2R', '2L', '3R', '3L', 'X'])\n",
    "        maxchrsize = max(np.array(genome[chrom]).size for chrom in self.chromosomes)\n",
    "        fig = plt.figure(*args, **kwargs)\n",
    "        self.fig = fig\n",
    "        self.ax = dict()\n",
    "        for i, chrom in enumerate(self.chromosomes):\n",
    "            ax = fig.add_subplot(3, 2, i+1)\n",
    "            self.ax[chrom] = ax\n",
    "            S = np.array(genome[chrom])\n",
    "            if i % 2 == 1:\n",
    "                sns.despine(ax=ax, offset=10, top=True, left=True, right=False)\n",
    "                ax.set_xlim(0, maxchrsize)\n",
    "                ax.yaxis.tick_right()\n",
    "                ax.yaxis.set_label_position('right')\n",
    "            else:\n",
    "                ax.set_xlim((S.size)-(maxchrsize), S.size)\n",
    "                ax.yaxis.tick_left()\n",
    "                sns.despine(ax=ax, offset=10, top=True, left=False, right=True)\n",
    "            ax.set_xticks(range(0, S.size, int(5e6)))\n",
    "            ax.set_xticklabels(range(0, int(S.size/1e6), 5))\n",
    "            ax.set_title(chrom, fontweight='bold')\n",
    "            ax.xaxis.tick_bottom()\n",
    "        fig.tight_layout()\n",
    "        \n",
    "    def apply(self, f, **kwargs):\n",
    "        chromosomes = kwargs.pop('chromosomes', self.chromosomes)\n",
    "        for chrom in chromosomes:\n",
    "            ax = self.ax[chrom]\n",
    "            f(chrom, ax, **kwargs)\n"
   ]
  },
  {
   "cell_type": "markdown",
   "metadata": {},
   "source": [
    "## Checks"
   ]
  },
  {
   "cell_type": "code",
   "execution_count": 15,
   "metadata": {
    "collapsed": false
   },
   "outputs": [
    {
     "data": {
      "text/html": [
       "<table class='petl'>\n",
       "<thead>\n",
       "<tr>\n",
       "<th>0|seqid</th>\n",
       "<th>1|source</th>\n",
       "<th>2|type</th>\n",
       "<th>3|start</th>\n",
       "<th>4|end</th>\n",
       "<th>5|score</th>\n",
       "<th>6|strand</th>\n",
       "<th>7|phase</th>\n",
       "<th>8|attributes</th>\n",
       "</tr>\n",
       "</thead>\n",
       "<tbody>\n",
       "<tr>\n",
       "<td>2R</td>\n",
       "<td>VectorBase</td>\n",
       "<td>contig</td>\n",
       "<td style='text-align: right'>1</td>\n",
       "<td style='text-align: right'>61545105</td>\n",
       "<td>.</td>\n",
       "<td>.</td>\n",
       "<td>.</td>\n",
       "<td>{'topology': 'linear', 'localization': 'chromosomal', 'translation_table': '1', 'ID': '2R', 'molecule_type': 'dsDNA'}</td>\n",
       "</tr>\n",
       "<tr>\n",
       "<td>2R</td>\n",
       "<td>VectorBase</td>\n",
       "<td>exon</td>\n",
       "<td style='text-align: right'>6577</td>\n",
       "<td style='text-align: right'>7219</td>\n",
       "<td>.</td>\n",
       "<td>+</td>\n",
       "<td>.</td>\n",
       "<td>{'Parent': 'AGAP001096-RA', 'ID': 'AGAP001096-RA-E1A'}</td>\n",
       "</tr>\n",
       "<tr>\n",
       "<td>2R</td>\n",
       "<td>VectorBase</td>\n",
       "<td>five_prime_UTR</td>\n",
       "<td style='text-align: right'>6577</td>\n",
       "<td style='text-align: right'>6717</td>\n",
       "<td>.</td>\n",
       "<td>+</td>\n",
       "<td>.</td>\n",
       "<td>{'Parent': 'AGAP001096-RA'}</td>\n",
       "</tr>\n",
       "<tr>\n",
       "<td>2R</td>\n",
       "<td>VectorBase</td>\n",
       "<td>gene</td>\n",
       "<td style='text-align: right'>6577</td>\n",
       "<td style='text-align: right'>7851</td>\n",
       "<td>.</td>\n",
       "<td>+</td>\n",
       "<td>.</td>\n",
       "<td>{'biotype': 'protein_coding', 'ID': 'AGAP001096'}</td>\n",
       "</tr>\n",
       "<tr>\n",
       "<td>2R</td>\n",
       "<td>VectorBase</td>\n",
       "<td>mRNA</td>\n",
       "<td style='text-align: right'>6577</td>\n",
       "<td style='text-align: right'>7851</td>\n",
       "<td>.</td>\n",
       "<td>+</td>\n",
       "<td>.</td>\n",
       "<td>{'description': 'hypothetical protein', 'Parent': 'AGAP001096', 'Dbxref': 'RefSeq_NA:XM_551751,RefSeq_NA:XM_551751,RefSeq_mRNA_predicted:XM_551751,RefSeq_Prot:XP_551751,RefSeq_rna_predicted:XM_551751,GenBank:AAAB01008987,UniProtKB:Q380A9,protein_id:EAL38657,UniParc:UPI0001D4BB89,EMBL:AAAB01008987,EMBL_predicted:AAAB01008987,RefSeq_peptide_predicted:XP_551751,Uniprot/SPTREMBL_predicted:Q380A9,Uniprot/SPTREMBL:Q380A9,protein_id_predicted:EAL38657', 'ID': 'AGAP001096-RA'}</td>\n",
       "</tr>\n",
       "</tbody>\n",
       "</table>\n",
       "<p><strong>...</strong></p>"
      ],
      "text/plain": [
       "+-------+--------------+------------------+-------+----------+-------+--------+-------+-------------------------------------------------------------------------------------------------------------------------------------------------------------------------------------------------------------------------------------------------------------------------------------------------------------------------------------------------------------------------------------------------------------------------------------------------------------------------------------------+\n",
       "| seqid | source       | type             | start | end      | score | strand | phase | attributes                                                                                                                                                                                                                                                                                                                                                                                                                                                                                |\n",
       "+=======+==============+==================+=======+==========+=======+========+=======+===========================================================================================================================================================================================================================================================================================================================================================================================================================================================================================+\n",
       "| '2R'  | 'VectorBase' | 'contig'         |     1 | 61545105 | '.'   | '.'    | '.'   | {'topology': 'linear', 'localization': 'chromosomal', 'translation_table': '1', 'ID': '2R', 'molecule_type': 'dsDNA'}                                                                                                                                                                                                                                                                                                                                                                     |\n",
       "+-------+--------------+------------------+-------+----------+-------+--------+-------+-------------------------------------------------------------------------------------------------------------------------------------------------------------------------------------------------------------------------------------------------------------------------------------------------------------------------------------------------------------------------------------------------------------------------------------------------------------------------------------------+\n",
       "| '2R'  | 'VectorBase' | 'exon'           |  6577 |     7219 | '.'   | '+'    | '.'   | {'Parent': 'AGAP001096-RA', 'ID': 'AGAP001096-RA-E1A'}                                                                                                                                                                                                                                                                                                                                                                                                                                    |\n",
       "+-------+--------------+------------------+-------+----------+-------+--------+-------+-------------------------------------------------------------------------------------------------------------------------------------------------------------------------------------------------------------------------------------------------------------------------------------------------------------------------------------------------------------------------------------------------------------------------------------------------------------------------------------------+\n",
       "| '2R'  | 'VectorBase' | 'five_prime_UTR' |  6577 |     6717 | '.'   | '+'    | '.'   | {'Parent': 'AGAP001096-RA'}                                                                                                                                                                                                                                                                                                                                                                                                                                                               |\n",
       "+-------+--------------+------------------+-------+----------+-------+--------+-------+-------------------------------------------------------------------------------------------------------------------------------------------------------------------------------------------------------------------------------------------------------------------------------------------------------------------------------------------------------------------------------------------------------------------------------------------------------------------------------------------+\n",
       "| '2R'  | 'VectorBase' | 'gene'           |  6577 |     7851 | '.'   | '+'    | '.'   | {'biotype': 'protein_coding', 'ID': 'AGAP001096'}                                                                                                                                                                                                                                                                                                                                                                                                                                         |\n",
       "+-------+--------------+------------------+-------+----------+-------+--------+-------+-------------------------------------------------------------------------------------------------------------------------------------------------------------------------------------------------------------------------------------------------------------------------------------------------------------------------------------------------------------------------------------------------------------------------------------------------------------------------------------------+\n",
       "| '2R'  | 'VectorBase' | 'mRNA'           |  6577 |     7851 | '.'   | '+'    | '.'   | {'description': 'hypothetical protein', 'Parent': 'AGAP001096', 'Dbxref': 'RefSeq_NA:XM_551751,RefSeq_NA:XM_551751,RefSeq_mRNA_predicted:XM_551751,RefSeq_Prot:XP_551751,RefSeq_rna_predicted:XM_551751,GenBank:AAAB01008987,UniProtKB:Q380A9,protein_id:EAL38657,UniParc:UPI0001D4BB89,EMBL:AAAB01008987,EMBL_predicted:AAAB01008987,RefSeq_peptide_predicted:XP_551751,Uniprot/SPTREMBL_predicted:Q380A9,Uniprot/SPTREMBL:Q380A9,protein_id_predicted:EAL38657', 'ID': 'AGAP001096-RA'} |\n",
       "+-------+--------------+------------------+-------+----------+-------+--------+-------+-------------------------------------------------------------------------------------------------------------------------------------------------------------------------------------------------------------------------------------------------------------------------------------------------------------------------------------------------------------------------------------------------------------------------------------------------------------------------------------------+\n",
       "..."
      ]
     },
     "execution_count": 15,
     "metadata": {},
     "output_type": "execute_result"
    }
   ],
   "source": [
    "release_phase1_ar3.get_features('2R')"
   ]
  },
  {
   "cell_type": "code",
   "execution_count": 16,
   "metadata": {
    "collapsed": false
   },
   "outputs": [
    {
     "name": "stdout",
     "output_type": "stream",
     "text": [
      "'ReleasePhase1AR3' object has no attribute 'callset'\n"
     ]
    }
   ],
   "source": [
    "try:\n",
    "    release_phase1_ar3.callset\n",
    "except AttributeError as e:\n",
    "    print(e)"
   ]
  },
  {
   "cell_type": "code",
   "execution_count": 17,
   "metadata": {
    "collapsed": false
   },
   "outputs": [
    {
     "name": "stdout",
     "output_type": "stream",
     "text": [
      "'ReleasePhase1AR3' object has no attribute 'callset_pass'\n"
     ]
    }
   ],
   "source": [
    "try:\n",
    "    release_phase1_ar3.callset_pass\n",
    "except AttributeError as e:\n",
    "    print(e)"
   ]
  },
  {
   "cell_type": "code",
   "execution_count": 18,
   "metadata": {
    "collapsed": false
   },
   "outputs": [
    {
     "data": {
      "text/plain": [
       "<HDF5 file \"accessibility.h5\" (mode r)>"
      ]
     },
     "execution_count": 18,
     "metadata": {},
     "output_type": "execute_result"
    }
   ],
   "source": [
    "release_phase1_ar3.accessibility"
   ]
  },
  {
   "cell_type": "code",
   "execution_count": 19,
   "metadata": {
    "collapsed": false
   },
   "outputs": [
    {
     "data": {
      "text/html": [
       "<table class='petl'>\n",
       "<thead>\n",
       "<tr>\n",
       "<th>0|index</th>\n",
       "<th>1|ox_code</th>\n",
       "<th>2|src_code</th>\n",
       "<th>3|sra_sample_accession</th>\n",
       "<th>4|population</th>\n",
       "<th>5|country</th>\n",
       "<th>6|region</th>\n",
       "<th>7|contributor</th>\n",
       "<th>8|contact</th>\n",
       "<th>9|year</th>\n",
       "<th>10|m_s</th>\n",
       "<th>11|sex</th>\n",
       "<th>12|n_sequences</th>\n",
       "<th>13|mean_coverage</th>\n",
       "<th>14|latitude</th>\n",
       "<th>15|longitude</th>\n",
       "<th>16|kt_2la</th>\n",
       "<th>17|kt_2rb</th>\n",
       "<th>18|kdr_1014</th>\n",
       "<th>19|rdl_296</th>\n",
       "<th>20|f_roh_100kb</th>\n",
       "<th>21|count_roh_100kb</th>\n",
       "<th>22|sum_roh_100kb</th>\n",
       "<th>23|pca_3R_free_pc1</th>\n",
       "<th>24|pca_3R_free_pc2</th>\n",
       "<th>25|pca_3R_free_pc3</th>\n",
       "<th>26|pca_3R_free_pc4</th>\n",
       "<th>27|pca_3L_free_pc1</th>\n",
       "<th>28|pca_3L_free_pc2</th>\n",
       "<th>29|pca_3L_free_pc3</th>\n",
       "<th>30|pca_3L_free_pc4</th>\n",
       "<th>31|pca_2La_pc1</th>\n",
       "<th>32|pca_2La_pc2</th>\n",
       "<th>33|pca_2La_pc3</th>\n",
       "<th>34|pca_2La_pc4</th>\n",
       "<th>35|pca_2Rb_pc1</th>\n",
       "<th>36|pca_2Rb_pc2</th>\n",
       "<th>37|pca_2Rb_pc3</th>\n",
       "<th>38|pca_2Rb_pc4</th>\n",
       "</tr>\n",
       "</thead>\n",
       "<tbody>\n",
       "<tr>\n",
       "<td style='text-align: right'>0</td>\n",
       "<td>AB0085-C</td>\n",
       "<td>BF2-4</td>\n",
       "<td>ERS223996</td>\n",
       "<td>BFS</td>\n",
       "<td>Burkina Faso</td>\n",
       "<td>Pala</td>\n",
       "<td>Austin Burt</td>\n",
       "<td>Sam O'Loughlin</td>\n",
       "<td style='text-align: right'>2012</td>\n",
       "<td>S</td>\n",
       "<td>F</td>\n",
       "<td style='text-align: right'>89905852</td>\n",
       "<td style='text-align: right'>28.01</td>\n",
       "<td style='text-align: right'>11.15</td>\n",
       "<td style='text-align: right'>-4.235</td>\n",
       "<td style='text-align: right'>2</td>\n",
       "<td style='text-align: right'>2</td>\n",
       "<td>F/F</td>\n",
       "<td>+/G</td>\n",
       "<td style='text-align: right'>0.042107010873229746</td>\n",
       "<td style='text-align: right'>29.0</td>\n",
       "<td style='text-align: right'>8677141.0</td>\n",
       "<td style='text-align: right'>23.6793027843</td>\n",
       "<td style='text-align: right'>-18.5070597845</td>\n",
       "<td style='text-align: right'>12.0772681634</td>\n",
       "<td style='text-align: right'>19.2280281052</td>\n",
       "<td style='text-align: right'>21.9745708329</td>\n",
       "<td style='text-align: right'>10.7956364888</td>\n",
       "<td style='text-align: right'>-8.29093998681</td>\n",
       "<td style='text-align: right'>-18.5427676041</td>\n",
       "<td style='text-align: right'>-55.5113887109</td>\n",
       "<td style='text-align: right'>32.6821432536</td>\n",
       "<td style='text-align: right'>-1.83373939012</td>\n",
       "<td style='text-align: right'>-0.381984489959</td>\n",
       "<td style='text-align: right'>-38.9343010433</td>\n",
       "<td>31.9393825655</td>\n",
       "<td>19.3456057294</td>\n",
       "<td>7.36200361786</td>\n",
       "</tr>\n",
       "<tr>\n",
       "<td style='text-align: right'>1</td>\n",
       "<td>AB0087-C</td>\n",
       "<td>BF3-3</td>\n",
       "<td>ERS224013</td>\n",
       "<td>BFM</td>\n",
       "<td>Burkina Faso</td>\n",
       "<td>Bana</td>\n",
       "<td>Austin Burt</td>\n",
       "<td>Sam O'Loughlin</td>\n",
       "<td style='text-align: right'>2012</td>\n",
       "<td>M</td>\n",
       "<td>F</td>\n",
       "<td style='text-align: right'>116706234</td>\n",
       "<td style='text-align: right'>36.76</td>\n",
       "<td style='text-align: right'>11.233</td>\n",
       "<td style='text-align: right'>-4.472</td>\n",
       "<td style='text-align: right'>2</td>\n",
       "<td style='text-align: right'>1</td>\n",
       "<td>+/F</td>\n",
       "<td>S/S</td>\n",
       "<td style='text-align: right'>0.025145716787664325</td>\n",
       "<td style='text-align: right'>21.0</td>\n",
       "<td style='text-align: right'>5181867.0</td>\n",
       "<td style='text-align: right'>15.7323873539</td>\n",
       "<td style='text-align: right'>-1.83549452896</td>\n",
       "<td style='text-align: right'>32.9818625773</td>\n",
       "<td style='text-align: right'>-89.1273994494</td>\n",
       "<td style='text-align: right'>18.2159670837</td>\n",
       "<td style='text-align: right'>-4.68369329711</td>\n",
       "<td style='text-align: right'>-38.6030764755</td>\n",
       "<td style='text-align: right'>76.9156170044</td>\n",
       "<td style='text-align: right'>-51.8566327426</td>\n",
       "<td style='text-align: right'>27.4012490277</td>\n",
       "<td style='text-align: right'>2.58648776622</td>\n",
       "<td style='text-align: right'>0.643100495995</td>\n",
       "<td style='text-align: right'>-10.0728787877</td>\n",
       "<td>29.0072663226</td>\n",
       "<td>-21.7360873147</td>\n",
       "<td>-30.3095623125</td>\n",
       "</tr>\n",
       "<tr>\n",
       "<td style='text-align: right'>2</td>\n",
       "<td>AB0088-C</td>\n",
       "<td>BF3-5</td>\n",
       "<td>ERS223991</td>\n",
       "<td>BFM</td>\n",
       "<td>Burkina Faso</td>\n",
       "<td>Bana</td>\n",
       "<td>Austin Burt</td>\n",
       "<td>Sam O'Loughlin</td>\n",
       "<td style='text-align: right'>2012</td>\n",
       "<td>M</td>\n",
       "<td>F</td>\n",
       "<td style='text-align: right'>112090460</td>\n",
       "<td style='text-align: right'>23.3</td>\n",
       "<td style='text-align: right'>11.233</td>\n",
       "<td style='text-align: right'>-4.472</td>\n",
       "<td style='text-align: right'>2</td>\n",
       "<td style='text-align: right'>0</td>\n",
       "<td>F/F</td>\n",
       "<td>+/S</td>\n",
       "<td style='text-align: right'>0.0521155978560955</td>\n",
       "<td style='text-align: right'>22.0</td>\n",
       "<td style='text-align: right'>10739646.0</td>\n",
       "<td style='text-align: right'>15.9144742202</td>\n",
       "<td style='text-align: right'>-3.28434973341</td>\n",
       "<td style='text-align: right'>34.0105947774</td>\n",
       "<td style='text-align: right'>-96.0052368219</td>\n",
       "<td style='text-align: right'>16.0453888787</td>\n",
       "<td style='text-align: right'>-4.64766358271</td>\n",
       "<td style='text-align: right'>-35.5533400502</td>\n",
       "<td style='text-align: right'>73.9854882996</td>\n",
       "<td style='text-align: right'>-50.9424557656</td>\n",
       "<td style='text-align: right'>28.5722072116</td>\n",
       "<td style='text-align: right'>3.07258266003</td>\n",
       "<td style='text-align: right'>-0.643137464416</td>\n",
       "<td style='text-align: right'>12.2817439138</td>\n",
       "<td>22.2884170021</td>\n",
       "<td>-43.6613009253</td>\n",
       "<td>-51.5571401018</td>\n",
       "</tr>\n",
       "<tr>\n",
       "<td style='text-align: right'>3</td>\n",
       "<td>AB0089-C</td>\n",
       "<td>BF3-8</td>\n",
       "<td>ERS224031</td>\n",
       "<td>BFM</td>\n",
       "<td>Burkina Faso</td>\n",
       "<td>Bana</td>\n",
       "<td>Austin Burt</td>\n",
       "<td>Sam O'Loughlin</td>\n",
       "<td style='text-align: right'>2012</td>\n",
       "<td>M</td>\n",
       "<td>F</td>\n",
       "<td style='text-align: right'>145350454</td>\n",
       "<td style='text-align: right'>41.36</td>\n",
       "<td style='text-align: right'>11.233</td>\n",
       "<td style='text-align: right'>-4.472</td>\n",
       "<td style='text-align: right'>2</td>\n",
       "<td style='text-align: right'>1</td>\n",
       "<td>F/F</td>\n",
       "<td>+/S</td>\n",
       "<td style='text-align: right'>0.027995121838662016</td>\n",
       "<td style='text-align: right'>12.0</td>\n",
       "<td style='text-align: right'>5769054.0</td>\n",
       "<td style='text-align: right'>15.4642367255</td>\n",
       "<td style='text-align: right'>-1.17455185408</td>\n",
       "<td style='text-align: right'>34.1155964442</td>\n",
       "<td style='text-align: right'>-95.490470647</td>\n",
       "<td style='text-align: right'>15.8183147597</td>\n",
       "<td style='text-align: right'>-5.18368348209</td>\n",
       "<td style='text-align: right'>-36.6215680942</td>\n",
       "<td style='text-align: right'>76.4539930728</td>\n",
       "<td style='text-align: right'>-51.1692466079</td>\n",
       "<td style='text-align: right'>29.4149747305</td>\n",
       "<td style='text-align: right'>2.19843391766</td>\n",
       "<td style='text-align: right'>0.01356240989</td>\n",
       "<td style='text-align: right'>-10.6640721216</td>\n",
       "<td>29.6013328528</td>\n",
       "<td>-16.8315586278</td>\n",
       "<td>-25.4528535287</td>\n",
       "</tr>\n",
       "<tr>\n",
       "<td style='text-align: right'>4</td>\n",
       "<td>AB0090-C</td>\n",
       "<td>BF3-10</td>\n",
       "<td>ERS223936</td>\n",
       "<td>BFM</td>\n",
       "<td>Burkina Faso</td>\n",
       "<td>Bana</td>\n",
       "<td>Austin Burt</td>\n",
       "<td>Sam O'Loughlin</td>\n",
       "<td style='text-align: right'>2012</td>\n",
       "<td>M</td>\n",
       "<td>F</td>\n",
       "<td style='text-align: right'>105012254</td>\n",
       "<td style='text-align: right'>34.64</td>\n",
       "<td style='text-align: right'>11.233</td>\n",
       "<td style='text-align: right'>-4.472</td>\n",
       "<td style='text-align: right'>2</td>\n",
       "<td style='text-align: right'>0</td>\n",
       "<td>+/F</td>\n",
       "<td>+/S</td>\n",
       "<td style='text-align: right'>0.02307312178280817</td>\n",
       "<td style='text-align: right'>20.0</td>\n",
       "<td style='text-align: right'>4754760.0</td>\n",
       "<td style='text-align: right'>16.1964455617</td>\n",
       "<td style='text-align: right'>-3.65671498231</td>\n",
       "<td style='text-align: right'>32.0968063169</td>\n",
       "<td style='text-align: right'>-89.2493228645</td>\n",
       "<td style='text-align: right'>11.297362397</td>\n",
       "<td style='text-align: right'>-7.25321336364</td>\n",
       "<td style='text-align: right'>-36.0977560333</td>\n",
       "<td style='text-align: right'>72.0363093309</td>\n",
       "<td style='text-align: right'>-48.6074156394</td>\n",
       "<td style='text-align: right'>26.4075318513</td>\n",
       "<td style='text-align: right'>1.64322606755</td>\n",
       "<td style='text-align: right'>0.102581833433</td>\n",
       "<td style='text-align: right'>12.8971133302</td>\n",
       "<td>22.1944442666</td>\n",
       "<td>-48.8823782537</td>\n",
       "<td>-52.4204868387</td>\n",
       "</tr>\n",
       "</tbody>\n",
       "</table>\n",
       "<p><strong>...</strong></p>"
      ],
      "text/plain": [
       "+-------+------------+----------+----------------------+------------+----------------+--------+---------------+------------------+------+-----+-----+-------------+---------------+----------+-----------+--------+--------+----------+---------+----------------------+-----------------+---------------+-----------------+-----------------+-----------------+-----------------+-----------------+-----------------+-----------------+-----------------+----------------+---------------+----------------+-----------------+----------------+-----------------+------------------+------------------+\n",
       "| index | ox_code    | src_code | sra_sample_accession | population | country        | region | contributor   | contact          | year | m_s | sex | n_sequences | mean_coverage | latitude | longitude | kt_2la | kt_2rb | kdr_1014 | rdl_296 | f_roh_100kb          | count_roh_100kb | sum_roh_100kb | pca_3R_free_pc1 | pca_3R_free_pc2 | pca_3R_free_pc3 | pca_3R_free_pc4 | pca_3L_free_pc1 | pca_3L_free_pc2 | pca_3L_free_pc3 | pca_3L_free_pc4 | pca_2La_pc1    | pca_2La_pc2   | pca_2La_pc3    | pca_2La_pc4     | pca_2Rb_pc1    | pca_2Rb_pc2     | pca_2Rb_pc3      | pca_2Rb_pc4      |\n",
       "+=======+============+==========+======================+============+================+========+===============+==================+======+=====+=====+=============+===============+==========+===========+========+========+==========+=========+======================+=================+===============+=================+=================+=================+=================+=================+=================+=================+=================+================+===============+================+=================+================+=================+==================+==================+\n",
       "|     0 | 'AB0085-C' | 'BF2-4'  | 'ERS223996'          | 'BFS'      | 'Burkina Faso' | 'Pala' | 'Austin Burt' | \"Sam O'Loughlin\" | 2012 | 'S' | 'F' |    89905852 |         28.01 |    11.15 |    -4.235 |      2 |      2 | 'F/F'    | '+/G'   | 0.042107010873229746 |            29.0 |     8677141.0 |   23.6793027843 |  -18.5070597845 |   12.0772681634 |   19.2280281052 |   21.9745708329 |   10.7956364888 |  -8.29093998681 |  -18.5427676041 | -55.5113887109 | 32.6821432536 | -1.83373939012 | -0.381984489959 | -38.9343010433 | '31.9393825655' | '19.3456057294'  | '7.36200361786'  |\n",
       "+-------+------------+----------+----------------------+------------+----------------+--------+---------------+------------------+------+-----+-----+-------------+---------------+----------+-----------+--------+--------+----------+---------+----------------------+-----------------+---------------+-----------------+-----------------+-----------------+-----------------+-----------------+-----------------+-----------------+-----------------+----------------+---------------+----------------+-----------------+----------------+-----------------+------------------+------------------+\n",
       "|     1 | 'AB0087-C' | 'BF3-3'  | 'ERS224013'          | 'BFM'      | 'Burkina Faso' | 'Bana' | 'Austin Burt' | \"Sam O'Loughlin\" | 2012 | 'M' | 'F' |   116706234 |         36.76 |   11.233 |    -4.472 |      2 |      1 | '+/F'    | 'S/S'   | 0.025145716787664325 |            21.0 |     5181867.0 |   15.7323873539 |  -1.83549452896 |   32.9818625773 |  -89.1273994494 |   18.2159670837 |  -4.68369329711 |  -38.6030764755 |   76.9156170044 | -51.8566327426 | 27.4012490277 |  2.58648776622 |  0.643100495995 | -10.0728787877 | '29.0072663226' | '-21.7360873147' | '-30.3095623125' |\n",
       "+-------+------------+----------+----------------------+------------+----------------+--------+---------------+------------------+------+-----+-----+-------------+---------------+----------+-----------+--------+--------+----------+---------+----------------------+-----------------+---------------+-----------------+-----------------+-----------------+-----------------+-----------------+-----------------+-----------------+-----------------+----------------+---------------+----------------+-----------------+----------------+-----------------+------------------+------------------+\n",
       "|     2 | 'AB0088-C' | 'BF3-5'  | 'ERS223991'          | 'BFM'      | 'Burkina Faso' | 'Bana' | 'Austin Burt' | \"Sam O'Loughlin\" | 2012 | 'M' | 'F' |   112090460 |          23.3 |   11.233 |    -4.472 |      2 |      0 | 'F/F'    | '+/S'   |   0.0521155978560955 |            22.0 |    10739646.0 |   15.9144742202 |  -3.28434973341 |   34.0105947774 |  -96.0052368219 |   16.0453888787 |  -4.64766358271 |  -35.5533400502 |   73.9854882996 | -50.9424557656 | 28.5722072116 |  3.07258266003 | -0.643137464416 |  12.2817439138 | '22.2884170021' | '-43.6613009253' | '-51.5571401018' |\n",
       "+-------+------------+----------+----------------------+------------+----------------+--------+---------------+------------------+------+-----+-----+-------------+---------------+----------+-----------+--------+--------+----------+---------+----------------------+-----------------+---------------+-----------------+-----------------+-----------------+-----------------+-----------------+-----------------+-----------------+-----------------+----------------+---------------+----------------+-----------------+----------------+-----------------+------------------+------------------+\n",
       "|     3 | 'AB0089-C' | 'BF3-8'  | 'ERS224031'          | 'BFM'      | 'Burkina Faso' | 'Bana' | 'Austin Burt' | \"Sam O'Loughlin\" | 2012 | 'M' | 'F' |   145350454 |         41.36 |   11.233 |    -4.472 |      2 |      1 | 'F/F'    | '+/S'   | 0.027995121838662016 |            12.0 |     5769054.0 |   15.4642367255 |  -1.17455185408 |   34.1155964442 |   -95.490470647 |   15.8183147597 |  -5.18368348209 |  -36.6215680942 |   76.4539930728 | -51.1692466079 | 29.4149747305 |  2.19843391766 |   0.01356240989 | -10.6640721216 | '29.6013328528' | '-16.8315586278' | '-25.4528535287' |\n",
       "+-------+------------+----------+----------------------+------------+----------------+--------+---------------+------------------+------+-----+-----+-------------+---------------+----------+-----------+--------+--------+----------+---------+----------------------+-----------------+---------------+-----------------+-----------------+-----------------+-----------------+-----------------+-----------------+-----------------+-----------------+----------------+---------------+----------------+-----------------+----------------+-----------------+------------------+------------------+\n",
       "|     4 | 'AB0090-C' | 'BF3-10' | 'ERS223936'          | 'BFM'      | 'Burkina Faso' | 'Bana' | 'Austin Burt' | \"Sam O'Loughlin\" | 2012 | 'M' | 'F' |   105012254 |         34.64 |   11.233 |    -4.472 |      2 |      0 | '+/F'    | '+/S'   |  0.02307312178280817 |            20.0 |     4754760.0 |   16.1964455617 |  -3.65671498231 |   32.0968063169 |  -89.2493228645 |    11.297362397 |  -7.25321336364 |  -36.0977560333 |   72.0363093309 | -48.6074156394 | 26.4075318513 |  1.64322606755 |  0.102581833433 |  12.8971133302 | '22.1944442666' | '-48.8823782537' | '-52.4204868387' |\n",
       "+-------+------------+----------+----------------------+------------+----------------+--------+---------------+------------------+------+-----+-----+-------------+---------------+----------+-----------+--------+--------+----------+---------+----------------------+-----------------+---------------+-----------------+-----------------+-----------------+-----------------+-----------------+-----------------+-----------------+-----------------+----------------+---------------+----------------+-----------------+----------------+-----------------+------------------+------------------+\n",
       "..."
      ]
     },
     "execution_count": 19,
     "metadata": {},
     "output_type": "execute_result"
    }
   ],
   "source": [
    "release_phase1_ar3.tbl_samples"
   ]
  },
  {
   "cell_type": "code",
   "execution_count": 20,
   "metadata": {
    "collapsed": false
   },
   "outputs": [
    {
     "data": {
      "text/plain": [
       "'/data/coluzzi/ag1000g/data/phase1/release/AR3/extras'"
      ]
     },
     "execution_count": 20,
     "metadata": {},
     "output_type": "execute_result"
    }
   ],
   "source": [
    "release_phase1_ar3.extras_dir"
   ]
  },
  {
   "cell_type": "code",
   "execution_count": 21,
   "metadata": {
    "collapsed": false
   },
   "outputs": [
    {
     "data": {
      "text/plain": [
       "<HDF5 file \"allele_counts.h5\" (mode r)>"
      ]
     },
     "execution_count": 21,
     "metadata": {},
     "output_type": "execute_result"
    }
   ],
   "source": [
    "release_phase1_ar3.allele_counts"
   ]
  },
  {
   "cell_type": "code",
   "execution_count": 22,
   "metadata": {
    "collapsed": false
   },
   "outputs": [
    {
     "data": {
      "text/plain": [
       "<HDF5 file \"allele_counts.gq10.h5\" (mode r)>"
      ]
     },
     "execution_count": 22,
     "metadata": {},
     "output_type": "execute_result"
    }
   ],
   "source": [
    "release_phase1_ar3.allele_counts_gq10"
   ]
  },
  {
   "cell_type": "code",
   "execution_count": 23,
   "metadata": {
    "collapsed": false
   },
   "outputs": [
    {
     "data": {
      "text/plain": [
       "<HDF5 file \"outgroup_alleles.h5\" (mode r)>"
      ]
     },
     "execution_count": 23,
     "metadata": {},
     "output_type": "execute_result"
    }
   ],
   "source": [
    "release_phase1_ar3.outgroup_alleles"
   ]
  },
  {
   "cell_type": "code",
   "execution_count": 24,
   "metadata": {
    "collapsed": false
   },
   "outputs": [
    {
     "data": {
      "text/plain": [
       "<HDF5 file \"outgroup_allele_counts.h5\" (mode r)>"
      ]
     },
     "execution_count": 24,
     "metadata": {},
     "output_type": "execute_result"
    }
   ],
   "source": [
    "release_phase1_ar3.outgroup_allele_counts"
   ]
  },
  {
   "cell_type": "code",
   "execution_count": 25,
   "metadata": {
    "collapsed": false
   },
   "outputs": [
    {
     "data": {
      "text/plain": [
       "Group(/, 6)\n",
       "  arrays: 1; samples\n",
       "  groups: 5; 2L, 2R, 3L, 3R, X\n",
       "  store: DirectoryStore"
      ]
     },
     "execution_count": 25,
     "metadata": {},
     "output_type": "execute_result"
    }
   ],
   "source": [
    "# release_phase1_ar3_1.haplotypes"
   ]
  },
  {
   "cell_type": "code",
   "execution_count": 26,
   "metadata": {
    "collapsed": false
   },
   "outputs": [
    {
     "data": {
      "text/plain": [
       "['AB0085-C', 'AB0087-C', 'AB0088-C', 'AB0089-C', 'AB0090-C']"
      ]
     },
     "execution_count": 26,
     "metadata": {},
     "output_type": "execute_result"
    }
   ],
   "source": [
    "# release_phase1_ar3_1.phased_samples[:5]"
   ]
  },
  {
   "cell_type": "code",
   "execution_count": 27,
   "metadata": {
    "collapsed": false
   },
   "outputs": [
    {
     "data": {
      "text/plain": [
       "['AB0085-Ca', 'AB0085-Cb', 'AB0087-Ca', 'AB0087-Cb', 'AB0088-Ca']"
      ]
     },
     "execution_count": 27,
     "metadata": {},
     "output_type": "execute_result"
    }
   ],
   "source": [
    "# release_phase1_ar3_1.haplotype_labels[:5]"
   ]
  },
  {
   "cell_type": "code",
   "execution_count": 28,
   "metadata": {
    "collapsed": false
   },
   "outputs": [
    {
     "data": {
      "text/html": [
       "<table class='petl'>\n",
       "<thead>\n",
       "<tr>\n",
       "<th>0|index</th>\n",
       "<th>1|label</th>\n",
       "<th>2|ox_code</th>\n",
       "<th>3|population</th>\n",
       "<th>4|label_aug</th>\n",
       "<th>5|country</th>\n",
       "<th>6|region</th>\n",
       "<th>7|sex</th>\n",
       "<th>8|m_s</th>\n",
       "<th>9|kt_2la</th>\n",
       "<th>10|kt_2rb</th>\n",
       "</tr>\n",
       "</thead>\n",
       "<tbody>\n",
       "<tr>\n",
       "<td style='text-align: right'>0</td>\n",
       "<td>AB0085-Ca</td>\n",
       "<td>AB0085-C</td>\n",
       "<td>BFS</td>\n",
       "<td>AB0085-Ca [Burkina Faso, Pala, S, F]</td>\n",
       "<td>Burkina Faso</td>\n",
       "<td>Pala</td>\n",
       "<td>F</td>\n",
       "<td>S</td>\n",
       "<td style='text-align: right'>2</td>\n",
       "<td style='text-align: right'>2</td>\n",
       "</tr>\n",
       "<tr>\n",
       "<td style='text-align: right'>1</td>\n",
       "<td>AB0085-Cb</td>\n",
       "<td>AB0085-C</td>\n",
       "<td>BFS</td>\n",
       "<td>AB0085-Cb [Burkina Faso, Pala, S, F]</td>\n",
       "<td>Burkina Faso</td>\n",
       "<td>Pala</td>\n",
       "<td>F</td>\n",
       "<td>S</td>\n",
       "<td style='text-align: right'>2</td>\n",
       "<td style='text-align: right'>2</td>\n",
       "</tr>\n",
       "<tr>\n",
       "<td style='text-align: right'>2</td>\n",
       "<td>AB0087-Ca</td>\n",
       "<td>AB0087-C</td>\n",
       "<td>BFM</td>\n",
       "<td>AB0087-Ca [Burkina Faso, Bana, M, F]</td>\n",
       "<td>Burkina Faso</td>\n",
       "<td>Bana</td>\n",
       "<td>F</td>\n",
       "<td>M</td>\n",
       "<td style='text-align: right'>2</td>\n",
       "<td style='text-align: right'>1</td>\n",
       "</tr>\n",
       "<tr>\n",
       "<td style='text-align: right'>3</td>\n",
       "<td>AB0087-Cb</td>\n",
       "<td>AB0087-C</td>\n",
       "<td>BFM</td>\n",
       "<td>AB0087-Cb [Burkina Faso, Bana, M, F]</td>\n",
       "<td>Burkina Faso</td>\n",
       "<td>Bana</td>\n",
       "<td>F</td>\n",
       "<td>M</td>\n",
       "<td style='text-align: right'>2</td>\n",
       "<td style='text-align: right'>1</td>\n",
       "</tr>\n",
       "<tr>\n",
       "<td style='text-align: right'>4</td>\n",
       "<td>AB0088-Ca</td>\n",
       "<td>AB0088-C</td>\n",
       "<td>BFM</td>\n",
       "<td>AB0088-Ca [Burkina Faso, Bana, M, F]</td>\n",
       "<td>Burkina Faso</td>\n",
       "<td>Bana</td>\n",
       "<td>F</td>\n",
       "<td>M</td>\n",
       "<td style='text-align: right'>2</td>\n",
       "<td style='text-align: right'>0</td>\n",
       "</tr>\n",
       "</tbody>\n",
       "</table>\n",
       "<p><strong>...</strong></p>"
      ],
      "text/plain": [
       "+-------+-------------+------------+------------+----------------------------------------+----------------+--------+-----+-----+--------+--------+\n",
       "| index | label       | ox_code    | population | label_aug                              | country        | region | sex | m_s | kt_2la | kt_2rb |\n",
       "+=======+=============+============+============+========================================+================+========+=====+=====+========+========+\n",
       "|     0 | 'AB0085-Ca' | 'AB0085-C' | 'BFS'      | 'AB0085-Ca [Burkina Faso, Pala, S, F]' | 'Burkina Faso' | 'Pala' | 'F' | 'S' |      2 |      2 |\n",
       "+-------+-------------+------------+------------+----------------------------------------+----------------+--------+-----+-----+--------+--------+\n",
       "|     1 | 'AB0085-Cb' | 'AB0085-C' | 'BFS'      | 'AB0085-Cb [Burkina Faso, Pala, S, F]' | 'Burkina Faso' | 'Pala' | 'F' | 'S' |      2 |      2 |\n",
       "+-------+-------------+------------+------------+----------------------------------------+----------------+--------+-----+-----+--------+--------+\n",
       "|     2 | 'AB0087-Ca' | 'AB0087-C' | 'BFM'      | 'AB0087-Ca [Burkina Faso, Bana, M, F]' | 'Burkina Faso' | 'Bana' | 'F' | 'M' |      2 |      1 |\n",
       "+-------+-------------+------------+------------+----------------------------------------+----------------+--------+-----+-----+--------+--------+\n",
       "|     3 | 'AB0087-Cb' | 'AB0087-C' | 'BFM'      | 'AB0087-Cb [Burkina Faso, Bana, M, F]' | 'Burkina Faso' | 'Bana' | 'F' | 'M' |      2 |      1 |\n",
       "+-------+-------------+------------+------------+----------------------------------------+----------------+--------+-----+-----+--------+--------+\n",
       "|     4 | 'AB0088-Ca' | 'AB0088-C' | 'BFM'      | 'AB0088-Ca [Burkina Faso, Bana, M, F]' | 'Burkina Faso' | 'Bana' | 'F' | 'M' |      2 |      0 |\n",
       "+-------+-------------+------------+------------+----------------------------------------+----------------+--------+-----+-----+--------+--------+\n",
       "..."
      ]
     },
     "execution_count": 28,
     "metadata": {},
     "output_type": "execute_result"
    }
   ],
   "source": [
    "# release_phase1_ar3_1.tbl_haplotypes"
   ]
  },
  {
   "cell_type": "code",
   "execution_count": 29,
   "metadata": {
    "collapsed": false
   },
   "outputs": [
    {
     "data": {
      "text/html": [
       "<table class='petl'>\n",
       "<thead>\n",
       "<tr>\n",
       "<th>0|name</th>\n",
       "<th>1|chrom</th>\n",
       "<th>2|start</th>\n",
       "<th>3|stop</th>\n",
       "</tr>\n",
       "</thead>\n",
       "<tbody>\n",
       "<tr>\n",
       "<td>CHX</td>\n",
       "<td>X</td>\n",
       "<td style='text-align: right'>20009764</td>\n",
       "<td style='text-align: right'>24393108</td>\n",
       "</tr>\n",
       "<tr>\n",
       "<td>CH2R</td>\n",
       "<td>2R</td>\n",
       "<td style='text-align: right'>58984778</td>\n",
       "<td style='text-align: right'>61545105</td>\n",
       "</tr>\n",
       "<tr>\n",
       "<td>CH2L</td>\n",
       "<td>2L</td>\n",
       "<td style='text-align: right'>1</td>\n",
       "<td style='text-align: right'>2431617</td>\n",
       "</tr>\n",
       "<tr>\n",
       "<td>PEU2L</td>\n",
       "<td>2L</td>\n",
       "<td style='text-align: right'>2487770</td>\n",
       "<td style='text-align: right'>5042389</td>\n",
       "</tr>\n",
       "<tr>\n",
       "<td>IH2L</td>\n",
       "<td>2L</td>\n",
       "<td style='text-align: right'>5078962</td>\n",
       "<td style='text-align: right'>5788875</td>\n",
       "</tr>\n",
       "</tbody>\n",
       "</table>\n",
       "<p><strong>...</strong></p>"
      ],
      "text/plain": [
       "+---------+-------+----------+----------+\n",
       "| name    | chrom | start    | stop     |\n",
       "+=========+=======+==========+==========+\n",
       "| 'CHX'   | 'X'   | 20009764 | 24393108 |\n",
       "+---------+-------+----------+----------+\n",
       "| 'CH2R'  | '2R'  | 58984778 | 61545105 |\n",
       "+---------+-------+----------+----------+\n",
       "| 'CH2L'  | '2L'  |        1 |  2431617 |\n",
       "+---------+-------+----------+----------+\n",
       "| 'PEU2L' | '2L'  |  2487770 |  5042389 |\n",
       "+---------+-------+----------+----------+\n",
       "| 'IH2L'  | '2L'  |  5078962 |  5788875 |\n",
       "+---------+-------+----------+----------+\n",
       "..."
      ]
     },
     "execution_count": 29,
     "metadata": {},
     "output_type": "execute_result"
    }
   ],
   "source": [
    "release_phase1_ar3.tbl_chromatin"
   ]
  },
  {
   "cell_type": "code",
   "execution_count": 30,
   "metadata": {
    "collapsed": false
   },
   "outputs": [
    {
     "data": {
      "text/plain": [
       "{'AOM': '#a93b03',\n",
       " 'BFM': '#fa6949',\n",
       " 'BFS': '#6aadd5',\n",
       " 'CMS': '#2070b4',\n",
       " 'GAS': '#37a055',\n",
       " 'GNS': '#c5daee',\n",
       " 'GWA': '#fece65',\n",
       " 'KES': '#959595',\n",
       " 'UGS': '#addea7',\n",
       " 'colony': '#333333'}"
      ]
     },
     "execution_count": 30,
     "metadata": {},
     "output_type": "execute_result"
    }
   ],
   "source": [
    "release_phase1_ar3.pop_colours"
   ]
  },
  {
   "cell_type": "code",
   "execution_count": null,
   "metadata": {
    "collapsed": true
   },
   "outputs": [],
   "source": []
  }
 ],
 "metadata": {
  "anaconda-cloud": {},
  "kernelspec": {
   "display_name": "Python [default]",
   "language": "python",
   "name": "python3"
  },
  "language_info": {
   "codemirror_mode": {
    "name": "ipython",
    "version": 3
   },
   "file_extension": ".py",
   "mimetype": "text/x-python",
   "name": "python",
   "nbconvert_exporter": "python",
   "pygments_lexer": "ipython3",
   "version": "3.5.2"
  }
 },
 "nbformat": 4,
 "nbformat_minor": 0
}
