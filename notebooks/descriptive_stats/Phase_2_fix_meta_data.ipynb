{
 "cells": [
  {
   "cell_type": "code",
   "execution_count": 14,
   "metadata": {
    "collapsed": false
   },
   "outputs": [
    {
     "data": {
      "text/html": [
       "<style type=\"text/css\">\n",
       ".container {\n",
       "    width: 100%;\n",
       "}\n",
       "#maintoolbar {\n",
       "    display: none;\n",
       "}\n",
       "#header-container {\n",
       "    display: none;\n",
       "}\n",
       "#notebook {\n",
       "    padding-top: 0;\n",
       "}\n",
       "</style>"
      ],
      "text/plain": [
       "<IPython.core.display.HTML object>"
      ]
     },
     "metadata": {},
     "output_type": "display_data"
    },
    {
     "data": {
      "image/png": "[encoded data removed]",
      "text/plain": [
       "<matplotlib.figure.Figure at 0x7fe610c8d828>"
      ]
     },
     "metadata": {},
     "output_type": "display_data"
    }
   ],
   "source": [
    "%run data_phase2_ar1.ipynb"
   ]
  },
  {
   "cell_type": "markdown",
   "metadata": {},
   "source": [
    "# single GNA sample becomes part of GNS "
   ]
  },
  {
   "cell_type": "code",
   "execution_count": 15,
   "metadata": {
    "collapsed": false
   },
   "outputs": [
    {
     "data": {
      "text/html": [
       "<div>\n",
       "<table border=\"1\" class=\"dataframe\">\n",
       "  <thead>\n",
       "    <tr style=\"text-align: right;\">\n",
       "      <th></th>\n",
       "      <th>ox_code</th>\n",
       "      <th>population</th>\n",
       "      <th>solaris_sample_id</th>\n",
       "      <th>src_code</th>\n",
       "      <th>country</th>\n",
       "      <th>region</th>\n",
       "      <th>contributor</th>\n",
       "      <th>contact</th>\n",
       "      <th>year</th>\n",
       "      <th>m_s</th>\n",
       "      <th>...</th>\n",
       "      <th>contamination_freemix_autosomal_not2L</th>\n",
       "      <th>contamination_freemix_autosomal_not2L_dpflt</th>\n",
       "      <th>number_of_unique_libraries</th>\n",
       "      <th>number_of_lanes</th>\n",
       "      <th>earliest_sequencing_date</th>\n",
       "      <th>latest_sequencing_date</th>\n",
       "      <th>libraries</th>\n",
       "      <th>lane_file_solaris_ids</th>\n",
       "      <th>lane_file_names</th>\n",
       "      <th>SRA_sample_accession</th>\n",
       "    </tr>\n",
       "  </thead>\n",
       "  <tbody>\n",
       "    <tr>\n",
       "      <th>1033</th>\n",
       "      <td>AV0007-C</td>\n",
       "      <td>GNA</td>\n",
       "      <td>30513</td>\n",
       "      <td>KB041</td>\n",
       "      <td>Guinea</td>\n",
       "      <td>Koraboh</td>\n",
       "      <td>Kenneth Vernick</td>\n",
       "      <td>Michelle Riehle, Karin Eiglmeier</td>\n",
       "      <td>2012.0</td>\n",
       "      <td>M/S</td>\n",
       "      <td>...</td>\n",
       "      <td>0.00451</td>\n",
       "      <td>0.00447</td>\n",
       "      <td>1.0</td>\n",
       "      <td>3.0</td>\n",
       "      <td>2013-05-29</td>\n",
       "      <td>2013-06-10</td>\n",
       "      <td>DN282013B:B9</td>\n",
       "      <td>39775,41612,41631</td>\n",
       "      <td>9951_1#66.bam,10037_3#66.bam,10037_2#66.bam</td>\n",
       "      <td>ERS224551</td>\n",
       "    </tr>\n",
       "  </tbody>\n",
       "</table>\n",
       "<p>1 rows × 100 columns</p>\n",
       "</div>"
      ],
      "text/plain": [
       "       ox_code population  solaris_sample_id src_code country   region  \\\n",
       "1033  AV0007-C        GNA              30513    KB041  Guinea  Koraboh   \n",
       "\n",
       "          contributor                           contact    year  m_s  \\\n",
       "1033  Kenneth Vernick  Michelle Riehle, Karin Eiglmeier  2012.0  M/S   \n",
       "\n",
       "              ...          contamination_freemix_autosomal_not2L  \\\n",
       "1033          ...                                        0.00451   \n",
       "\n",
       "      contamination_freemix_autosomal_not2L_dpflt  number_of_unique_libraries  \\\n",
       "1033                                      0.00447                         1.0   \n",
       "\n",
       "      number_of_lanes earliest_sequencing_date latest_sequencing_date  \\\n",
       "1033              3.0               2013-05-29             2013-06-10   \n",
       "\n",
       "         libraries  lane_file_solaris_ids  \\\n",
       "1033  DN282013B:B9      39775,41612,41631   \n",
       "\n",
       "                                  lane_file_names  SRA_sample_accession  \n",
       "1033  9951_1#66.bam,10037_3#66.bam,10037_2#66.bam             ERS224551  \n",
       "\n",
       "[1 rows x 100 columns]"
      ]
     },
     "execution_count": 15,
     "metadata": {},
     "output_type": "execute_result"
    }
   ],
   "source": [
    "df_samples[df_samples.population == 'GNA']"
   ]
  },
  {
   "cell_type": "code",
   "execution_count": 20,
   "metadata": {
    "collapsed": false
   },
   "outputs": [
    {
     "data": {
      "text/html": [
       "<div>\n",
       "<table border=\"1\" class=\"dataframe\">\n",
       "  <thead>\n",
       "    <tr style=\"text-align: right;\">\n",
       "      <th></th>\n",
       "      <th>ox_code</th>\n",
       "      <th>population</th>\n",
       "      <th>solaris_sample_id</th>\n",
       "      <th>src_code</th>\n",
       "      <th>country</th>\n",
       "      <th>region</th>\n",
       "      <th>contributor</th>\n",
       "      <th>contact</th>\n",
       "      <th>year</th>\n",
       "      <th>m_s</th>\n",
       "      <th>...</th>\n",
       "      <th>contamination_freemix_autosomal_not2L</th>\n",
       "      <th>contamination_freemix_autosomal_not2L_dpflt</th>\n",
       "      <th>number_of_unique_libraries</th>\n",
       "      <th>number_of_lanes</th>\n",
       "      <th>earliest_sequencing_date</th>\n",
       "      <th>latest_sequencing_date</th>\n",
       "      <th>libraries</th>\n",
       "      <th>lane_file_solaris_ids</th>\n",
       "      <th>lane_file_names</th>\n",
       "      <th>SRA_sample_accession</th>\n",
       "    </tr>\n",
       "  </thead>\n",
       "  <tbody>\n",
       "    <tr>\n",
       "      <th>1033</th>\n",
       "      <td>AV0007-C</td>\n",
       "      <td>GNS</td>\n",
       "      <td>30513</td>\n",
       "      <td>KB041</td>\n",
       "      <td>Guinea</td>\n",
       "      <td>Koraboh</td>\n",
       "      <td>Kenneth Vernick</td>\n",
       "      <td>Michelle Riehle, Karin Eiglmeier</td>\n",
       "      <td>2012.0</td>\n",
       "      <td>M/S</td>\n",
       "      <td>...</td>\n",
       "      <td>0.00451</td>\n",
       "      <td>0.00447</td>\n",
       "      <td>1.0</td>\n",
       "      <td>3.0</td>\n",
       "      <td>2013-05-29</td>\n",
       "      <td>2013-06-10</td>\n",
       "      <td>DN282013B:B9</td>\n",
       "      <td>39775,41612,41631</td>\n",
       "      <td>9951_1#66.bam,10037_3#66.bam,10037_2#66.bam</td>\n",
       "      <td>ERS224551</td>\n",
       "    </tr>\n",
       "  </tbody>\n",
       "</table>\n",
       "<p>1 rows × 100 columns</p>\n",
       "</div>"
      ],
      "text/plain": [
       "       ox_code population  solaris_sample_id src_code country   region  \\\n",
       "1033  AV0007-C        GNS              30513    KB041  Guinea  Koraboh   \n",
       "\n",
       "          contributor                           contact    year  m_s  \\\n",
       "1033  Kenneth Vernick  Michelle Riehle, Karin Eiglmeier  2012.0  M/S   \n",
       "\n",
       "              ...          contamination_freemix_autosomal_not2L  \\\n",
       "1033          ...                                        0.00451   \n",
       "\n",
       "      contamination_freemix_autosomal_not2L_dpflt  number_of_unique_libraries  \\\n",
       "1033                                      0.00447                         1.0   \n",
       "\n",
       "      number_of_lanes earliest_sequencing_date latest_sequencing_date  \\\n",
       "1033              3.0               2013-05-29             2013-06-10   \n",
       "\n",
       "         libraries  lane_file_solaris_ids  \\\n",
       "1033  DN282013B:B9      39775,41612,41631   \n",
       "\n",
       "                                  lane_file_names  SRA_sample_accession  \n",
       "1033  9951_1#66.bam,10037_3#66.bam,10037_2#66.bam             ERS224551  \n",
       "\n",
       "[1 rows x 100 columns]"
      ]
     },
     "execution_count": 20,
     "metadata": {},
     "output_type": "execute_result"
    }
   ],
   "source": [
    "df_samples.set_value(1033, 'population', 'GNS')\n",
    "df_samples[df_samples.index == 1033]"
   ]
  },
  {
   "cell_type": "markdown",
   "metadata": {},
   "source": [
    "# we now have 16 populations, change the population names to new two letter+species nomenclature"
   ]
  },
  {
   "cell_type": "code",
   "execution_count": 23,
   "metadata": {
    "collapsed": false
   },
   "outputs": [
    {
     "data": {
      "text/plain": [
       "16"
      ]
     },
     "execution_count": 23,
     "metadata": {},
     "output_type": "execute_result"
    }
   ],
   "source": [
    "#make a dictionary of old names to new\n",
    "oldnew = {\n",
    "    'AOM': 'AOcol', \n",
    "    'BFM': 'BFcol', \n",
    "    'CIM': 'CIcol', \n",
    "    'GHM': 'GHcol',\n",
    "    'GNM': 'GNcol',  \n",
    "    'GWA': 'GW',\n",
    "    'GMU': 'GM',\n",
    "    'GNS': 'GNgam', \n",
    "    'GHS': 'GHgam', \n",
    "    'GQS': 'GQgam', \n",
    "    'BFS': 'BFgam', \n",
    "    'CMS': 'CMgam',\n",
    "    'UGS': 'UGgam',\n",
    "    'GAS': 'GAgam', \n",
    "    'FRS': 'FRgam', \n",
    "    'KES': 'KE',\n",
    "}\n",
    "len(oldnew)"
   ]
  },
  {
   "cell_type": "code",
   "execution_count": 25,
   "metadata": {
    "collapsed": false
   },
   "outputs": [],
   "source": [
    "#change pop names in place\n",
    "for keys, values in oldnew.items():\n",
    "    df_samples.population.replace(keys, values, inplace=True)"
   ]
  },
  {
   "cell_type": "code",
   "execution_count": 35,
   "metadata": {
    "collapsed": false
   },
   "outputs": [
    {
     "data": {
      "text/plain": [
       "CMgam    297\n",
       "UGgam    112\n",
       "BFgam     92\n",
       "GW        91\n",
       "AOcol     78\n",
       "BFcol     75\n",
       "CIcol     71\n",
       "GAgam     69\n",
       "GM        65\n",
       "GHcol     55\n",
       "KE        48\n",
       "GNgam     40\n",
       "FRgam     24\n",
       "GHgam     12\n",
       "GQgam      9\n",
       "GNcol      4\n",
       "Name: population, dtype: int64"
      ]
     },
     "execution_count": 35,
     "metadata": {},
     "output_type": "execute_result"
    }
   ],
   "source": [
    "#check\n",
    "pandas.value_counts(df_samples.population)"
   ]
  },
  {
   "cell_type": "code",
   "execution_count": 40,
   "metadata": {
    "collapsed": false
   },
   "outputs": [],
   "source": [
    "#write to txt\n",
    "df_samples.to_csv('/kwiat/vector/ag1000g/release/phase2.AR1/samples/tbl_samples.txt.FIXED', index=None, sep='\\t')"
   ]
  },
  {
   "cell_type": "code",
   "execution_count": null,
   "metadata": {
    "collapsed": true
   },
   "outputs": [],
   "source": []
  }
 ],
 "metadata": {
  "anaconda-cloud": {},
  "kernelspec": {
   "display_name": "Python [default]",
   "language": "python",
   "name": "python3"
  },
  "language_info": {
   "codemirror_mode": {
    "name": "ipython",
    "version": 3
   },
   "file_extension": ".py",
   "mimetype": "text/x-python",
   "name": "python",
   "nbconvert_exporter": "python",
   "pygments_lexer": "ipython3",
   "version": "3.5.2"
  }
 },
 "nbformat": 4,
 "nbformat_minor": 1
}
