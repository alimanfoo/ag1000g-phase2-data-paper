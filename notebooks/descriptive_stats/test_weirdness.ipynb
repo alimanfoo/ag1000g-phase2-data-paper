{
 "cells": [
  {
   "cell_type": "code",
   "execution_count": 49,
   "metadata": {
    "collapsed": false
   },
   "outputs": [],
   "source": [
    "import h5py\n",
    "import allel\n",
    "import pandas\n",
    "import random\n",
    "import numpy as np\n",
    "import matplotlib.pyplot as plt\n",
    "%matplotlib inline"
   ]
  },
  {
   "cell_type": "code",
   "execution_count": 28,
   "metadata": {
    "collapsed": false
   },
   "outputs": [
    {
     "data": {
      "text/plain": [
       "<HDF5 file \"ag1000g.phase2.ar1.h5\" (mode r)>"
      ]
     },
     "execution_count": 28,
     "metadata": {},
     "output_type": "execute_result"
    }
   ],
   "source": [
    "callset = h5py.File('/kwiat/2/coluzzi/ag1000g/data/phase2/release/AR1.rc1/variation/main/hdf5/raw/ag1000g.phase2.ar1.h5', mode='r')\n",
    "callset"
   ]
  },
  {
   "cell_type": "code",
   "execution_count": 29,
   "metadata": {
    "collapsed": true
   },
   "outputs": [],
   "source": [
    "df_samples = pandas.DataFrame.from_csv('/kwiat/2/coluzzi/ag1000g/data/phase2/release/AR1.rc1/samples/tbl_samples.txt',sep='\\t')\n",
    "df_samples.reset_index(inplace=True)"
   ]
  },
  {
   "cell_type": "code",
   "execution_count": 30,
   "metadata": {
    "collapsed": false
   },
   "outputs": [
    {
     "data": {
      "text/plain": [
       "CMS    297\n",
       "UGS    112\n",
       "BFS     92\n",
       "GWA     91\n",
       "AOM     78\n",
       "BFM     75\n",
       "CIM     71\n",
       "GAS     69\n",
       "GMU     65\n",
       "GHM     55\n",
       "KES     48\n",
       "GNS     39\n",
       "FRS     24\n",
       "GHS     12\n",
       "GQS      9\n",
       "GNM      4\n",
       "GNA      1\n",
       "Name: population, dtype: int64"
      ]
     },
     "execution_count": 30,
     "metadata": {},
     "output_type": "execute_result"
    }
   ],
   "source": [
    "df_samples.population.value_counts()"
   ]
  },
  {
   "cell_type": "code",
   "execution_count": 31,
   "metadata": {
    "collapsed": false
   },
   "outputs": [
    {
     "data": {
      "text/plain": [
       "array([550, 551, 552, 553, 554])"
      ]
     },
     "execution_count": 31,
     "metadata": {},
     "output_type": "execute_result"
    }
   ],
   "source": [
    "sample_indices = df_samples[df_samples.population == 'CMS'].index.values\n",
    "sample_indices[:5]"
   ]
  },
  {
   "cell_type": "code",
   "execution_count": 32,
   "metadata": {
    "collapsed": true
   },
   "outputs": [],
   "source": [
    "sample_indices_ds = random.sample(sample_indices.tolist(), 50)"
   ]
  },
  {
   "cell_type": "code",
   "execution_count": 33,
   "metadata": {
    "collapsed": false
   },
   "outputs": [
    {
     "data": {
      "text/plain": [
       "[832, 562, 703, 658, 787]"
      ]
     },
     "execution_count": 33,
     "metadata": {},
     "output_type": "execute_result"
    }
   ],
   "source": [
    "sample_indices_ds[:5]"
   ]
  },
  {
   "cell_type": "code",
   "execution_count": 34,
   "metadata": {
    "collapsed": false
   },
   "outputs": [
    {
     "data": {
      "text/html": [
       "<table class='petl'>\n",
       "<caption>GenotypeChunkedArray((18167056, 1142, 2), int8, nbytes=38.6G, cbytes=2.1G, cratio=18.2, cname=gzip, clevel=1, shuffle=False, chunks=(104857, 10, 2), data=h5py._hl.dataset.Dataset)</caption>\n",
       "<thead>\n",
       "<tr>\n",
       "<th></th>\n",
       "<th>0</th>\n",
       "<th>1</th>\n",
       "<th>2</th>\n",
       "<th>3</th>\n",
       "<th>4</th>\n",
       "<th>...</th>\n",
       "<th>1137</th>\n",
       "<th>1138</th>\n",
       "<th>1139</th>\n",
       "<th>1140</th>\n",
       "<th>1141</th>\n",
       "</tr>\n",
       "</thead>\n",
       "<tbody>\n",
       "<tr>\n",
       "<td style='font-weight: bold'>0</td>\n",
       "<td>./.</td>\n",
       "<td>./.</td>\n",
       "<td>./.</td>\n",
       "<td>./.</td>\n",
       "<td>./.</td>\n",
       "<td>...</td>\n",
       "<td>./.</td>\n",
       "<td>./.</td>\n",
       "<td>./.</td>\n",
       "<td>./.</td>\n",
       "<td>./.</td>\n",
       "</tr>\n",
       "<tr>\n",
       "<td style='font-weight: bold'>1</td>\n",
       "<td>./.</td>\n",
       "<td>./.</td>\n",
       "<td>./.</td>\n",
       "<td>./.</td>\n",
       "<td>./.</td>\n",
       "<td>...</td>\n",
       "<td>./.</td>\n",
       "<td>./.</td>\n",
       "<td>./.</td>\n",
       "<td>./.</td>\n",
       "<td>./.</td>\n",
       "</tr>\n",
       "<tr>\n",
       "<td style='font-weight: bold'>2</td>\n",
       "<td>./.</td>\n",
       "<td>./.</td>\n",
       "<td>./.</td>\n",
       "<td>./.</td>\n",
       "<td>./.</td>\n",
       "<td>...</td>\n",
       "<td>./.</td>\n",
       "<td>./.</td>\n",
       "<td>./.</td>\n",
       "<td>./.</td>\n",
       "<td>./.</td>\n",
       "</tr>\n",
       "<tr>\n",
       "<td style='font-weight: bold'>3</td>\n",
       "<td>./.</td>\n",
       "<td>./.</td>\n",
       "<td>./.</td>\n",
       "<td>./.</td>\n",
       "<td>./.</td>\n",
       "<td>...</td>\n",
       "<td>./.</td>\n",
       "<td>./.</td>\n",
       "<td>./.</td>\n",
       "<td>./.</td>\n",
       "<td>./.</td>\n",
       "</tr>\n",
       "<tr>\n",
       "<td style='font-weight: bold'>4</td>\n",
       "<td>./.</td>\n",
       "<td>./.</td>\n",
       "<td>./.</td>\n",
       "<td>./.</td>\n",
       "<td>./.</td>\n",
       "<td>...</td>\n",
       "<td>./.</td>\n",
       "<td>./.</td>\n",
       "<td>./.</td>\n",
       "<td>./.</td>\n",
       "<td>./.</td>\n",
       "</tr>\n",
       "</tbody>\n",
       "</table>\n",
       "<p><strong>...</strong></p>"
      ],
      "text/plain": [
       "GenotypeChunkedArray((18167056, 1142, 2), int8, nbytes=38.6G, cbytes=2.1G, cratio=18.2, cname=gzip, clevel=1, shuffle=False, chunks=(104857, 10, 2), data=h5py._hl.dataset.Dataset)"
      ]
     },
     "execution_count": 34,
     "metadata": {},
     "output_type": "execute_result"
    }
   ],
   "source": [
    "genotype = allel.GenotypeChunkedArray(callset['3L/calldata/genotype'])\n",
    "genotype"
   ]
  },
  {
   "cell_type": "code",
   "execution_count": 35,
   "metadata": {
    "collapsed": false
   },
   "outputs": [
    {
     "data": {
      "text/plain": [
       "array([False, False, False, ..., False, False, False], dtype=bool)"
      ]
     },
     "execution_count": 35,
     "metadata": {},
     "output_type": "execute_result"
    }
   ],
   "source": [
    "filter_pass = callset['3L/variants/FILTER_PASS'][:]\n",
    "filter_pass"
   ]
  },
  {
   "cell_type": "code",
   "execution_count": 36,
   "metadata": {
    "collapsed": true
   },
   "outputs": [],
   "source": [
    "pos = callset['3L/variants/POS'][:]"
   ]
  },
  {
   "cell_type": "code",
   "execution_count": 37,
   "metadata": {
    "collapsed": false
   },
   "outputs": [
    {
     "data": {
      "text/plain": [
       "array([    9790,     9791,     9798, ..., 41956541, 41956551, 41956556], dtype=int32)"
      ]
     },
     "execution_count": 37,
     "metadata": {},
     "output_type": "execute_result"
    }
   ],
   "source": [
    "pos_subset = pos.compress(filter_pass)\n",
    "pos_subset"
   ]
  },
  {
   "cell_type": "code",
   "execution_count": 38,
   "metadata": {
    "collapsed": false
   },
   "outputs": [
    {
     "data": {
      "text/html": [
       "<table class='petl'>\n",
       "<caption>GenotypeChunkedArray((10640388, 50, 2), int8, nbytes=1014.7M, cbytes=52.2M, cratio=19.4, cname=blosclz, clevel=5, shuffle=1, chunks=(20971, 50, 2), data=bcolz.carray_ext.carray)</caption>\n",
       "<thead>\n",
       "<tr>\n",
       "<th></th>\n",
       "<th>0</th>\n",
       "<th>1</th>\n",
       "<th>2</th>\n",
       "<th>3</th>\n",
       "<th>4</th>\n",
       "<th>...</th>\n",
       "<th>45</th>\n",
       "<th>46</th>\n",
       "<th>47</th>\n",
       "<th>48</th>\n",
       "<th>49</th>\n",
       "</tr>\n",
       "</thead>\n",
       "<tbody>\n",
       "<tr>\n",
       "<td style='font-weight: bold'>0</td>\n",
       "<td>0/0</td>\n",
       "<td>0/0</td>\n",
       "<td>0/0</td>\n",
       "<td>0/0</td>\n",
       "<td>0/0</td>\n",
       "<td>...</td>\n",
       "<td>0/0</td>\n",
       "<td>0/0</td>\n",
       "<td>0/0</td>\n",
       "<td>0/0</td>\n",
       "<td>0/0</td>\n",
       "</tr>\n",
       "<tr>\n",
       "<td style='font-weight: bold'>1</td>\n",
       "<td>0/0</td>\n",
       "<td>0/0</td>\n",
       "<td>0/0</td>\n",
       "<td>0/0</td>\n",
       "<td>0/0</td>\n",
       "<td>...</td>\n",
       "<td>0/0</td>\n",
       "<td>0/0</td>\n",
       "<td>0/0</td>\n",
       "<td>0/0</td>\n",
       "<td>0/0</td>\n",
       "</tr>\n",
       "<tr>\n",
       "<td style='font-weight: bold'>2</td>\n",
       "<td>0/0</td>\n",
       "<td>0/0</td>\n",
       "<td>0/0</td>\n",
       "<td>0/0</td>\n",
       "<td>0/0</td>\n",
       "<td>...</td>\n",
       "<td>0/0</td>\n",
       "<td>0/0</td>\n",
       "<td>0/0</td>\n",
       "<td>0/0</td>\n",
       "<td>0/0</td>\n",
       "</tr>\n",
       "<tr>\n",
       "<td style='font-weight: bold'>3</td>\n",
       "<td>0/0</td>\n",
       "<td>0/0</td>\n",
       "<td>0/0</td>\n",
       "<td>0/0</td>\n",
       "<td>0/0</td>\n",
       "<td>...</td>\n",
       "<td>0/0</td>\n",
       "<td>0/0</td>\n",
       "<td>0/0</td>\n",
       "<td>0/0</td>\n",
       "<td>0/0</td>\n",
       "</tr>\n",
       "<tr>\n",
       "<td style='font-weight: bold'>4</td>\n",
       "<td>0/0</td>\n",
       "<td>0/0</td>\n",
       "<td>0/0</td>\n",
       "<td>0/0</td>\n",
       "<td>0/0</td>\n",
       "<td>...</td>\n",
       "<td>0/0</td>\n",
       "<td>0/0</td>\n",
       "<td>0/0</td>\n",
       "<td>0/0</td>\n",
       "<td>0/0</td>\n",
       "</tr>\n",
       "</tbody>\n",
       "</table>\n",
       "<p><strong>...</strong></p>"
      ],
      "text/plain": [
       "GenotypeChunkedArray((10640388, 50, 2), int8, nbytes=1014.7M, cbytes=52.2M, cratio=19.4, cname=blosclz, clevel=5, shuffle=1, chunks=(20971, 50, 2), data=bcolz.carray_ext.carray)"
      ]
     },
     "execution_count": 38,
     "metadata": {},
     "output_type": "execute_result"
    }
   ],
   "source": [
    "genotype_subset = genotype.subset(filter_pass, sample_indices_ds)\n",
    "genotype_subset"
   ]
  },
  {
   "cell_type": "code",
   "execution_count": 39,
   "metadata": {
    "collapsed": false
   },
   "outputs": [
    {
     "data": {
      "text/html": [
       "<table class='petl'>\n",
       "<caption>AlleleCountsChunkedArray((10640388, 4), int32, nbytes=162.4M, cbytes=16.1M, cratio=10.1, cname=blosclz, clevel=5, shuffle=1, chunks=(65536, 4), data=bcolz.carray_ext.carray)</caption>\n",
       "<thead>\n",
       "<tr>\n",
       "<th></th>\n",
       "<th>0</th>\n",
       "<th>1</th>\n",
       "<th>2</th>\n",
       "<th>3</th>\n",
       "</tr>\n",
       "</thead>\n",
       "<tbody>\n",
       "<tr>\n",
       "<td style='font-weight: bold'>0</td>\n",
       "<td>99</td>\n",
       "<td>1</td>\n",
       "<td>0</td>\n",
       "<td>0</td>\n",
       "</tr>\n",
       "<tr>\n",
       "<td style='font-weight: bold'>1</td>\n",
       "<td>100</td>\n",
       "<td>0</td>\n",
       "<td>0</td>\n",
       "<td>0</td>\n",
       "</tr>\n",
       "<tr>\n",
       "<td style='font-weight: bold'>2</td>\n",
       "<td>100</td>\n",
       "<td>0</td>\n",
       "<td>0</td>\n",
       "<td>0</td>\n",
       "</tr>\n",
       "<tr>\n",
       "<td style='font-weight: bold'>3</td>\n",
       "<td>100</td>\n",
       "<td>0</td>\n",
       "<td>0</td>\n",
       "<td>0</td>\n",
       "</tr>\n",
       "<tr>\n",
       "<td style='font-weight: bold'>4</td>\n",
       "<td>100</td>\n",
       "<td>0</td>\n",
       "<td>0</td>\n",
       "<td>0</td>\n",
       "</tr>\n",
       "</tbody>\n",
       "</table>\n",
       "<p><strong>...</strong></p>"
      ],
      "text/plain": [
       "AlleleCountsChunkedArray((10640388, 4), int32, nbytes=162.4M, cbytes=16.1M, cratio=10.1, cname=blosclz, clevel=5, shuffle=1, chunks=(65536, 4), data=bcolz.carray_ext.carray)"
      ]
     },
     "execution_count": 39,
     "metadata": {},
     "output_type": "execute_result"
    }
   ],
   "source": [
    "ac = genotype_subset.count_alleles(max_allele=3)\n",
    "ac"
   ]
  },
  {
   "cell_type": "code",
   "execution_count": 40,
   "metadata": {
    "collapsed": false
   },
   "outputs": [
    {
     "data": {
      "text/plain": [
       "<HDF5 file \"accessibility.h5\" (mode r)>"
      ]
     },
     "execution_count": 40,
     "metadata": {},
     "output_type": "execute_result"
    }
   ],
   "source": [
    "accessibility = h5py.File('/kwiat/2/coluzzi/ag1000g/data/phase2/release/AR1.rc1/accessibility/accessibility.h5')\n",
    "accessibility"
   ]
  },
  {
   "cell_type": "code",
   "execution_count": 47,
   "metadata": {
    "collapsed": false
   },
   "outputs": [],
   "source": [
    "is_accessible = accessibility['3L']['is_accessible'][:]"
   ]
  },
  {
   "cell_type": "code",
   "execution_count": 52,
   "metadata": {
    "collapsed": false
   },
   "outputs": [
    {
     "data": {
      "text/plain": [
       "array([[    9779,   137975],\n",
       "       [  137976,   295142],\n",
       "       [  295143,   370100],\n",
       "       ..., \n",
       "       [41854291, 41885924],\n",
       "       [41885925, 41913148],\n",
       "       [41913149, 41946443]])"
      ]
     },
     "execution_count": 52,
     "metadata": {},
     "output_type": "execute_result"
    }
   ],
   "source": [
    "windows = allel.stats.equally_accessible_windows(is_accessible, 20000)\n",
    "windows"
   ]
  },
  {
   "cell_type": "code",
   "execution_count": 53,
   "metadata": {
    "collapsed": false
   },
   "outputs": [],
   "source": [
    "pi, _, _, _ = allel.stats.windowed_diversity(pos_subset, ac, windows=windows, is_accessible=is_accessible)"
   ]
  },
  {
   "cell_type": "code",
   "execution_count": 54,
   "metadata": {
    "collapsed": true
   },
   "outputs": [],
   "source": [
    "x = np.mean(windows, axis=1)\n",
    "y = pi"
   ]
  },
  {
   "cell_type": "code",
   "execution_count": 55,
   "metadata": {
    "collapsed": false
   },
   "outputs": [
    {
     "data": {
      "image/png": "[encoded data removed]",
      "text/plain": [
       "<matplotlib.figure.Figure at 0x7fc36008b898>"
      ]
     },
     "metadata": {},
     "output_type": "display_data"
    }
   ],
   "source": [
    "plt.plot(x, y);"
   ]
  },
  {
   "cell_type": "markdown",
   "metadata": {},
   "source": [
    "# okay, looks okay - so am I stupid and is it just an effect of pop-size?"
   ]
  },
  {
   "cell_type": "code",
   "execution_count": 56,
   "metadata": {
    "collapsed": false
   },
   "outputs": [
    {
     "data": {
      "text/html": [
       "<table class='petl'>\n",
       "<caption>GenotypeChunkedArray((10640388, 1142, 2), int8, nbytes=22.6G, cbytes=1.0G, cratio=21.9, cname=blosclz, clevel=5, shuffle=1, chunks=(1836, 1142, 2), data=bcolz.carray_ext.carray)</caption>\n",
       "<thead>\n",
       "<tr>\n",
       "<th></th>\n",
       "<th>0</th>\n",
       "<th>1</th>\n",
       "<th>2</th>\n",
       "<th>3</th>\n",
       "<th>4</th>\n",
       "<th>...</th>\n",
       "<th>1137</th>\n",
       "<th>1138</th>\n",
       "<th>1139</th>\n",
       "<th>1140</th>\n",
       "<th>1141</th>\n",
       "</tr>\n",
       "</thead>\n",
       "<tbody>\n",
       "<tr>\n",
       "<td style='font-weight: bold'>0</td>\n",
       "<td>0/0</td>\n",
       "<td>0/0</td>\n",
       "<td>0/0</td>\n",
       "<td>0/0</td>\n",
       "<td>0/0</td>\n",
       "<td>...</td>\n",
       "<td>0/0</td>\n",
       "<td>0/0</td>\n",
       "<td>0/0</td>\n",
       "<td>0/0</td>\n",
       "<td>0/0</td>\n",
       "</tr>\n",
       "<tr>\n",
       "<td style='font-weight: bold'>1</td>\n",
       "<td>0/0</td>\n",
       "<td>0/0</td>\n",
       "<td>0/0</td>\n",
       "<td>0/0</td>\n",
       "<td>0/0</td>\n",
       "<td>...</td>\n",
       "<td>0/0</td>\n",
       "<td>0/0</td>\n",
       "<td>0/0</td>\n",
       "<td>0/0</td>\n",
       "<td>0/0</td>\n",
       "</tr>\n",
       "<tr>\n",
       "<td style='font-weight: bold'>2</td>\n",
       "<td>0/0</td>\n",
       "<td>0/0</td>\n",
       "<td>0/0</td>\n",
       "<td>0/0</td>\n",
       "<td>0/0</td>\n",
       "<td>...</td>\n",
       "<td>0/0</td>\n",
       "<td>0/0</td>\n",
       "<td>0/0</td>\n",
       "<td>0/0</td>\n",
       "<td>0/0</td>\n",
       "</tr>\n",
       "<tr>\n",
       "<td style='font-weight: bold'>3</td>\n",
       "<td>0/0</td>\n",
       "<td>0/0</td>\n",
       "<td>0/0</td>\n",
       "<td>0/0</td>\n",
       "<td>0/0</td>\n",
       "<td>...</td>\n",
       "<td>0/0</td>\n",
       "<td>0/0</td>\n",
       "<td>0/0</td>\n",
       "<td>0/0</td>\n",
       "<td>0/0</td>\n",
       "</tr>\n",
       "<tr>\n",
       "<td style='font-weight: bold'>4</td>\n",
       "<td>0/0</td>\n",
       "<td>0/0</td>\n",
       "<td>0/0</td>\n",
       "<td>0/0</td>\n",
       "<td>0/0</td>\n",
       "<td>...</td>\n",
       "<td>0/0</td>\n",
       "<td>0/0</td>\n",
       "<td>0/0</td>\n",
       "<td>0/0</td>\n",
       "<td>0/0</td>\n",
       "</tr>\n",
       "</tbody>\n",
       "</table>\n",
       "<p><strong>...</strong></p>"
      ],
      "text/plain": [
       "GenotypeChunkedArray((10640388, 1142, 2), int8, nbytes=22.6G, cbytes=1.0G, cratio=21.9, cname=blosclz, clevel=5, shuffle=1, chunks=(1836, 1142, 2), data=bcolz.carray_ext.carray)"
      ]
     },
     "execution_count": 56,
     "metadata": {},
     "output_type": "execute_result"
    }
   ],
   "source": [
    "genotype_subset = genotype.subset(filter_pass)\n",
    "genotype_subset"
   ]
  },
  {
   "cell_type": "code",
   "execution_count": 57,
   "metadata": {
    "collapsed": false
   },
   "outputs": [
    {
     "data": {
      "text/html": [
       "<table class='petl'>\n",
       "<caption>AlleleCountsChunkedArray((10640388, 4), int32, nbytes=162.4M, cbytes=46.2M, cratio=3.5, cname=blosclz, clevel=5, shuffle=1, chunks=(65536, 4), data=bcolz.carray_ext.carray)</caption>\n",
       "<thead>\n",
       "<tr>\n",
       "<th></th>\n",
       "<th>0</th>\n",
       "<th>1</th>\n",
       "<th>2</th>\n",
       "<th>3</th>\n",
       "</tr>\n",
       "</thead>\n",
       "<tbody>\n",
       "<tr>\n",
       "<td style='font-weight: bold'>0</td>\n",
       "<td>2279</td>\n",
       "<td>5</td>\n",
       "<td>0</td>\n",
       "<td>0</td>\n",
       "</tr>\n",
       "<tr>\n",
       "<td style='font-weight: bold'>1</td>\n",
       "<td>2283</td>\n",
       "<td>1</td>\n",
       "<td>0</td>\n",
       "<td>0</td>\n",
       "</tr>\n",
       "<tr>\n",
       "<td style='font-weight: bold'>2</td>\n",
       "<td>2283</td>\n",
       "<td>1</td>\n",
       "<td>0</td>\n",
       "<td>0</td>\n",
       "</tr>\n",
       "<tr>\n",
       "<td style='font-weight: bold'>3</td>\n",
       "<td>2282</td>\n",
       "<td>2</td>\n",
       "<td>0</td>\n",
       "<td>0</td>\n",
       "</tr>\n",
       "<tr>\n",
       "<td style='font-weight: bold'>4</td>\n",
       "<td>2283</td>\n",
       "<td>1</td>\n",
       "<td>0</td>\n",
       "<td>0</td>\n",
       "</tr>\n",
       "</tbody>\n",
       "</table>\n",
       "<p><strong>...</strong></p>"
      ],
      "text/plain": [
       "AlleleCountsChunkedArray((10640388, 4), int32, nbytes=162.4M, cbytes=46.2M, cratio=3.5, cname=blosclz, clevel=5, shuffle=1, chunks=(65536, 4), data=bcolz.carray_ext.carray)"
      ]
     },
     "execution_count": 57,
     "metadata": {},
     "output_type": "execute_result"
    }
   ],
   "source": [
    "ac = genotype_subset.count_alleles(max_allele=3)\n",
    "ac"
   ]
  },
  {
   "cell_type": "code",
   "execution_count": 58,
   "metadata": {
    "collapsed": true
   },
   "outputs": [],
   "source": [
    "pi, _, _, _ = allel.stats.windowed_diversity(pos_subset, ac, windows=windows, is_accessible=is_accessible)\n",
    "x = np.mean(windows, axis=1)\n",
    "y = pi"
   ]
  },
  {
   "cell_type": "code",
   "execution_count": 59,
   "metadata": {
    "collapsed": false
   },
   "outputs": [
    {
     "data": {
      "image/png": "[encoded data removed]",
      "text/plain": [
       "<matplotlib.figure.Figure at 0x7fc3401625f8>"
      ]
     },
     "metadata": {},
     "output_type": "display_data"
    }
   ],
   "source": [
    "plt.plot(x, y);"
   ]
  },
  {
   "cell_type": "markdown",
   "metadata": {},
   "source": [
    "# so h5 looks okay. Lets check the allele_counts.h5"
   ]
  },
  {
   "cell_type": "code",
   "execution_count": 60,
   "metadata": {
    "collapsed": true
   },
   "outputs": [],
   "source": [
    "allele_counts_fn = '/data/coluzzi/ag1000g/data/phase2/release/AR1.rc1/extras/allele_counts.h5'\n",
    "ac_all = h5py.File(allele_counts_fn, mode = 'r')"
   ]
  },
  {
   "cell_type": "code",
   "execution_count": 81,
   "metadata": {
    "collapsed": false,
    "scrolled": true
   },
   "outputs": [
    {
     "data": {
      "text/html": [
       "<table class='petl'>\n",
       "<caption>AlleleCountsChunkedArray((18167056, 4), uint16, nbytes=138.6M, cbytes=34.5M, cratio=4.0, cname=gzip, clevel=1, shuffle=False, chunks=(262144, 4), data=h5py._hl.dataset.Dataset)</caption>\n",
       "<thead>\n",
       "<tr>\n",
       "<th></th>\n",
       "<th>0</th>\n",
       "<th>1</th>\n",
       "<th>2</th>\n",
       "<th>3</th>\n",
       "</tr>\n",
       "</thead>\n",
       "<tbody>\n",
       "<tr>\n",
       "<td style='font-weight: bold'>0</td>\n",
       "<td>0</td>\n",
       "<td>0</td>\n",
       "<td>0</td>\n",
       "<td>0</td>\n",
       "</tr>\n",
       "<tr>\n",
       "<td style='font-weight: bold'>1</td>\n",
       "<td>0</td>\n",
       "<td>0</td>\n",
       "<td>0</td>\n",
       "<td>0</td>\n",
       "</tr>\n",
       "<tr>\n",
       "<td style='font-weight: bold'>2</td>\n",
       "<td>0</td>\n",
       "<td>0</td>\n",
       "<td>0</td>\n",
       "<td>0</td>\n",
       "</tr>\n",
       "<tr>\n",
       "<td style='font-weight: bold'>3</td>\n",
       "<td>0</td>\n",
       "<td>0</td>\n",
       "<td>0</td>\n",
       "<td>0</td>\n",
       "</tr>\n",
       "<tr>\n",
       "<td style='font-weight: bold'>4</td>\n",
       "<td>0</td>\n",
       "<td>0</td>\n",
       "<td>0</td>\n",
       "<td>0</td>\n",
       "</tr>\n",
       "</tbody>\n",
       "</table>\n",
       "<p><strong>...</strong></p>"
      ],
      "text/plain": [
       "AlleleCountsChunkedArray((18167056, 4), uint16, nbytes=138.6M, cbytes=34.5M, cratio=4.0, cname=gzip, clevel=1, shuffle=False, chunks=(262144, 4), data=h5py._hl.dataset.Dataset)"
      ]
     },
     "execution_count": 81,
     "metadata": {},
     "output_type": "execute_result"
    }
   ],
   "source": [
    "ac_tbl = allel.AlleleCountsChunkedArray(ac_all['3L']['CMS'])\n",
    "ac_tbl"
   ]
  },
  {
   "cell_type": "code",
   "execution_count": 87,
   "metadata": {
    "collapsed": false
   },
   "outputs": [],
   "source": [
    "ac = ac_tbl.subset(sel0 = filter_pass, sel1=None)"
   ]
  },
  {
   "cell_type": "code",
   "execution_count": 89,
   "metadata": {
    "collapsed": false
   },
   "outputs": [
    {
     "data": {
      "text/html": [
       "<table class='petl'>\n",
       "<caption>AlleleCountsChunkedArray((10640388, 4), uint16, nbytes=81.2M, cbytes=42.5M, cratio=1.9, cname=blosclz, clevel=5, shuffle=1, chunks=(65536, 4), data=bcolz.carray_ext.carray)</caption>\n",
       "<thead>\n",
       "<tr>\n",
       "<th></th>\n",
       "<th>0</th>\n",
       "<th>1</th>\n",
       "<th>2</th>\n",
       "<th>3</th>\n",
       "</tr>\n",
       "</thead>\n",
       "<tbody>\n",
       "<tr>\n",
       "<td style='font-weight: bold'>0</td>\n",
       "<td>591</td>\n",
       "<td>3</td>\n",
       "<td>0</td>\n",
       "<td>0</td>\n",
       "</tr>\n",
       "<tr>\n",
       "<td style='font-weight: bold'>1</td>\n",
       "<td>594</td>\n",
       "<td>0</td>\n",
       "<td>0</td>\n",
       "<td>0</td>\n",
       "</tr>\n",
       "<tr>\n",
       "<td style='font-weight: bold'>2</td>\n",
       "<td>594</td>\n",
       "<td>0</td>\n",
       "<td>0</td>\n",
       "<td>0</td>\n",
       "</tr>\n",
       "<tr>\n",
       "<td style='font-weight: bold'>3</td>\n",
       "<td>592</td>\n",
       "<td>2</td>\n",
       "<td>0</td>\n",
       "<td>0</td>\n",
       "</tr>\n",
       "<tr>\n",
       "<td style='font-weight: bold'>4</td>\n",
       "<td>594</td>\n",
       "<td>0</td>\n",
       "<td>0</td>\n",
       "<td>0</td>\n",
       "</tr>\n",
       "</tbody>\n",
       "</table>\n",
       "<p><strong>...</strong></p>"
      ],
      "text/plain": [
       "AlleleCountsChunkedArray((10640388, 4), uint16, nbytes=81.2M, cbytes=42.5M, cratio=1.9, cname=blosclz, clevel=5, shuffle=1, chunks=(65536, 4), data=bcolz.carray_ext.carray)"
      ]
     },
     "execution_count": 89,
     "metadata": {},
     "output_type": "execute_result"
    }
   ],
   "source": [
    "ac"
   ]
  },
  {
   "cell_type": "code",
   "execution_count": 90,
   "metadata": {
    "collapsed": false
   },
   "outputs": [],
   "source": [
    "pi, _, _, _ = allel.stats.windowed_diversity(pos_subset, ac, windows=windows, is_accessible=is_accessible)\n",
    "x = np.mean(windows, axis=1)\n",
    "y = pi"
   ]
  },
  {
   "cell_type": "code",
   "execution_count": 91,
   "metadata": {
    "collapsed": false
   },
   "outputs": [
    {
     "data": {
      "image/png": "[encoded data removed]",
      "text/plain": [
       "<matplotlib.figure.Figure at 0x7fc3280b3278>"
      ]
     },
     "metadata": {},
     "output_type": "display_data"
    }
   ],
   "source": [
    "plt.plot(x, y);"
   ]
  },
  {
   "cell_type": "markdown",
   "metadata": {},
   "source": [
    "# So something has gone very wrong with the allele_counts.h5\n",
    "- and therefore the allele_frequencies, stuff for panoptes and the windowed diversity files...XMAS JOY!"
   ]
  },
  {
   "cell_type": "markdown",
   "metadata": {},
   "source": [
    "## lets break down the allele_counts code"
   ]
  },
  {
   "cell_type": "code",
   "execution_count": 92,
   "metadata": {
    "collapsed": false
   },
   "outputs": [
    {
     "data": {
      "text/html": [
       "<style type=\"text/css\">\n",
       ".container {\n",
       "    width: 100%;\n",
       "}\n",
       "#maintoolbar {\n",
       "    display: none;\n",
       "}\n",
       "#header-container {\n",
       "    display: none;\n",
       "}\n",
       "#notebook {\n",
       "    padding-top: 0;\n",
       "}\n",
       "</style>"
      ],
      "text/plain": [
       "<IPython.core.display.HTML object>"
      ]
     },
     "metadata": {},
     "output_type": "display_data"
    },
    {
     "name": "stderr",
     "output_type": "stream",
     "text": [
      "2016-12-21 17:29:11.075954 :: AgamP4 reference genome not available\n"
     ]
    }
   ],
   "source": [
    "%run imports.ipynb\n",
    "%run utility_functions.ipynb"
   ]
  },
  {
   "cell_type": "code",
   "execution_count": 111,
   "metadata": {
    "collapsed": true
   },
   "outputs": [],
   "source": [
    "callset_fn = '/data/coluzzi/ag1000g/data/phase2/release/AR1.rc1/variation/main/hdf5/raw/ag1000g.phase2.ar1.h5'\n",
    "callset = h5py.File(callset_fn, mode='r')\n",
    "\n",
    "fasta_fn = '/data/coluzzi/ag1000g/data/phase2/release/AR1.rc1/genome/agamP3/Anopheles-gambiae-PEST_CHROMOSOMES_AgamP3.fa'\n",
    "genome = pyfasta.Fasta(fasta_fn, key_fn=lambda k: k.split()[0])\n",
    "\n",
    "df_samples = pandas.read_csv('/data/coluzzi/ag1000g/data/phase2/release/AR1.rc1/samples/tbl_samples.txt', delimiter='\\t')\n",
    "samples = list(df_samples['ox_code'])\n",
    "subpop_ids = sorted(df_samples.population.unique())\n",
    "subpops = {pid: list(df_samples[df_samples.population == pid].index) for pid in subpop_ids}"
   ]
  },
  {
   "cell_type": "code",
   "execution_count": 112,
   "metadata": {
    "collapsed": false
   },
   "outputs": [
    {
     "name": "stdout",
     "output_type": "stream",
     "text": [
      "[('GHS', 12), ('GNM', 4), ('GMU', 65), ('GNS', 39), ('GAS', 69), ('BFM', 75), ('GNA', 1), ('FRS', 24), ('CMS', 297), ('GHM', 55), ('KES', 48), ('GWA', 91), ('AOM', 78), ('UGS', 112), ('CIM', 71), ('GQS', 9), ('all', 1142), ('BFS', 92)]\n"
     ]
    }
   ],
   "source": [
    "subpops['all'] = list(range(len(samples)))\n",
    "print([(k, len(subpops[k])) for k in subpops])"
   ]
  },
  {
   "cell_type": "code",
   "execution_count": 120,
   "metadata": {
    "collapsed": false
   },
   "outputs": [
    {
     "name": "stderr",
     "output_type": "stream",
     "text": [
      "2016-12-21 17:47:35.249733 :: 3L load genotypes\n",
      "2016-12-21 17:47:35.258511 :: 3L count alleles\n"
     ]
    }
   ],
   "source": [
    "def compute_subpops_ac():\n",
    "    for chrom in '3L',:\n",
    "        \n",
    "        log(chrom, 'load genotypes')\n",
    "        genotype = allel.GenotypeChunkedArray(callset[chrom]['calldata']['genotype'])\n",
    "        \n",
    "        log(chrom, 'count alleles')\n",
    "        subpops_ac = genotype.count_alleles(max_allele=3, subpop = subpops['CMS'])\n",
    "        \n",
    "        return subpops_ac\n",
    "    \n",
    "        log(chrom, 'all done')\n",
    "        \n",
    "just_CMS_ac = compute_subpops_ac()"
   ]
  },
  {
   "cell_type": "code",
   "execution_count": 121,
   "metadata": {
    "collapsed": false
   },
   "outputs": [
    {
     "data": {
      "text/html": [
       "<table class='petl'>\n",
       "<caption>AlleleCountsChunkedArray((18167056, 4), int32, nbytes=277.2M, cbytes=78.6M, cratio=3.5, cname=blosclz, clevel=5, shuffle=1, chunks=(65536, 4), data=bcolz.carray_ext.carray)</caption>\n",
       "<thead>\n",
       "<tr>\n",
       "<th></th>\n",
       "<th>0</th>\n",
       "<th>1</th>\n",
       "<th>2</th>\n",
       "<th>3</th>\n",
       "</tr>\n",
       "</thead>\n",
       "<tbody>\n",
       "<tr>\n",
       "<td style='font-weight: bold'>0</td>\n",
       "<td>0</td>\n",
       "<td>0</td>\n",
       "<td>0</td>\n",
       "<td>0</td>\n",
       "</tr>\n",
       "<tr>\n",
       "<td style='font-weight: bold'>1</td>\n",
       "<td>0</td>\n",
       "<td>0</td>\n",
       "<td>0</td>\n",
       "<td>0</td>\n",
       "</tr>\n",
       "<tr>\n",
       "<td style='font-weight: bold'>2</td>\n",
       "<td>0</td>\n",
       "<td>0</td>\n",
       "<td>0</td>\n",
       "<td>0</td>\n",
       "</tr>\n",
       "<tr>\n",
       "<td style='font-weight: bold'>3</td>\n",
       "<td>0</td>\n",
       "<td>0</td>\n",
       "<td>0</td>\n",
       "<td>0</td>\n",
       "</tr>\n",
       "<tr>\n",
       "<td style='font-weight: bold'>4</td>\n",
       "<td>0</td>\n",
       "<td>0</td>\n",
       "<td>0</td>\n",
       "<td>0</td>\n",
       "</tr>\n",
       "</tbody>\n",
       "</table>\n",
       "<p><strong>...</strong></p>"
      ],
      "text/plain": [
       "AlleleCountsChunkedArray((18167056, 4), int32, nbytes=277.2M, cbytes=78.6M, cratio=3.5, cname=blosclz, clevel=5, shuffle=1, chunks=(65536, 4), data=bcolz.carray_ext.carray)"
      ]
     },
     "execution_count": 121,
     "metadata": {},
     "output_type": "execute_result"
    }
   ],
   "source": [
    "just_CMS_ac"
   ]
  },
  {
   "cell_type": "code",
   "execution_count": 123,
   "metadata": {
    "collapsed": true
   },
   "outputs": [],
   "source": [
    "ac = just_CMS_ac.subset(sel0 = filter_pass, sel1=None)"
   ]
  },
  {
   "cell_type": "code",
   "execution_count": 126,
   "metadata": {
    "collapsed": false
   },
   "outputs": [
    {
     "data": {
      "text/html": [
       "<table class='petl'>\n",
       "<caption>AlleleCountsChunkedArray((10640388, 4), int32, nbytes=162.4M, cbytes=44.1M, cratio=3.7, cname=blosclz, clevel=5, shuffle=1, chunks=(65536, 4), data=bcolz.carray_ext.carray)</caption>\n",
       "<thead>\n",
       "<tr>\n",
       "<th></th>\n",
       "<th>0</th>\n",
       "<th>1</th>\n",
       "<th>2</th>\n",
       "<th>3</th>\n",
       "</tr>\n",
       "</thead>\n",
       "<tbody>\n",
       "<tr>\n",
       "<td style='font-weight: bold'>0</td>\n",
       "<td>591</td>\n",
       "<td>3</td>\n",
       "<td>0</td>\n",
       "<td>0</td>\n",
       "</tr>\n",
       "<tr>\n",
       "<td style='font-weight: bold'>1</td>\n",
       "<td>594</td>\n",
       "<td>0</td>\n",
       "<td>0</td>\n",
       "<td>0</td>\n",
       "</tr>\n",
       "<tr>\n",
       "<td style='font-weight: bold'>2</td>\n",
       "<td>594</td>\n",
       "<td>0</td>\n",
       "<td>0</td>\n",
       "<td>0</td>\n",
       "</tr>\n",
       "<tr>\n",
       "<td style='font-weight: bold'>3</td>\n",
       "<td>592</td>\n",
       "<td>2</td>\n",
       "<td>0</td>\n",
       "<td>0</td>\n",
       "</tr>\n",
       "<tr>\n",
       "<td style='font-weight: bold'>4</td>\n",
       "<td>594</td>\n",
       "<td>0</td>\n",
       "<td>0</td>\n",
       "<td>0</td>\n",
       "</tr>\n",
       "</tbody>\n",
       "</table>\n",
       "<p><strong>...</strong></p>"
      ],
      "text/plain": [
       "AlleleCountsChunkedArray((10640388, 4), int32, nbytes=162.4M, cbytes=44.1M, cratio=3.7, cname=blosclz, clevel=5, shuffle=1, chunks=(65536, 4), data=bcolz.carray_ext.carray)"
      ]
     },
     "execution_count": 126,
     "metadata": {},
     "output_type": "execute_result"
    }
   ],
   "source": [
    "ac"
   ]
  },
  {
   "cell_type": "code",
   "execution_count": 124,
   "metadata": {
    "collapsed": true
   },
   "outputs": [],
   "source": [
    "pi, _, _, _ = allel.stats.windowed_diversity(pos_subset, ac, windows=windows, is_accessible=is_accessible)\n",
    "x = np.mean(windows, axis=1)\n",
    "y = pi"
   ]
  },
  {
   "cell_type": "code",
   "execution_count": 125,
   "metadata": {
    "collapsed": false
   },
   "outputs": [
    {
     "data": {
      "image/png": "[encoded data removed]",
      "text/plain": [
       "<matplotlib.figure.Figure at 0x7fc2b5defcf8>"
      ]
     },
     "metadata": {},
     "output_type": "display_data"
    }
   ],
   "source": [
    "plt.plot(x, y);"
   ]
  },
  {
   "cell_type": "markdown",
   "metadata": {},
   "source": [
    "## okay, so looks about right, but I didn't use count_allele_subpops so it still could be something going wrong with the dictionary it gets fed\n",
    "- lets try again with a small dictionary and count_allele_subpops"
   ]
  },
  {
   "cell_type": "code",
   "execution_count": 130,
   "metadata": {
    "collapsed": false
   },
   "outputs": [
    {
     "data": {
      "text/plain": [
       "297"
      ]
     },
     "execution_count": 130,
     "metadata": {},
     "output_type": "execute_result"
    }
   ],
   "source": [
    "just_CMS_dict = {}\n",
    "just_CMS_dict['CMS'] = subpops['CMS']\n",
    "len(just_CMS_dict['CMS'])"
   ]
  },
  {
   "cell_type": "code",
   "execution_count": 131,
   "metadata": {
    "collapsed": false
   },
   "outputs": [
    {
     "name": "stderr",
     "output_type": "stream",
     "text": [
      "2016-12-21 18:19:51.903751 :: 3L load genotypes\n",
      "2016-12-21 18:19:51.917209 :: 3L count alleles\n"
     ]
    }
   ],
   "source": [
    "def compute_subpops_ac():\n",
    "    for chrom in '3L',:\n",
    "        \n",
    "        log(chrom, 'load genotypes')\n",
    "        genotype = allel.GenotypeChunkedArray(callset[chrom]['calldata']['genotype'])\n",
    "        \n",
    "        log(chrom, 'count alleles')\n",
    "        subpops_ac = genotype.count_alleles_subpops(just_CMS_dict, max_allele=3)\n",
    "        \n",
    "        return subpops_ac\n",
    "    \n",
    "        log(chrom, 'all done')\n",
    "        \n",
    "just_CMS_dict_ac = compute_subpops_ac()"
   ]
  },
  {
   "cell_type": "code",
   "execution_count": 137,
   "metadata": {
    "collapsed": false
   },
   "outputs": [
    {
     "data": {
      "text/html": [
       "<table class='petl'>\n",
       "<caption>AlleleCountsChunkedArray((18167056, 4), int32, nbytes=277.2M, cbytes=78.6M, cratio=3.5, cname=blosclz, clevel=5, shuffle=1, chunks=(65536, 4), data=bcolz.carray_ext.carray)</caption>\n",
       "<thead>\n",
       "<tr>\n",
       "<th></th>\n",
       "<th>0</th>\n",
       "<th>1</th>\n",
       "<th>2</th>\n",
       "<th>3</th>\n",
       "</tr>\n",
       "</thead>\n",
       "<tbody>\n",
       "<tr>\n",
       "<td style='font-weight: bold'>0</td>\n",
       "<td>0</td>\n",
       "<td>0</td>\n",
       "<td>0</td>\n",
       "<td>0</td>\n",
       "</tr>\n",
       "<tr>\n",
       "<td style='font-weight: bold'>1</td>\n",
       "<td>0</td>\n",
       "<td>0</td>\n",
       "<td>0</td>\n",
       "<td>0</td>\n",
       "</tr>\n",
       "<tr>\n",
       "<td style='font-weight: bold'>2</td>\n",
       "<td>0</td>\n",
       "<td>0</td>\n",
       "<td>0</td>\n",
       "<td>0</td>\n",
       "</tr>\n",
       "<tr>\n",
       "<td style='font-weight: bold'>3</td>\n",
       "<td>0</td>\n",
       "<td>0</td>\n",
       "<td>0</td>\n",
       "<td>0</td>\n",
       "</tr>\n",
       "<tr>\n",
       "<td style='font-weight: bold'>4</td>\n",
       "<td>0</td>\n",
       "<td>0</td>\n",
       "<td>0</td>\n",
       "<td>0</td>\n",
       "</tr>\n",
       "</tbody>\n",
       "</table>\n",
       "<p><strong>...</strong></p>"
      ],
      "text/plain": [
       "AlleleCountsChunkedArray((18167056, 4), int32, nbytes=277.2M, cbytes=78.6M, cratio=3.5, cname=blosclz, clevel=5, shuffle=1, chunks=(65536, 4), data=bcolz.carray_ext.carray)"
      ]
     },
     "execution_count": 137,
     "metadata": {},
     "output_type": "execute_result"
    }
   ],
   "source": [
    "just_CMS_dict_ac['CMS']"
   ]
  },
  {
   "cell_type": "code",
   "execution_count": 142,
   "metadata": {
    "collapsed": false
   },
   "outputs": [],
   "source": [
    "ac = just_CMS_dict_ac['CMS'].subset(sel0 = filter_pass, sel1=None)"
   ]
  },
  {
   "cell_type": "code",
   "execution_count": 143,
   "metadata": {
    "collapsed": false
   },
   "outputs": [
    {
     "data": {
      "image/png": "[encoded data removed]",
      "text/plain": [
       "<matplotlib.figure.Figure at 0x7fc2b5cf54e0>"
      ]
     },
     "metadata": {},
     "output_type": "display_data"
    }
   ],
   "source": [
    "pi, _, _, _ = allel.stats.windowed_diversity(pos_subset, ac, windows=windows, is_accessible=is_accessible)\n",
    "x = np.mean(windows, axis=1)\n",
    "y = pi\n",
    "plt.plot(x, y);"
   ]
  },
  {
   "cell_type": "markdown",
   "metadata": {},
   "source": [
    "## okay, now let's try the full dictionary"
   ]
  },
  {
   "cell_type": "code",
   "execution_count": 146,
   "metadata": {
    "collapsed": false
   },
   "outputs": [
    {
     "data": {
      "text/plain": [
       "18"
      ]
     },
     "execution_count": 146,
     "metadata": {},
     "output_type": "execute_result"
    }
   ],
   "source": [
    "len(subpops)"
   ]
  },
  {
   "cell_type": "code",
   "execution_count": 147,
   "metadata": {
    "collapsed": false
   },
   "outputs": [
    {
     "name": "stderr",
     "output_type": "stream",
     "text": [
      "2016-12-21 18:33:27.638822 :: 3L load genotypes\n",
      "2016-12-21 18:33:27.647198 :: 3L count alleles\n"
     ]
    }
   ],
   "source": [
    "def compute_subpops_ac():\n",
    "    for chrom in '3L',:\n",
    "        \n",
    "        log(chrom, 'load genotypes')\n",
    "        genotype = allel.GenotypeChunkedArray(callset[chrom]['calldata']['genotype'])\n",
    "        \n",
    "        log(chrom, 'count alleles')\n",
    "        subpops_ac = genotype.count_alleles_subpops(subpops, max_allele=3)\n",
    "        \n",
    "        return subpops_ac\n",
    "    \n",
    "        log(chrom, 'all done')\n",
    "        \n",
    "full_dict_ac = compute_subpops_ac()"
   ]
  },
  {
   "cell_type": "code",
   "execution_count": 148,
   "metadata": {
    "collapsed": true
   },
   "outputs": [],
   "source": [
    "ac = full_dict_ac['CMS'].subset(sel0 = filter_pass, sel1=None)"
   ]
  },
  {
   "cell_type": "code",
   "execution_count": 149,
   "metadata": {
    "collapsed": false
   },
   "outputs": [
    {
     "data": {
      "image/png": "[encoded data removed]",
      "text/plain": [
       "<matplotlib.figure.Figure at 0x7fc2b5cc8a20>"
      ]
     },
     "metadata": {},
     "output_type": "display_data"
    }
   ],
   "source": [
    "pi, _, _, _ = allel.stats.windowed_diversity(pos_subset, ac, windows=windows, is_accessible=is_accessible)\n",
    "x = np.mean(windows, axis=1)\n",
    "y = pi\n",
    "plt.plot(x, y);"
   ]
  },
  {
   "cell_type": "code",
   "execution_count": null,
   "metadata": {
    "collapsed": true
   },
   "outputs": [],
   "source": []
  }
 ],
 "metadata": {
  "anaconda-cloud": {},
  "kernelspec": {
   "display_name": "Python [default]",
   "language": "python",
   "name": "python3"
  },
  "language_info": {
   "codemirror_mode": {
    "name": "ipython",
    "version": 3
   },
   "file_extension": ".py",
   "mimetype": "text/x-python",
   "name": "python",
   "nbconvert_exporter": "python",
   "pygments_lexer": "ipython3",
   "version": "3.5.2"
  }
 },
 "nbformat": 4,
 "nbformat_minor": 1
}
