{
 "cells": [
  {
   "cell_type": "code",
   "execution_count": 35,
   "metadata": {
    "collapsed": false
   },
   "outputs": [
    {
     "data": {
      "text/html": [
       "<style type=\"text/css\">\n",
       ".container {\n",
       "    width: 100%;\n",
       "}\n",
       "#maintoolbar {\n",
       "    display: none;\n",
       "}\n",
       "#header-container {\n",
       "    display: none;\n",
       "}\n",
       "#notebook {\n",
       "    padding-top: 0;\n",
       "}\n",
       "</style>"
      ],
      "text/plain": [
       "<IPython.core.display.HTML object>"
      ]
     },
     "metadata": {},
     "output_type": "display_data"
    }
   ],
   "source": [
    "%run imports.ipynb"
   ]
  },
  {
   "cell_type": "code",
   "execution_count": 36,
   "metadata": {
    "collapsed": true
   },
   "outputs": [],
   "source": [
    "# genome regions\n",
    "region_X_speciation = 'X-speciation', 'X', 15000000, 24000000 \n",
    "region_X_free = 'X-free', 'X', 1, 14000000 \n",
    "region_3L_free = '3L-free', '3L', 15000000, 41000000\n",
    "region_3R_free = '3R-free', '3R', 1, 37000000 "
   ]
  },
  {
   "cell_type": "code",
   "execution_count": 37,
   "metadata": {
    "collapsed": true
   },
   "outputs": [],
   "source": [
    "#callset pass\n",
    "callset_pass_fn = '/kwiat/vector/ag1000g/release/phase2.AR1/variation/main/hdf5/pass/ag1000g.phase2.ar1.pass.h5'\n",
    "callset_pass = h5py.File(callset_pass_fn, 'r')\n",
    "#callset\n",
    "callset_fn = '/kwiat/vector/ag1000g/release/phase2.AR1/variation/main/hdf5/all/ag1000g.phase2.ar1.h5'\n",
    "callset = h5py.File(callset_fn, 'r')\n",
    "#allele_counts\n",
    "allele_counts_fn = '/kwiat/vector/ag1000g/release/phase2.AR1/extras/allele_counts.h5'\n",
    "allele_counts = h5py.File(allele_counts_fn, 'r')\n",
    "#accessibility\n",
    "acc_fn = '/kwiat/vector/ag1000g/release/phase2.AR1/accessibility/accessibility.h5'\n",
    "accessibility = h5py.File(acc_fn, 'r')"
   ]
  },
  {
   "cell_type": "code",
   "execution_count": 44,
   "metadata": {
    "collapsed": true
   },
   "outputs": [],
   "source": [
    "#get pops and index\n",
    "samples_fn = '/kwiat/vector/ag1000g/release/phase2.AR1/samples/samples.meta.txt'\n",
    "df_samples = pandas.read_csv(samples_fn, delimiter='\\t')\n",
    "tbl_samples = etl.fromtsv(samples_fn)\n",
    "tbl_samples = tbl_samples.addrownumbers(start=0).rename('row', 'index')\n",
    "samples = tbl_samples.values('ox_code').list()\n",
    "subpop_ids = sorted(tbl_samples.values('population').set())\n",
    "#easier to use pandas here to get index required for subpops dict\n",
    "subpops = {pid: list(df_samples[df_samples.population == pid].index) for pid in subpop_ids}"
   ]
  },
  {
   "cell_type": "code",
   "execution_count": 17,
   "metadata": {
    "collapsed": false
   },
   "outputs": [],
   "source": [
    "populations = 'AOcol', 'BFcol', 'CIcol', 'GHcol', 'GNcol', 'GW', 'GM', 'GNgam', 'GHgam', 'GQgam', 'BFgam', 'CMgam', 'UGgam', 'GAgam', 'FRgam', 'KE', \n",
    "\n",
    "pop_labels = {\n",
    "    'AOcol': 'AO $coluzzii$', \n",
    "    'BFcol': 'BF $coluzzii$', \n",
    "    'CIcol': 'CI $coluzzii$', \n",
    "    'GHcol': 'GH $coluzzii$',\n",
    "    'GNcol': 'GN $coluzzii$',  \n",
    "    'GW': 'GW',\n",
    "    'GM': 'GM',\n",
    "    'GNgam': 'GN $gambiae$', \n",
    "    'GHgam': 'GH $gambiae$', \n",
    "    'GQgam': 'GQ $gambiae$', \n",
    "    'BFgam': 'BF $gambiae$', \n",
    "    'CMgam': 'CM $gambiae$',\n",
    "    'UGgam': 'UG $gambiae$',\n",
    "    'GAgam': 'GA $gambiae$', \n",
    "    'FRgam': 'FR $gambiae$', \n",
    "    'KE': 'KE',\n",
    "\n",
    "    }"
   ]
  },
  {
   "cell_type": "code",
   "execution_count": 103,
   "metadata": {
    "collapsed": false
   },
   "outputs": [],
   "source": [
    "# #colours\n",
    "# pop_colours = {\n",
    "#     'AOcol': sns.color_palette('YlOrBr', 6)[5],\n",
    "#     'BFcol': sns.color_palette('Oranges', 6)[3],\n",
    "#     'CIcol': sns.color_palette('YlOrBr', 6)[2],\n",
    "#     'GHcol': sns.color_palette('Reds', 6)[2],  \n",
    "#     'GNcol': sns.color_palette('Reds', 6)[5],\n",
    "\n",
    "# }"
   ]
  },
  {
   "cell_type": "code",
   "execution_count": 104,
   "metadata": {
    "collapsed": false
   },
   "outputs": [
    {
     "data": {
      "image/png": "[encoded data removed]",
      "text/plain": [
       "<matplotlib.figure.Figure at 0x7fe3d25ce550>"
      ]
     },
     "metadata": {},
     "output_type": "display_data"
    }
   ],
   "source": [
    "# sns.palplot([pop_colours[p] for p in sorted(pop_colours.keys())])\n",
    "# plt.gca().set_xticklabels([pop_labels[p] for p in sorted(pop_colours.keys())], ha='left');"
   ]
  },
  {
   "cell_type": "code",
   "execution_count": 126,
   "metadata": {
    "collapsed": false
   },
   "outputs": [],
   "source": [
    "# pop_colours = {\n",
    "#     'BFgam': sns.color_palette('Purples', 6)[5], \n",
    "#     'CMgam': sns.color_palette('Purples', 6)[4],    \n",
    "#     'FRgam': sns.color_palette('Blues', 6)[5],\n",
    "#     'GAgam': sns.color_palette('Blues', 6)[3],\n",
    "    \n",
    "#     'GHgam': sns.color_palette('Blues', 6)[2],\n",
    "#     'GNgam': sns.color_palette('Greens', 6)[2],\n",
    "#     'GQgam': sns.color_palette('Greens', 6)[3],\n",
    "#     'UGgam': sns.color_palette('Greens', 6)[5],\n",
    "    \n",
    "    \n",
    "    \n",
    "# }"
   ]
  },
  {
   "cell_type": "code",
   "execution_count": 127,
   "metadata": {
    "collapsed": false
   },
   "outputs": [
    {
     "data": {
      "image/png": "[encoded data removed]",
      "text/plain": [
       "<matplotlib.figure.Figure at 0x7fe3d2674940>"
      ]
     },
     "metadata": {},
     "output_type": "display_data"
    }
   ],
   "source": [
    "# sns.palplot([pop_colours[p] for p in sorted(pop_colours.keys())])\n",
    "# plt.gca().set_xticklabels([pop_labels[p] for p in sorted(pop_colours.keys())], ha='left');"
   ]
  },
  {
   "cell_type": "code",
   "execution_count": 136,
   "metadata": {
    "collapsed": false
   },
   "outputs": [
    {
     "data": {
      "text/plain": [
       "{'AOcol': '#9f3703',\n",
       " 'BFcol': '#f67824',\n",
       " 'BFgam': '#562c91',\n",
       " 'CIcol': '#feb13f',\n",
       " 'CMgam': '#705da9',\n",
       " 'FRgam': '#0b559f',\n",
       " 'GAgam': '#2a7ab9',\n",
       " 'GHcol': '#f44e38',\n",
       " 'GHgam': '#88bedc',\n",
       " 'GM': '#5b5b5b',\n",
       " 'GNcol': '#a91016',\n",
       " 'GNgam': '#8ed08b',\n",
       " 'GQgam': '#56b567',\n",
       " 'GW': '#acacac',\n",
       " 'KE': '#2a2a2a',\n",
       " 'UGgam': '#04702f'}"
      ]
     },
     "execution_count": 136,
     "metadata": {},
     "output_type": "execute_result"
    }
   ],
   "source": [
    "pop_colours = {\n",
    "    'AOcol': sns.color_palette('YlOrBr', 6)[5],\n",
    "    'BFcol': sns.color_palette('Oranges', 6)[3],\n",
    "    'CIcol': sns.color_palette('YlOrBr', 6)[2],\n",
    "    'GHcol': sns.color_palette('Reds', 6)[3],  \n",
    "    'GNcol': sns.color_palette('Reds', 6)[5],\n",
    "    \n",
    "    'BFgam': sns.color_palette('Purples', 6)[5], \n",
    "    'CMgam': sns.color_palette('Purples', 6)[4],    \n",
    "    'FRgam': sns.color_palette('Blues', 6)[5],\n",
    "    'GAgam': sns.color_palette('Blues', 6)[4],\n",
    "    \n",
    "    'GHgam': sns.color_palette('Blues', 6)[2],\n",
    "    'GNgam': sns.color_palette('Greens', 6)[2],\n",
    "    'GQgam': sns.color_palette('Greens', 6)[3],\n",
    "    'UGgam': sns.color_palette('Greens', 6)[5],\n",
    "    \n",
    "    'KE': sns.color_palette('Greys', 6)[5],\n",
    "    'GW': sns.color_palette('Greys', 6)[2],   \n",
    "    'GM': sns.color_palette('Greys', 6)[4],\n",
    "\n",
    "}\n",
    "\n",
    "for p in pop_colours:\n",
    "    h = '#%02x%02x%02x' % tuple(int(255*c) for c in pop_colours[p])\n",
    "    pop_colours[p] = h\n",
    "pop_colours\n"
   ]
  },
  {
   "cell_type": "code",
   "execution_count": 137,
   "metadata": {
    "collapsed": false
   },
   "outputs": [
    {
     "data": {
      "image/png": "[encoded data removed]",
      "text/plain": [
       "<matplotlib.figure.Figure at 0x7fe3d2704780>"
      ]
     },
     "metadata": {},
     "output_type": "display_data"
    }
   ],
   "source": [
    "sns.palplot([pop_colours[p] for p in sorted(pop_colours.keys())])\n",
    "plt.gca().set_xticklabels([pop_labels[p] for p in sorted(pop_colours.keys())], ha='left');"
   ]
  },
  {
   "cell_type": "code",
   "execution_count": null,
   "metadata": {
    "collapsed": true
   },
   "outputs": [],
   "source": []
  }
 ],
 "metadata": {
  "anaconda-cloud": {},
  "kernelspec": {
   "display_name": "Python [default]",
   "language": "python",
   "name": "python3"
  },
  "language_info": {
   "codemirror_mode": {
    "name": "ipython",
    "version": 3
   },
   "file_extension": ".py",
   "mimetype": "text/x-python",
   "name": "python",
   "nbconvert_exporter": "python",
   "pygments_lexer": "ipython3",
   "version": "3.5.2"
  }
 },
 "nbformat": 4,
 "nbformat_minor": 1
}
