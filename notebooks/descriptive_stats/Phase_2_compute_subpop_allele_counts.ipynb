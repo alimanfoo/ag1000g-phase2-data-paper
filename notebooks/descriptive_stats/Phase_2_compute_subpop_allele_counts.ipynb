{
 "cells": [
  {
   "cell_type": "markdown",
   "metadata": {},
   "source": [
    "# Compute phase 2 subpopulation allele counts"
   ]
  },
  {
   "cell_type": "code",
   "execution_count": 1,
   "metadata": {
    "collapsed": false
   },
   "outputs": [
    {
     "data": {
      "text/html": [
       "<style type=\"text/css\">\n",
       ".container {\n",
       "    width: 100%;\n",
       "}\n",
       "#maintoolbar {\n",
       "    display: none;\n",
       "}\n",
       "#header-container {\n",
       "    display: none;\n",
       "}\n",
       "#notebook {\n",
       "    padding-top: 0;\n",
       "}\n",
       "</style>"
      ],
      "text/plain": [
       "<IPython.core.display.HTML object>"
      ]
     },
     "metadata": {},
     "output_type": "display_data"
    },
    {
     "name": "stderr",
     "output_type": "stream",
     "text": [
      "2017-01-10 12:44:19.189815 :: AgamP4 reference genome not available\n"
     ]
    }
   ],
   "source": [
    "%run imports.ipynb\n",
    "%run utility_functions.ipynb\n",
    "#%run setup.ipynb"
   ]
  },
  {
   "cell_type": "markdown",
   "metadata": {},
   "source": [
    "# Calculate allele counts :- "
   ]
  },
  {
   "cell_type": "code",
   "execution_count": 2,
   "metadata": {
    "collapsed": false
   },
   "outputs": [],
   "source": [
    "# Phase 2\n",
    "callset_fn = '/kwiat/vector/ag1000g/release/phase2.AR1/variation/main/hdf5/raw/ag1000g.phase2.ar1.h5'\n",
    "callset = h5py.File(callset_fn, mode='r')\n",
    "callset_pass_fn = '/kwiat/vector/ag1000g/release/phase2.AR1/variation/main/hdf5/pass/ag1000g.phase2.ar1.pass.h5'\n",
    "callset_pass = h5py.File(callset_pass_fn, mode='r')\n",
    "\n",
    "accessibility_fn = '/kwiat/vector/ag1000g/release/phase2.AR1/accessibility/accessibility.h5'\n",
    "accessibility = h5py.File(accessibility_fn, mode='r')\n",
    "\n",
    "gff_fn = '/kwiat/vector/ag1000g/release/phase2.AR1/geneset/Anopheles-gambiae-PEST_BASEFEATURES_AgamP4.2.sorted.gff3.gz'\n",
    "\n",
    "fasta_fn = '/kwiat/vector/ag1000g/release/phase2.AR1/genome/agamP3/Anopheles-gambiae-PEST_CHROMOSOMES_AgamP3.fa'\n",
    "genome = pyfasta.Fasta(fasta_fn, key_fn=lambda k: k.split()[0])\n",
    "\n",
    "df_samples = pandas.read_csv('/kwiat/vector/ag1000g/release/phase2.AR1/samples/tbl_samples.txt', delimiter='\\t')\n",
    "samples = list(df_samples['ox_code'])\n",
    "subpop_ids = sorted(df_samples.population.unique())\n",
    "subpops = {pid: list(df_samples[df_samples.population == pid].index) for pid in subpop_ids}\n"
   ]
  },
  {
   "cell_type": "code",
   "execution_count": 3,
   "metadata": {
    "collapsed": false
   },
   "outputs": [
    {
     "name": "stdout",
     "output_type": "stream",
     "text": [
      "[('all', 1142), ('CMgam', 297), ('FRgam', 24), ('GAgam', 69), ('BFgam', 92), ('GNcol', 4), ('KE', 48), ('GM', 65), ('UGgam', 112), ('CIcol', 71), ('AOcol', 78), ('GHcol', 55), ('GNgam', 40), ('GQgam', 9), ('GHgam', 12), ('BFcol', 75), ('GW', 91)]\n"
     ]
    }
   ],
   "source": [
    "subpops['all'] = list(range(len(samples)))\n",
    "print([(k, len(subpops[k])) for k in subpops])\n",
    "\n",
    "allele_counts_fn = '/kwiat/vector/ag1000g/release/phase2.AR1/extras/allele_counts.h5'\n",
    "allele_frequencies_fn = '/kwiat/vector/ag1000g/release/phase2.AR1/extras/allele_frequencies.h5'\n",
    "allele_frequencies_text_fn = '/kwiat/vector/ag1000g/release/phase2.AR1/extras/allele_frequencies.txt.gz'"
   ]
  },
  {
   "cell_type": "markdown",
   "metadata": {},
   "source": [
    "# Compute subpop allele counts for autosomes - X will need male removal\n",
    "- do this using the raw data set so that we have all positions if we need them\n",
    "- we could also produce a pass and biallelic allele counts file?"
   ]
  },
  {
   "cell_type": "code",
   "execution_count": 4,
   "metadata": {
    "collapsed": false
   },
   "outputs": [
    {
     "data": {
      "text/plain": [
       "['all',\n",
       " 'CMgam',\n",
       " 'FRgam',\n",
       " 'GAgam',\n",
       " 'BFgam',\n",
       " 'GNcol',\n",
       " 'KE',\n",
       " 'GM',\n",
       " 'UGgam',\n",
       " 'CIcol',\n",
       " 'AOcol',\n",
       " 'GHcol',\n",
       " 'GNgam',\n",
       " 'GQgam',\n",
       " 'GHgam',\n",
       " 'BFcol',\n",
       " 'GW']"
      ]
     },
     "execution_count": 4,
     "metadata": {},
     "output_type": "execute_result"
    }
   ],
   "source": [
    "list(subpops.keys())"
   ]
  },
  {
   "cell_type": "code",
   "execution_count": 5,
   "metadata": {
    "collapsed": false
   },
   "outputs": [
    {
     "data": {
      "text/plain": [
       "17"
      ]
     },
     "execution_count": 5,
     "metadata": {},
     "output_type": "execute_result"
    }
   ],
   "source": [
    "len(subpops)"
   ]
  },
  {
   "cell_type": "code",
   "execution_count": 6,
   "metadata": {
    "collapsed": false
   },
   "outputs": [
    {
     "name": "stderr",
     "output_type": "stream",
     "text": [
      "2017-01-10 12:48:22.335862 :: 2L load genotypes\n",
      "2017-01-10 12:48:22.499178 :: 2L count alleles\n",
      "2017-01-10 13:04:34.761510 :: 2L all done\n",
      "2017-01-10 13:04:34.763574 :: 2R load genotypes\n",
      "2017-01-10 13:04:35.110813 :: 2R count alleles\n",
      "2017-01-10 13:22:07.319306 :: 2R all done\n",
      "2017-01-10 13:22:07.321576 :: 3L load genotypes\n",
      "2017-01-10 13:22:07.431526 :: 3L count alleles\n",
      "2017-01-10 13:35:50.784069 :: 3L all done\n",
      "2017-01-10 13:35:50.786432 :: 3R load genotypes\n",
      "2017-01-10 13:35:50.914976 :: 3R count alleles\n",
      "2017-01-10 13:56:30.469162 :: 3R all done\n"
     ]
    }
   ],
   "source": [
    "def compute_subpops_ac():\n",
    "    for chrom in '2L', '2R','3L','3R':\n",
    "        \n",
    "        log(chrom, 'load genotypes')\n",
    "        genotype = allel.GenotypeChunkedArray(callset[chrom]['calldata']['genotype'])\n",
    "        \n",
    "        log(chrom, 'count alleles')\n",
    "        subpops_ac = genotype.count_alleles_subpops(subpops, max_allele=3)\n",
    "        \n",
    "        with h5py.File(allele_counts_fn, mode='a') as h5f:\n",
    "            grp = h5f.require_group(chrom)\n",
    "            \n",
    "            for pop in list(subpops.keys()):\n",
    "                grp.create_dataset(pop, data=subpops_ac[pop][:], chunks=(262144, 4), dtype='u4', compression='gzip', compression_opts=1)\n",
    "        \n",
    "\n",
    "        log(chrom, 'all done')\n",
    "        \n",
    "        \n",
    "compute_subpops_ac()"
   ]
  },
  {
   "cell_type": "markdown",
   "metadata": {},
   "source": [
    "### check that it built correctly"
   ]
  },
  {
   "cell_type": "code",
   "execution_count": 12,
   "metadata": {
    "collapsed": true
   },
   "outputs": [],
   "source": [
    "allele_counts_fn = '/kwiat/vector/ag1000g/release/phase2.AR1/extras/allele_counts.h5'\n",
    "ac_all = h5py.File(allele_counts_fn, mode = 'r')"
   ]
  },
  {
   "cell_type": "code",
   "execution_count": 18,
   "metadata": {
    "collapsed": false
   },
   "outputs": [
    {
     "data": {
      "text/html": [
       "<table class='petl'>\n",
       "<caption>AlleleCountsChunkedArray((24943504, 4), uint32, nbytes=380.6M, cbytes=52.8M, cratio=7.2, cname=gzip, clevel=1, shuffle=False, chunks=(262144, 4), data=h5py._hl.dataset.Dataset)</caption>\n",
       "<thead>\n",
       "<tr>\n",
       "<th></th>\n",
       "<th>0</th>\n",
       "<th>1</th>\n",
       "<th>2</th>\n",
       "<th>3</th>\n",
       "</tr>\n",
       "</thead>\n",
       "<tbody>\n",
       "<tr>\n",
       "<td style='font-weight: bold'>0</td>\n",
       "<td>222</td>\n",
       "<td>2</td>\n",
       "<td>0</td>\n",
       "<td>0</td>\n",
       "</tr>\n",
       "<tr>\n",
       "<td style='font-weight: bold'>1</td>\n",
       "<td>224</td>\n",
       "<td>0</td>\n",
       "<td>0</td>\n",
       "<td>0</td>\n",
       "</tr>\n",
       "<tr>\n",
       "<td style='font-weight: bold'>2</td>\n",
       "<td>105</td>\n",
       "<td>119</td>\n",
       "<td>0</td>\n",
       "<td>0</td>\n",
       "</tr>\n",
       "<tr>\n",
       "<td style='font-weight: bold'>3</td>\n",
       "<td>224</td>\n",
       "<td>0</td>\n",
       "<td>0</td>\n",
       "<td>0</td>\n",
       "</tr>\n",
       "<tr>\n",
       "<td style='font-weight: bold'>4</td>\n",
       "<td>222</td>\n",
       "<td>2</td>\n",
       "<td>0</td>\n",
       "<td>0</td>\n",
       "</tr>\n",
       "</tbody>\n",
       "</table>\n",
       "<p><strong>...</strong></p>"
      ],
      "text/plain": [
       "AlleleCountsChunkedArray((24943504, 4), uint32, nbytes=380.6M, cbytes=52.8M, cratio=7.2, cname=gzip, clevel=1, shuffle=False, chunks=(262144, 4), data=h5py._hl.dataset.Dataset)"
      ]
     },
     "execution_count": 18,
     "metadata": {},
     "output_type": "execute_result"
    }
   ],
   "source": [
    "ac_tbl = allel.AlleleCountsChunkedArray(ac_all['3R']['UGgam'])\n",
    "ac_tbl"
   ]
  },
  {
   "cell_type": "code",
   "execution_count": 21,
   "metadata": {
    "collapsed": false
   },
   "outputs": [
    {
     "data": {
      "text/plain": [
       "array([False, False, False, ..., False, False, False], dtype=bool)"
      ]
     },
     "execution_count": 21,
     "metadata": {},
     "output_type": "execute_result"
    }
   ],
   "source": [
    "filter_pass = callset['3R/variants/FILTER_PASS'][:]\n",
    "filter_pass"
   ]
  },
  {
   "cell_type": "code",
   "execution_count": 22,
   "metadata": {
    "collapsed": false
   },
   "outputs": [],
   "source": [
    "all_pos = callset['3R/variants/POS'][:]\n",
    "pos_subset = all_pos.compress(filter_pass)\n",
    "ac = ac_tbl.subset(sel0 = filter_pass, sel1=None)"
   ]
  },
  {
   "cell_type": "code",
   "execution_count": 24,
   "metadata": {
    "collapsed": false
   },
   "outputs": [],
   "source": [
    "is_accessible = accessibility['3R/is_accessible'][:]\n",
    "windows = allel.stats.equally_accessible_windows(is_accessible, 20000)"
   ]
  },
  {
   "cell_type": "code",
   "execution_count": 25,
   "metadata": {
    "collapsed": false
   },
   "outputs": [
    {
     "data": {
      "image/png": "[encoded data removed]",
      "text/plain": [
       "<matplotlib.figure.Figure at 0x7f1416b0f6a0>"
      ]
     },
     "metadata": {},
     "output_type": "display_data"
    }
   ],
   "source": [
    "pi, _, _, _ = allel.stats.windowed_diversity(pos_subset, ac, windows=windows, is_accessible=is_accessible)\n",
    "x = np.mean(windows, axis=1)\n",
    "y = pi\n",
    "plt.plot(x, y);"
   ]
  },
  {
   "cell_type": "markdown",
   "metadata": {},
   "source": [
    "### now add x females"
   ]
  },
  {
   "cell_type": "code",
   "execution_count": 7,
   "metadata": {
    "collapsed": false
   },
   "outputs": [
    {
     "data": {
      "text/plain": [
       "1058"
      ]
     },
     "execution_count": 7,
     "metadata": {},
     "output_type": "execute_result"
    }
   ],
   "source": [
    "#get just females in data frame\n",
    "df_nomales = df_samples[df_samples.sex == 'F']\n",
    "len(df_nomales)"
   ]
  },
  {
   "cell_type": "code",
   "execution_count": 8,
   "metadata": {
    "collapsed": false
   },
   "outputs": [
    {
     "name": "stdout",
     "output_type": "stream",
     "text": [
      "[('CMgam', 253), ('FRgam', 12), ('GAgam', 69), ('BFgam', 67), ('GNcol', 4), ('KE', 48), ('GM', 65), ('UGgam', 112), ('CIcol', 71), ('AOcol', 78), ('GHcol', 55), ('GNgam', 40), ('GQgam', 9), ('GHgam', 12), ('BFcol', 72), ('GW', 91)]\n"
     ]
    }
   ],
   "source": [
    "#make dictionary of indexes per pop\n",
    "subpops_nomales = {pid: list(df_nomales[df_nomales.population == pid].index) for pid in subpop_ids}\n",
    "print([(k, len(subpops_nomales[k])) for k in subpops_nomales])"
   ]
  },
  {
   "cell_type": "code",
   "execution_count": 9,
   "metadata": {
    "collapsed": true
   },
   "outputs": [],
   "source": [
    "#collect the idx for all the no_males and add to dict as all:\n",
    "allfem = []\n",
    "for pop in list(subpops_nomales.keys()):\n",
    "    for idx in subpops_nomales[pop]:\n",
    "        allfem.append(idx)\n",
    "\n",
    "allfem = sorted(allfem)\n",
    "subpops_nomales['all'] = allfem"
   ]
  },
  {
   "cell_type": "code",
   "execution_count": 10,
   "metadata": {
    "collapsed": false
   },
   "outputs": [
    {
     "name": "stdout",
     "output_type": "stream",
     "text": [
      "[('all', 1058), ('CMgam', 253), ('FRgam', 12), ('GAgam', 69), ('BFgam', 67), ('GNcol', 4), ('KE', 48), ('GM', 65), ('UGgam', 112), ('CIcol', 71), ('AOcol', 78), ('GHcol', 55), ('GNgam', 40), ('GQgam', 9), ('GHgam', 12), ('BFcol', 72), ('GW', 91)]\n"
     ]
    }
   ],
   "source": [
    "#check\n",
    "print([(k, len(subpops_nomales[k])) for k in subpops_nomales])"
   ]
  },
  {
   "cell_type": "code",
   "execution_count": 11,
   "metadata": {
    "collapsed": false
   },
   "outputs": [
    {
     "name": "stderr",
     "output_type": "stream",
     "text": [
      "2017-01-10 13:58:31.753436 :: X load genotypes\n",
      "2017-01-10 13:58:31.955988 :: X count alleles\n",
      "2017-01-10 14:04:33.872887 :: X all done\n"
     ]
    }
   ],
   "source": [
    "def compute_X_subpops_ac():\n",
    "    \n",
    "    chrom = 'X'\n",
    "    log(chrom, 'load genotypes')\n",
    "    genotype = allel.GenotypeChunkedArray(callset[chrom]['calldata']['genotype'])\n",
    "        \n",
    "    log(chrom, 'count alleles')\n",
    "    subpops_ac = genotype.count_alleles_subpops(subpops_nomales, max_allele=3)\n",
    "        \n",
    "    with h5py.File(allele_counts_fn, mode='a') as h5f:\n",
    "        grp = h5f.require_group(chrom)\n",
    "            \n",
    "        for pop in list(subpops_nomales.keys()):\n",
    "            grp.create_dataset(pop, data=subpops_ac[pop][:], chunks=(262144, 4), dtype='u4', compression='gzip', compression_opts=1)\n",
    "        \n",
    "    log(chrom, 'all done')\n",
    "        \n",
    "compute_X_subpops_ac()"
   ]
  },
  {
   "cell_type": "markdown",
   "metadata": {},
   "source": [
    "### check X built properly too!"
   ]
  },
  {
   "cell_type": "code",
   "execution_count": 29,
   "metadata": {
    "collapsed": false
   },
   "outputs": [
    {
     "data": {
      "text/html": [
       "<table class='petl'>\n",
       "<caption>AlleleCountsChunkedArray((9389639, 4), uint32, nbytes=143.3M, cbytes=16.9M, cratio=8.5, cname=gzip, clevel=1, shuffle=False, chunks=(262144, 4), data=h5py._hl.dataset.Dataset)</caption>\n",
       "<thead>\n",
       "<tr>\n",
       "<th></th>\n",
       "<th>0</th>\n",
       "<th>1</th>\n",
       "<th>2</th>\n",
       "<th>3</th>\n",
       "</tr>\n",
       "</thead>\n",
       "<tbody>\n",
       "<tr>\n",
       "<td style='font-weight: bold'>0</td>\n",
       "<td>223</td>\n",
       "<td>1</td>\n",
       "<td>0</td>\n",
       "<td>0</td>\n",
       "</tr>\n",
       "<tr>\n",
       "<td style='font-weight: bold'>1</td>\n",
       "<td>224</td>\n",
       "<td>0</td>\n",
       "<td>0</td>\n",
       "<td>0</td>\n",
       "</tr>\n",
       "<tr>\n",
       "<td style='font-weight: bold'>2</td>\n",
       "<td>224</td>\n",
       "<td>0</td>\n",
       "<td>0</td>\n",
       "<td>0</td>\n",
       "</tr>\n",
       "<tr>\n",
       "<td style='font-weight: bold'>3</td>\n",
       "<td>224</td>\n",
       "<td>0</td>\n",
       "<td>0</td>\n",
       "<td>0</td>\n",
       "</tr>\n",
       "<tr>\n",
       "<td style='font-weight: bold'>4</td>\n",
       "<td>224</td>\n",
       "<td>0</td>\n",
       "<td>0</td>\n",
       "<td>0</td>\n",
       "</tr>\n",
       "</tbody>\n",
       "</table>\n",
       "<p><strong>...</strong></p>"
      ],
      "text/plain": [
       "AlleleCountsChunkedArray((9389639, 4), uint32, nbytes=143.3M, cbytes=16.9M, cratio=8.5, cname=gzip, clevel=1, shuffle=False, chunks=(262144, 4), data=h5py._hl.dataset.Dataset)"
      ]
     },
     "execution_count": 29,
     "metadata": {},
     "output_type": "execute_result"
    }
   ],
   "source": [
    "ac_tbl = allel.AlleleCountsChunkedArray(ac_all['X']['UGgam'])\n",
    "ac_tbl"
   ]
  },
  {
   "cell_type": "code",
   "execution_count": 30,
   "metadata": {
    "collapsed": true
   },
   "outputs": [],
   "source": [
    "filter_pass = callset['X/variants/FILTER_PASS'][:]\n",
    "all_pos = callset['X/variants/POS'][:]\n",
    "pos_subset = all_pos.compress(filter_pass)\n",
    "ac = ac_tbl.subset(sel0 = filter_pass, sel1=None)\n",
    "is_accessible = accessibility['X/is_accessible'][:]\n",
    "windows = allel.stats.equally_accessible_windows(is_accessible, 20000)"
   ]
  },
  {
   "cell_type": "code",
   "execution_count": 31,
   "metadata": {
    "collapsed": false
   },
   "outputs": [
    {
     "data": {
      "image/png": "[encoded data removed]",
      "text/plain": [
       "<matplotlib.figure.Figure at 0x7f14242fc390>"
      ]
     },
     "metadata": {},
     "output_type": "display_data"
    }
   ],
   "source": [
    "pi, _, _, _ = allel.stats.windowed_diversity(pos_subset, ac, windows=windows, is_accessible=is_accessible)\n",
    "x = np.mean(windows, axis=1)\n",
    "y = pi\n",
    "plt.plot(x, y);"
   ]
  },
  {
   "cell_type": "markdown",
   "metadata": {},
   "source": [
    "# NOW WHY DID WE NEED TO CHANGE dtype=u2 to u4 TO GET THIS TO WORK FOR THE BIG POPS 'cms' 'all'?"
   ]
  },
  {
   "cell_type": "code",
   "execution_count": 32,
   "metadata": {
    "collapsed": false
   },
   "outputs": [
    {
     "data": {
      "text/html": [
       "<table class='petl'>\n",
       "<caption>AlleleCountsChunkedArray((18167056, 4), uint32, nbytes=277.2M, cbytes=46.3M, cratio=6.0, cname=gzip, clevel=1, shuffle=False, chunks=(262144, 4), data=h5py._hl.dataset.Dataset)</caption>\n",
       "<thead>\n",
       "<tr>\n",
       "<th></th>\n",
       "<th>0</th>\n",
       "<th>1</th>\n",
       "<th>2</th>\n",
       "<th>3</th>\n",
       "</tr>\n",
       "</thead>\n",
       "<tbody>\n",
       "<tr>\n",
       "<td style='font-weight: bold'>0</td>\n",
       "<td>0</td>\n",
       "<td>0</td>\n",
       "<td>0</td>\n",
       "<td>0</td>\n",
       "</tr>\n",
       "<tr>\n",
       "<td style='font-weight: bold'>1</td>\n",
       "<td>0</td>\n",
       "<td>0</td>\n",
       "<td>0</td>\n",
       "<td>0</td>\n",
       "</tr>\n",
       "<tr>\n",
       "<td style='font-weight: bold'>2</td>\n",
       "<td>0</td>\n",
       "<td>0</td>\n",
       "<td>0</td>\n",
       "<td>0</td>\n",
       "</tr>\n",
       "<tr>\n",
       "<td style='font-weight: bold'>3</td>\n",
       "<td>0</td>\n",
       "<td>0</td>\n",
       "<td>0</td>\n",
       "<td>0</td>\n",
       "</tr>\n",
       "<tr>\n",
       "<td style='font-weight: bold'>4</td>\n",
       "<td>0</td>\n",
       "<td>0</td>\n",
       "<td>0</td>\n",
       "<td>0</td>\n",
       "</tr>\n",
       "</tbody>\n",
       "</table>\n",
       "<p><strong>...</strong></p>"
      ],
      "text/plain": [
       "AlleleCountsChunkedArray((18167056, 4), uint32, nbytes=277.2M, cbytes=46.3M, cratio=6.0, cname=gzip, clevel=1, shuffle=False, chunks=(262144, 4), data=h5py._hl.dataset.Dataset)"
      ]
     },
     "execution_count": 32,
     "metadata": {},
     "output_type": "execute_result"
    }
   ],
   "source": [
    "ac_tbl = allel.AlleleCountsChunkedArray(ac_all['3L']['CMgam'])\n",
    "ac_tbl"
   ]
  },
  {
   "cell_type": "code",
   "execution_count": 33,
   "metadata": {
    "collapsed": false
   },
   "outputs": [
    {
     "data": {
      "text/plain": [
       "594"
      ]
     },
     "execution_count": 33,
     "metadata": {},
     "output_type": "execute_result"
    }
   ],
   "source": [
    "#max we get\n",
    "ac_tbl.max()"
   ]
  },
  {
   "cell_type": "code",
   "execution_count": 34,
   "metadata": {
    "collapsed": false
   },
   "outputs": [
    {
     "data": {
      "text/plain": [
       "594"
      ]
     },
     "execution_count": 34,
     "metadata": {},
     "output_type": "execute_result"
    }
   ],
   "source": [
    "#max we expect\n",
    "297*2"
   ]
  },
  {
   "cell_type": "code",
   "execution_count": 35,
   "metadata": {
    "collapsed": false
   },
   "outputs": [],
   "source": [
    "ac_tbl = allel.AlleleCountsChunkedArray(ac_all['3L']['all'])"
   ]
  },
  {
   "cell_type": "code",
   "execution_count": 36,
   "metadata": {
    "collapsed": false
   },
   "outputs": [
    {
     "data": {
      "text/plain": [
       "2284"
      ]
     },
     "execution_count": 36,
     "metadata": {},
     "output_type": "execute_result"
    }
   ],
   "source": [
    "ac_tbl.max()"
   ]
  },
  {
   "cell_type": "code",
   "execution_count": 37,
   "metadata": {
    "collapsed": false
   },
   "outputs": [
    {
     "data": {
      "text/plain": [
       "2284"
      ]
     },
     "execution_count": 37,
     "metadata": {},
     "output_type": "execute_result"
    }
   ],
   "source": [
    "#all should be 2284\n",
    "a = ac_tbl[:].sum(axis=1).max()\n",
    "a"
   ]
  },
  {
   "cell_type": "code",
   "execution_count": 38,
   "metadata": {
    "collapsed": false
   },
   "outputs": [],
   "source": [
    "#all X - should be 2 * 1058\n",
    "ac_tbl = allel.AlleleCountsChunkedArray(ac_all['X']['all'])"
   ]
  },
  {
   "cell_type": "code",
   "execution_count": 39,
   "metadata": {
    "collapsed": false
   },
   "outputs": [
    {
     "data": {
      "text/plain": [
       "2116"
      ]
     },
     "execution_count": 39,
     "metadata": {},
     "output_type": "execute_result"
    }
   ],
   "source": [
    "a = ac_tbl[:].sum(axis=1).max()\n",
    "a"
   ]
  },
  {
   "cell_type": "code",
   "execution_count": 42,
   "metadata": {
    "collapsed": false
   },
   "outputs": [
    {
     "data": {
      "text/plain": [
       "156"
      ]
     },
     "execution_count": 42,
     "metadata": {},
     "output_type": "execute_result"
    }
   ],
   "source": [
    "#other pops? AOM should be 156...\n",
    "ac_tbl = allel.AlleleCountsChunkedArray(ac_all['3L']['AOcol'])\n",
    "a = ac_tbl[:].sum(axis=1).max()\n",
    "a"
   ]
  },
  {
   "cell_type": "markdown",
   "metadata": {},
   "source": [
    "# Compute subpop allele frequencies"
   ]
  },
  {
   "cell_type": "code",
   "execution_count": 45,
   "metadata": {
    "collapsed": false,
    "scrolled": true
   },
   "outputs": [
    {
     "name": "stderr",
     "output_type": "stream",
     "text": [
      "2017-01-10 14:09:52.611712 :: 2R load allele counts\n",
      "2017-01-10 14:09:52.708610 :: 2R all compute allele frequencies\n",
      "2017-01-10 14:10:08.722106 :: 2R CMgam compute allele frequencies\n",
      "2017-01-10 14:10:23.301962 :: 2R FRgam compute allele frequencies\n",
      "2017-01-10 14:10:33.726404 :: 2R GAgam compute allele frequencies\n",
      "2017-01-10 14:10:49.101028 :: 2R BFgam compute allele frequencies\n",
      "2017-01-10 14:11:07.439875 :: 2R GNcol compute allele frequencies\n",
      "2017-01-10 14:11:20.829067 :: 2R KE compute allele frequencies\n",
      "2017-01-10 14:11:36.170874 :: 2R GM compute allele frequencies\n",
      "2017-01-10 14:11:53.559731 :: 2R UGgam compute allele frequencies\n",
      "2017-01-10 14:12:07.290359 :: 2R CIcol compute allele frequencies\n",
      "2017-01-10 14:12:21.398246 :: 2R AOcol compute allele frequencies\n",
      "2017-01-10 14:12:34.635760 :: 2R GHcol compute allele frequencies\n",
      "2017-01-10 14:12:51.074294 :: 2R GNgam compute allele frequencies\n",
      "2017-01-10 14:13:05.036088 :: 2R GQgam compute allele frequencies\n",
      "2017-01-10 14:13:20.417646 :: 2R GHgam compute allele frequencies\n",
      "2017-01-10 14:13:29.822108 :: 2R BFcol compute allele frequencies\n",
      "2017-01-10 14:13:46.201880 :: 2R GW compute allele frequencies\n",
      "2017-01-10 14:14:01.747473 :: 2L load allele counts\n",
      "2017-01-10 14:14:01.758263 :: 2L all compute allele frequencies\n",
      "2017-01-10 14:14:22.435305 :: 2L CMgam compute allele frequencies\n",
      "2017-01-10 14:14:39.555126 :: 2L FRgam compute allele frequencies\n",
      "2017-01-10 14:14:55.042116 :: 2L GAgam compute allele frequencies\n",
      "2017-01-10 14:15:10.196096 :: 2L BFgam compute allele frequencies\n",
      "2017-01-10 14:15:22.170514 :: 2L GNcol compute allele frequencies\n",
      "2017-01-10 14:15:31.585480 :: 2L KE compute allele frequencies\n",
      "2017-01-10 14:15:43.615787 :: 2L GM compute allele frequencies\n",
      "2017-01-10 14:15:58.581397 :: 2L UGgam compute allele frequencies\n",
      "2017-01-10 14:16:16.824458 :: 2L CIcol compute allele frequencies\n",
      "2017-01-10 14:16:28.419313 :: 2L AOcol compute allele frequencies\n",
      "2017-01-10 14:16:40.599358 :: 2L GHcol compute allele frequencies\n",
      "2017-01-10 14:16:53.932214 :: 2L GNgam compute allele frequencies\n",
      "2017-01-10 14:17:03.100155 :: 2L GQgam compute allele frequencies\n",
      "2017-01-10 14:17:14.205326 :: 2L GHgam compute allele frequencies\n",
      "2017-01-10 14:17:26.275233 :: 2L BFcol compute allele frequencies\n",
      "2017-01-10 14:17:38.871441 :: 2L GW compute allele frequencies\n",
      "2017-01-10 14:17:49.864142 :: 3R load allele counts\n",
      "2017-01-10 14:17:49.871948 :: 3R all compute allele frequencies\n",
      "2017-01-10 14:18:08.064809 :: 3R CMgam compute allele frequencies\n",
      "2017-01-10 14:18:22.640176 :: 3R FRgam compute allele frequencies\n",
      "2017-01-10 14:18:31.684582 :: 3R GAgam compute allele frequencies\n",
      "2017-01-10 14:18:44.209287 :: 3R BFgam compute allele frequencies\n",
      "2017-01-10 14:18:57.975243 :: 3R GNcol compute allele frequencies\n",
      "2017-01-10 14:19:07.043334 :: 3R KE compute allele frequencies\n",
      "2017-01-10 14:19:16.695803 :: 3R GM compute allele frequencies\n",
      "2017-01-10 14:19:29.865626 :: 3R UGgam compute allele frequencies\n",
      "2017-01-10 14:19:44.874231 :: 3R CIcol compute allele frequencies\n",
      "2017-01-10 14:20:02.713672 :: 3R AOcol compute allele frequencies\n",
      "2017-01-10 14:20:18.000400 :: 3R GHcol compute allele frequencies\n",
      "2017-01-10 14:20:34.557973 :: 3R GNgam compute allele frequencies\n",
      "2017-01-10 14:20:52.385235 :: 3R GQgam compute allele frequencies\n",
      "2017-01-10 14:21:08.404876 :: 3R GHgam compute allele frequencies\n",
      "2017-01-10 14:21:24.465579 :: 3R BFcol compute allele frequencies\n",
      "2017-01-10 14:21:42.338391 :: 3R GW compute allele frequencies\n",
      "2017-01-10 14:21:59.747116 :: 3L load allele counts\n",
      "2017-01-10 14:21:59.759253 :: 3L all compute allele frequencies\n",
      "2017-01-10 14:22:14.334242 :: 3L CMgam compute allele frequencies\n",
      "2017-01-10 14:22:25.568500 :: 3L FRgam compute allele frequencies\n",
      "2017-01-10 14:22:34.671281 :: 3L GAgam compute allele frequencies\n",
      "2017-01-10 14:22:44.105652 :: 3L BFgam compute allele frequencies\n",
      "2017-01-10 14:22:55.156270 :: 3L GNcol compute allele frequencies\n",
      "2017-01-10 14:23:01.679862 :: 3L KE compute allele frequencies\n",
      "2017-01-10 14:23:08.944856 :: 3L GM compute allele frequencies\n",
      "2017-01-10 14:23:26.004647 :: 3L UGgam compute allele frequencies\n",
      "2017-01-10 14:23:40.548442 :: 3L CIcol compute allele frequencies\n",
      "2017-01-10 14:23:54.871534 :: 3L AOcol compute allele frequencies\n",
      "2017-01-10 14:24:08.237260 :: 3L GHcol compute allele frequencies\n",
      "2017-01-10 14:24:22.176811 :: 3L GNgam compute allele frequencies\n",
      "2017-01-10 14:24:37.567237 :: 3L GQgam compute allele frequencies\n",
      "2017-01-10 14:24:51.156049 :: 3L GHgam compute allele frequencies\n",
      "2017-01-10 14:25:01.936322 :: 3L BFcol compute allele frequencies\n",
      "2017-01-10 14:25:14.940572 :: 3L GW compute allele frequencies\n",
      "2017-01-10 14:25:26.425321 :: X load allele counts\n",
      "2017-01-10 14:25:26.449046 :: X all compute allele frequencies\n",
      "2017-01-10 14:25:38.650238 :: X CMgam compute allele frequencies\n",
      "2017-01-10 14:25:48.137538 :: X FRgam compute allele frequencies\n",
      "2017-01-10 14:25:51.806731 :: X GAgam compute allele frequencies\n",
      "2017-01-10 14:25:56.939144 :: X BFgam compute allele frequencies\n",
      "2017-01-10 14:26:02.346139 :: X GNcol compute allele frequencies\n",
      "2017-01-10 14:26:06.414136 :: X KE compute allele frequencies\n",
      "2017-01-10 14:26:12.543401 :: X GM compute allele frequencies\n",
      "2017-01-10 14:26:17.953833 :: X UGgam compute allele frequencies\n",
      "2017-01-10 14:26:24.221061 :: X CIcol compute allele frequencies\n",
      "2017-01-10 14:26:30.379202 :: X AOcol compute allele frequencies\n",
      "2017-01-10 14:26:35.604654 :: X GHcol compute allele frequencies\n",
      "2017-01-10 14:26:41.183946 :: X GNgam compute allele frequencies\n",
      "2017-01-10 14:26:46.178785 :: X GQgam compute allele frequencies\n",
      "2017-01-10 14:26:50.385474 :: X GHgam compute allele frequencies\n",
      "2017-01-10 14:26:56.855513 :: X BFcol compute allele frequencies\n",
      "2017-01-10 14:27:02.529210 :: X GW compute allele frequencies\n",
      "2017-01-10 14:27:09.138456 :: X all done\n"
     ]
    }
   ],
   "source": [
    "def compute_subpop_afs():\n",
    "    #open the allele counts\n",
    "    ach5 = h5py.File(allele_counts_fn, 'r')\n",
    "    \n",
    "    #open the new freq file\n",
    "    with h5py.File(allele_frequencies_fn, mode='a') as h5f:\n",
    "        \n",
    "        for chrom in chromosomes:\n",
    "            grp = h5f.require_group(chrom)\n",
    "            #open the counts for a pop and a chrom\n",
    "            log(chrom, 'load allele counts')\n",
    "            ac = allel.AlleleCountsChunkedTable(ach5[chrom])\n",
    "            \n",
    "            for pop in list(subpops.keys()):\n",
    "                #counts to freqs\n",
    "                log(chrom, pop, 'compute allele frequencies')\n",
    "                af = ac[pop].to_frequencies()\n",
    "                #write to h5\n",
    "                grp.create_dataset(pop, data=af[:], chunks=(262144, 4), dtype='f4', compression='gzip', compression_opts=1) \n",
    "        \n",
    "    log(chrom, 'all done')\n",
    "        \n",
    "compute_subpop_afs()"
   ]
  },
  {
   "cell_type": "markdown",
   "metadata": {},
   "source": [
    "# Compile text for panoptes"
   ]
  },
  {
   "cell_type": "code",
   "execution_count": 46,
   "metadata": {
    "collapsed": true
   },
   "outputs": [],
   "source": [
    "allele_frequencies = h5py.File(allele_frequencies_fn, mode='r')"
   ]
  },
  {
   "cell_type": "code",
   "execution_count": 47,
   "metadata": {
    "collapsed": true
   },
   "outputs": [],
   "source": [
    "allele_frequencies_text_fn_template = '/kwiat/vector/ag1000g/release/phase2.AR1/extras/allele_frequencies.{chrom}.txt.gz'"
   ]
  },
  {
   "cell_type": "code",
   "execution_count": 48,
   "metadata": {
    "collapsed": true
   },
   "outputs": [],
   "source": [
    "class H5GTable(etl.Table):\n",
    "    \n",
    "    def __init__(self, file_path, node_path, names=None):\n",
    "        self.file_path = file_path\n",
    "        self.node_path = node_path\n",
    "        self.names = names\n",
    "        \n",
    "    def __iter__(self):\n",
    "        with h5py.File(self.file_path, mode='r') as h5f:\n",
    "            h5g = h5f[self.node_path]\n",
    "            if self.names is None:\n",
    "                flds = sorted(h5g.keys())\n",
    "            else:\n",
    "                flds = self.names\n",
    "            header = tuple(flds)\n",
    "            yield header\n",
    "            dsets = [h5g[n][:] for n in flds]\n",
    "            log([(n, a.shape[0]) for (n, a) in zip(flds, dsets)])\n",
    "            for row in zip(*dsets):\n",
    "                yield tuple(row)"
   ]
  },
  {
   "cell_type": "code",
   "execution_count": 49,
   "metadata": {
    "collapsed": true
   },
   "outputs": [],
   "source": [
    "def tabulate_subpop_af(chrom, pid):\n",
    "    af = allele_frequencies[chrom][pid][:]\n",
    "    log(chrom, pid, af.shape[0])\n",
    "    tbl = etl.wrap(af).pushheader('AF0_' + pid, 'AF1_' + pid, 'AF2_' + pid, 'AF3_' + pid)\n",
    "    return tbl"
   ]
  },
  {
   "cell_type": "code",
   "execution_count": 51,
   "metadata": {
    "collapsed": true
   },
   "outputs": [],
   "source": [
    "def tabulate_af(chrom): \n",
    "    tbl = (\n",
    "        H5GTable(callset_fn, '/%s/variants' % chrom, names=('CHROM', 'POS'))\n",
    "        .convert('CHROM', lambda v: str(v, encoding='ascii'))\n",
    "        .annex(tabulate_subpop_af(chrom, 'AOcol'))\n",
    "        .annex(tabulate_subpop_af(chrom, 'BFgam'))\n",
    "        .annex(tabulate_subpop_af(chrom, 'BFcol'))\n",
    "        .annex(tabulate_subpop_af(chrom, 'CIcol'))\n",
    "        .annex(tabulate_subpop_af(chrom, 'CMgam'))\n",
    "        .annex(tabulate_subpop_af(chrom, 'FRgam'))\n",
    "        .annex(tabulate_subpop_af(chrom, 'GAgam'))\n",
    "        .annex(tabulate_subpop_af(chrom, 'GHgam'))\n",
    "        .annex(tabulate_subpop_af(chrom, 'GHcol'))\n",
    "        .annex(tabulate_subpop_af(chrom, 'GM'))\n",
    "        .annex(tabulate_subpop_af(chrom, 'GNgam'))\n",
    "        .annex(tabulate_subpop_af(chrom, 'GNcol'))\n",
    "        .annex(tabulate_subpop_af(chrom, 'GQgam'))\n",
    "        .annex(tabulate_subpop_af(chrom, 'GW'))\n",
    "        .annex(tabulate_subpop_af(chrom, 'KE'))\n",
    "        .annex(tabulate_subpop_af(chrom, 'UGgam'))\n",
    "    )\n",
    "    return tbl"
   ]
  },
  {
   "cell_type": "code",
   "execution_count": 52,
   "metadata": {
    "collapsed": false
   },
   "outputs": [
    {
     "name": "stderr",
     "output_type": "stream",
     "text": [
      "2017-01-10 14:36:21.763589 :: X AOcol 9389639\n",
      "2017-01-10 14:36:23.022588 :: X BFgam 9389639\n",
      "2017-01-10 14:36:25.545548 :: X BFcol 9389639\n",
      "2017-01-10 14:36:26.323365 :: X CIcol 9389639\n",
      "2017-01-10 14:36:27.303555 :: X CMgam 9389639\n",
      "2017-01-10 14:36:29.715061 :: X FRgam 9389639\n",
      "2017-01-10 14:36:31.087941 :: X GAgam 9389639\n",
      "2017-01-10 14:36:32.298793 :: X GHgam 9389639\n",
      "2017-01-10 14:36:33.520409 :: X GHcol 9389639\n",
      "2017-01-10 14:36:35.420770 :: X GM 9389639\n",
      "2017-01-10 14:36:36.119177 :: X GNgam 9389639\n",
      "2017-01-10 14:36:39.015540 :: X GNcol 9389639\n",
      "2017-01-10 14:36:40.646237 :: X GQgam 9389639\n",
      "2017-01-10 14:36:41.973650 :: X GW 9389639\n",
      "2017-01-10 14:36:44.102398 :: X KE 9389639\n",
      "2017-01-10 14:36:45.518361 :: X UGgam 9389639\n",
      "2017-01-10 14:36:46.878534 :: [('CHROM', 9389639), ('POS', 9389639)]\n"
     ]
    },
    {
     "data": {
      "text/html": [
       "<table class='petl'>\n",
       "<thead>\n",
       "<tr>\n",
       "<th>0|CHROM</th>\n",
       "<th>1|POS</th>\n",
       "<th>2|AF0_AOcol</th>\n",
       "<th>3|AF1_AOcol</th>\n",
       "<th>4|AF2_AOcol</th>\n",
       "<th>5|AF3_AOcol</th>\n",
       "<th>6|AF0_BFgam</th>\n",
       "<th>7|AF1_BFgam</th>\n",
       "<th>8|AF2_BFgam</th>\n",
       "<th>9|AF3_BFgam</th>\n",
       "<th>10|AF0_BFcol</th>\n",
       "<th>11|AF1_BFcol</th>\n",
       "<th>12|AF2_BFcol</th>\n",
       "<th>13|AF3_BFcol</th>\n",
       "<th>14|AF0_CIcol</th>\n",
       "<th>15|AF1_CIcol</th>\n",
       "<th>16|AF2_CIcol</th>\n",
       "<th>17|AF3_CIcol</th>\n",
       "<th>18|AF0_CMgam</th>\n",
       "<th>19|AF1_CMgam</th>\n",
       "<th>20|AF2_CMgam</th>\n",
       "<th>21|AF3_CMgam</th>\n",
       "<th>22|AF0_FRgam</th>\n",
       "<th>23|AF1_FRgam</th>\n",
       "<th>24|AF2_FRgam</th>\n",
       "<th>25|AF3_FRgam</th>\n",
       "<th>26|AF0_GAgam</th>\n",
       "<th>27|AF1_GAgam</th>\n",
       "<th>28|AF2_GAgam</th>\n",
       "<th>29|AF3_GAgam</th>\n",
       "<th>30|AF0_GHgam</th>\n",
       "<th>31|AF1_GHgam</th>\n",
       "<th>32|AF2_GHgam</th>\n",
       "<th>33|AF3_GHgam</th>\n",
       "<th>34|AF0_GHcol</th>\n",
       "<th>35|AF1_GHcol</th>\n",
       "<th>36|AF2_GHcol</th>\n",
       "<th>37|AF3_GHcol</th>\n",
       "<th>38|AF0_GM</th>\n",
       "<th>39|AF1_GM</th>\n",
       "<th>40|AF2_GM</th>\n",
       "<th>41|AF3_GM</th>\n",
       "<th>42|AF0_GNgam</th>\n",
       "<th>43|AF1_GNgam</th>\n",
       "<th>44|AF2_GNgam</th>\n",
       "<th>45|AF3_GNgam</th>\n",
       "<th>46|AF0_GNcol</th>\n",
       "<th>47|AF1_GNcol</th>\n",
       "<th>48|AF2_GNcol</th>\n",
       "<th>49|AF3_GNcol</th>\n",
       "<th>50|AF0_GQgam</th>\n",
       "<th>51|AF1_GQgam</th>\n",
       "<th>52|AF2_GQgam</th>\n",
       "<th>53|AF3_GQgam</th>\n",
       "<th>54|AF0_GW</th>\n",
       "<th>55|AF1_GW</th>\n",
       "<th>56|AF2_GW</th>\n",
       "<th>57|AF3_GW</th>\n",
       "<th>58|AF0_KE</th>\n",
       "<th>59|AF1_KE</th>\n",
       "<th>60|AF2_KE</th>\n",
       "<th>61|AF3_KE</th>\n",
       "<th>62|AF0_UGgam</th>\n",
       "<th>63|AF1_UGgam</th>\n",
       "<th>64|AF2_UGgam</th>\n",
       "<th>65|AF3_UGgam</th>\n",
       "</tr>\n",
       "</thead>\n",
       "<tbody>\n",
       "<tr>\n",
       "<td>X</td>\n",
       "<td>23</td>\n",
       "<td>1.0</td>\n",
       "<td>0.0</td>\n",
       "<td>0.0</td>\n",
       "<td>0.0</td>\n",
       "<td>1.0</td>\n",
       "<td>0.0</td>\n",
       "<td>0.0</td>\n",
       "<td>0.0</td>\n",
       "<td>1.0</td>\n",
       "<td>0.0</td>\n",
       "<td>0.0</td>\n",
       "<td>0.0</td>\n",
       "<td>1.0</td>\n",
       "<td>0.0</td>\n",
       "<td>0.0</td>\n",
       "<td>0.0</td>\n",
       "<td>1.0</td>\n",
       "<td>0.0</td>\n",
       "<td>0.0</td>\n",
       "<td>0.0</td>\n",
       "<td>1.0</td>\n",
       "<td>0.0</td>\n",
       "<td>0.0</td>\n",
       "<td>0.0</td>\n",
       "<td>1.0</td>\n",
       "<td>0.0</td>\n",
       "<td>0.0</td>\n",
       "<td>0.0</td>\n",
       "<td>1.0</td>\n",
       "<td>0.0</td>\n",
       "<td>0.0</td>\n",
       "<td>0.0</td>\n",
       "<td>1.0</td>\n",
       "<td>0.0</td>\n",
       "<td>0.0</td>\n",
       "<td>0.0</td>\n",
       "<td>1.0</td>\n",
       "<td>0.0</td>\n",
       "<td>0.0</td>\n",
       "<td>0.0</td>\n",
       "<td>1.0</td>\n",
       "<td>0.0</td>\n",
       "<td>0.0</td>\n",
       "<td>0.0</td>\n",
       "<td>1.0</td>\n",
       "<td>0.0</td>\n",
       "<td>0.0</td>\n",
       "<td>0.0</td>\n",
       "<td>1.0</td>\n",
       "<td>0.0</td>\n",
       "<td>0.0</td>\n",
       "<td>0.0</td>\n",
       "<td>1.0</td>\n",
       "<td>0.0</td>\n",
       "<td>0.0</td>\n",
       "<td>0.0</td>\n",
       "<td>1.0</td>\n",
       "<td>0.0</td>\n",
       "<td>0.0</td>\n",
       "<td>0.0</td>\n",
       "<td>0.995536</td>\n",
       "<td>0.00446429</td>\n",
       "<td>0.0</td>\n",
       "<td>0.0</td>\n",
       "</tr>\n",
       "<tr>\n",
       "<td>X</td>\n",
       "<td>49</td>\n",
       "<td>1.0</td>\n",
       "<td>0.0</td>\n",
       "<td>0.0</td>\n",
       "<td>0.0</td>\n",
       "<td>1.0</td>\n",
       "<td>0.0</td>\n",
       "<td>0.0</td>\n",
       "<td>0.0</td>\n",
       "<td>0.986111</td>\n",
       "<td>0.0138889</td>\n",
       "<td>0.0</td>\n",
       "<td>0.0</td>\n",
       "<td>0.992958</td>\n",
       "<td>0.00704225</td>\n",
       "<td>0.0</td>\n",
       "<td>0.0</td>\n",
       "<td>1.0</td>\n",
       "<td>0.0</td>\n",
       "<td>0.0</td>\n",
       "<td>0.0</td>\n",
       "<td>1.0</td>\n",
       "<td>0.0</td>\n",
       "<td>0.0</td>\n",
       "<td>0.0</td>\n",
       "<td>1.0</td>\n",
       "<td>0.0</td>\n",
       "<td>0.0</td>\n",
       "<td>0.0</td>\n",
       "<td>1.0</td>\n",
       "<td>0.0</td>\n",
       "<td>0.0</td>\n",
       "<td>0.0</td>\n",
       "<td>0.981818</td>\n",
       "<td>0.0181818</td>\n",
       "<td>0.0</td>\n",
       "<td>0.0</td>\n",
       "<td>1.0</td>\n",
       "<td>0.0</td>\n",
       "<td>0.0</td>\n",
       "<td>0.0</td>\n",
       "<td>1.0</td>\n",
       "<td>0.0</td>\n",
       "<td>0.0</td>\n",
       "<td>0.0</td>\n",
       "<td>1.0</td>\n",
       "<td>0.0</td>\n",
       "<td>0.0</td>\n",
       "<td>0.0</td>\n",
       "<td>1.0</td>\n",
       "<td>0.0</td>\n",
       "<td>0.0</td>\n",
       "<td>0.0</td>\n",
       "<td>1.0</td>\n",
       "<td>0.0</td>\n",
       "<td>0.0</td>\n",
       "<td>0.0</td>\n",
       "<td>1.0</td>\n",
       "<td>0.0</td>\n",
       "<td>0.0</td>\n",
       "<td>0.0</td>\n",
       "<td>1.0</td>\n",
       "<td>0.0</td>\n",
       "<td>0.0</td>\n",
       "<td>0.0</td>\n",
       "</tr>\n",
       "<tr>\n",
       "<td>X</td>\n",
       "<td>56</td>\n",
       "<td>1.0</td>\n",
       "<td>0.0</td>\n",
       "<td>0.0</td>\n",
       "<td>0.0</td>\n",
       "<td>1.0</td>\n",
       "<td>0.0</td>\n",
       "<td>0.0</td>\n",
       "<td>0.0</td>\n",
       "<td>1.0</td>\n",
       "<td>0.0</td>\n",
       "<td>0.0</td>\n",
       "<td>0.0</td>\n",
       "<td>1.0</td>\n",
       "<td>0.0</td>\n",
       "<td>0.0</td>\n",
       "<td>0.0</td>\n",
       "<td>1.0</td>\n",
       "<td>0.0</td>\n",
       "<td>0.0</td>\n",
       "<td>0.0</td>\n",
       "<td>1.0</td>\n",
       "<td>0.0</td>\n",
       "<td>0.0</td>\n",
       "<td>0.0</td>\n",
       "<td>1.0</td>\n",
       "<td>0.0</td>\n",
       "<td>0.0</td>\n",
       "<td>0.0</td>\n",
       "<td>1.0</td>\n",
       "<td>0.0</td>\n",
       "<td>0.0</td>\n",
       "<td>0.0</td>\n",
       "<td>1.0</td>\n",
       "<td>0.0</td>\n",
       "<td>0.0</td>\n",
       "<td>0.0</td>\n",
       "<td>1.0</td>\n",
       "<td>0.0</td>\n",
       "<td>0.0</td>\n",
       "<td>0.0</td>\n",
       "<td>0.9875</td>\n",
       "<td>0.0125</td>\n",
       "<td>0.0</td>\n",
       "<td>0.0</td>\n",
       "<td>1.0</td>\n",
       "<td>0.0</td>\n",
       "<td>0.0</td>\n",
       "<td>0.0</td>\n",
       "<td>1.0</td>\n",
       "<td>0.0</td>\n",
       "<td>0.0</td>\n",
       "<td>0.0</td>\n",
       "<td>1.0</td>\n",
       "<td>0.0</td>\n",
       "<td>0.0</td>\n",
       "<td>0.0</td>\n",
       "<td>1.0</td>\n",
       "<td>0.0</td>\n",
       "<td>0.0</td>\n",
       "<td>0.0</td>\n",
       "<td>1.0</td>\n",
       "<td>0.0</td>\n",
       "<td>0.0</td>\n",
       "<td>0.0</td>\n",
       "</tr>\n",
       "<tr>\n",
       "<td>X</td>\n",
       "<td>66</td>\n",
       "<td>1.0</td>\n",
       "<td>0.0</td>\n",
       "<td>0.0</td>\n",
       "<td>0.0</td>\n",
       "<td>1.0</td>\n",
       "<td>0.0</td>\n",
       "<td>0.0</td>\n",
       "<td>0.0</td>\n",
       "<td>1.0</td>\n",
       "<td>0.0</td>\n",
       "<td>0.0</td>\n",
       "<td>0.0</td>\n",
       "<td>1.0</td>\n",
       "<td>0.0</td>\n",
       "<td>0.0</td>\n",
       "<td>0.0</td>\n",
       "<td>1.0</td>\n",
       "<td>0.0</td>\n",
       "<td>0.0</td>\n",
       "<td>0.0</td>\n",
       "<td>1.0</td>\n",
       "<td>0.0</td>\n",
       "<td>0.0</td>\n",
       "<td>0.0</td>\n",
       "<td>1.0</td>\n",
       "<td>0.0</td>\n",
       "<td>0.0</td>\n",
       "<td>0.0</td>\n",
       "<td>1.0</td>\n",
       "<td>0.0</td>\n",
       "<td>0.0</td>\n",
       "<td>0.0</td>\n",
       "<td>1.0</td>\n",
       "<td>0.0</td>\n",
       "<td>0.0</td>\n",
       "<td>0.0</td>\n",
       "<td>1.0</td>\n",
       "<td>0.0</td>\n",
       "<td>0.0</td>\n",
       "<td>0.0</td>\n",
       "<td>0.975</td>\n",
       "<td>0.025</td>\n",
       "<td>0.0</td>\n",
       "<td>0.0</td>\n",
       "<td>1.0</td>\n",
       "<td>0.0</td>\n",
       "<td>0.0</td>\n",
       "<td>0.0</td>\n",
       "<td>1.0</td>\n",
       "<td>0.0</td>\n",
       "<td>0.0</td>\n",
       "<td>0.0</td>\n",
       "<td>1.0</td>\n",
       "<td>0.0</td>\n",
       "<td>0.0</td>\n",
       "<td>0.0</td>\n",
       "<td>1.0</td>\n",
       "<td>0.0</td>\n",
       "<td>0.0</td>\n",
       "<td>0.0</td>\n",
       "<td>1.0</td>\n",
       "<td>0.0</td>\n",
       "<td>0.0</td>\n",
       "<td>0.0</td>\n",
       "</tr>\n",
       "<tr>\n",
       "<td>X</td>\n",
       "<td>67</td>\n",
       "<td>1.0</td>\n",
       "<td>0.0</td>\n",
       "<td>0.0</td>\n",
       "<td>0.0</td>\n",
       "<td>1.0</td>\n",
       "<td>0.0</td>\n",
       "<td>0.0</td>\n",
       "<td>0.0</td>\n",
       "<td>1.0</td>\n",
       "<td>0.0</td>\n",
       "<td>0.0</td>\n",
       "<td>0.0</td>\n",
       "<td>1.0</td>\n",
       "<td>0.0</td>\n",
       "<td>0.0</td>\n",
       "<td>0.0</td>\n",
       "<td>0.998024</td>\n",
       "<td>0.00197628</td>\n",
       "<td>0.0</td>\n",
       "<td>0.0</td>\n",
       "<td>1.0</td>\n",
       "<td>0.0</td>\n",
       "<td>0.0</td>\n",
       "<td>0.0</td>\n",
       "<td>1.0</td>\n",
       "<td>0.0</td>\n",
       "<td>0.0</td>\n",
       "<td>0.0</td>\n",
       "<td>1.0</td>\n",
       "<td>0.0</td>\n",
       "<td>0.0</td>\n",
       "<td>0.0</td>\n",
       "<td>1.0</td>\n",
       "<td>0.0</td>\n",
       "<td>0.0</td>\n",
       "<td>0.0</td>\n",
       "<td>1.0</td>\n",
       "<td>0.0</td>\n",
       "<td>0.0</td>\n",
       "<td>0.0</td>\n",
       "<td>1.0</td>\n",
       "<td>0.0</td>\n",
       "<td>0.0</td>\n",
       "<td>0.0</td>\n",
       "<td>1.0</td>\n",
       "<td>0.0</td>\n",
       "<td>0.0</td>\n",
       "<td>0.0</td>\n",
       "<td>1.0</td>\n",
       "<td>0.0</td>\n",
       "<td>0.0</td>\n",
       "<td>0.0</td>\n",
       "<td>1.0</td>\n",
       "<td>0.0</td>\n",
       "<td>0.0</td>\n",
       "<td>0.0</td>\n",
       "<td>1.0</td>\n",
       "<td>0.0</td>\n",
       "<td>0.0</td>\n",
       "<td>0.0</td>\n",
       "<td>1.0</td>\n",
       "<td>0.0</td>\n",
       "<td>0.0</td>\n",
       "<td>0.0</td>\n",
       "</tr>\n",
       "</tbody>\n",
       "</table>\n",
       "<p><strong>...</strong></p>"
      ]
     },
     "metadata": {},
     "output_type": "display_data"
    }
   ],
   "source": [
    "tabulate_af('X').display()"
   ]
  },
  {
   "cell_type": "code",
   "execution_count": 53,
   "metadata": {
    "collapsed": true
   },
   "outputs": [],
   "source": [
    "def write_af_text(chrom):\n",
    "    tbl_fn = allele_frequencies_text_fn_template.format(chrom=chrom)\n",
    "    if not os.path.exists(tbl_fn + '.md5'):\n",
    "        log(chrom, 'building')\n",
    "        tabulate_af(chrom).progress(200000).totsv(tbl_fn)\n",
    "        !md5sum {tbl_fn} > {tbl_fn}.md5\n",
    "    else:\n",
    "        log(chrom, 'skipping')"
   ]
  },
  {
   "cell_type": "code",
   "execution_count": 54,
   "metadata": {
    "collapsed": false
   },
   "outputs": [
    {
     "name": "stderr",
     "output_type": "stream",
     "text": [
      "2017-01-10 14:37:14.685746 :: 2R building\n",
      "2017-01-10 14:37:18.330861 :: 2R AOcol 24767689\n",
      "2017-01-10 14:37:21.989242 :: 2R BFgam 24767689\n",
      "2017-01-10 14:37:25.216768 :: 2R BFcol 24767689\n",
      "2017-01-10 14:37:29.151573 :: 2R CIcol 24767689\n",
      "2017-01-10 14:37:32.999514 :: 2R CMgam 24767689\n",
      "2017-01-10 14:37:35.812648 :: 2R FRgam 24767689\n",
      "2017-01-10 14:37:39.650643 :: 2R GAgam 24767689\n",
      "2017-01-10 14:37:42.905860 :: 2R GHgam 24767689\n",
      "2017-01-10 14:37:46.590791 :: 2R GHcol 24767689\n",
      "2017-01-10 14:37:47.995245 :: 2R GM 24767689\n",
      "2017-01-10 14:37:49.516639 :: 2R GNgam 24767689\n",
      "2017-01-10 14:37:50.463182 :: 2R GNcol 24767689\n",
      "2017-01-10 14:37:51.518647 :: 2R GQgam 24767689\n",
      "2017-01-10 14:37:52.870322 :: 2R GW 24767689\n",
      "2017-01-10 14:37:54.186564 :: 2R KE 24767689\n",
      "2017-01-10 14:37:55.669469 :: 2R UGgam 24767689\n",
      "2017-01-10 14:38:02.858001 :: [('CHROM', 24767689), ('POS', 24767689)]\n",
      "200000 rows in 60.71s (3294 row/s); batch in 60.71s (3294 row/s)\n",
      "400000 rows in 122.53s (3264 row/s); batch in 61.82s (3235 row/s)\n",
      "600000 rows in 185.13s (3240 row/s); batch in 62.60s (3194 row/s)\n",
      "800000 rows in 239.02s (3346 row/s); batch in 53.89s (3711 row/s)\n",
      "1000000 rows in 299.65s (3337 row/s); batch in 60.63s (3298 row/s)\n",
      "1200000 rows in 359.38s (3339 row/s); batch in 59.73s (3348 row/s)\n",
      "1400000 rows in 417.04s (3356 row/s); batch in 57.66s (3468 row/s)\n",
      "1600000 rows in 475.26s (3366 row/s); batch in 58.21s (3435 row/s)\n",
      "1800000 rows in 531.33s (3387 row/s); batch in 56.08s (3566 row/s)\n",
      "2000000 rows in 586.39s (3410 row/s); batch in 55.06s (3632 row/s)\n",
      "2200000 rows in 640.23s (3436 row/s); batch in 53.83s (3715 row/s)\n",
      "2400000 rows in 699.39s (3431 row/s); batch in 59.17s (3380 row/s)\n",
      "2600000 rows in 762.44s (3410 row/s); batch in 63.05s (3172 row/s)\n",
      "2800000 rows in 821.39s (3408 row/s); batch in 58.95s (3392 row/s)\n",
      "3000000 rows in 877.98s (3416 row/s); batch in 56.59s (3534 row/s)\n",
      "3200000 rows in 931.18s (3436 row/s); batch in 53.20s (3759 row/s)\n",
      "3400000 rows in 988.31s (3440 row/s); batch in 57.13s (3500 row/s)\n",
      "3600000 rows in 1052.59s (3420 row/s); batch in 64.29s (3111 row/s)\n",
      "3800000 rows in 1111.73s (3418 row/s); batch in 59.13s (3382 row/s)\n",
      "4000000 rows in 1168.19s (3424 row/s); batch in 56.46s (3542 row/s)\n",
      "4200000 rows in 1223.37s (3433 row/s); batch in 55.18s (3624 row/s)\n",
      "4400000 rows in 1278.62s (3441 row/s); batch in 55.25s (3620 row/s)\n",
      "4600000 rows in 1335.62s (3444 row/s); batch in 57.00s (3508 row/s)\n",
      "4800000 rows in 1388.44s (3457 row/s); batch in 52.82s (3786 row/s)\n",
      "5000000 rows in 1452.71s (3441 row/s); batch in 64.27s (3112 row/s)\n",
      "5200000 rows in 1508.57s (3446 row/s); batch in 55.87s (3580 row/s)\n",
      "5400000 rows in 1562.30s (3456 row/s); batch in 53.73s (3722 row/s)\n",
      "5600000 rows in 1618.20s (3460 row/s); batch in 55.90s (3577 row/s)\n",
      "5800000 rows in 1677.75s (3457 row/s); batch in 59.55s (3358 row/s)\n",
      "6000000 rows in 1732.83s (3462 row/s); batch in 55.08s (3630 row/s)\n",
      "6200000 rows in 1791.67s (3460 row/s); batch in 58.84s (3398 row/s)\n",
      "6400000 rows in 1846.67s (3465 row/s); batch in 55.00s (3636 row/s)\n",
      "6600000 rows in 1899.04s (3475 row/s); batch in 52.37s (3819 row/s)\n",
      "6800000 rows in 1952.62s (3482 row/s); batch in 53.59s (3732 row/s)\n",
      "7000000 rows in 2012.35s (3478 row/s); batch in 59.73s (3348 row/s)\n",
      "7200000 rows in 2072.56s (3473 row/s); batch in 60.20s (3322 row/s)\n",
      "7400000 rows in 2126.40s (3480 row/s); batch in 53.85s (3714 row/s)\n",
      "7600000 rows in 2178.69s (3488 row/s); batch in 52.29s (3825 row/s)\n",
      "7800000 rows in 2230.73s (3496 row/s); batch in 52.04s (3843 row/s)\n",
      "8000000 rows in 2283.91s (3502 row/s); batch in 53.18s (3760 row/s)\n",
      "8200000 rows in 2333.82s (3513 row/s); batch in 49.91s (4007 row/s)\n",
      "8400000 rows in 2394.10s (3508 row/s); batch in 60.27s (3318 row/s)\n",
      "8600000 rows in 2458.61s (3497 row/s); batch in 64.52s (3099 row/s)\n",
      "8800000 rows in 2514.57s (3499 row/s); batch in 55.96s (3574 row/s)\n",
      "9000000 rows in 2573.23s (3497 row/s); batch in 58.66s (3409 row/s)\n",
      "9200000 rows in 2626.81s (3502 row/s); batch in 53.58s (3732 row/s)\n",
      "9400000 rows in 2681.15s (3505 row/s); batch in 54.33s (3680 row/s)\n",
      "9600000 rows in 2735.94s (3508 row/s); batch in 54.79s (3650 row/s)\n",
      "9800000 rows in 2793.79s (3507 row/s); batch in 57.85s (3457 row/s)\n",
      "10000000 rows in 2854.72s (3502 row/s); batch in 60.92s (3282 row/s)\n",
      "10200000 rows in 2909.13s (3506 row/s); batch in 54.42s (3675 row/s)\n",
      "10400000 rows in 2959.56s (3514 row/s); batch in 50.43s (3966 row/s)\n",
      "10600000 rows in 3012.43s (3518 row/s); batch in 52.87s (3782 row/s)\n",
      "10800000 rows in 3070.14s (3517 row/s); batch in 57.71s (3465 row/s)\n",
      "11000000 rows in 3129.82s (3514 row/s); batch in 59.68s (3351 row/s)\n",
      "11200000 rows in 3182.01s (3519 row/s); batch in 52.19s (3832 row/s)\n",
      "11400000 rows in 3241.40s (3516 row/s); batch in 59.40s (3367 row/s)\n",
      "11600000 rows in 3297.21s (3518 row/s); batch in 55.80s (3583 row/s)\n",
      "11800000 rows in 3348.90s (3523 row/s); batch in 51.70s (3868 row/s)\n",
      "12000000 rows in 3402.80s (3526 row/s); batch in 53.89s (3711 row/s)\n",
      "12200000 rows in 3457.67s (3528 row/s); batch in 54.88s (3644 row/s)\n",
      "12400000 rows in 3524.53s (3518 row/s); batch in 66.85s (2991 row/s)\n",
      "12600000 rows in 3594.94s (3504 row/s); batch in 70.41s (2840 row/s)\n",
      "12800000 rows in 3659.83s (3497 row/s); batch in 64.90s (3081 row/s)\n",
      "13000000 rows in 3722.47s (3492 row/s); batch in 62.64s (3192 row/s)\n",
      "13200000 rows in 3783.43s (3488 row/s); batch in 60.96s (3280 row/s)\n",
      "13400000 rows in 3850.58s (3479 row/s); batch in 67.15s (2978 row/s)\n",
      "13600000 rows in 3912.86s (3475 row/s); batch in 62.28s (3211 row/s)\n",
      "13800000 rows in 3975.65s (3471 row/s); batch in 62.79s (3185 row/s)\n",
      "14000000 rows in 4042.12s (3463 row/s); batch in 66.48s (3008 row/s)\n",
      "14200000 rows in 4111.32s (3453 row/s); batch in 69.20s (2890 row/s)\n",
      "14400000 rows in 4175.41s (3448 row/s); batch in 64.09s (3120 row/s)\n",
      "14600000 rows in 4239.33s (3443 row/s); batch in 63.92s (3128 row/s)\n",
      "14800000 rows in 4302.60s (3439 row/s); batch in 63.27s (3161 row/s)\n",
      "15000000 rows in 4363.17s (3437 row/s); batch in 60.57s (3301 row/s)\n",
      "15200000 rows in 4424.72s (3435 row/s); batch in 61.55s (3249 row/s)\n",
      "15400000 rows in 4486.75s (3432 row/s); batch in 62.03s (3224 row/s)\n",
      "15600000 rows in 4550.73s (3428 row/s); batch in 63.97s (3126 row/s)\n",
      "15800000 rows in 4609.33s (3427 row/s); batch in 58.61s (3412 row/s)\n",
      "16000000 rows in 4668.67s (3427 row/s); batch in 59.34s (3370 row/s)\n",
      "16200000 rows in 4731.31s (3423 row/s); batch in 62.64s (3193 row/s)\n",
      "16400000 rows in 4796.38s (3419 row/s); batch in 65.07s (3073 row/s)\n",
      "16600000 rows in 4863.14s (3413 row/s); batch in 66.76s (2995 row/s)\n",
      "16800000 rows in 4919.30s (3415 row/s); batch in 56.16s (3561 row/s)\n",
      "17000000 rows in 4985.46s (3409 row/s); batch in 66.16s (3023 row/s)\n",
      "17200000 rows in 5049.99s (3405 row/s); batch in 64.53s (3099 row/s)\n",
      "17400000 rows in 5116.73s (3400 row/s); batch in 66.74s (2996 row/s)\n",
      "17600000 rows in 5175.47s (3400 row/s); batch in 58.74s (3404 row/s)\n",
      "17800000 rows in 5238.31s (3398 row/s); batch in 62.84s (3182 row/s)\n",
      "18000000 rows in 5301.18s (3395 row/s); batch in 62.87s (3181 row/s)\n",
      "18200000 rows in 5364.87s (3392 row/s); batch in 63.69s (3140 row/s)\n",
      "18400000 rows in 5435.26s (3385 row/s); batch in 70.39s (2841 row/s)\n",
      "18600000 rows in 5495.95s (3384 row/s); batch in 60.69s (3295 row/s)\n",
      "18800000 rows in 5558.56s (3382 row/s); batch in 62.61s (3194 row/s)\n",
      "19000000 rows in 5624.01s (3378 row/s); batch in 65.45s (3055 row/s)\n",
      "19200000 rows in 5689.69s (3374 row/s); batch in 65.68s (3044 row/s)\n",
      "19400000 rows in 5758.31s (3369 row/s); batch in 68.62s (2914 row/s)\n",
      "19600000 rows in 5829.02s (3362 row/s); batch in 70.70s (2828 row/s)\n",
      "19800000 rows in 5896.06s (3358 row/s); batch in 67.04s (2983 row/s)\n",
      "20000000 rows in 5959.14s (3356 row/s); batch in 63.08s (3170 row/s)\n",
      "20200000 rows in 6024.38s (3353 row/s); batch in 65.24s (3065 row/s)\n",
      "20400000 rows in 6088.38s (3350 row/s); batch in 64.00s (3124 row/s)\n",
      "20600000 rows in 6151.09s (3349 row/s); batch in 62.71s (3189 row/s)\n",
      "20800000 rows in 6214.80s (3346 row/s); batch in 63.71s (3139 row/s)\n",
      "21000000 rows in 6279.11s (3344 row/s); batch in 64.31s (3109 row/s)\n",
      "21200000 rows in 6352.95s (3337 row/s); batch in 73.84s (2708 row/s)\n",
      "21400000 rows in 6407.01s (3340 row/s); batch in 54.06s (3699 row/s)\n",
      "21600000 rows in 6464.40s (3341 row/s); batch in 57.39s (3485 row/s)\n",
      "21800000 rows in 6539.23s (3333 row/s); batch in 74.83s (2672 row/s)\n",
      "22000000 rows in 6619.74s (3323 row/s); batch in 80.51s (2484 row/s)\n",
      "22200000 rows in 6759.70s (3284 row/s); batch in 139.96s (1429 row/s)\n",
      "22400000 rows in 7028.30s (3187 row/s); batch in 268.60s (744 row/s)\n",
      "22600000 rows in 7465.18s (3027 row/s); batch in 436.88s (457 row/s)\n",
      "22800000 rows in 7541.55s (3023 row/s); batch in 76.36s (2619 row/s)\n",
      "23000000 rows in 7805.82s (2946 row/s); batch in 264.27s (756 row/s)\n",
      "23200000 rows in 11141.30s (2082 row/s); batch in 3335.48s (59 row/s)\n",
      "23400000 rows in 11212.42s (2086 row/s); batch in 71.11s (2812 row/s)\n",
      "23600000 rows in 11267.78s (2094 row/s); batch in 55.36s (3612 row/s)\n",
      "23800000 rows in 11330.13s (2100 row/s); batch in 62.34s (3208 row/s)\n",
      "24000000 rows in 11398.78s (2105 row/s); batch in 68.66s (2913 row/s)\n",
      "24200000 rows in 11469.55s (2109 row/s); batch in 70.76s (2826 row/s)\n",
      "24400000 rows in 11533.22s (2115 row/s); batch in 63.67s (3141 row/s)\n",
      "24600000 rows in 11597.38s (2121 row/s); batch in 64.16s (3117 row/s)\n",
      "24767689 rows in 11641.93s (2127 row/s); batches in 94.29 +/- 296.62s [49.91-3335.48] (3222 +/- 611 rows/s [59-4007])\n",
      "2017-01-10 17:52:07.532557 :: 2L building\n",
      "2017-01-10 17:52:09.083747 :: 2L AOcol 21442865\n",
      "2017-01-10 17:52:10.977654 :: 2L BFgam 21442865\n",
      "2017-01-10 17:52:12.600196 :: 2L BFcol 21442865\n",
      "2017-01-10 17:52:14.239911 :: 2L CIcol 21442865\n",
      "2017-01-10 17:52:16.485360 :: 2L CMgam 21442865\n",
      "2017-01-10 17:52:17.535437 :: 2L FRgam 21442865\n",
      "2017-01-10 17:52:18.661868 :: 2L GAgam 21442865\n",
      "2017-01-10 17:52:19.991842 :: 2L GHgam 21442865\n",
      "2017-01-10 17:52:21.498736 :: 2L GHcol 21442865\n",
      "2017-01-10 17:52:23.726176 :: 2L GM 21442865\n",
      "2017-01-10 17:52:25.282797 :: 2L GNgam 21442865\n",
      "2017-01-10 17:52:27.416516 :: 2L GNcol 21442865\n",
      "2017-01-10 17:52:30.690864 :: 2L GQgam 21442865\n",
      "2017-01-10 17:52:35.285485 :: 2L GW 21442865\n",
      "2017-01-10 17:52:40.979089 :: 2L KE 21442865\n",
      "2017-01-10 17:52:47.627835 :: 2L UGgam 21442865\n",
      "2017-01-10 17:52:51.664591 :: [('CHROM', 21442865), ('POS', 21442865)]\n",
      "200000 rows in 71.18s (2809 row/s); batch in 71.18s (2809 row/s)\n",
      "400000 rows in 138.39s (2890 row/s); batch in 67.21s (2975 row/s)\n",
      "600000 rows in 203.74s (2944 row/s); batch in 65.35s (3060 row/s)\n",
      "800000 rows in 266.14s (3005 row/s); batch in 62.40s (3204 row/s)\n",
      "1000000 rows in 332.38s (3008 row/s); batch in 66.24s (3019 row/s)\n",
      "1200000 rows in 399.05s (3007 row/s); batch in 66.66s (3000 row/s)\n",
      "1400000 rows in 459.62s (3046 row/s); batch in 60.57s (3301 row/s)\n",
      "1600000 rows in 520.34s (3074 row/s); batch in 60.72s (3293 row/s)\n",
      "1800000 rows in 574.67s (3132 row/s); batch in 54.33s (3681 row/s)\n",
      "2000000 rows in 638.18s (3133 row/s); batch in 63.52s (3148 row/s)\n",
      "2200000 rows in 706.26s (3115 row/s); batch in 68.07s (2938 row/s)\n",
      "2400000 rows in 760.84s (3154 row/s); batch in 54.58s (3664 row/s)\n",
      "2600000 rows in 822.90s (3159 row/s); batch in 62.06s (3222 row/s)\n",
      "2800000 rows in 880.24s (3180 row/s); batch in 57.34s (3487 row/s)\n",
      "3000000 rows in 941.73s (3185 row/s); batch in 61.48s (3252 row/s)\n",
      "3200000 rows in 998.98s (3203 row/s); batch in 57.25s (3493 row/s)\n",
      "3400000 rows in 1064.41s (3194 row/s); batch in 65.43s (3056 row/s)\n",
      "3600000 rows in 1122.85s (3206 row/s); batch in 58.44s (3422 row/s)\n",
      "3800000 rows in 1178.69s (3223 row/s); batch in 55.84s (3581 row/s)\n",
      "4000000 rows in 1238.42s (3229 row/s); batch in 59.72s (3348 row/s)\n",
      "4200000 rows in 1295.78s (3241 row/s); batch in 57.37s (3486 row/s)\n",
      "4400000 rows in 1351.86s (3254 row/s); batch in 56.07s (3566 row/s)\n",
      "4600000 rows in 1408.06s (3266 row/s); batch in 56.21s (3558 row/s)\n",
      "4800000 rows in 1469.71s (3265 row/s); batch in 61.65s (3244 row/s)\n",
      "5000000 rows in 1529.07s (3269 row/s); batch in 59.35s (3369 row/s)\n",
      "5200000 rows in 1590.85s (3268 row/s); batch in 61.79s (3237 row/s)\n",
      "5400000 rows in 1655.45s (3261 row/s); batch in 64.60s (3095 row/s)\n",
      "5600000 rows in 1725.21s (3245 row/s); batch in 69.75s (2867 row/s)\n",
      "5800000 rows in 1789.24s (3241 row/s); batch in 64.04s (3123 row/s)\n",
      "6000000 rows in 1855.03s (3234 row/s); batch in 65.78s (3040 row/s)\n",
      "6200000 rows in 1918.55s (3231 row/s); batch in 63.52s (3148 row/s)\n",
      "6400000 rows in 1986.82s (3221 row/s); batch in 68.27s (2929 row/s)\n",
      "6600000 rows in 2064.45s (3196 row/s); batch in 77.64s (2576 row/s)\n",
      "6800000 rows in 2134.24s (3186 row/s); batch in 69.79s (2865 row/s)\n",
      "7000000 rows in 2200.81s (3180 row/s); batch in 66.57s (3004 row/s)\n",
      "7200000 rows in 2263.45s (3180 row/s); batch in 62.64s (3192 row/s)\n",
      "7400000 rows in 2334.40s (3169 row/s); batch in 70.95s (2818 row/s)\n",
      "7600000 rows in 2395.02s (3173 row/s); batch in 60.62s (3299 row/s)\n",
      "7800000 rows in 2455.27s (3176 row/s); batch in 60.25s (3319 row/s)\n",
      "8000000 rows in 2516.52s (3178 row/s); batch in 61.25s (3265 row/s)\n",
      "8200000 rows in 2588.40s (3167 row/s); batch in 71.89s (2782 row/s)\n",
      "8400000 rows in 2656.69s (3161 row/s); batch in 68.29s (2928 row/s)\n",
      "8600000 rows in 2727.48s (3153 row/s); batch in 70.79s (2825 row/s)\n",
      "8800000 rows in 2792.53s (3151 row/s); batch in 65.06s (3074 row/s)\n",
      "9000000 rows in 2856.28s (3150 row/s); batch in 63.75s (3137 row/s)\n",
      "9200000 rows in 2923.78s (3146 row/s); batch in 67.50s (2962 row/s)\n",
      "9400000 rows in 2991.49s (3142 row/s); batch in 67.70s (2954 row/s)\n",
      "9600000 rows in 3057.29s (3140 row/s); batch in 65.80s (3039 row/s)\n",
      "9800000 rows in 3125.95s (3135 row/s); batch in 68.66s (2912 row/s)\n",
      "10000000 rows in 3188.34s (3136 row/s); batch in 62.39s (3205 row/s)\n",
      "10200000 rows in 3255.20s (3133 row/s); batch in 66.86s (2991 row/s)\n",
      "10400000 rows in 3324.47s (3128 row/s); batch in 69.28s (2886 row/s)\n",
      "10600000 rows in 3395.91s (3121 row/s); batch in 71.43s (2799 row/s)\n",
      "10800000 rows in 3458.88s (3122 row/s); batch in 62.98s (3175 row/s)\n",
      "11000000 rows in 3528.18s (3117 row/s); batch in 69.30s (2886 row/s)\n",
      "11200000 rows in 3592.76s (3117 row/s); batch in 64.58s (3096 row/s)\n",
      "11400000 rows in 3664.56s (3110 row/s); batch in 71.80s (2785 row/s)\n",
      "11600000 rows in 3732.46s (3107 row/s); batch in 67.90s (2945 row/s)\n",
      "11800000 rows in 3794.75s (3109 row/s); batch in 62.29s (3210 row/s)\n",
      "12000000 rows in 3864.92s (3104 row/s); batch in 70.17s (2850 row/s)\n",
      "12200000 rows in 3936.68s (3099 row/s); batch in 71.76s (2786 row/s)\n",
      "12400000 rows in 4004.01s (3096 row/s); batch in 67.33s (2970 row/s)\n",
      "12600000 rows in 4064.74s (3099 row/s); batch in 60.73s (3293 row/s)\n",
      "12800000 rows in 4126.51s (3101 row/s); batch in 61.77s (3237 row/s)\n",
      "13000000 rows in 4188.18s (3103 row/s); batch in 61.68s (3242 row/s)\n",
      "13200000 rows in 4247.04s (3108 row/s); batch in 58.85s (3398 row/s)\n",
      "13400000 rows in 4301.39s (3115 row/s); batch in 54.35s (3679 row/s)\n",
      "13600000 rows in 4354.22s (3123 row/s); batch in 52.83s (3785 row/s)\n",
      "13800000 rows in 4405.93s (3132 row/s); batch in 51.71s (3867 row/s)\n",
      "14000000 rows in 4457.00s (3141 row/s); batch in 51.06s (3916 row/s)\n",
      "14200000 rows in 4505.28s (3151 row/s); batch in 48.28s (4142 row/s)\n",
      "14400000 rows in 4554.62s (3161 row/s); batch in 49.35s (4052 row/s)\n",
      "14600000 rows in 4602.87s (3171 row/s); batch in 48.24s (4145 row/s)\n",
      "14800000 rows in 4650.59s (3182 row/s); batch in 47.73s (4190 row/s)\n",
      "15000000 rows in 4698.24s (3192 row/s); batch in 47.65s (4197 row/s)\n",
      "15200000 rows in 4745.81s (3202 row/s); batch in 47.57s (4204 row/s)\n",
      "15400000 rows in 4793.44s (3212 row/s); batch in 47.63s (4198 row/s)\n",
      "15600000 rows in 4842.01s (3221 row/s); batch in 48.57s (4117 row/s)\n",
      "15800000 rows in 4889.74s (3231 row/s); batch in 47.73s (4190 row/s)\n",
      "16000000 rows in 4936.81s (3240 row/s); batch in 47.07s (4249 row/s)\n",
      "16200000 rows in 4982.39s (3251 row/s); batch in 45.58s (4387 row/s)\n",
      "16400000 rows in 5028.94s (3261 row/s); batch in 46.54s (4297 row/s)\n",
      "16600000 rows in 5075.82s (3270 row/s); batch in 46.88s (4266 row/s)\n",
      "16800000 rows in 5122.10s (3279 row/s); batch in 46.28s (4321 row/s)\n",
      "17000000 rows in 5169.74s (3288 row/s); batch in 47.64s (4198 row/s)\n",
      "17200000 rows in 5216.73s (3297 row/s); batch in 47.00s (4255 row/s)\n",
      "17400000 rows in 5263.34s (3305 row/s); batch in 46.61s (4291 row/s)\n",
      "17600000 rows in 5310.83s (3313 row/s); batch in 47.49s (4211 row/s)\n",
      "17800000 rows in 5358.85s (3321 row/s); batch in 48.02s (4165 row/s)\n",
      "18000000 rows in 5405.32s (3330 row/s); batch in 46.48s (4303 row/s)\n",
      "18200000 rows in 5451.44s (3338 row/s); batch in 46.12s (4336 row/s)\n",
      "18400000 rows in 5496.87s (3347 row/s); batch in 45.43s (4402 row/s)\n",
      "18600000 rows in 5542.29s (3356 row/s); batch in 45.42s (4403 row/s)\n",
      "18800000 rows in 5589.11s (3363 row/s); batch in 46.82s (4271 row/s)\n",
      "19000000 rows in 5635.83s (3371 row/s); batch in 46.72s (4280 row/s)\n",
      "19200000 rows in 5682.72s (3378 row/s); batch in 46.89s (4265 row/s)\n",
      "19400000 rows in 5728.94s (3386 row/s); batch in 46.22s (4327 row/s)\n",
      "19600000 rows in 5775.86s (3393 row/s); batch in 46.92s (4262 row/s)\n",
      "19800000 rows in 5822.39s (3400 row/s); batch in 46.54s (4297 row/s)\n",
      "20000000 rows in 5868.95s (3407 row/s); batch in 46.56s (4295 row/s)\n",
      "20200000 rows in 5915.07s (3415 row/s); batch in 46.11s (4337 row/s)\n",
      "20400000 rows in 5961.05s (3422 row/s); batch in 45.98s (4349 row/s)\n",
      "20600000 rows in 6006.84s (3429 row/s); batch in 45.79s (4367 row/s)\n",
      "20800000 rows in 6052.59s (3436 row/s); batch in 45.75s (4371 row/s)\n",
      "21000000 rows in 6099.74s (3442 row/s); batch in 47.15s (4241 row/s)\n",
      "21200000 rows in 6158.19s (3442 row/s); batch in 58.45s (3421 row/s)\n",
      "21400000 rows in 6218.45s (3441 row/s); batch in 60.26s (3319 row/s)\n",
      "21442865 rows in 6227.44s (3443 row/s); batches in 58.12 +/- 9.03s [45.42-77.64] (3527 +/- 564 rows/s [2576-4403])\n",
      "2017-01-10 19:36:40.353306 :: 3R building\n",
      "2017-01-10 19:36:41.558645 :: 3R AOcol 24943504\n",
      "2017-01-10 19:36:43.098637 :: 3R BFgam 24943504\n",
      "2017-01-10 19:36:44.522026 :: 3R BFcol 24943504\n",
      "2017-01-10 19:36:45.821486 :: 3R CIcol 24943504\n",
      "2017-01-10 19:36:47.677580 :: 3R CMgam 24943504\n",
      "2017-01-10 19:36:48.697214 :: 3R FRgam 24943504\n",
      "2017-01-10 19:36:49.934069 :: 3R GAgam 24943504\n",
      "2017-01-10 19:36:51.020580 :: 3R GHgam 24943504\n",
      "2017-01-10 19:36:52.282831 :: 3R GHcol 24943504\n",
      "2017-01-10 19:36:53.772074 :: 3R GM 24943504\n",
      "2017-01-10 19:36:55.527798 :: 3R GNgam 24943504\n",
      "2017-01-10 19:36:56.530545 :: 3R GNcol 24943504\n",
      "2017-01-10 19:36:57.717079 :: 3R GQgam 24943504\n",
      "2017-01-10 19:36:59.442998 :: 3R GW 24943504\n",
      "2017-01-10 19:37:01.351480 :: 3R KE 24943504\n",
      "2017-01-10 19:37:03.860401 :: 3R UGgam 24943504\n",
      "2017-01-10 19:37:10.232637 :: [('CHROM', 24943504), ('POS', 24943504)]\n",
      "200000 rows in 49.14s (4069 row/s); batch in 49.14s (4069 row/s)\n",
      "400000 rows in 93.73s (4267 row/s); batch in 44.58s (4486 row/s)\n",
      "600000 rows in 139.05s (4314 row/s); batch in 45.33s (4412 row/s)\n",
      "800000 rows in 184.36s (4339 row/s); batch in 45.31s (4414 row/s)\n",
      "1000000 rows in 229.80s (4351 row/s); batch in 45.44s (4401 row/s)\n",
      "1200000 rows in 275.99s (4347 row/s); batch in 46.19s (4329 row/s)\n",
      "1400000 rows in 320.79s (4364 row/s); batch in 44.79s (4464 row/s)\n",
      "1600000 rows in 366.05s (4371 row/s); batch in 45.26s (4418 row/s)\n",
      "1800000 rows in 410.64s (4383 row/s); batch in 44.60s (4484 row/s)\n",
      "2000000 rows in 454.88s (4396 row/s); batch in 44.24s (4520 row/s)\n",
      "2200000 rows in 500.26s (4397 row/s); batch in 45.38s (4407 row/s)\n",
      "2400000 rows in 545.30s (4401 row/s); batch in 45.04s (4440 row/s)\n",
      "2600000 rows in 590.48s (4403 row/s); batch in 45.18s (4426 row/s)\n",
      "2800000 rows in 635.44s (4406 row/s); batch in 44.96s (4448 row/s)\n",
      "3000000 rows in 680.92s (4405 row/s); batch in 45.48s (4398 row/s)\n",
      "3200000 rows in 726.87s (4402 row/s); batch in 45.96s (4352 row/s)\n",
      "3400000 rows in 772.85s (4399 row/s); batch in 45.98s (4349 row/s)\n",
      "3600000 rows in 818.71s (4397 row/s); batch in 45.87s (4360 row/s)\n",
      "3800000 rows in 864.30s (4396 row/s); batch in 45.58s (4387 row/s)\n",
      "4000000 rows in 909.56s (4397 row/s); batch in 45.26s (4418 row/s)\n",
      "4200000 rows in 956.31s (4391 row/s); batch in 46.75s (4278 row/s)\n",
      "4400000 rows in 1001.10s (4395 row/s); batch in 44.79s (4465 row/s)\n",
      "4600000 rows in 1046.18s (4396 row/s); batch in 45.08s (4436 row/s)\n",
      "4800000 rows in 1091.57s (4397 row/s); batch in 45.39s (4406 row/s)\n",
      "5000000 rows in 1136.86s (4398 row/s); batch in 45.29s (4416 row/s)\n",
      "5200000 rows in 1183.00s (4395 row/s); batch in 46.14s (4334 row/s)\n",
      "5400000 rows in 1229.00s (4393 row/s); batch in 46.00s (4347 row/s)\n",
      "5600000 rows in 1275.86s (4389 row/s); batch in 46.86s (4268 row/s)\n",
      "5800000 rows in 1323.75s (4381 row/s); batch in 47.89s (4175 row/s)\n",
      "6000000 rows in 1391.92s (4310 row/s); batch in 68.17s (2933 row/s)\n",
      "6200000 rows in 1449.80s (4276 row/s); batch in 57.88s (3455 row/s)\n",
      "6400000 rows in 1498.56s (4270 row/s); batch in 48.75s (4102 row/s)\n",
      "6600000 rows in 1547.53s (4264 row/s); batch in 48.98s (4083 row/s)\n",
      "6800000 rows in 1594.73s (4264 row/s); batch in 47.20s (4237 row/s)\n",
      "7000000 rows in 1641.88s (4263 row/s); batch in 47.15s (4241 row/s)\n",
      "7200000 rows in 1688.53s (4264 row/s); batch in 46.65s (4286 row/s)\n",
      "7400000 rows in 1735.19s (4264 row/s); batch in 46.66s (4286 row/s)\n",
      "7600000 rows in 1782.14s (4264 row/s); batch in 46.95s (4259 row/s)\n",
      "7800000 rows in 1829.44s (4263 row/s); batch in 47.29s (4228 row/s)\n",
      "8000000 rows in 1876.36s (4263 row/s); batch in 46.92s (4262 row/s)\n",
      "8200000 rows in 1924.97s (4259 row/s); batch in 48.62s (4113 row/s)\n",
      "8400000 rows in 1971.69s (4260 row/s); batch in 46.71s (4281 row/s)\n",
      "8600000 rows in 2018.45s (4260 row/s); batch in 46.77s (4276 row/s)\n",
      "8800000 rows in 2065.32s (4260 row/s); batch in 46.86s (4267 row/s)\n",
      "9000000 rows in 2112.86s (4259 row/s); batch in 47.54s (4206 row/s)\n",
      "9200000 rows in 2159.91s (4259 row/s); batch in 47.05s (4250 row/s)\n",
      "9400000 rows in 2207.20s (4258 row/s); batch in 47.29s (4228 row/s)\n",
      "9600000 rows in 2253.94s (4259 row/s); batch in 46.73s (4279 row/s)\n",
      "9800000 rows in 2300.47s (4260 row/s); batch in 46.53s (4298 row/s)\n",
      "10000000 rows in 2345.76s (4263 row/s); batch in 45.29s (4415 row/s)\n",
      "10200000 rows in 2393.36s (4261 row/s); batch in 47.60s (4201 row/s)\n",
      "10400000 rows in 2441.17s (4260 row/s); batch in 47.81s (4183 row/s)\n",
      "10600000 rows in 2488.20s (4260 row/s); batch in 47.03s (4252 row/s)\n",
      "10800000 rows in 2534.64s (4260 row/s); batch in 46.44s (4306 row/s)\n",
      "11000000 rows in 2581.56s (4260 row/s); batch in 46.92s (4262 row/s)\n",
      "11200000 rows in 2628.42s (4261 row/s); batch in 46.87s (4267 row/s)\n",
      "11400000 rows in 2674.52s (4262 row/s); batch in 46.10s (4338 row/s)\n",
      "11600000 rows in 2721.89s (4261 row/s); batch in 47.37s (4222 row/s)\n",
      "11800000 rows in 2767.25s (4264 row/s); batch in 45.36s (4408 row/s)\n",
      "12000000 rows in 2813.93s (4264 row/s); batch in 46.67s (4285 row/s)\n",
      "12200000 rows in 2860.22s (4265 row/s); batch in 46.30s (4319 row/s)\n",
      "12400000 rows in 2906.57s (4266 row/s); batch in 46.35s (4315 row/s)\n",
      "12600000 rows in 2952.67s (4267 row/s); batch in 46.10s (4338 row/s)\n",
      "12800000 rows in 2999.14s (4267 row/s); batch in 46.47s (4303 row/s)\n",
      "13000000 rows in 3045.17s (4269 row/s); batch in 46.03s (4344 row/s)\n",
      "13200000 rows in 3091.73s (4269 row/s); batch in 46.56s (4295 row/s)\n",
      "13400000 rows in 3138.63s (4269 row/s); batch in 46.89s (4264 row/s)\n",
      "13600000 rows in 3184.53s (4270 row/s); batch in 45.91s (4356 row/s)\n",
      "13800000 rows in 3230.47s (4271 row/s); batch in 45.94s (4353 row/s)\n",
      "14000000 rows in 3275.58s (4274 row/s); batch in 45.11s (4433 row/s)\n",
      "14200000 rows in 3321.01s (4275 row/s); batch in 45.43s (4402 row/s)\n",
      "14400000 rows in 3366.08s (4277 row/s); batch in 45.07s (4437 row/s)\n",
      "14600000 rows in 3411.08s (4280 row/s); batch in 45.00s (4444 row/s)\n",
      "14800000 rows in 3457.03s (4281 row/s); batch in 45.95s (4352 row/s)\n",
      "15000000 rows in 3502.70s (4282 row/s); batch in 45.67s (4379 row/s)\n",
      "15200000 rows in 3547.73s (4284 row/s); batch in 45.04s (4440 row/s)\n",
      "15400000 rows in 3592.63s (4286 row/s); batch in 44.90s (4454 row/s)\n",
      "15600000 rows in 3637.68s (4288 row/s); batch in 45.05s (4439 row/s)\n",
      "15800000 rows in 3683.22s (4289 row/s); batch in 45.54s (4392 row/s)\n",
      "16000000 rows in 3732.61s (4286 row/s); batch in 49.39s (4049 row/s)\n",
      "16200000 rows in 3785.83s (4279 row/s); batch in 53.22s (3757 row/s)\n",
      "16400000 rows in 3831.83s (4279 row/s); batch in 46.00s (4347 row/s)\n",
      "16600000 rows in 3877.28s (4281 row/s); batch in 45.45s (4400 row/s)\n",
      "16800000 rows in 3922.94s (4282 row/s); batch in 45.66s (4380 row/s)\n",
      "17000000 rows in 3969.18s (4283 row/s); batch in 46.24s (4325 row/s)\n",
      "17200000 rows in 4015.81s (4283 row/s); batch in 46.63s (4288 row/s)\n",
      "17400000 rows in 4062.10s (4283 row/s); batch in 46.29s (4321 row/s)\n",
      "17600000 rows in 4114.61s (4277 row/s); batch in 52.51s (3808 row/s)\n",
      "17800000 rows in 4161.96s (4276 row/s); batch in 47.35s (4223 row/s)\n",
      "18000000 rows in 4207.97s (4277 row/s); batch in 46.00s (4347 row/s)\n",
      "18200000 rows in 4253.31s (4279 row/s); batch in 45.35s (4410 row/s)\n",
      "18400000 rows in 4299.12s (4279 row/s); batch in 45.81s (4366 row/s)\n",
      "18600000 rows in 4344.81s (4280 row/s); batch in 45.68s (4377 row/s)\n",
      "18800000 rows in 4390.17s (4282 row/s); batch in 45.36s (4409 row/s)\n",
      "19000000 rows in 4435.32s (4283 row/s); batch in 45.15s (4429 row/s)\n",
      "19200000 rows in 4481.24s (4284 row/s); batch in 45.93s (4354 row/s)\n",
      "19400000 rows in 4526.85s (4285 row/s); batch in 45.60s (4385 row/s)\n",
      "19600000 rows in 4576.11s (4283 row/s); batch in 49.27s (4059 row/s)\n",
      "19800000 rows in 4621.23s (4284 row/s); batch in 45.11s (4433 row/s)\n",
      "20000000 rows in 4665.81s (4286 row/s); batch in 44.58s (4486 row/s)\n",
      "20200000 rows in 4711.12s (4287 row/s); batch in 45.31s (4414 row/s)\n",
      "20400000 rows in 4754.88s (4290 row/s); batch in 43.77s (4569 row/s)\n",
      "20600000 rows in 4799.42s (4292 row/s); batch in 44.54s (4490 row/s)\n",
      "20800000 rows in 4846.97s (4291 row/s); batch in 47.55s (4206 row/s)\n",
      "21000000 rows in 4896.24s (4289 row/s); batch in 49.27s (4059 row/s)\n",
      "21200000 rows in 4943.74s (4288 row/s); batch in 47.50s (4210 row/s)\n",
      "21400000 rows in 4999.41s (4280 row/s); batch in 55.67s (3592 row/s)\n",
      "21600000 rows in 5045.25s (4281 row/s); batch in 45.84s (4362 row/s)\n",
      "21800000 rows in 5089.22s (4283 row/s); batch in 43.97s (4548 row/s)\n",
      "22000000 rows in 5133.15s (4285 row/s); batch in 43.93s (4552 row/s)\n",
      "22200000 rows in 5177.15s (4288 row/s); batch in 43.99s (4546 row/s)\n",
      "22400000 rows in 5222.15s (4289 row/s); batch in 45.01s (4443 row/s)\n",
      "22600000 rows in 5267.04s (4290 row/s); batch in 44.88s (4456 row/s)\n",
      "22800000 rows in 5311.29s (4292 row/s); batch in 44.25s (4519 row/s)\n",
      "23000000 rows in 5356.49s (4293 row/s); batch in 45.21s (4424 row/s)\n",
      "23200000 rows in 5400.20s (4296 row/s); batch in 43.71s (4575 row/s)\n",
      "23400000 rows in 5444.18s (4298 row/s); batch in 43.97s (4548 row/s)\n",
      "23600000 rows in 5488.68s (4299 row/s); batch in 44.51s (4493 row/s)\n",
      "23800000 rows in 5533.39s (4301 row/s); batch in 44.71s (4473 row/s)\n",
      "24000000 rows in 5578.06s (4302 row/s); batch in 44.67s (4477 row/s)\n",
      "24200000 rows in 5622.22s (4304 row/s); batch in 44.15s (4529 row/s)\n",
      "24400000 rows in 5666.27s (4306 row/s); batch in 44.05s (4539 row/s)\n",
      "24600000 rows in 5709.93s (4308 row/s); batch in 43.65s (4581 row/s)\n",
      "24800000 rows in 5753.84s (4310 row/s); batch in 43.92s (4554 row/s)\n",
      "24943504 rows in 5785.46s (4311 row/s); batches in 46.40 +/- 2.83s [43.65-68.17] (4322 +/- 213 rows/s [2933-4581])\n",
      "2017-01-10 21:13:31.372860 :: 3L building\n",
      "2017-01-10 21:13:32.250354 :: 3L AOcol 18167056\n",
      "2017-01-10 21:13:33.318676 :: 3L BFgam 18167056\n",
      "2017-01-10 21:13:34.332633 :: 3L BFcol 18167056\n",
      "2017-01-10 21:13:35.286032 :: 3L CIcol 18167056\n",
      "2017-01-10 21:13:36.606007 :: 3L CMgam 18167056\n",
      "2017-01-10 21:13:37.294910 :: 3L FRgam 18167056\n",
      "2017-01-10 21:13:38.118496 :: 3L GAgam 18167056\n",
      "2017-01-10 21:13:38.866795 :: 3L GHgam 18167056\n",
      "2017-01-10 21:13:39.716035 :: 3L GHcol 18167056\n",
      "2017-01-10 21:13:40.652841 :: 3L GM 18167056\n",
      "2017-01-10 21:13:41.584697 :: 3L GNgam 18167056\n",
      "2017-01-10 21:13:42.276147 :: 3L GNcol 18167056\n",
      "2017-01-10 21:13:43.007041 :: 3L GQgam 18167056\n",
      "2017-01-10 21:13:43.997017 :: 3L GW 18167056\n",
      "2017-01-10 21:13:44.714341 :: 3L KE 18167056\n",
      "2017-01-10 21:13:45.746730 :: 3L UGgam 18167056\n",
      "2017-01-10 21:13:48.409421 :: [('CHROM', 18167056), ('POS', 18167056)]\n",
      "200000 rows in 46.69s (4283 row/s); batch in 46.69s (4283 row/s)\n",
      "400000 rows in 89.79s (4454 row/s); batch in 43.10s (4640 row/s)\n",
      "600000 rows in 132.58s (4525 row/s); batch in 42.79s (4674 row/s)\n",
      "800000 rows in 176.20s (4540 row/s); batch in 43.61s (4585 row/s)\n",
      "1000000 rows in 218.53s (4575 row/s); batch in 42.34s (4724 row/s)\n",
      "1200000 rows in 268.42s (4470 row/s); batch in 49.88s (4009 row/s)\n",
      "1400000 rows in 312.17s (4484 row/s); batch in 43.75s (4571 row/s)\n",
      "1600000 rows in 355.86s (4496 row/s); batch in 43.69s (4577 row/s)\n",
      "1800000 rows in 399.88s (4501 row/s); batch in 44.02s (4542 row/s)\n",
      "2000000 rows in 443.65s (4508 row/s); batch in 43.77s (4569 row/s)\n",
      "2200000 rows in 487.84s (4509 row/s); batch in 44.19s (4525 row/s)\n",
      "2400000 rows in 532.71s (4505 row/s); batch in 44.87s (4457 row/s)\n",
      "2600000 rows in 577.18s (4504 row/s); batch in 44.47s (4497 row/s)\n",
      "2800000 rows in 622.14s (4500 row/s); batch in 44.96s (4448 row/s)\n",
      "3000000 rows in 667.52s (4494 row/s); batch in 45.38s (4407 row/s)\n",
      "3200000 rows in 712.75s (4489 row/s); batch in 45.24s (4421 row/s)\n",
      "3400000 rows in 759.20s (4478 row/s); batch in 46.45s (4305 row/s)\n",
      "3600000 rows in 804.59s (4474 row/s); batch in 45.39s (4406 row/s)\n",
      "3800000 rows in 849.92s (4470 row/s); batch in 45.33s (4412 row/s)\n",
      "4000000 rows in 894.60s (4471 row/s); batch in 44.67s (4476 row/s)\n",
      "4200000 rows in 940.81s (4464 row/s); batch in 46.21s (4328 row/s)\n",
      "4400000 rows in 987.05s (4457 row/s); batch in 46.25s (4324 row/s)\n",
      "4600000 rows in 1032.34s (4455 row/s); batch in 45.28s (4416 row/s)\n",
      "4800000 rows in 1077.07s (4456 row/s); batch in 44.73s (4471 row/s)\n",
      "5000000 rows in 1122.01s (4456 row/s); batch in 44.94s (4450 row/s)\n",
      "5200000 rows in 1167.31s (4454 row/s); batch in 45.30s (4414 row/s)\n",
      "5400000 rows in 1213.01s (4451 row/s); batch in 45.70s (4376 row/s)\n",
      "5600000 rows in 1258.05s (4451 row/s); batch in 45.04s (4440 row/s)\n",
      "5800000 rows in 1303.01s (4451 row/s); batch in 44.96s (4448 row/s)\n",
      "6000000 rows in 1347.99s (4451 row/s); batch in 44.98s (4446 row/s)\n",
      "6200000 rows in 1398.18s (4434 row/s); batch in 50.19s (3985 row/s)\n",
      "6400000 rows in 1495.88s (4278 row/s); batch in 97.70s (2047 row/s)\n",
      "6600000 rows in 1542.15s (4279 row/s); batch in 46.28s (4321 row/s)\n",
      "6800000 rows in 1588.09s (4281 row/s); batch in 45.93s (4354 row/s)\n",
      "7000000 rows in 1634.16s (4283 row/s); batch in 46.07s (4340 row/s)\n",
      "7200000 rows in 1680.22s (4285 row/s); batch in 46.06s (4342 row/s)\n",
      "7400000 rows in 1726.45s (4286 row/s); batch in 46.23s (4325 row/s)\n",
      "7600000 rows in 1772.55s (4287 row/s); batch in 46.10s (4338 row/s)\n",
      "7800000 rows in 1818.61s (4288 row/s); batch in 46.06s (4342 row/s)\n",
      "8000000 rows in 1864.35s (4291 row/s); batch in 45.74s (4372 row/s)\n",
      "8200000 rows in 1911.76s (4289 row/s); batch in 47.41s (4218 row/s)\n",
      "8400000 rows in 1957.29s (4291 row/s); batch in 45.53s (4392 row/s)\n",
      "8600000 rows in 2002.47s (4294 row/s); batch in 45.18s (4426 row/s)\n",
      "8800000 rows in 2048.18s (4296 row/s); batch in 45.71s (4375 row/s)\n",
      "9000000 rows in 2094.05s (4297 row/s); batch in 45.87s (4359 row/s)\n",
      "9200000 rows in 2140.07s (4298 row/s); batch in 46.01s (4346 row/s)\n",
      "9400000 rows in 2185.98s (4300 row/s); batch in 45.91s (4356 row/s)\n",
      "9600000 rows in 2231.87s (4301 row/s); batch in 45.89s (4358 row/s)\n",
      "9800000 rows in 2279.11s (4299 row/s); batch in 47.24s (4233 row/s)\n",
      "10000000 rows in 2325.20s (4300 row/s); batch in 46.10s (4338 row/s)\n",
      "10200000 rows in 2370.21s (4303 row/s); batch in 45.01s (4443 row/s)\n",
      "10400000 rows in 2415.20s (4306 row/s); batch in 44.99s (4445 row/s)\n",
      "10600000 rows in 2460.64s (4307 row/s); batch in 45.44s (4401 row/s)\n",
      "10800000 rows in 2506.23s (4309 row/s); batch in 45.58s (4387 row/s)\n",
      "11000000 rows in 2552.60s (4309 row/s); batch in 46.37s (4312 row/s)\n",
      "11200000 rows in 2598.33s (4310 row/s); batch in 45.73s (4373 row/s)\n",
      "11400000 rows in 2644.49s (4310 row/s); batch in 46.16s (4332 row/s)\n",
      "11600000 rows in 2689.90s (4312 row/s); batch in 45.41s (4403 row/s)\n",
      "11800000 rows in 2735.55s (4313 row/s); batch in 45.65s (4381 row/s)\n",
      "12000000 rows in 2781.21s (4314 row/s); batch in 45.65s (4380 row/s)\n",
      "12200000 rows in 2826.71s (4315 row/s); batch in 45.50s (4395 row/s)\n",
      "12400000 rows in 2872.66s (4316 row/s); batch in 45.95s (4352 row/s)\n",
      "12600000 rows in 2918.85s (4316 row/s); batch in 46.19s (4330 row/s)\n",
      "12800000 rows in 2964.10s (4318 row/s); batch in 45.25s (4419 row/s)\n",
      "13000000 rows in 3009.93s (4319 row/s); batch in 45.83s (4364 row/s)\n",
      "13200000 rows in 3055.92s (4319 row/s); batch in 45.99s (4348 row/s)\n",
      "13400000 rows in 3100.22s (4322 row/s); batch in 44.30s (4514 row/s)\n",
      "13600000 rows in 3145.51s (4323 row/s); batch in 45.29s (4416 row/s)\n",
      "13800000 rows in 3190.90s (4324 row/s); batch in 45.40s (4405 row/s)\n",
      "14000000 rows in 3236.17s (4326 row/s); batch in 45.27s (4418 row/s)\n",
      "14200000 rows in 3281.12s (4327 row/s); batch in 44.95s (4449 row/s)\n",
      "14400000 rows in 3326.14s (4329 row/s); batch in 45.02s (4442 row/s)\n",
      "14600000 rows in 3370.97s (4331 row/s); batch in 44.82s (4461 row/s)\n",
      "14800000 rows in 3416.76s (4331 row/s); batch in 45.79s (4367 row/s)\n",
      "15000000 rows in 3463.24s (4331 row/s); batch in 46.49s (4302 row/s)\n",
      "15200000 rows in 3508.28s (4332 row/s); batch in 45.03s (4441 row/s)\n",
      "15400000 rows in 3553.35s (4333 row/s); batch in 45.08s (4437 row/s)\n",
      "15600000 rows in 3598.33s (4335 row/s); batch in 44.98s (4446 row/s)\n",
      "15800000 rows in 3642.60s (4337 row/s); batch in 44.27s (4517 row/s)\n",
      "16000000 rows in 3687.74s (4338 row/s); batch in 45.13s (4431 row/s)\n",
      "16200000 rows in 3732.03s (4340 row/s); batch in 44.30s (4515 row/s)\n",
      "16400000 rows in 3776.64s (4342 row/s); batch in 44.61s (4483 row/s)\n",
      "16600000 rows in 3821.29s (4344 row/s); batch in 44.66s (4478 row/s)\n",
      "16800000 rows in 3865.66s (4345 row/s); batch in 44.36s (4508 row/s)\n",
      "17000000 rows in 3909.43s (4348 row/s); batch in 43.77s (4569 row/s)\n",
      "17200000 rows in 3953.45s (4350 row/s); batch in 44.02s (4542 row/s)\n",
      "17400000 rows in 3997.23s (4353 row/s); batch in 43.78s (4568 row/s)\n",
      "17600000 rows in 4040.50s (4355 row/s); batch in 43.27s (4622 row/s)\n",
      "17800000 rows in 4084.08s (4358 row/s); batch in 43.58s (4589 row/s)\n",
      "18000000 rows in 4127.13s (4361 row/s); batch in 43.05s (4645 row/s)\n",
      "18167056 rows in 4162.28s (4364 row/s); batches in 45.86 +/- 5.63s [42.34-97.70] (4393 +/- 274 rows/s [2047-4724])\n",
      "2017-01-10 22:23:12.558409 :: X building\n",
      "2017-01-10 22:23:12.976676 :: X AOcol 9389639\n",
      "2017-01-10 22:23:13.458079 :: X BFgam 9389639\n",
      "2017-01-10 22:23:13.926333 :: X BFcol 9389639\n",
      "2017-01-10 22:23:14.399102 :: X CIcol 9389639\n",
      "2017-01-10 22:23:14.916838 :: X CMgam 9389639\n",
      "2017-01-10 22:23:15.305398 :: X FRgam 9389639\n",
      "2017-01-10 22:23:15.674477 :: X GAgam 9389639\n",
      "2017-01-10 22:23:16.041954 :: X GHgam 9389639\n",
      "2017-01-10 22:23:16.426365 :: X GHcol 9389639\n",
      "2017-01-10 22:23:16.938033 :: X GM 9389639\n",
      "2017-01-10 22:23:17.327232 :: X GNgam 9389639\n",
      "2017-01-10 22:23:17.632385 :: X GNcol 9389639\n",
      "2017-01-10 22:23:17.938546 :: X GQgam 9389639\n",
      "2017-01-10 22:23:18.390536 :: X GW 9389639\n",
      "2017-01-10 22:23:18.729118 :: X KE 9389639\n",
      "2017-01-10 22:23:19.185175 :: X UGgam 9389639\n",
      "2017-01-10 22:23:20.089513 :: [('CHROM', 9389639), ('POS', 9389639)]\n",
      "200000 rows in 42.94s (4657 row/s); batch in 42.94s (4657 row/s)\n",
      "400000 rows in 85.70s (4667 row/s); batch in 42.76s (4676 row/s)\n",
      "600000 rows in 128.89s (4654 row/s); batch in 43.19s (4630 row/s)\n",
      "800000 rows in 171.78s (4657 row/s); batch in 42.89s (4663 row/s)\n",
      "1000000 rows in 214.61s (4659 row/s); batch in 42.83s (4669 row/s)\n",
      "1200000 rows in 257.41s (4661 row/s); batch in 42.81s (4672 row/s)\n",
      "1400000 rows in 300.02s (4666 row/s); batch in 42.60s (4694 row/s)\n",
      "1600000 rows in 342.80s (4667 row/s); batch in 42.78s (4674 row/s)\n",
      "1800000 rows in 386.09s (4662 row/s); batch in 43.29s (4620 row/s)\n",
      "2000000 rows in 429.66s (4654 row/s); batch in 43.58s (4589 row/s)\n",
      "2200000 rows in 473.03s (4650 row/s); batch in 43.36s (4612 row/s)\n",
      "2400000 rows in 516.24s (4648 row/s); batch in 43.22s (4627 row/s)\n",
      "2600000 rows in 559.43s (4647 row/s); batch in 43.18s (4631 row/s)\n",
      "2800000 rows in 602.91s (4644 row/s); batch in 43.49s (4599 row/s)\n",
      "3000000 rows in 646.20s (4642 row/s); batch in 43.29s (4620 row/s)\n",
      "3200000 rows in 689.86s (4638 row/s); batch in 43.66s (4580 row/s)\n",
      "3400000 rows in 734.39s (4629 row/s); batch in 44.52s (4491 row/s)\n",
      "3600000 rows in 778.10s (4626 row/s); batch in 43.71s (4575 row/s)\n",
      "3800000 rows in 821.11s (4627 row/s); batch in 43.01s (4650 row/s)\n",
      "4000000 rows in 863.88s (4630 row/s); batch in 42.78s (4675 row/s)\n",
      "4200000 rows in 907.31s (4629 row/s); batch in 43.43s (4605 row/s)\n",
      "4400000 rows in 950.80s (4627 row/s); batch in 43.49s (4598 row/s)\n",
      "4600000 rows in 994.30s (4626 row/s); batch in 43.50s (4597 row/s)\n",
      "4800000 rows in 1037.96s (4624 row/s); batch in 43.66s (4580 row/s)\n",
      "5000000 rows in 1081.93s (4621 row/s); batch in 43.97s (4548 row/s)\n",
      "5200000 rows in 1126.50s (4616 row/s); batch in 44.56s (4487 row/s)\n",
      "5400000 rows in 1170.56s (4613 row/s); batch in 44.06s (4539 row/s)\n",
      "5600000 rows in 1214.59s (4610 row/s); batch in 44.04s (4541 row/s)\n",
      "5800000 rows in 1257.37s (4612 row/s); batch in 42.77s (4675 row/s)\n",
      "6000000 rows in 1300.50s (4613 row/s); batch in 43.13s (4636 row/s)\n",
      "6200000 rows in 1343.88s (4613 row/s); batch in 43.38s (4610 row/s)\n",
      "6400000 rows in 1387.24s (4613 row/s); batch in 43.36s (4612 row/s)\n",
      "6600000 rows in 1430.56s (4613 row/s); batch in 43.32s (4616 row/s)\n",
      "6800000 rows in 1473.22s (4615 row/s); batch in 42.66s (4688 row/s)\n",
      "7000000 rows in 1515.88s (4617 row/s); batch in 42.66s (4688 row/s)\n",
      "7200000 rows in 1558.47s (4619 row/s); batch in 42.59s (4695 row/s)\n",
      "7400000 rows in 1601.01s (4622 row/s); batch in 42.54s (4701 row/s)\n",
      "7600000 rows in 1644.83s (4620 row/s); batch in 43.82s (4564 row/s)\n",
      "7800000 rows in 1686.56s (4624 row/s); batch in 41.73s (4793 row/s)\n",
      "8000000 rows in 1728.09s (4629 row/s); batch in 41.53s (4815 row/s)\n",
      "8200000 rows in 1769.86s (4633 row/s); batch in 41.77s (4788 row/s)\n",
      "8400000 rows in 1810.99s (4638 row/s); batch in 41.13s (4862 row/s)\n",
      "8600000 rows in 1852.11s (4643 row/s); batch in 41.12s (4863 row/s)\n",
      "8800000 rows in 1893.72s (4646 row/s); batch in 41.61s (4807 row/s)\n",
      "9000000 rows in 1937.85s (4644 row/s); batch in 44.13s (4531 row/s)\n",
      "9200000 rows in 1982.01s (4641 row/s); batch in 44.16s (4529 row/s)\n",
      "9389639 rows in 2024.10s (4638 row/s); batches in 43.09 +/- 0.80s [41.12-44.56] (4642 +/- 87 rows/s [4487-4863])\n"
     ]
    }
   ],
   "source": [
    "for chrom in chromosomes:\n",
    "    write_af_text(chrom)"
   ]
  },
  {
   "cell_type": "code",
   "execution_count": 55,
   "metadata": {
    "collapsed": false
   },
   "outputs": [
    {
     "name": "stdout",
     "output_type": "stream",
     "text": [
      "mode of `/kwiat/vector/ag1000g/release/phase2.AR1/extras/allele_counts.h5' changed from 0664 (rw-rw-r--) to 0444 (r--r--r--)\r\n"
     ]
    }
   ],
   "source": [
    "!chmod -v a-w {allele_counts_fn}"
   ]
  },
  {
   "cell_type": "code",
   "execution_count": 56,
   "metadata": {
    "collapsed": false
   },
   "outputs": [
    {
     "name": "stdout",
     "output_type": "stream",
     "text": [
      "mode of `/kwiat/vector/ag1000g/release/phase2.AR1/extras/allele_frequencies.h5' changed from 0664 (rw-rw-r--) to 0444 (r--r--r--)\r\n"
     ]
    }
   ],
   "source": [
    "!chmod -v a-w {allele_frequencies_fn}"
   ]
  },
  {
   "cell_type": "code",
   "execution_count": null,
   "metadata": {
    "collapsed": false
   },
   "outputs": [],
   "source": [
    "# !md5sum {allele_counts_fn} > {allele_counts_fn}.md5\n",
    "# !md5sum {allele_frequencies_fn} > {allele_frequencies_fn}.md5"
   ]
  },
  {
   "cell_type": "code",
   "execution_count": null,
   "metadata": {
    "collapsed": true
   },
   "outputs": [],
   "source": [
    "2+2"
   ]
  },
  {
   "cell_type": "code",
   "execution_count": null,
   "metadata": {
    "collapsed": true
   },
   "outputs": [],
   "source": []
  }
 ],
 "metadata": {
  "anaconda-cloud": {},
  "kernelspec": {
   "display_name": "Python [default]",
   "language": "python",
   "name": "python3"
  },
  "language_info": {
   "codemirror_mode": {
    "name": "ipython",
    "version": 3
   },
   "file_extension": ".py",
   "mimetype": "text/x-python",
   "name": "python",
   "nbconvert_exporter": "python",
   "pygments_lexer": "ipython3",
   "version": "3.5.2"
  }
 },
 "nbformat": 4,
 "nbformat_minor": 1
}
