{
 "cells": [
  {
   "cell_type": "code",
   "execution_count": null,
   "metadata": {},
   "outputs": [],
   "source": [
    "%run setup.ipynb\n",
    "random.seed(42)\n",
    "np.random.seed(42)\n",
    "from pathlib import Path"
   ]
  },
  {
   "cell_type": "code",
   "execution_count": null,
   "metadata": {},
   "outputs": [],
   "source": [
    "def snp_select(chrom='3L', start=15000000, stop=41000000, n=100000):\n",
    "    \n",
    "    callset = phase2_ar1.callset_pass_biallelic[chrom]\n",
    "\n",
    "    #get genotypes\n",
    "    g = allel.GenotypeChunkedArray(callset['calldata']['genotype'])\n",
    "\n",
    "    #get positions\n",
    "    p = allel.VariantChunkedTable(callset['variants'],\n",
    "                                     names=['POS'],\n",
    "                                     index='POS')\n",
    "    pos = p.POS[:]\n",
    "\n",
    "    #just keep positions within the free region - on 3L 15mb-41mb\n",
    "    pos_free = pos[(pos > start) * (pos < stop)] \n",
    "    free_b = p.index.locate_keys(pos_free)\n",
    "    g_snp = g.compress(free_b, axis=0)\n",
    "\n",
    "    #filter - no missing data\n",
    "    ac = g_snp.count_alleles()\n",
    "    flt = (ac.max_allele() == 1) & (ac[:, :2].min(axis=1) > 1)\n",
    "    gf = g_snp.compress(flt, axis=0)\n",
    "\n",
    "    #turn the genotype array into 2D matrix of non_ref alleles per call\n",
    "    gn = gf.to_n_alt()\n",
    "\n",
    "    #randomly select snps    \n",
    "    vidx = np.random.choice(gn.shape[0], n, replace=False)\n",
    "    vidx.sort()\n",
    "    gnr = gn.take(vidx, axis=0)\n",
    "    \n",
    "    return gnr\n",
    "\n",
    "\n",
    "\n",
    "def ld_prune(gn, size, step, threshold=.1, n_iter=1):\n",
    "    for i in range(n_iter):\n",
    "        loc_unlinked = allel.locate_unlinked(gn, size=size, step=step, threshold=threshold)\n",
    "        n = np.count_nonzero(loc_unlinked)\n",
    "        n_remove = gn.shape[0] - n\n",
    "        print('iteration', i+1, 'retaining', n, 'removing', n_remove, 'variants')\n",
    "        gn = gn.compress(loc_unlinked, axis=0)\n",
    "    return gn"
   ]
  },
  {
   "cell_type": "code",
   "execution_count": null,
   "metadata": {},
   "outputs": [],
   "source": [
    "pca_data = Path('pca_data.npz')"
   ]
  },
  {
   "cell_type": "code",
   "execution_count": null,
   "metadata": {},
   "outputs": [],
   "source": [
    "if pca_data.is_file():\n",
    "    # file exist\n",
    "    print('pook')\n",
    "    pca = np.load('pca_data.npz')\n",
    "    coords = pca['coords']\n",
    "    loadings = pca['loadings']\n",
    "    variance = pca['variance']\n",
    "else:\n",
    "    print('snook')\n",
    "    gnr = snp_select()\n",
    "    gnu = ld_prune(gnr, size=500, step=200, threshold=.1, n_iter=10)\n",
    "    coords, model = allel.pca(gnu, n_components=20, scaler='patterson')\n"
   ]
  },
  {
   "cell_type": "markdown",
   "metadata": {},
   "source": [
    "## for figure - run from here"
   ]
  },
  {
   "cell_type": "code",
   "execution_count": null,
   "metadata": {},
   "outputs": [],
   "source": [
    "marker_style = {\n",
    "    'GHcol' : 'D',\n",
    "    'GHgam' : 'o',\n",
    "    'BFgam' : 'o',\n",
    "    'BFcol' : 'D',\n",
    "    'UGgam' : 'o',\n",
    "    'GM' : '*',\n",
    "    'GW' : '*',\n",
    "    'KE' : '*',\n",
    "    'CMgam' : 'o',\n",
    "    'FRgam' : 'o', \n",
    "    'GQgam' : 'o', \n",
    "    'AOcol' : 'D', \n",
    "    'GAgam' : 'o', \n",
    "    'GNgam' : 'o', \n",
    "    'GNcol' : 'D', \n",
    "    'CIcol' : 'D'\n",
    "}"
   ]
  },
  {
   "cell_type": "code",
   "execution_count": null,
   "metadata": {},
   "outputs": [],
   "source": [
    "#get samples\n",
    "df_samples = pd.read_csv('../phase2.AR1/samples/samples.meta.txt', delimiter='\\t')\n",
    "all_samp=list(df_samples.ox_code)"
   ]
  },
  {
   "cell_type": "code",
   "execution_count": null,
   "metadata": {},
   "outputs": [],
   "source": [
    "all_samp=list(df_samples.ox_code)\n",
    "len(all_samp)"
   ]
  },
  {
   "cell_type": "code",
   "execution_count": null,
   "metadata": {},
   "outputs": [],
   "source": [
    "populations = list(phase2_ar1.pop_labels.keys())\n",
    "populations.remove('colony')"
   ]
  },
  {
   "cell_type": "code",
   "execution_count": null,
   "metadata": {},
   "outputs": [],
   "source": [
    "#dictionary+list comprehension to create a dictionary of lists of indexes!\n",
    "idx_dict = {popz: [i for i, j in enumerate(all_samp) if j == popz] for popz in populations}"
   ]
  },
  {
   "cell_type": "code",
   "execution_count": null,
   "metadata": {},
   "outputs": [],
   "source": [
    "fig = plt.figure(figsize=(20, 6))\n",
    "ax = fig.add_subplot(121)\n",
    "if 'variance' in globals():\n",
    "    ax.plot(variance, 'go')\n",
    "else:\n",
    "    ax.plot(model1.explained_variance_ratio_, 'go')\n",
    "ax.set_xlabel(\"principal component\")\n",
    "ax.set_ylabel(\"variance explained\")\n",
    "plt.xticks(np.arange(0,20, 1));"
   ]
  },
  {
   "cell_type": "code",
   "execution_count": null,
   "metadata": {},
   "outputs": [],
   "source": [
    "def plot_pca_coords(coords, model, pc1, pc2, ax, sample_population):\n",
    "    sns.despine(ax=ax, offset=5)\n",
    "    x = coords[:, pc1]\n",
    "    y = coords[:, pc2]\n",
    "    for pop in populations:\n",
    "        flt = (sample_population == pop)\n",
    "        ax.plot(x[flt], y[flt], marker=marker_style[pop], linestyle=' ', color=phase2_ar1.pop_colors[pop], label=pop, markersize=6, mec='k', mew=0.5)\n",
    "    ax.set_xlabel('PC%s (%.1f%%)' % (pc1+1, model[pc1]*100))\n",
    "    ax.set_ylabel('PC%s (%.1f%%)' % (pc2+1, model[pc2]*100))\n",
    "    \n",
    "\n",
    "def fig_pca(coords, model, title, sample_population):\n",
    "    # plot coords for PCs 1 vs 2, 3 vs 4\n",
    "    fig = plt.figure(figsize=(16, 10))\n",
    "    ax = fig.add_subplot(231)\n",
    "    plot_pca_coords(coords, model, 0, 1, ax, sample_population)\n",
    "\n",
    "    ax = fig.add_subplot(232)\n",
    "    plot_pca_coords(coords, model, 2, 3, ax, sample_population)\n",
    "    \n",
    "    ax = fig.add_subplot(233)\n",
    "    plot_pca_coords(coords, model, 4, 5, ax, sample_population)\n",
    "    \n",
    "    ax = fig.add_subplot(234)\n",
    "    plot_pca_coords(coords, model, 6, 7, ax, sample_population)\n",
    "    \n",
    "    ax = fig.add_subplot(235)\n",
    "    plot_pca_coords(coords, model, 8, 9, ax, sample_population)\n",
    "    \n",
    "    ax = fig.add_subplot(236)\n",
    "    plot_pca_coords(coords, model, 10, 11, ax, sample_population)\n",
    "\n",
    "    ax.legend(bbox_to_anchor=(1, 1), loc='upper left')\n",
    "    \n",
    "    fig.suptitle(title, y=1.02)\n",
    "    fig.tight_layout()"
   ]
  },
  {
   "cell_type": "code",
   "execution_count": null,
   "metadata": {},
   "outputs": [],
   "source": [
    "if 'variance' in globals():\n",
    "    fig_pca(coords, variance ,'PCA - 3L', df_samples.population.values)\n",
    "else:\n",
    "    fig_pca(coords1, model1.explained_variance_ratio_ ,'PCA - 3L', df_samples.population.values)"
   ]
  },
  {
   "cell_type": "markdown",
   "metadata": {},
   "source": [
    "## main text figure"
   ]
  },
  {
   "cell_type": "code",
   "execution_count": null,
   "metadata": {},
   "outputs": [],
   "source": [
    "def fig_main_pca(coords, model, title, sample_population):\n",
    "    fig = plt.figure(figsize=(12, 5))\n",
    "    \n",
    "    ax = fig.add_subplot(121)\n",
    "    plot_pca_coords(coords, model, 0, 1, ax, sample_population)\n",
    "    for item in ([ax.xaxis.label, ax.yaxis.label] + ax.get_xticklabels() + ax.get_yticklabels()):\n",
    "        item.set_fontsize(10)\n",
    "\n",
    "    ax = fig.add_subplot(122)\n",
    "    plot_pca_coords(coords, model, 2, 3, ax, sample_population)\n",
    "    for item in ([ax.title, ax.xaxis.label, ax.yaxis.label] + ax.get_xticklabels() + ax.get_yticklabels()):\n",
    "        item.set_fontsize(10)\n",
    "    \n",
    "    ax.legend(bbox_to_anchor=(1, 1.04), loc='upper left', fontsize=13, framealpha=0.1)\n",
    "    fig.tight_layout()\n",
    "    fn = '../artwork/pca_3L_main_text.jpeg'\n",
    "    fig.savefig(fn, jpeg_quality=100, dpi=100, bbox_inches='tight')"
   ]
  },
  {
   "cell_type": "code",
   "execution_count": null,
   "metadata": {},
   "outputs": [],
   "source": [
    "if 'variance' in globals():\n",
    "    fig_main_pca(coords, variance ,'PCA - 3L', df_samples.population.values)\n",
    "else:\n",
    "    fig_main_pca(coords1, model1.explained_variance_ratio_ ,'PCA - 3L', df_samples.population.values)"
   ]
  },
  {
   "cell_type": "markdown",
   "metadata": {},
   "source": [
    "## supplementary figure"
   ]
  },
  {
   "cell_type": "code",
   "execution_count": null,
   "metadata": {},
   "outputs": [],
   "source": [
    "def fig_supp_pca(coords, model, title, sample_population):\n",
    "    \n",
    "    fig = plt.figure(figsize=(18, 5))\n",
    "    \n",
    "    ax = fig.add_subplot(131)\n",
    "    sns.despine(ax=ax, offset=5)\n",
    "    if 'variance' in globals():\n",
    "        x = np.arange(variance.shape[0])\n",
    "        y = variance * 100\n",
    "    else:\n",
    "        x = np.arange(model1.explained_variance_ratio_.shape[0])\n",
    "        y = model1.explained_variance_ratio_ * 100\n",
    "    ax.bar(x+.2, y, width=.6, align='edge', color='darkgray')\n",
    "    ax.set_xticks(x+.5)\n",
    "    ax.set_xticklabels(x+1, fontsize=7)\n",
    "    ax.set_ylabel('Variance explained (\\%)')\n",
    "    ax.set_xlabel('Principal component')\n",
    "    ax.set_xlim(0, 20)\n",
    "    for item in ([ax.xaxis.label, ax.yaxis.label] + ax.get_xticklabels() + ax.get_yticklabels()):\n",
    "        item.set_fontsize(10)\n",
    "        \n",
    "    ax = fig.add_subplot(132)\n",
    "    plot_pca_coords(coords, model, 4, 5, ax, sample_population)\n",
    "    for item in ([ax.xaxis.label, ax.yaxis.label] + ax.get_xticklabels() + ax.get_yticklabels()):\n",
    "        item.set_fontsize(10)\n",
    "\n",
    "    ax = fig.add_subplot(133)\n",
    "    plot_pca_coords(coords, model, 6, 7, ax, sample_population)\n",
    "    for item in ([ax.xaxis.label, ax.yaxis.label] + ax.get_xticklabels() + ax.get_yticklabels()):\n",
    "        item.set_fontsize(10)\n",
    "    \n",
    "    ax.legend(bbox_to_anchor=(1, 1.02), loc='upper left', fontsize=12, framealpha=0.1)\n",
    "    \n",
    "    fig.tight_layout()\n",
    "    fn = '../artwork/pca/pca_3L_supplementary.jpeg'\n",
    "    fig.savefig(fn, jpeg_quality=100, dpi=100, bbox_inches='tight')"
   ]
  },
  {
   "cell_type": "code",
   "execution_count": null,
   "metadata": {
    "scrolled": false
   },
   "outputs": [],
   "source": [
    "if 'variance' in globals():\n",
    "    fig_supp_pca(coords, variance ,'PCA - 3L', df_samples.population.values)\n",
    "else:\n",
    "    fig_supp_pca(coords1, model1.explained_variance_ratio_ ,'PCA - 3L', df_samples.population.values)"
   ]
  },
  {
   "cell_type": "markdown",
   "metadata": {},
   "source": [
    "## bokeh"
   ]
  },
  {
   "cell_type": "code",
   "execution_count": null,
   "metadata": {},
   "outputs": [],
   "source": [
    "coords.shape, variance.shape"
   ]
  },
  {
   "cell_type": "code",
   "execution_count": null,
   "metadata": {},
   "outputs": [],
   "source": [
    "bmeta = pd.read_table(\n",
    "    \"../phase2.AR1/samples/samples.meta.txt\")[['ox_code', 'population', 'country', 'year']]\n",
    "bmeta.head()"
   ]
  },
  {
   "cell_type": "code",
   "execution_count": null,
   "metadata": {},
   "outputs": [],
   "source": [
    "# imports required for `bokeh`\n",
    "from bokeh.plotting import figure, show, ColumnDataSource, output_file\n",
    "from bokeh.layouts import gridplot"
   ]
  },
  {
   "cell_type": "code",
   "execution_count": null,
   "metadata": {},
   "outputs": [],
   "source": [
    "def plot_pca_coords(coords, variance, pc1, pc2, fig, populations):\n",
    "\n",
    "    x = coords[:, pc1]\n",
    "    y = coords[:, pc2]\n",
    "    \n",
    "    qdf = bmeta.copy()\n",
    "    qdf[\"x\"] = x\n",
    "    qdf[\"y\"] = y\n",
    "    \n",
    "    for pop in populations:\n",
    "        \n",
    "        source = ColumnDataSource(\n",
    "            data=qdf.query(\"population == @pop\"))\n",
    "        \n",
    "        fig.circle(\n",
    "            'x', 'y', \n",
    "            source=source,\n",
    "            line_color='black',\n",
    "            line_width=0.5,\n",
    "            size=6,\n",
    "            fill_color=mpl.colors.rgb2hex(phase2_ar1.pop_colors[pop]))\n",
    "    \n",
    "    fig.xaxis.axis_label = 'PC {0} ({1:.2f}%)'.format(\n",
    "        pc1 + 1, 100 * variance[pc1])\n",
    "    \n",
    "    fig.yaxis.axis_label = 'PC {0} ({1:.2f}%)'.format(\n",
    "        pc2 + 1, 100 * variance[pc2])\n",
    "    \n",
    "    return fig"
   ]
  },
  {
   "cell_type": "code",
   "execution_count": null,
   "metadata": {},
   "outputs": [],
   "source": [
    "components = np.array(range(8)).reshape((2, 2, 2)).tolist()"
   ]
  },
  {
   "cell_type": "code",
   "execution_count": null,
   "metadata": {},
   "outputs": [],
   "source": [
    "components"
   ]
  },
  {
   "cell_type": "code",
   "execution_count": null,
   "metadata": {},
   "outputs": [],
   "source": [
    "# This defines what is displayed when the mouse hovers over a point.\n",
    "# The @ values correspond to values in the table.\n",
    "TOOLTIPS = [\n",
    "    (\"ox_code\", \"@ox_code\"),\n",
    "    (\"population\", \"@population\"),\n",
    "    (\"collection year\", \"@year\"),\n",
    "    (\"(x, y)\", \"($x, $y)\"),]"
   ]
  },
  {
   "cell_type": "code",
   "execution_count": null,
   "metadata": {},
   "outputs": [],
   "source": [
    "output_file(\"pca_plots.html\")\n",
    "grid = []\n",
    "\n",
    "for row in components:\n",
    "    \n",
    "    l = []\n",
    "    \n",
    "    for (c1, c2) in row:\n",
    "\n",
    "        p = figure(plot_width=400, plot_height=400, tooltips=TOOLTIPS)\n",
    "        l.append(plot_pca_coords(coords, variance, c1, c2, p, populations))\n",
    "        \n",
    "    grid.append(l)\n",
    "\n",
    "col = gridplot(grid)\n",
    "show(col)"
   ]
  },
  {
   "cell_type": "code",
   "execution_count": null,
   "metadata": {},
   "outputs": [],
   "source": [
    "from IPython.display import HTML\n",
    "HTML(filename=\"../artwork/pca/pca_plots.html\")"
   ]
  },
  {
   "cell_type": "code",
   "execution_count": null,
   "metadata": {},
   "outputs": [],
   "source": []
  }
 ],
 "metadata": {
  "kernelspec": {
   "display_name": "Python 3",
   "language": "python",
   "name": "python3"
  },
  "language_info": {
   "codemirror_mode": {
    "name": "ipython",
    "version": 3
   },
   "file_extension": ".py",
   "mimetype": "text/x-python",
   "name": "python",
   "nbconvert_exporter": "python",
   "pygments_lexer": "ipython3",
   "version": "3.6.8"
  }
 },
 "nbformat": 4,
 "nbformat_minor": 2
}
