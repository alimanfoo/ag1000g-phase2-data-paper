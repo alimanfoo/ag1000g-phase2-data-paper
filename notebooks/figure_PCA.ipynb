{
 "cells": [
  {
   "cell_type": "code",
   "execution_count": 1,
   "metadata": {},
   "outputs": [
    {
     "data": {
      "text/html": [
       "<style type=\"text/css\">\n",
       ".container {\n",
       "    width: 100%;\n",
       "}\n",
       "</style>\n"
      ],
      "text/plain": [
       "<IPython.core.display.HTML object>"
      ]
     },
     "metadata": {},
     "output_type": "display_data"
    }
   ],
   "source": [
    "%run setup.ipynb\n",
    "random.seed(42)\n",
    "np.random.seed(42)\n",
    "from pathlib import Path"
   ]
  },
  {
   "cell_type": "code",
   "execution_count": 3,
   "metadata": {},
   "outputs": [],
   "source": [
    "def snp_select():\n",
    "    \n",
    "    callset = phase2_ar1.callset_pass_biallelic['3L']\n",
    "\n",
    "    regions = ((\"3R\", 1000000, 37000000, \"free\"),\n",
    "               (\"3L\", 15000000, 41000000, \"free\"))\n",
    "\n",
    "    chrom = '3L'\n",
    "\n",
    "    #get genotypes\n",
    "    g = allel.GenotypeChunkedArray(callset['calldata']['genotype'])\n",
    "\n",
    "    #get positions\n",
    "    p = allel.VariantChunkedTable(callset['variants'],\n",
    "                                     names=['POS'],\n",
    "                                     index='POS')\n",
    "    pos = p.POS[:]\n",
    "\n",
    "    #just keep positions within the free region\n",
    "    pos_free = pos[(pos > 15000000) * (pos < 41000000)] \n",
    "    free_b = p.index.locate_keys(pos_free)\n",
    "    g_snp = g.compress(free_b, axis=0)\n",
    "\n",
    "    #filter - no missing data\n",
    "    ac = g_snp.count_alleles()\n",
    "    flt = (ac.max_allele() == 1) & (ac[:, :2].min(axis=1) > 1)\n",
    "    gf = g_snp.compress(flt, axis=0)\n",
    "\n",
    "    #turn the genotype array into 2D matrix of non_ref alleles per call\n",
    "    gn = gf.to_n_alt()\n",
    "\n",
    "    #randomly select snps\n",
    "    n = 100000\n",
    "    vidx = np.random.choice(gn.shape[0], n, replace=False)\n",
    "    vidx.sort()\n",
    "    gnr = gn.take(vidx, axis=0)\n",
    "    \n",
    "    return gnr\n",
    "\n",
    "\n",
    "\n",
    "def ld_prune(gn, size, step, threshold=.1, n_iter=1):\n",
    "    for i in range(n_iter):\n",
    "        loc_unlinked = allel.locate_unlinked(gn, size=size, step=step, threshold=threshold)\n",
    "        n = np.count_nonzero(loc_unlinked)\n",
    "        n_remove = gn.shape[0] - n\n",
    "        print('iteration', i+1, 'retaining', n, 'removing', n_remove, 'variants')\n",
    "        gn = gn.compress(loc_unlinked, axis=0)\n",
    "    return gn"
   ]
  },
  {
   "cell_type": "code",
   "execution_count": 5,
   "metadata": {},
   "outputs": [],
   "source": [
    "pca_data = Path('pca_data.npz')"
   ]
  },
  {
   "cell_type": "code",
   "execution_count": 6,
   "metadata": {},
   "outputs": [
    {
     "name": "stdout",
     "output_type": "stream",
     "text": [
      "pook\n"
     ]
    }
   ],
   "source": [
    "if pca_data.is_file():\n",
    "    # file exist\n",
    "    print('pook')\n",
    "    pca = np.load('pca_data.npz')\n",
    "    coords = pca['coords']\n",
    "    loadings = pca['loadings']\n",
    "    variance = pca['variance']\n",
    "else:\n",
    "    print('snook')\n",
    "    gnr = snp_select()\n",
    "    gnu = ld_prune(gnr, size=500, step=200, threshold=.1, n_iter=10)\n",
    "    coords, model1 = allel.pca(gnu, n_components=20, scaler='patterson')\n"
   ]
  },
  {
   "cell_type": "markdown",
   "metadata": {},
   "source": [
    "## for figure - run from here"
   ]
  },
  {
   "cell_type": "code",
   "execution_count": null,
   "metadata": {},
   "outputs": [],
   "source": [
    "# # plotting setup\n",
    "# %matplotlib inline\n",
    "# import matplotlib as mpl\n",
    "# import matplotlib.pyplot as plt\n",
    "# from matplotlib.colors import ListedColormap\n",
    "# from matplotlib.gridspec import GridSpec\n",
    "# import matplotlib_venn as venn\n",
    "# import seaborn as sns\n",
    "# sns.set_context('paper')\n",
    "# sns.set_style('white')\n",
    "# sns.set_style('ticks')\n",
    "# rcParams = plt.rcParams\n",
    "# rcParams['font.size'] = 8\n",
    "# #rcParams['font.family'] = 'arial'\n",
    "# rcParams['axes.labelsize'] = 8\n",
    "# rcParams['xtick.labelsize'] = 8\n",
    "# rcParams['ytick.labelsize'] = 8\n",
    "# rcParams['legend.fontsize'] = 8\n",
    "# rcParams['axes.linewidth'] = .9\n",
    "# rcParams['lines.linewidth'] = .9\n",
    "# rcParams['patch.linewidth'] = .9\n",
    "# rcParams['ytick.direction'] = 'out'\n",
    "# rcParams['xtick.direction'] = 'out'\n",
    "# rcParams['savefig.jpeg_quality'] = 100\n",
    "# rcParams['savefig.dpi'] = 120\n",
    "# rcParams['lines.markeredgewidth'] = .5\n",
    "# rcParams['figure.figsize'] = (4.85, 3)"
   ]
  },
  {
   "cell_type": "code",
   "execution_count": 7,
   "metadata": {},
   "outputs": [],
   "source": [
    "# pop_colours = {\n",
    "#     'AOcol': '#9f3703',\n",
    "#     'BFcol': '#f67824',\n",
    "#     'BFgam': '#562c91',\n",
    "#     'CIcol': '#feb13f',\n",
    "#     'CMgam': '#705da9',\n",
    "#     'FRgam': '#0b559f',\n",
    "#     'GAgam': '#2a7ab9',\n",
    "#     'GHcol': '#f44e38',\n",
    "#     'GHgam': '#88bedc',\n",
    "#     'GM': '#5b5b5b',\n",
    "#     'GNcol': '#a91016',\n",
    "#     'GNgam': '#8ed08b',\n",
    "#     'GQgam': '#56b567',\n",
    "#     'GW': '#acacac',\n",
    "#     'KE': '#2a2a2a',\n",
    "#     'UGgam': '#04702f'\n",
    "# }\n",
    "\n",
    "\n",
    "marker_style = {\n",
    "    'GHcol' : 'D',\n",
    "    'GHgam' : 'o',\n",
    "    'BFgam' : 'o',\n",
    "    'BFcol' : 'D',\n",
    "    'UGgam' : 'o',\n",
    "    'GM' : '*',\n",
    "    'GW' : '*',\n",
    "    'KE' : '*',\n",
    "    'CMgam' : 'o',\n",
    "    'FRgam' : 'o', \n",
    "    'GQgam' : 'o', \n",
    "    'AOcol' : 'D', \n",
    "    'GAgam' : 'o', \n",
    "    'GNgam' : 'o', \n",
    "    'GNcol' : 'D', \n",
    "    'CIcol' : 'D'\n",
    "}"
   ]
  },
  {
   "cell_type": "code",
   "execution_count": 22,
   "metadata": {},
   "outputs": [],
   "source": [
    "#get samples\n",
    "df_samples = pd.read_csv('../phase2.AR1/samples/samples.meta.txt', delimiter='\\t')\n",
    "all_samp=list(df_samples.ox_code)"
   ]
  },
  {
   "cell_type": "code",
   "execution_count": 23,
   "metadata": {},
   "outputs": [
    {
     "data": {
      "text/plain": [
       "1142"
      ]
     },
     "execution_count": 23,
     "metadata": {},
     "output_type": "execute_result"
    }
   ],
   "source": [
    "all_samp=list(df_samples.ox_code)\n",
    "len(all_samp)"
   ]
  },
  {
   "cell_type": "code",
   "execution_count": 34,
   "metadata": {},
   "outputs": [],
   "source": [
    "populations = list(phase2_ar1.pop_labels.keys())\n",
    "populations.remove('colony')"
   ]
  },
  {
   "cell_type": "code",
   "execution_count": 35,
   "metadata": {},
   "outputs": [
    {
     "data": {
      "text/plain": [
       "['AOcol',\n",
       " 'BFcol',\n",
       " 'GHcol',\n",
       " 'CIcol',\n",
       " 'GNcol',\n",
       " 'GW',\n",
       " 'GM',\n",
       " 'GNgam',\n",
       " 'BFgam',\n",
       " 'GHgam',\n",
       " 'CMgam',\n",
       " 'UGgam',\n",
       " 'GAgam',\n",
       " 'GQgam',\n",
       " 'FRgam',\n",
       " 'KE']"
      ]
     },
     "execution_count": 35,
     "metadata": {},
     "output_type": "execute_result"
    }
   ],
   "source": [
    "# populations"
   ]
  },
  {
   "cell_type": "code",
   "execution_count": 25,
   "metadata": {},
   "outputs": [
    {
     "data": {
      "text/plain": [
       "(array(['GHcol', 'GHgam', 'BFgam', 'BFcol', 'UGgam', 'GM', 'GW', 'KE',\n",
       "        'CMgam', 'FRgam', 'GQgam', 'AOcol', 'GAgam', 'GNgam', 'GNcol',\n",
       "        'CIcol'], dtype=object), 1142)"
      ]
     },
     "execution_count": 25,
     "metadata": {},
     "output_type": "execute_result"
    }
   ],
   "source": [
    "# populations = df_samples.population.unique()\n",
    "# populations, len(df_samples.population)"
   ]
  },
  {
   "cell_type": "code",
   "execution_count": 36,
   "metadata": {},
   "outputs": [],
   "source": [
    "#dictionary+list comprehension to create a dictionary of lists of indexes!\n",
    "idx_dict = {popz: [i for i, j in enumerate(all_samp) if j == popz] for popz in populations}"
   ]
  },
  {
   "cell_type": "code",
   "execution_count": 40,
   "metadata": {},
   "outputs": [
    {
     "data": {
      "image/png": "[encoded data removed]",
      "text/plain": [
       "<Figure size 1440x432 with 1 Axes>"
      ]
     },
     "metadata": {
      "image/png": {
       "height": 371,
       "width": 567
      },
      "needs_background": "light"
     },
     "output_type": "display_data"
    }
   ],
   "source": [
    "fig = plt.figure(figsize=(20, 6))\n",
    "ax = fig.add_subplot(121)\n",
    "if 'variance' in globals():\n",
    "    ax.plot(variance, 'go')\n",
    "else:\n",
    "    ax.plot(model1.explained_variance_ratio_, 'go')\n",
    "ax.set_xlabel(\"principal component\")\n",
    "ax.set_ylabel(\"variance explained\")\n",
    "plt.xticks(np.arange(0,20, 1));"
   ]
  },
  {
   "cell_type": "code",
   "execution_count": null,
   "metadata": {},
   "outputs": [],
   "source": [
    "def plot_pca_coords(coords, model, pc1, pc2, ax, sample_population):\n",
    "    sns.despine(ax=ax, offset=5)\n",
    "    x = coords[:, pc1]\n",
    "    y = coords[:, pc2]\n",
    "    for pop in populations:\n",
    "        flt = (sample_population == pop)\n",
    "        ax.plot(x[flt], y[flt], marker=marker_style[pop], linestyle=' ', color=pop_colours[pop], label=pop, markersize=6, mec='k', mew=0.5)\n",
    "    ax.set_xlabel('PC%s (%.1f%%)' % (pc1+1, model[pc1]*100))\n",
    "    ax.set_ylabel('PC%s (%.1f%%)' % (pc2+1, model[pc2]*100))\n",
    "    \n",
    "\n",
    "def fig_pca(coords, model, title, sample_population):\n",
    "    # plot coords for PCs 1 vs 2, 3 vs 4\n",
    "    fig = plt.figure(figsize=(16, 10))\n",
    "    ax = fig.add_subplot(231)\n",
    "    plot_pca_coords(coords, model, 0, 1, ax, sample_population)\n",
    "\n",
    "    ax = fig.add_subplot(232)\n",
    "    plot_pca_coords(coords, model, 2, 3, ax, sample_population)\n",
    "    \n",
    "    ax = fig.add_subplot(233)\n",
    "    plot_pca_coords(coords, model, 4, 5, ax, sample_population)\n",
    "    \n",
    "    ax = fig.add_subplot(234)\n",
    "    plot_pca_coords(coords, model, 6, 7, ax, sample_population)\n",
    "    \n",
    "    ax = fig.add_subplot(235)\n",
    "    plot_pca_coords(coords, model, 8, 9, ax, sample_population)\n",
    "    \n",
    "    ax = fig.add_subplot(236)\n",
    "    plot_pca_coords(coords, model, 10, 11, ax, sample_population)\n",
    "\n",
    "    ax.legend(bbox_to_anchor=(1, 1), loc='upper left')\n",
    "    \n",
    "    fig.suptitle(title, y=1.02)\n",
    "    fig.tight_layout()\n",
    "    fn = 'Phase_2_'+chrom+'_pca.jpeg'\n",
    "    fig.savefig(fn, jpeg_quality=100, dpi=100, bbox_inches='tight')"
   ]
  },
  {
   "cell_type": "code",
   "execution_count": null,
   "metadata": {},
   "outputs": [],
   "source": [
    "fig_pca(coords1, model1.explained_variance_ratio_ ,'PCA - 3L', df_samples.population.values)"
   ]
  },
  {
   "cell_type": "markdown",
   "metadata": {},
   "source": [
    "## main text figure"
   ]
  },
  {
   "cell_type": "code",
   "execution_count": null,
   "metadata": {},
   "outputs": [],
   "source": [
    "def fig_main_pca(coords, model, title, sample_population):\n",
    "    fig = plt.figure(figsize=(12, 5))\n",
    "    \n",
    "    ax = fig.add_subplot(121)\n",
    "    plot_pca_coords(coords, model, 0, 1, ax, sample_population)\n",
    "    for item in ([ax.xaxis.label, ax.yaxis.label] + ax.get_xticklabels() + ax.get_yticklabels()):\n",
    "        item.set_fontsize(10)\n",
    "\n",
    "    ax = fig.add_subplot(122)\n",
    "    plot_pca_coords(coords, model, 2, 3, ax, sample_population)\n",
    "    for item in ([ax.title, ax.xaxis.label, ax.yaxis.label] + ax.get_xticklabels() + ax.get_yticklabels()):\n",
    "        item.set_fontsize(10)\n",
    "    \n",
    "    ax.legend(bbox_to_anchor=(1, 1.04), loc='upper left', fontsize=13, framealpha=0.1)\n",
    "    fig.tight_layout()\n",
    "    fn = 'Phase_2_'+chrom+'_main_text_pca.jpeg'\n",
    "    fig.savefig(fn, jpeg_quality=100, dpi=100, bbox_inches='tight')"
   ]
  },
  {
   "cell_type": "code",
   "execution_count": null,
   "metadata": {},
   "outputs": [],
   "source": [
    "fig_main_pca(coords1, model1.explained_variance_ratio_ ,'PCA - 3L', df_samples.population.values)"
   ]
  },
  {
   "cell_type": "markdown",
   "metadata": {},
   "source": [
    "## supplementary figure"
   ]
  },
  {
   "cell_type": "code",
   "execution_count": null,
   "metadata": {},
   "outputs": [],
   "source": [
    "def fig_supp_pca(coords, model, title, sample_population):\n",
    "    \n",
    "    fig = plt.figure(figsize=(18, 5))\n",
    "    \n",
    "    ax = fig.add_subplot(131)\n",
    "    sns.despine(ax=ax, offset=5)\n",
    "    x = np.arange(model1.explained_variance_ratio_.shape[0])\n",
    "    y = model1.explained_variance_ratio_ * 100\n",
    "    ax.bar(x+.2, y, width=.6, align='edge', color='darkgray')\n",
    "    ax.set_xticks(x+.5)\n",
    "    ax.set_xticklabels(x+1, fontsize=7)\n",
    "    ax.set_ylabel('Variance explained (\\%)')\n",
    "    ax.set_xlabel('Principal component')\n",
    "    ax.set_xlim(0, 20)\n",
    "    for item in ([ax.xaxis.label, ax.yaxis.label] + ax.get_xticklabels() + ax.get_yticklabels()):\n",
    "        item.set_fontsize(10)\n",
    "        \n",
    "    ax = fig.add_subplot(132)\n",
    "    plot_pca_coords(coords, model, 4, 5, ax, sample_population)\n",
    "    for item in ([ax.xaxis.label, ax.yaxis.label] + ax.get_xticklabels() + ax.get_yticklabels()):\n",
    "        item.set_fontsize(10)\n",
    "\n",
    "    ax = fig.add_subplot(133)\n",
    "    plot_pca_coords(coords, model, 6, 7, ax, sample_population)\n",
    "    for item in ([ax.xaxis.label, ax.yaxis.label] + ax.get_xticklabels() + ax.get_yticklabels()):\n",
    "        item.set_fontsize(10)\n",
    "    \n",
    "    ax.legend(bbox_to_anchor=(1, 1.02), loc='upper left', fontsize=12, framealpha=0.1)\n",
    "    \n",
    "    fig.tight_layout()\n",
    "    fn = 'Phase_2_'+chrom+'_supplementary_pca.jpeg'\n",
    "    fig.savefig(fn, jpeg_quality=100, dpi=100, bbox_inches='tight')"
   ]
  },
  {
   "cell_type": "code",
   "execution_count": null,
   "metadata": {
    "scrolled": false
   },
   "outputs": [],
   "source": [
    "fig_supp_pca(coords1, model1.explained_variance_ratio_ ,'PCA - 3L', df_samples.population.values)"
   ]
  }
 ],
 "metadata": {
  "kernelspec": {
   "display_name": "Python 3",
   "language": "python",
   "name": "python3"
  },
  "language_info": {
   "codemirror_mode": {
    "name": "ipython",
    "version": 3
   },
   "file_extension": ".py",
   "mimetype": "text/x-python",
   "name": "python",
   "nbconvert_exporter": "python",
   "pygments_lexer": "ipython3",
   "version": "3.6.8"
  }
 },
 "nbformat": 4,
 "nbformat_minor": 2
}
