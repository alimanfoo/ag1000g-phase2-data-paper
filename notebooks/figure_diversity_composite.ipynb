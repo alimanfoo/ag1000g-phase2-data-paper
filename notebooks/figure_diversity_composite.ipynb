{
 "cells": [
  {
   "cell_type": "markdown",
   "metadata": {},
   "source": [
    "It would look neat with two cells, left pi/tajD and right roh with the roh legend at the side, however I think ibd is worth mentioning as it wasn't applied to all pops in the phase 1 paper - so\n",
    "\n",
    "four cells > TR=pi, TL=Tajd, BR=ibd, BL=roh/legend"
   ]
  }
 ],
 "metadata": {
  "kernelspec": {
   "display_name": "Python 3",
   "language": "python",
   "name": "python3"
  },
  "language_info": {
   "codemirror_mode": {
    "name": "ipython",
    "version": 3
   },
   "file_extension": ".py",
   "mimetype": "text/x-python",
   "name": "python",
   "nbconvert_exporter": "python",
   "pygments_lexer": "ipython3",
   "version": "3.6.8"
  }
 },
 "nbformat": 4,
 "nbformat_minor": 2
}
