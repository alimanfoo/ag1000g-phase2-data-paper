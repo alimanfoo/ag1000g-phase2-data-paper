{
 "cells": [
  {
   "cell_type": "code",
   "execution_count": 1,
   "metadata": {},
   "outputs": [],
   "source": [
    "import pandas as pd\n",
    "import shutil"
   ]
  },
  {
   "cell_type": "code",
   "execution_count": 2,
   "metadata": {},
   "outputs": [
    {
     "data": {
      "text/plain": [
       "'../meta/ag1000g/cross.samples.meta.txt'"
      ]
     },
     "execution_count": 2,
     "metadata": {},
     "output_type": "execute_result"
    }
   ],
   "source": [
    "shutil.copy(\n",
    "    \"/kwiat/vector/ag1000g/release/phase2.AR1/samples/cross.samples.meta.txt\", \n",
    "    \"../meta/ag1000g/\")"
   ]
  },
  {
   "cell_type": "code",
   "execution_count": 3,
   "metadata": {},
   "outputs": [],
   "source": [
    "# include..."
   ]
  },
  {
   "cell_type": "code",
   "execution_count": 4,
   "metadata": {},
   "outputs": [],
   "source": [
    "cross_meta_tab = pd.read_table(\"../meta/ag1000g/cross.samples.meta.txt\", index_col=0)"
   ]
  },
  {
   "cell_type": "code",
   "execution_count": 5,
   "metadata": {},
   "outputs": [
    {
     "data": {
      "text/html": [
       "<div>\n",
       "<style scoped>\n",
       "    .dataframe tbody tr th:only-of-type {\n",
       "        vertical-align: middle;\n",
       "    }\n",
       "\n",
       "    .dataframe tbody tr th {\n",
       "        vertical-align: top;\n",
       "    }\n",
       "\n",
       "    .dataframe thead th {\n",
       "        text-align: right;\n",
       "    }\n",
       "</style>\n",
       "<table border=\"1\" class=\"dataframe\">\n",
       "  <thead>\n",
       "    <tr style=\"text-align: right;\">\n",
       "      <th></th>\n",
       "      <th>ox_code</th>\n",
       "      <th>cross</th>\n",
       "      <th>role</th>\n",
       "      <th>n_reads</th>\n",
       "      <th>median_cov</th>\n",
       "      <th>mean_cov</th>\n",
       "      <th>sex</th>\n",
       "      <th>colony_id</th>\n",
       "    </tr>\n",
       "  </thead>\n",
       "  <tbody>\n",
       "    <tr>\n",
       "      <th>0</th>\n",
       "      <td>AD0142-C</td>\n",
       "      <td>18-5</td>\n",
       "      <td>parent</td>\n",
       "      <td>60486753</td>\n",
       "      <td>26</td>\n",
       "      <td>25.824447</td>\n",
       "      <td>F</td>\n",
       "      <td>Ghana</td>\n",
       "    </tr>\n",
       "    <tr>\n",
       "      <th>1</th>\n",
       "      <td>AD0143-C</td>\n",
       "      <td>18-5</td>\n",
       "      <td>parent</td>\n",
       "      <td>58509103</td>\n",
       "      <td>19</td>\n",
       "      <td>18.800118</td>\n",
       "      <td>M</td>\n",
       "      <td>Kisumu/G3</td>\n",
       "    </tr>\n",
       "    <tr>\n",
       "      <th>2</th>\n",
       "      <td>AD0146-C</td>\n",
       "      <td>18-5</td>\n",
       "      <td>progeny</td>\n",
       "      <td>101612499</td>\n",
       "      <td>44</td>\n",
       "      <td>43.494594</td>\n",
       "      <td>NaN</td>\n",
       "      <td>NaN</td>\n",
       "    </tr>\n",
       "    <tr>\n",
       "      <th>3</th>\n",
       "      <td>AD0147-C</td>\n",
       "      <td>18-5</td>\n",
       "      <td>progeny</td>\n",
       "      <td>50710020</td>\n",
       "      <td>16</td>\n",
       "      <td>16.284487</td>\n",
       "      <td>NaN</td>\n",
       "      <td>NaN</td>\n",
       "    </tr>\n",
       "    <tr>\n",
       "      <th>4</th>\n",
       "      <td>AD0148-C</td>\n",
       "      <td>18-5</td>\n",
       "      <td>progeny</td>\n",
       "      <td>59023991</td>\n",
       "      <td>19</td>\n",
       "      <td>18.978021</td>\n",
       "      <td>NaN</td>\n",
       "      <td>NaN</td>\n",
       "    </tr>\n",
       "  </tbody>\n",
       "</table>\n",
       "</div>"
      ],
      "text/plain": [
       "    ox_code cross     role    n_reads  median_cov   mean_cov  sex  colony_id\n",
       "0  AD0142-C  18-5   parent   60486753          26  25.824447    F      Ghana\n",
       "1  AD0143-C  18-5   parent   58509103          19  18.800118    M  Kisumu/G3\n",
       "2  AD0146-C  18-5  progeny  101612499          44  43.494594  NaN        NaN\n",
       "3  AD0147-C  18-5  progeny   50710020          16  16.284487  NaN        NaN\n",
       "4  AD0148-C  18-5  progeny   59023991          19  18.978021  NaN        NaN"
      ]
     },
     "execution_count": 5,
     "metadata": {},
     "output_type": "execute_result"
    }
   ],
   "source": [
    "cross_meta_tab.head()"
   ]
  },
  {
   "cell_type": "code",
   "execution_count": 6,
   "metadata": {},
   "outputs": [],
   "source": [
    "g = cross_meta_tab.groupby([\"role\", \"cross\"])"
   ]
  },
  {
   "cell_type": "code",
   "execution_count": 17,
   "metadata": {},
   "outputs": [],
   "source": [
    "df = pd.DataFrame(\n",
    "    index=cross_meta_tab.cross.unique(),\n",
    "    columns=[\"n_progeny\", \"mother_colony\", \"father_colony\"])    \n",
    "df.index.name =\"cross_id\""
   ]
  },
  {
   "cell_type": "code",
   "execution_count": 19,
   "metadata": {},
   "outputs": [],
   "source": [
    "parg = cross_meta_tab.groupby([\"sex\", \"role\", \"cross\"])"
   ]
  },
  {
   "cell_type": "code",
   "execution_count": 20,
   "metadata": {},
   "outputs": [],
   "source": [
    "df[\"n_progeny\"] = g.size()[\"progeny\"]"
   ]
  },
  {
   "cell_type": "code",
   "execution_count": 21,
   "metadata": {},
   "outputs": [],
   "source": [
    "df[\"father_colony\"] = parg.colony_id.first()[\"M\"][\"parent\"]\n",
    "df[\"mother_colony\"] = parg.colony_id.first()[\"F\"][\"parent\"]"
   ]
  },
  {
   "cell_type": "code",
   "execution_count": 22,
   "metadata": {},
   "outputs": [
    {
     "data": {
      "text/html": [
       "<div>\n",
       "<style scoped>\n",
       "    .dataframe tbody tr th:only-of-type {\n",
       "        vertical-align: middle;\n",
       "    }\n",
       "\n",
       "    .dataframe tbody tr th {\n",
       "        vertical-align: top;\n",
       "    }\n",
       "\n",
       "    .dataframe thead th {\n",
       "        text-align: right;\n",
       "    }\n",
       "</style>\n",
       "<table border=\"1\" class=\"dataframe\">\n",
       "  <thead>\n",
       "    <tr style=\"text-align: right;\">\n",
       "      <th></th>\n",
       "      <th>n_progeny</th>\n",
       "      <th>mother_colony</th>\n",
       "      <th>father_colony</th>\n",
       "    </tr>\n",
       "    <tr>\n",
       "      <th>cross_id</th>\n",
       "      <th></th>\n",
       "      <th></th>\n",
       "      <th></th>\n",
       "    </tr>\n",
       "  </thead>\n",
       "  <tbody>\n",
       "    <tr>\n",
       "      <th>18-5</th>\n",
       "      <td>20</td>\n",
       "      <td>Ghana</td>\n",
       "      <td>Kisumu/G3</td>\n",
       "    </tr>\n",
       "    <tr>\n",
       "      <th>29-2</th>\n",
       "      <td>20</td>\n",
       "      <td>Ghana</td>\n",
       "      <td>Kisumu</td>\n",
       "    </tr>\n",
       "    <tr>\n",
       "      <th>36-9</th>\n",
       "      <td>20</td>\n",
       "      <td>Ghana</td>\n",
       "      <td>Mali</td>\n",
       "    </tr>\n",
       "    <tr>\n",
       "      <th>73-2</th>\n",
       "      <td>19</td>\n",
       "      <td>Akron</td>\n",
       "      <td>Ghana</td>\n",
       "    </tr>\n",
       "    <tr>\n",
       "      <th>37-3</th>\n",
       "      <td>20</td>\n",
       "      <td>Kisumu</td>\n",
       "      <td>Pimperena</td>\n",
       "    </tr>\n",
       "    <tr>\n",
       "      <th>42-4</th>\n",
       "      <td>14</td>\n",
       "      <td>Mali</td>\n",
       "      <td>Kisumu/Ghana</td>\n",
       "    </tr>\n",
       "    <tr>\n",
       "      <th>45-1</th>\n",
       "      <td>20</td>\n",
       "      <td>Mali</td>\n",
       "      <td>Kisumu</td>\n",
       "    </tr>\n",
       "    <tr>\n",
       "      <th>46-9</th>\n",
       "      <td>20</td>\n",
       "      <td>Pimperena</td>\n",
       "      <td>Mali</td>\n",
       "    </tr>\n",
       "    <tr>\n",
       "      <th>47-6</th>\n",
       "      <td>20</td>\n",
       "      <td>Mali</td>\n",
       "      <td>Kisumu</td>\n",
       "    </tr>\n",
       "    <tr>\n",
       "      <th>78-2</th>\n",
       "      <td>19</td>\n",
       "      <td>Mali</td>\n",
       "      <td>Kisumu/Ghana</td>\n",
       "    </tr>\n",
       "    <tr>\n",
       "      <th>80-2</th>\n",
       "      <td>20</td>\n",
       "      <td>Kisumu</td>\n",
       "      <td>Akron</td>\n",
       "    </tr>\n",
       "  </tbody>\n",
       "</table>\n",
       "</div>"
      ],
      "text/plain": [
       "          n_progeny mother_colony father_colony\n",
       "cross_id                                       \n",
       "18-5             20         Ghana     Kisumu/G3\n",
       "29-2             20         Ghana        Kisumu\n",
       "36-9             20         Ghana          Mali\n",
       "73-2             19         Akron         Ghana\n",
       "37-3             20        Kisumu     Pimperena\n",
       "42-4             14          Mali  Kisumu/Ghana\n",
       "45-1             20          Mali        Kisumu\n",
       "46-9             20     Pimperena          Mali\n",
       "47-6             20          Mali        Kisumu\n",
       "78-2             19          Mali  Kisumu/Ghana\n",
       "80-2             20        Kisumu         Akron"
      ]
     },
     "execution_count": 22,
     "metadata": {},
     "output_type": "execute_result"
    }
   ],
   "source": [
    "df"
   ]
  },
  {
   "cell_type": "code",
   "execution_count": null,
   "metadata": {},
   "outputs": [],
   "source": []
  }
 ],
 "metadata": {
  "kernelspec": {
   "display_name": "Python 3",
   "language": "python",
   "name": "python3"
  }
 },
 "nbformat": 4,
 "nbformat_minor": 2
}
